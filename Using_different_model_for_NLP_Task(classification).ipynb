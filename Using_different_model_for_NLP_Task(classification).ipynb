{
  "nbformat": 4,
  "nbformat_minor": 0,
  "metadata": {
    "colab": {
      "provenance": [],
      "gpuType": "T4",
      "include_colab_link": true
    },
    "kernelspec": {
      "name": "python3",
      "display_name": "Python 3"
    },
    "language_info": {
      "name": "python"
    },
    "accelerator": "GPU"
  },
  "cells": [
    {
      "cell_type": "markdown",
      "metadata": {
        "id": "view-in-github",
        "colab_type": "text"
      },
      "source": [
        "<a href=\"https://colab.research.google.com/github/sutharimanikanta/Golab/blob/main/Using_different_model_for_NLP_Task(classification).ipynb\" target=\"_parent\"><img src=\"https://colab.research.google.com/assets/colab-badge.svg\" alt=\"Open In Colab\"/></a>"
      ]
    },
    {
      "cell_type": "markdown",
      "source": [],
      "metadata": {
        "id": "aFplYPqoTTTD"
      }
    },
    {
      "cell_type": "code",
      "execution_count": null,
      "metadata": {
        "colab": {
          "base_uri": "https://localhost:8080/"
        },
        "id": "y47EUpTIoMEt",
        "outputId": "87011434-eb13-4a5a-da7a-31106d9a83fc"
      },
      "outputs": [
        {
          "output_type": "stream",
          "name": "stdout",
          "text": [
            "GPU 0: Tesla T4 (UUID: GPU-18384b57-7215-3e8a-fd30-2f4277e3f0d6)\n"
          ]
        }
      ],
      "source": [
        "!nvidia-smi -L"
      ]
    },
    {
      "cell_type": "code",
      "source": [
        "# Download helper functions script\n",
        "!wget https://raw.githubusercontent.com/mrdbourke/tensorflow-deep-learning/main/extras/helper_functions.py"
      ],
      "metadata": {
        "colab": {
          "base_uri": "https://localhost:8080/"
        },
        "id": "VJyFQajfoaSy",
        "outputId": "a478dfdb-1d2c-43cf-b434-f3ec515c6897"
      },
      "execution_count": null,
      "outputs": [
        {
          "output_type": "stream",
          "name": "stdout",
          "text": [
            "--2024-02-11 03:57:37--  https://raw.githubusercontent.com/mrdbourke/tensorflow-deep-learning/main/extras/helper_functions.py\n",
            "Resolving raw.githubusercontent.com (raw.githubusercontent.com)... 185.199.108.133, 185.199.109.133, 185.199.110.133, ...\n",
            "Connecting to raw.githubusercontent.com (raw.githubusercontent.com)|185.199.108.133|:443... connected.\n",
            "HTTP request sent, awaiting response... 200 OK\n",
            "Length: 10246 (10K) [text/plain]\n",
            "Saving to: ‘helper_functions.py’\n",
            "\n",
            "helper_functions.py 100%[===================>]  10.01K  --.-KB/s    in 0s      \n",
            "\n",
            "2024-02-11 03:57:37 (79.8 MB/s) - ‘helper_functions.py’ saved [10246/10246]\n",
            "\n"
          ]
        }
      ]
    },
    {
      "cell_type": "code",
      "source": [
        "# Import series of helper functions for the notebook\n",
        "from helper_functions import unzip_data, create_tensorboard_callback, plot_loss_curves, compare_historys"
      ],
      "metadata": {
        "id": "u0uC76CEoscS"
      },
      "execution_count": null,
      "outputs": []
    },
    {
      "cell_type": "markdown",
      "source": [
        "Download a text dataset\n"
      ],
      "metadata": {
        "id": "LFAAY_M3pC5e"
      }
    },
    {
      "cell_type": "code",
      "source": [
        "# Download data (same as from Kaggle)\n",
        "!wget \"https://storage.googleapis.com/ztm_tf_course/nlp_getting_started.zip\"\n",
        "\n",
        "# Unzip data\n",
        "unzip_data(\"nlp_getting_started.zip\")"
      ],
      "metadata": {
        "colab": {
          "base_uri": "https://localhost:8080/"
        },
        "id": "B5hFQYXGo1HW",
        "outputId": "59e4cd3d-638b-48a4-eace-e82443b8fe67"
      },
      "execution_count": null,
      "outputs": [
        {
          "output_type": "stream",
          "name": "stdout",
          "text": [
            "--2024-02-11 03:57:41--  https://storage.googleapis.com/ztm_tf_course/nlp_getting_started.zip\n",
            "Resolving storage.googleapis.com (storage.googleapis.com)... 108.177.111.207, 142.250.1.207, 108.177.121.207, ...\n",
            "Connecting to storage.googleapis.com (storage.googleapis.com)|108.177.111.207|:443... connected.\n",
            "HTTP request sent, awaiting response... 200 OK\n",
            "Length: 607343 (593K) [application/zip]\n",
            "Saving to: ‘nlp_getting_started.zip’\n",
            "\n",
            "\rnlp_getting_started   0%[                    ]       0  --.-KB/s               \rnlp_getting_started 100%[===================>] 593.11K  --.-KB/s    in 0.004s  \n",
            "\n",
            "2024-02-11 03:57:41 (141 MB/s) - ‘nlp_getting_started.zip’ saved [607343/607343]\n",
            "\n"
          ]
        }
      ]
    },
    {
      "cell_type": "code",
      "source": [
        "import pandas as pd\n",
        "train_df=pd.read_csv(\"train.csv\")\n",
        "test_df=pd.read_csv(\"test.csv\")\n",
        "train_df.head()"
      ],
      "metadata": {
        "colab": {
          "base_uri": "https://localhost:8080/",
          "height": 223
        },
        "id": "OnJ2yYZkpiSt",
        "outputId": "b6988b13-baa7-4920-82e5-1900bc4a52fb"
      },
      "execution_count": null,
      "outputs": [
        {
          "output_type": "execute_result",
          "data": {
            "text/plain": [
              "   id keyword location                                               text  \\\n",
              "0   1     NaN      NaN  Our Deeds are the Reason of this #earthquake M...   \n",
              "1   4     NaN      NaN             Forest fire near La Ronge Sask. Canada   \n",
              "2   5     NaN      NaN  All residents asked to 'shelter in place' are ...   \n",
              "3   6     NaN      NaN  13,000 people receive #wildfires evacuation or...   \n",
              "4   7     NaN      NaN  Just got sent this photo from Ruby #Alaska as ...   \n",
              "\n",
              "   target  \n",
              "0       1  \n",
              "1       1  \n",
              "2       1  \n",
              "3       1  \n",
              "4       1  "
            ],
            "text/html": [
              "\n",
              "  <div id=\"df-ca11cc2e-225e-4bdd-8902-b6f04ce023e8\" class=\"colab-df-container\">\n",
              "    <div>\n",
              "<style scoped>\n",
              "    .dataframe tbody tr th:only-of-type {\n",
              "        vertical-align: middle;\n",
              "    }\n",
              "\n",
              "    .dataframe tbody tr th {\n",
              "        vertical-align: top;\n",
              "    }\n",
              "\n",
              "    .dataframe thead th {\n",
              "        text-align: right;\n",
              "    }\n",
              "</style>\n",
              "<table border=\"1\" class=\"dataframe\">\n",
              "  <thead>\n",
              "    <tr style=\"text-align: right;\">\n",
              "      <th></th>\n",
              "      <th>id</th>\n",
              "      <th>keyword</th>\n",
              "      <th>location</th>\n",
              "      <th>text</th>\n",
              "      <th>target</th>\n",
              "    </tr>\n",
              "  </thead>\n",
              "  <tbody>\n",
              "    <tr>\n",
              "      <th>0</th>\n",
              "      <td>1</td>\n",
              "      <td>NaN</td>\n",
              "      <td>NaN</td>\n",
              "      <td>Our Deeds are the Reason of this #earthquake M...</td>\n",
              "      <td>1</td>\n",
              "    </tr>\n",
              "    <tr>\n",
              "      <th>1</th>\n",
              "      <td>4</td>\n",
              "      <td>NaN</td>\n",
              "      <td>NaN</td>\n",
              "      <td>Forest fire near La Ronge Sask. Canada</td>\n",
              "      <td>1</td>\n",
              "    </tr>\n",
              "    <tr>\n",
              "      <th>2</th>\n",
              "      <td>5</td>\n",
              "      <td>NaN</td>\n",
              "      <td>NaN</td>\n",
              "      <td>All residents asked to 'shelter in place' are ...</td>\n",
              "      <td>1</td>\n",
              "    </tr>\n",
              "    <tr>\n",
              "      <th>3</th>\n",
              "      <td>6</td>\n",
              "      <td>NaN</td>\n",
              "      <td>NaN</td>\n",
              "      <td>13,000 people receive #wildfires evacuation or...</td>\n",
              "      <td>1</td>\n",
              "    </tr>\n",
              "    <tr>\n",
              "      <th>4</th>\n",
              "      <td>7</td>\n",
              "      <td>NaN</td>\n",
              "      <td>NaN</td>\n",
              "      <td>Just got sent this photo from Ruby #Alaska as ...</td>\n",
              "      <td>1</td>\n",
              "    </tr>\n",
              "  </tbody>\n",
              "</table>\n",
              "</div>\n",
              "    <div class=\"colab-df-buttons\">\n",
              "\n",
              "  <div class=\"colab-df-container\">\n",
              "    <button class=\"colab-df-convert\" onclick=\"convertToInteractive('df-ca11cc2e-225e-4bdd-8902-b6f04ce023e8')\"\n",
              "            title=\"Convert this dataframe to an interactive table.\"\n",
              "            style=\"display:none;\">\n",
              "\n",
              "  <svg xmlns=\"http://www.w3.org/2000/svg\" height=\"24px\" viewBox=\"0 -960 960 960\">\n",
              "    <path d=\"M120-120v-720h720v720H120Zm60-500h600v-160H180v160Zm220 220h160v-160H400v160Zm0 220h160v-160H400v160ZM180-400h160v-160H180v160Zm440 0h160v-160H620v160ZM180-180h160v-160H180v160Zm440 0h160v-160H620v160Z\"/>\n",
              "  </svg>\n",
              "    </button>\n",
              "\n",
              "  <style>\n",
              "    .colab-df-container {\n",
              "      display:flex;\n",
              "      gap: 12px;\n",
              "    }\n",
              "\n",
              "    .colab-df-convert {\n",
              "      background-color: #E8F0FE;\n",
              "      border: none;\n",
              "      border-radius: 50%;\n",
              "      cursor: pointer;\n",
              "      display: none;\n",
              "      fill: #1967D2;\n",
              "      height: 32px;\n",
              "      padding: 0 0 0 0;\n",
              "      width: 32px;\n",
              "    }\n",
              "\n",
              "    .colab-df-convert:hover {\n",
              "      background-color: #E2EBFA;\n",
              "      box-shadow: 0px 1px 2px rgba(60, 64, 67, 0.3), 0px 1px 3px 1px rgba(60, 64, 67, 0.15);\n",
              "      fill: #174EA6;\n",
              "    }\n",
              "\n",
              "    .colab-df-buttons div {\n",
              "      margin-bottom: 4px;\n",
              "    }\n",
              "\n",
              "    [theme=dark] .colab-df-convert {\n",
              "      background-color: #3B4455;\n",
              "      fill: #D2E3FC;\n",
              "    }\n",
              "\n",
              "    [theme=dark] .colab-df-convert:hover {\n",
              "      background-color: #434B5C;\n",
              "      box-shadow: 0px 1px 3px 1px rgba(0, 0, 0, 0.15);\n",
              "      filter: drop-shadow(0px 1px 2px rgba(0, 0, 0, 0.3));\n",
              "      fill: #FFFFFF;\n",
              "    }\n",
              "  </style>\n",
              "\n",
              "    <script>\n",
              "      const buttonEl =\n",
              "        document.querySelector('#df-ca11cc2e-225e-4bdd-8902-b6f04ce023e8 button.colab-df-convert');\n",
              "      buttonEl.style.display =\n",
              "        google.colab.kernel.accessAllowed ? 'block' : 'none';\n",
              "\n",
              "      async function convertToInteractive(key) {\n",
              "        const element = document.querySelector('#df-ca11cc2e-225e-4bdd-8902-b6f04ce023e8');\n",
              "        const dataTable =\n",
              "          await google.colab.kernel.invokeFunction('convertToInteractive',\n",
              "                                                    [key], {});\n",
              "        if (!dataTable) return;\n",
              "\n",
              "        const docLinkHtml = 'Like what you see? Visit the ' +\n",
              "          '<a target=\"_blank\" href=https://colab.research.google.com/notebooks/data_table.ipynb>data table notebook</a>'\n",
              "          + ' to learn more about interactive tables.';\n",
              "        element.innerHTML = '';\n",
              "        dataTable['output_type'] = 'display_data';\n",
              "        await google.colab.output.renderOutput(dataTable, element);\n",
              "        const docLink = document.createElement('div');\n",
              "        docLink.innerHTML = docLinkHtml;\n",
              "        element.appendChild(docLink);\n",
              "      }\n",
              "    </script>\n",
              "  </div>\n",
              "\n",
              "\n",
              "<div id=\"df-426a7ce8-de14-4619-896a-daa7fa76f03a\">\n",
              "  <button class=\"colab-df-quickchart\" onclick=\"quickchart('df-426a7ce8-de14-4619-896a-daa7fa76f03a')\"\n",
              "            title=\"Suggest charts\"\n",
              "            style=\"display:none;\">\n",
              "\n",
              "<svg xmlns=\"http://www.w3.org/2000/svg\" height=\"24px\"viewBox=\"0 0 24 24\"\n",
              "     width=\"24px\">\n",
              "    <g>\n",
              "        <path d=\"M19 3H5c-1.1 0-2 .9-2 2v14c0 1.1.9 2 2 2h14c1.1 0 2-.9 2-2V5c0-1.1-.9-2-2-2zM9 17H7v-7h2v7zm4 0h-2V7h2v10zm4 0h-2v-4h2v4z\"/>\n",
              "    </g>\n",
              "</svg>\n",
              "  </button>\n",
              "\n",
              "<style>\n",
              "  .colab-df-quickchart {\n",
              "      --bg-color: #E8F0FE;\n",
              "      --fill-color: #1967D2;\n",
              "      --hover-bg-color: #E2EBFA;\n",
              "      --hover-fill-color: #174EA6;\n",
              "      --disabled-fill-color: #AAA;\n",
              "      --disabled-bg-color: #DDD;\n",
              "  }\n",
              "\n",
              "  [theme=dark] .colab-df-quickchart {\n",
              "      --bg-color: #3B4455;\n",
              "      --fill-color: #D2E3FC;\n",
              "      --hover-bg-color: #434B5C;\n",
              "      --hover-fill-color: #FFFFFF;\n",
              "      --disabled-bg-color: #3B4455;\n",
              "      --disabled-fill-color: #666;\n",
              "  }\n",
              "\n",
              "  .colab-df-quickchart {\n",
              "    background-color: var(--bg-color);\n",
              "    border: none;\n",
              "    border-radius: 50%;\n",
              "    cursor: pointer;\n",
              "    display: none;\n",
              "    fill: var(--fill-color);\n",
              "    height: 32px;\n",
              "    padding: 0;\n",
              "    width: 32px;\n",
              "  }\n",
              "\n",
              "  .colab-df-quickchart:hover {\n",
              "    background-color: var(--hover-bg-color);\n",
              "    box-shadow: 0 1px 2px rgba(60, 64, 67, 0.3), 0 1px 3px 1px rgba(60, 64, 67, 0.15);\n",
              "    fill: var(--button-hover-fill-color);\n",
              "  }\n",
              "\n",
              "  .colab-df-quickchart-complete:disabled,\n",
              "  .colab-df-quickchart-complete:disabled:hover {\n",
              "    background-color: var(--disabled-bg-color);\n",
              "    fill: var(--disabled-fill-color);\n",
              "    box-shadow: none;\n",
              "  }\n",
              "\n",
              "  .colab-df-spinner {\n",
              "    border: 2px solid var(--fill-color);\n",
              "    border-color: transparent;\n",
              "    border-bottom-color: var(--fill-color);\n",
              "    animation:\n",
              "      spin 1s steps(1) infinite;\n",
              "  }\n",
              "\n",
              "  @keyframes spin {\n",
              "    0% {\n",
              "      border-color: transparent;\n",
              "      border-bottom-color: var(--fill-color);\n",
              "      border-left-color: var(--fill-color);\n",
              "    }\n",
              "    20% {\n",
              "      border-color: transparent;\n",
              "      border-left-color: var(--fill-color);\n",
              "      border-top-color: var(--fill-color);\n",
              "    }\n",
              "    30% {\n",
              "      border-color: transparent;\n",
              "      border-left-color: var(--fill-color);\n",
              "      border-top-color: var(--fill-color);\n",
              "      border-right-color: var(--fill-color);\n",
              "    }\n",
              "    40% {\n",
              "      border-color: transparent;\n",
              "      border-right-color: var(--fill-color);\n",
              "      border-top-color: var(--fill-color);\n",
              "    }\n",
              "    60% {\n",
              "      border-color: transparent;\n",
              "      border-right-color: var(--fill-color);\n",
              "    }\n",
              "    80% {\n",
              "      border-color: transparent;\n",
              "      border-right-color: var(--fill-color);\n",
              "      border-bottom-color: var(--fill-color);\n",
              "    }\n",
              "    90% {\n",
              "      border-color: transparent;\n",
              "      border-bottom-color: var(--fill-color);\n",
              "    }\n",
              "  }\n",
              "</style>\n",
              "\n",
              "  <script>\n",
              "    async function quickchart(key) {\n",
              "      const quickchartButtonEl =\n",
              "        document.querySelector('#' + key + ' button');\n",
              "      quickchartButtonEl.disabled = true;  // To prevent multiple clicks.\n",
              "      quickchartButtonEl.classList.add('colab-df-spinner');\n",
              "      try {\n",
              "        const charts = await google.colab.kernel.invokeFunction(\n",
              "            'suggestCharts', [key], {});\n",
              "      } catch (error) {\n",
              "        console.error('Error during call to suggestCharts:', error);\n",
              "      }\n",
              "      quickchartButtonEl.classList.remove('colab-df-spinner');\n",
              "      quickchartButtonEl.classList.add('colab-df-quickchart-complete');\n",
              "    }\n",
              "    (() => {\n",
              "      let quickchartButtonEl =\n",
              "        document.querySelector('#df-426a7ce8-de14-4619-896a-daa7fa76f03a button');\n",
              "      quickchartButtonEl.style.display =\n",
              "        google.colab.kernel.accessAllowed ? 'block' : 'none';\n",
              "    })();\n",
              "  </script>\n",
              "</div>\n",
              "\n",
              "    </div>\n",
              "  </div>\n"
            ]
          },
          "metadata": {},
          "execution_count": 5
        }
      ]
    },
    {
      "cell_type": "markdown",
      "source": [
        "the training data we downloaded is probably shuffled but its better to shuffled"
      ],
      "metadata": {
        "id": "NopjPeflqoSf"
      }
    },
    {
      "cell_type": "code",
      "source": [
        "train_df_shuffled=train_df.sample(frac=1,random_state=42)\n",
        "train_df_shuffled.head()"
      ],
      "metadata": {
        "colab": {
          "base_uri": "https://localhost:8080/",
          "height": 293
        },
        "id": "DlV8Bu6XqdAJ",
        "outputId": "359deb29-a9d8-4b56-f03e-69b2610107df"
      },
      "execution_count": null,
      "outputs": [
        {
          "output_type": "execute_result",
          "data": {
            "text/plain": [
              "        id      keyword               location  \\\n",
              "2644  3796  destruction                    NaN   \n",
              "2227  3185       deluge                    NaN   \n",
              "5448  7769       police                     UK   \n",
              "132    191   aftershock                    NaN   \n",
              "6845  9810       trauma  Montgomery County, MD   \n",
              "\n",
              "                                                   text  target  \n",
              "2644  So you have a new weapon that can cause un-ima...       1  \n",
              "2227  The f$&amp;@ing things I do for #GISHWHES Just...       0  \n",
              "5448  DT @georgegalloway: RT @Galloway4Mayor: ÛÏThe...       1  \n",
              "132   Aftershock back to school kick off was great. ...       0  \n",
              "6845  in response to trauma Children of Addicts deve...       0  "
            ],
            "text/html": [
              "\n",
              "  <div id=\"df-028c5bf9-520b-4209-9822-981fa7afd8f3\" class=\"colab-df-container\">\n",
              "    <div>\n",
              "<style scoped>\n",
              "    .dataframe tbody tr th:only-of-type {\n",
              "        vertical-align: middle;\n",
              "    }\n",
              "\n",
              "    .dataframe tbody tr th {\n",
              "        vertical-align: top;\n",
              "    }\n",
              "\n",
              "    .dataframe thead th {\n",
              "        text-align: right;\n",
              "    }\n",
              "</style>\n",
              "<table border=\"1\" class=\"dataframe\">\n",
              "  <thead>\n",
              "    <tr style=\"text-align: right;\">\n",
              "      <th></th>\n",
              "      <th>id</th>\n",
              "      <th>keyword</th>\n",
              "      <th>location</th>\n",
              "      <th>text</th>\n",
              "      <th>target</th>\n",
              "    </tr>\n",
              "  </thead>\n",
              "  <tbody>\n",
              "    <tr>\n",
              "      <th>2644</th>\n",
              "      <td>3796</td>\n",
              "      <td>destruction</td>\n",
              "      <td>NaN</td>\n",
              "      <td>So you have a new weapon that can cause un-ima...</td>\n",
              "      <td>1</td>\n",
              "    </tr>\n",
              "    <tr>\n",
              "      <th>2227</th>\n",
              "      <td>3185</td>\n",
              "      <td>deluge</td>\n",
              "      <td>NaN</td>\n",
              "      <td>The f$&amp;amp;@ing things I do for #GISHWHES Just...</td>\n",
              "      <td>0</td>\n",
              "    </tr>\n",
              "    <tr>\n",
              "      <th>5448</th>\n",
              "      <td>7769</td>\n",
              "      <td>police</td>\n",
              "      <td>UK</td>\n",
              "      <td>DT @georgegalloway: RT @Galloway4Mayor: ÛÏThe...</td>\n",
              "      <td>1</td>\n",
              "    </tr>\n",
              "    <tr>\n",
              "      <th>132</th>\n",
              "      <td>191</td>\n",
              "      <td>aftershock</td>\n",
              "      <td>NaN</td>\n",
              "      <td>Aftershock back to school kick off was great. ...</td>\n",
              "      <td>0</td>\n",
              "    </tr>\n",
              "    <tr>\n",
              "      <th>6845</th>\n",
              "      <td>9810</td>\n",
              "      <td>trauma</td>\n",
              "      <td>Montgomery County, MD</td>\n",
              "      <td>in response to trauma Children of Addicts deve...</td>\n",
              "      <td>0</td>\n",
              "    </tr>\n",
              "  </tbody>\n",
              "</table>\n",
              "</div>\n",
              "    <div class=\"colab-df-buttons\">\n",
              "\n",
              "  <div class=\"colab-df-container\">\n",
              "    <button class=\"colab-df-convert\" onclick=\"convertToInteractive('df-028c5bf9-520b-4209-9822-981fa7afd8f3')\"\n",
              "            title=\"Convert this dataframe to an interactive table.\"\n",
              "            style=\"display:none;\">\n",
              "\n",
              "  <svg xmlns=\"http://www.w3.org/2000/svg\" height=\"24px\" viewBox=\"0 -960 960 960\">\n",
              "    <path d=\"M120-120v-720h720v720H120Zm60-500h600v-160H180v160Zm220 220h160v-160H400v160Zm0 220h160v-160H400v160ZM180-400h160v-160H180v160Zm440 0h160v-160H620v160ZM180-180h160v-160H180v160Zm440 0h160v-160H620v160Z\"/>\n",
              "  </svg>\n",
              "    </button>\n",
              "\n",
              "  <style>\n",
              "    .colab-df-container {\n",
              "      display:flex;\n",
              "      gap: 12px;\n",
              "    }\n",
              "\n",
              "    .colab-df-convert {\n",
              "      background-color: #E8F0FE;\n",
              "      border: none;\n",
              "      border-radius: 50%;\n",
              "      cursor: pointer;\n",
              "      display: none;\n",
              "      fill: #1967D2;\n",
              "      height: 32px;\n",
              "      padding: 0 0 0 0;\n",
              "      width: 32px;\n",
              "    }\n",
              "\n",
              "    .colab-df-convert:hover {\n",
              "      background-color: #E2EBFA;\n",
              "      box-shadow: 0px 1px 2px rgba(60, 64, 67, 0.3), 0px 1px 3px 1px rgba(60, 64, 67, 0.15);\n",
              "      fill: #174EA6;\n",
              "    }\n",
              "\n",
              "    .colab-df-buttons div {\n",
              "      margin-bottom: 4px;\n",
              "    }\n",
              "\n",
              "    [theme=dark] .colab-df-convert {\n",
              "      background-color: #3B4455;\n",
              "      fill: #D2E3FC;\n",
              "    }\n",
              "\n",
              "    [theme=dark] .colab-df-convert:hover {\n",
              "      background-color: #434B5C;\n",
              "      box-shadow: 0px 1px 3px 1px rgba(0, 0, 0, 0.15);\n",
              "      filter: drop-shadow(0px 1px 2px rgba(0, 0, 0, 0.3));\n",
              "      fill: #FFFFFF;\n",
              "    }\n",
              "  </style>\n",
              "\n",
              "    <script>\n",
              "      const buttonEl =\n",
              "        document.querySelector('#df-028c5bf9-520b-4209-9822-981fa7afd8f3 button.colab-df-convert');\n",
              "      buttonEl.style.display =\n",
              "        google.colab.kernel.accessAllowed ? 'block' : 'none';\n",
              "\n",
              "      async function convertToInteractive(key) {\n",
              "        const element = document.querySelector('#df-028c5bf9-520b-4209-9822-981fa7afd8f3');\n",
              "        const dataTable =\n",
              "          await google.colab.kernel.invokeFunction('convertToInteractive',\n",
              "                                                    [key], {});\n",
              "        if (!dataTable) return;\n",
              "\n",
              "        const docLinkHtml = 'Like what you see? Visit the ' +\n",
              "          '<a target=\"_blank\" href=https://colab.research.google.com/notebooks/data_table.ipynb>data table notebook</a>'\n",
              "          + ' to learn more about interactive tables.';\n",
              "        element.innerHTML = '';\n",
              "        dataTable['output_type'] = 'display_data';\n",
              "        await google.colab.output.renderOutput(dataTable, element);\n",
              "        const docLink = document.createElement('div');\n",
              "        docLink.innerHTML = docLinkHtml;\n",
              "        element.appendChild(docLink);\n",
              "      }\n",
              "    </script>\n",
              "  </div>\n",
              "\n",
              "\n",
              "<div id=\"df-4ef4da26-a3ce-40ae-a301-8eed1d53ab7f\">\n",
              "  <button class=\"colab-df-quickchart\" onclick=\"quickchart('df-4ef4da26-a3ce-40ae-a301-8eed1d53ab7f')\"\n",
              "            title=\"Suggest charts\"\n",
              "            style=\"display:none;\">\n",
              "\n",
              "<svg xmlns=\"http://www.w3.org/2000/svg\" height=\"24px\"viewBox=\"0 0 24 24\"\n",
              "     width=\"24px\">\n",
              "    <g>\n",
              "        <path d=\"M19 3H5c-1.1 0-2 .9-2 2v14c0 1.1.9 2 2 2h14c1.1 0 2-.9 2-2V5c0-1.1-.9-2-2-2zM9 17H7v-7h2v7zm4 0h-2V7h2v10zm4 0h-2v-4h2v4z\"/>\n",
              "    </g>\n",
              "</svg>\n",
              "  </button>\n",
              "\n",
              "<style>\n",
              "  .colab-df-quickchart {\n",
              "      --bg-color: #E8F0FE;\n",
              "      --fill-color: #1967D2;\n",
              "      --hover-bg-color: #E2EBFA;\n",
              "      --hover-fill-color: #174EA6;\n",
              "      --disabled-fill-color: #AAA;\n",
              "      --disabled-bg-color: #DDD;\n",
              "  }\n",
              "\n",
              "  [theme=dark] .colab-df-quickchart {\n",
              "      --bg-color: #3B4455;\n",
              "      --fill-color: #D2E3FC;\n",
              "      --hover-bg-color: #434B5C;\n",
              "      --hover-fill-color: #FFFFFF;\n",
              "      --disabled-bg-color: #3B4455;\n",
              "      --disabled-fill-color: #666;\n",
              "  }\n",
              "\n",
              "  .colab-df-quickchart {\n",
              "    background-color: var(--bg-color);\n",
              "    border: none;\n",
              "    border-radius: 50%;\n",
              "    cursor: pointer;\n",
              "    display: none;\n",
              "    fill: var(--fill-color);\n",
              "    height: 32px;\n",
              "    padding: 0;\n",
              "    width: 32px;\n",
              "  }\n",
              "\n",
              "  .colab-df-quickchart:hover {\n",
              "    background-color: var(--hover-bg-color);\n",
              "    box-shadow: 0 1px 2px rgba(60, 64, 67, 0.3), 0 1px 3px 1px rgba(60, 64, 67, 0.15);\n",
              "    fill: var(--button-hover-fill-color);\n",
              "  }\n",
              "\n",
              "  .colab-df-quickchart-complete:disabled,\n",
              "  .colab-df-quickchart-complete:disabled:hover {\n",
              "    background-color: var(--disabled-bg-color);\n",
              "    fill: var(--disabled-fill-color);\n",
              "    box-shadow: none;\n",
              "  }\n",
              "\n",
              "  .colab-df-spinner {\n",
              "    border: 2px solid var(--fill-color);\n",
              "    border-color: transparent;\n",
              "    border-bottom-color: var(--fill-color);\n",
              "    animation:\n",
              "      spin 1s steps(1) infinite;\n",
              "  }\n",
              "\n",
              "  @keyframes spin {\n",
              "    0% {\n",
              "      border-color: transparent;\n",
              "      border-bottom-color: var(--fill-color);\n",
              "      border-left-color: var(--fill-color);\n",
              "    }\n",
              "    20% {\n",
              "      border-color: transparent;\n",
              "      border-left-color: var(--fill-color);\n",
              "      border-top-color: var(--fill-color);\n",
              "    }\n",
              "    30% {\n",
              "      border-color: transparent;\n",
              "      border-left-color: var(--fill-color);\n",
              "      border-top-color: var(--fill-color);\n",
              "      border-right-color: var(--fill-color);\n",
              "    }\n",
              "    40% {\n",
              "      border-color: transparent;\n",
              "      border-right-color: var(--fill-color);\n",
              "      border-top-color: var(--fill-color);\n",
              "    }\n",
              "    60% {\n",
              "      border-color: transparent;\n",
              "      border-right-color: var(--fill-color);\n",
              "    }\n",
              "    80% {\n",
              "      border-color: transparent;\n",
              "      border-right-color: var(--fill-color);\n",
              "      border-bottom-color: var(--fill-color);\n",
              "    }\n",
              "    90% {\n",
              "      border-color: transparent;\n",
              "      border-bottom-color: var(--fill-color);\n",
              "    }\n",
              "  }\n",
              "</style>\n",
              "\n",
              "  <script>\n",
              "    async function quickchart(key) {\n",
              "      const quickchartButtonEl =\n",
              "        document.querySelector('#' + key + ' button');\n",
              "      quickchartButtonEl.disabled = true;  // To prevent multiple clicks.\n",
              "      quickchartButtonEl.classList.add('colab-df-spinner');\n",
              "      try {\n",
              "        const charts = await google.colab.kernel.invokeFunction(\n",
              "            'suggestCharts', [key], {});\n",
              "      } catch (error) {\n",
              "        console.error('Error during call to suggestCharts:', error);\n",
              "      }\n",
              "      quickchartButtonEl.classList.remove('colab-df-spinner');\n",
              "      quickchartButtonEl.classList.add('colab-df-quickchart-complete');\n",
              "    }\n",
              "    (() => {\n",
              "      let quickchartButtonEl =\n",
              "        document.querySelector('#df-4ef4da26-a3ce-40ae-a301-8eed1d53ab7f button');\n",
              "      quickchartButtonEl.style.display =\n",
              "        google.colab.kernel.accessAllowed ? 'block' : 'none';\n",
              "    })();\n",
              "  </script>\n",
              "</div>\n",
              "\n",
              "    </div>\n",
              "  </div>\n"
            ]
          },
          "metadata": {},
          "execution_count": 6
        }
      ]
    },
    {
      "cell_type": "markdown",
      "source": [
        "Inputs (text column) -> Machine Learning Algorithm -> Outputs (target column)"
      ],
      "metadata": {
        "id": "Md4cBILkrdxN"
      }
    },
    {
      "cell_type": "code",
      "source": [
        "test_df.head()"
      ],
      "metadata": {
        "colab": {
          "base_uri": "https://localhost:8080/",
          "height": 206
        },
        "id": "NmW4gYexrBAU",
        "outputId": "d6ef40ba-ed4a-4f69-c97e-2406f90ca60f"
      },
      "execution_count": null,
      "outputs": [
        {
          "output_type": "execute_result",
          "data": {
            "text/plain": [
              "   id keyword location                                               text\n",
              "0   0     NaN      NaN                 Just happened a terrible car crash\n",
              "1   2     NaN      NaN  Heard about #earthquake is different cities, s...\n",
              "2   3     NaN      NaN  there is a forest fire at spot pond, geese are...\n",
              "3   9     NaN      NaN           Apocalypse lighting. #Spokane #wildfires\n",
              "4  11     NaN      NaN      Typhoon Soudelor kills 28 in China and Taiwan"
            ],
            "text/html": [
              "\n",
              "  <div id=\"df-88c5e958-f1c3-4c75-bdf0-8340f4e975d2\" class=\"colab-df-container\">\n",
              "    <div>\n",
              "<style scoped>\n",
              "    .dataframe tbody tr th:only-of-type {\n",
              "        vertical-align: middle;\n",
              "    }\n",
              "\n",
              "    .dataframe tbody tr th {\n",
              "        vertical-align: top;\n",
              "    }\n",
              "\n",
              "    .dataframe thead th {\n",
              "        text-align: right;\n",
              "    }\n",
              "</style>\n",
              "<table border=\"1\" class=\"dataframe\">\n",
              "  <thead>\n",
              "    <tr style=\"text-align: right;\">\n",
              "      <th></th>\n",
              "      <th>id</th>\n",
              "      <th>keyword</th>\n",
              "      <th>location</th>\n",
              "      <th>text</th>\n",
              "    </tr>\n",
              "  </thead>\n",
              "  <tbody>\n",
              "    <tr>\n",
              "      <th>0</th>\n",
              "      <td>0</td>\n",
              "      <td>NaN</td>\n",
              "      <td>NaN</td>\n",
              "      <td>Just happened a terrible car crash</td>\n",
              "    </tr>\n",
              "    <tr>\n",
              "      <th>1</th>\n",
              "      <td>2</td>\n",
              "      <td>NaN</td>\n",
              "      <td>NaN</td>\n",
              "      <td>Heard about #earthquake is different cities, s...</td>\n",
              "    </tr>\n",
              "    <tr>\n",
              "      <th>2</th>\n",
              "      <td>3</td>\n",
              "      <td>NaN</td>\n",
              "      <td>NaN</td>\n",
              "      <td>there is a forest fire at spot pond, geese are...</td>\n",
              "    </tr>\n",
              "    <tr>\n",
              "      <th>3</th>\n",
              "      <td>9</td>\n",
              "      <td>NaN</td>\n",
              "      <td>NaN</td>\n",
              "      <td>Apocalypse lighting. #Spokane #wildfires</td>\n",
              "    </tr>\n",
              "    <tr>\n",
              "      <th>4</th>\n",
              "      <td>11</td>\n",
              "      <td>NaN</td>\n",
              "      <td>NaN</td>\n",
              "      <td>Typhoon Soudelor kills 28 in China and Taiwan</td>\n",
              "    </tr>\n",
              "  </tbody>\n",
              "</table>\n",
              "</div>\n",
              "    <div class=\"colab-df-buttons\">\n",
              "\n",
              "  <div class=\"colab-df-container\">\n",
              "    <button class=\"colab-df-convert\" onclick=\"convertToInteractive('df-88c5e958-f1c3-4c75-bdf0-8340f4e975d2')\"\n",
              "            title=\"Convert this dataframe to an interactive table.\"\n",
              "            style=\"display:none;\">\n",
              "\n",
              "  <svg xmlns=\"http://www.w3.org/2000/svg\" height=\"24px\" viewBox=\"0 -960 960 960\">\n",
              "    <path d=\"M120-120v-720h720v720H120Zm60-500h600v-160H180v160Zm220 220h160v-160H400v160Zm0 220h160v-160H400v160ZM180-400h160v-160H180v160Zm440 0h160v-160H620v160ZM180-180h160v-160H180v160Zm440 0h160v-160H620v160Z\"/>\n",
              "  </svg>\n",
              "    </button>\n",
              "\n",
              "  <style>\n",
              "    .colab-df-container {\n",
              "      display:flex;\n",
              "      gap: 12px;\n",
              "    }\n",
              "\n",
              "    .colab-df-convert {\n",
              "      background-color: #E8F0FE;\n",
              "      border: none;\n",
              "      border-radius: 50%;\n",
              "      cursor: pointer;\n",
              "      display: none;\n",
              "      fill: #1967D2;\n",
              "      height: 32px;\n",
              "      padding: 0 0 0 0;\n",
              "      width: 32px;\n",
              "    }\n",
              "\n",
              "    .colab-df-convert:hover {\n",
              "      background-color: #E2EBFA;\n",
              "      box-shadow: 0px 1px 2px rgba(60, 64, 67, 0.3), 0px 1px 3px 1px rgba(60, 64, 67, 0.15);\n",
              "      fill: #174EA6;\n",
              "    }\n",
              "\n",
              "    .colab-df-buttons div {\n",
              "      margin-bottom: 4px;\n",
              "    }\n",
              "\n",
              "    [theme=dark] .colab-df-convert {\n",
              "      background-color: #3B4455;\n",
              "      fill: #D2E3FC;\n",
              "    }\n",
              "\n",
              "    [theme=dark] .colab-df-convert:hover {\n",
              "      background-color: #434B5C;\n",
              "      box-shadow: 0px 1px 3px 1px rgba(0, 0, 0, 0.15);\n",
              "      filter: drop-shadow(0px 1px 2px rgba(0, 0, 0, 0.3));\n",
              "      fill: #FFFFFF;\n",
              "    }\n",
              "  </style>\n",
              "\n",
              "    <script>\n",
              "      const buttonEl =\n",
              "        document.querySelector('#df-88c5e958-f1c3-4c75-bdf0-8340f4e975d2 button.colab-df-convert');\n",
              "      buttonEl.style.display =\n",
              "        google.colab.kernel.accessAllowed ? 'block' : 'none';\n",
              "\n",
              "      async function convertToInteractive(key) {\n",
              "        const element = document.querySelector('#df-88c5e958-f1c3-4c75-bdf0-8340f4e975d2');\n",
              "        const dataTable =\n",
              "          await google.colab.kernel.invokeFunction('convertToInteractive',\n",
              "                                                    [key], {});\n",
              "        if (!dataTable) return;\n",
              "\n",
              "        const docLinkHtml = 'Like what you see? Visit the ' +\n",
              "          '<a target=\"_blank\" href=https://colab.research.google.com/notebooks/data_table.ipynb>data table notebook</a>'\n",
              "          + ' to learn more about interactive tables.';\n",
              "        element.innerHTML = '';\n",
              "        dataTable['output_type'] = 'display_data';\n",
              "        await google.colab.output.renderOutput(dataTable, element);\n",
              "        const docLink = document.createElement('div');\n",
              "        docLink.innerHTML = docLinkHtml;\n",
              "        element.appendChild(docLink);\n",
              "      }\n",
              "    </script>\n",
              "  </div>\n",
              "\n",
              "\n",
              "<div id=\"df-54f5453f-7c54-4dc5-91b4-6ea8eae222f9\">\n",
              "  <button class=\"colab-df-quickchart\" onclick=\"quickchart('df-54f5453f-7c54-4dc5-91b4-6ea8eae222f9')\"\n",
              "            title=\"Suggest charts\"\n",
              "            style=\"display:none;\">\n",
              "\n",
              "<svg xmlns=\"http://www.w3.org/2000/svg\" height=\"24px\"viewBox=\"0 0 24 24\"\n",
              "     width=\"24px\">\n",
              "    <g>\n",
              "        <path d=\"M19 3H5c-1.1 0-2 .9-2 2v14c0 1.1.9 2 2 2h14c1.1 0 2-.9 2-2V5c0-1.1-.9-2-2-2zM9 17H7v-7h2v7zm4 0h-2V7h2v10zm4 0h-2v-4h2v4z\"/>\n",
              "    </g>\n",
              "</svg>\n",
              "  </button>\n",
              "\n",
              "<style>\n",
              "  .colab-df-quickchart {\n",
              "      --bg-color: #E8F0FE;\n",
              "      --fill-color: #1967D2;\n",
              "      --hover-bg-color: #E2EBFA;\n",
              "      --hover-fill-color: #174EA6;\n",
              "      --disabled-fill-color: #AAA;\n",
              "      --disabled-bg-color: #DDD;\n",
              "  }\n",
              "\n",
              "  [theme=dark] .colab-df-quickchart {\n",
              "      --bg-color: #3B4455;\n",
              "      --fill-color: #D2E3FC;\n",
              "      --hover-bg-color: #434B5C;\n",
              "      --hover-fill-color: #FFFFFF;\n",
              "      --disabled-bg-color: #3B4455;\n",
              "      --disabled-fill-color: #666;\n",
              "  }\n",
              "\n",
              "  .colab-df-quickchart {\n",
              "    background-color: var(--bg-color);\n",
              "    border: none;\n",
              "    border-radius: 50%;\n",
              "    cursor: pointer;\n",
              "    display: none;\n",
              "    fill: var(--fill-color);\n",
              "    height: 32px;\n",
              "    padding: 0;\n",
              "    width: 32px;\n",
              "  }\n",
              "\n",
              "  .colab-df-quickchart:hover {\n",
              "    background-color: var(--hover-bg-color);\n",
              "    box-shadow: 0 1px 2px rgba(60, 64, 67, 0.3), 0 1px 3px 1px rgba(60, 64, 67, 0.15);\n",
              "    fill: var(--button-hover-fill-color);\n",
              "  }\n",
              "\n",
              "  .colab-df-quickchart-complete:disabled,\n",
              "  .colab-df-quickchart-complete:disabled:hover {\n",
              "    background-color: var(--disabled-bg-color);\n",
              "    fill: var(--disabled-fill-color);\n",
              "    box-shadow: none;\n",
              "  }\n",
              "\n",
              "  .colab-df-spinner {\n",
              "    border: 2px solid var(--fill-color);\n",
              "    border-color: transparent;\n",
              "    border-bottom-color: var(--fill-color);\n",
              "    animation:\n",
              "      spin 1s steps(1) infinite;\n",
              "  }\n",
              "\n",
              "  @keyframes spin {\n",
              "    0% {\n",
              "      border-color: transparent;\n",
              "      border-bottom-color: var(--fill-color);\n",
              "      border-left-color: var(--fill-color);\n",
              "    }\n",
              "    20% {\n",
              "      border-color: transparent;\n",
              "      border-left-color: var(--fill-color);\n",
              "      border-top-color: var(--fill-color);\n",
              "    }\n",
              "    30% {\n",
              "      border-color: transparent;\n",
              "      border-left-color: var(--fill-color);\n",
              "      border-top-color: var(--fill-color);\n",
              "      border-right-color: var(--fill-color);\n",
              "    }\n",
              "    40% {\n",
              "      border-color: transparent;\n",
              "      border-right-color: var(--fill-color);\n",
              "      border-top-color: var(--fill-color);\n",
              "    }\n",
              "    60% {\n",
              "      border-color: transparent;\n",
              "      border-right-color: var(--fill-color);\n",
              "    }\n",
              "    80% {\n",
              "      border-color: transparent;\n",
              "      border-right-color: var(--fill-color);\n",
              "      border-bottom-color: var(--fill-color);\n",
              "    }\n",
              "    90% {\n",
              "      border-color: transparent;\n",
              "      border-bottom-color: var(--fill-color);\n",
              "    }\n",
              "  }\n",
              "</style>\n",
              "\n",
              "  <script>\n",
              "    async function quickchart(key) {\n",
              "      const quickchartButtonEl =\n",
              "        document.querySelector('#' + key + ' button');\n",
              "      quickchartButtonEl.disabled = true;  // To prevent multiple clicks.\n",
              "      quickchartButtonEl.classList.add('colab-df-spinner');\n",
              "      try {\n",
              "        const charts = await google.colab.kernel.invokeFunction(\n",
              "            'suggestCharts', [key], {});\n",
              "      } catch (error) {\n",
              "        console.error('Error during call to suggestCharts:', error);\n",
              "      }\n",
              "      quickchartButtonEl.classList.remove('colab-df-spinner');\n",
              "      quickchartButtonEl.classList.add('colab-df-quickchart-complete');\n",
              "    }\n",
              "    (() => {\n",
              "      let quickchartButtonEl =\n",
              "        document.querySelector('#df-54f5453f-7c54-4dc5-91b4-6ea8eae222f9 button');\n",
              "      quickchartButtonEl.style.display =\n",
              "        google.colab.kernel.accessAllowed ? 'block' : 'none';\n",
              "    })();\n",
              "  </script>\n",
              "</div>\n",
              "\n",
              "    </div>\n",
              "  </div>\n"
            ]
          },
          "metadata": {},
          "execution_count": 7
        }
      ]
    },
    {
      "cell_type": "code",
      "source": [
        "import numpy as np\n",
        "\n",
        "dict = train_df.target.value_counts()\n",
        "\n",
        "# Remove None values\n",
        "dict_filtered = {k: v for k, v in dict.items() }\n",
        "print(dict_filtered)\n",
        "\n",
        "max_freq_key = max(dict_filtered, key=dict_filtered.get)\n",
        "print(max_freq_key)\n"
      ],
      "metadata": {
        "colab": {
          "base_uri": "https://localhost:8080/"
        },
        "id": "03sD1RqRrsFl",
        "outputId": "da307625-f77e-471b-dd3b-e7e300055f1e"
      },
      "execution_count": null,
      "outputs": [
        {
          "output_type": "stream",
          "name": "stdout",
          "text": [
            "{0: 4342, 1: 3271}\n",
            "0\n"
          ]
        }
      ]
    },
    {
      "cell_type": "code",
      "source": [
        "print(f\"Total training samples:{len(train_df)}\")\n",
        "print(f\"Total training samples:{len(test_df)}\")\n",
        "print(f\"Total training samples:{len(train_df)+len(test_df)}\")"
      ],
      "metadata": {
        "colab": {
          "base_uri": "https://localhost:8080/"
        },
        "id": "Q2p7DiOgr3v5",
        "outputId": "8d29b0fc-2c64-4649-eaa2-f6704ffa9a4d"
      },
      "execution_count": null,
      "outputs": [
        {
          "output_type": "stream",
          "name": "stdout",
          "text": [
            "Total training samples:7613\n",
            "Total training samples:3263\n",
            "Total training samples:10876\n"
          ]
        }
      ]
    },
    {
      "cell_type": "markdown",
      "source": [
        "* 🤔 Question: Why visualize random samples? You could visualize samples in order but this could lead to only seeing a certain subset of data. Better to visualize a substantial quantity (100+) of random samples to get an idea of the different kinds of data you're working with. In machine learning, never underestimate the power of randomness.\n",
        "\n"
      ],
      "metadata": {
        "id": "j9x4SrwKsjgz"
      }
    },
    {
      "cell_type": "code",
      "source": [
        "import random\n",
        "random_index=random.randint(0,len(train_df)-5)\n",
        "# selecting text an dtarget of 5 pairs which are taken as a tuple of target and text\n",
        "for row in train_df_shuffled[[\"text\",\"target\"]][random_index:random_index+5].itertuples():\n",
        "\n",
        "  _, text, target = row\n",
        "  print(_)\n",
        "  print(f\"Target: {target}\", \"(real disaster)\" if target > 0 else \"(not real disaster)\")\n",
        "  print(f\"Text:\\n{text}\\n\")\n",
        "  print(\"---\\n\")\n"
      ],
      "metadata": {
        "colab": {
          "base_uri": "https://localhost:8080/"
        },
        "id": "GUoru5TasOWu",
        "outputId": "b963a82d-5cd6-4a6a-daca-59cf6d8784e6"
      },
      "execution_count": null,
      "outputs": [
        {
          "output_type": "stream",
          "name": "stdout",
          "text": [
            "3796\n",
            "Target: 1 (real disaster)\n",
            "Text:\n",
            "Found this cool photo not mine 1952 Dodge Wayne bodied 4 window bus.  Ex Libby MT Fire Department truck. All oriÛ_ http://t.co/mcEjZzxgh8\n",
            "\n",
            "---\n",
            "\n",
            "4791\n",
            "Target: 0 (not real disaster)\n",
            "Text:\n",
            "#auspol Can you see the resemblance between ABBOTT &amp; Campbell both are loud and came in with a big BANG!! Out the same way;  Lets see !\n",
            "\n",
            "---\n",
            "\n",
            "2222\n",
            "Target: 1 (real disaster)\n",
            "Text:\n",
            "Perhaps 'historic' should be applied not to the deluge of recently exposed #ChildSexAbuse but the truly 'historic' scale of the cover-up\n",
            "\n",
            "---\n",
            "\n",
            "4653\n",
            "Target: 0 (not real disaster)\n",
            "Text:\n",
            "@tonymcguinness probably being inundated with this question now but who's coming to creamfields??? (please say all 3) #Mainstage\n",
            "\n",
            "---\n",
            "\n",
            "4373\n",
            "Target: 1 (real disaster)\n",
            "Text:\n",
            "California School Bus Hijacker Parole Stands http://t.co/kPIVXGjNqt #sacramento\n",
            "\n",
            "---\n",
            "\n"
          ]
        }
      ]
    },
    {
      "cell_type": "markdown",
      "source": [
        "Split data into training and validation sets"
      ],
      "metadata": {
        "id": "GzDqd-BB3Bqq"
      }
    },
    {
      "cell_type": "code",
      "source": [
        "from sklearn.model_selection import train_test_split\n",
        "train_sentences,val_sentences,train_labels,val_labels=train_test_split(train_df_shuffled[\"text\"].to_numpy(),\n",
        "                                                                       train_df_shuffled[\"target\"].to_numpy(),\n",
        "                                                                       test_size=0.1,\n",
        "                                                                       random_state=42)"
      ],
      "metadata": {
        "id": "03Sub3FCtajr"
      },
      "execution_count": null,
      "outputs": []
    },
    {
      "cell_type": "code",
      "source": [
        "len(train_sentences),len(train_labels),len(val_sentences),len(val_labels),"
      ],
      "metadata": {
        "colab": {
          "base_uri": "https://localhost:8080/"
        },
        "id": "zto9kPFg33FI",
        "outputId": "68ea69be-8341-4556-dae0-69b3ec1b5fe7"
      },
      "execution_count": null,
      "outputs": [
        {
          "output_type": "execute_result",
          "data": {
            "text/plain": [
              "(6851, 6851, 762, 762)"
            ]
          },
          "metadata": {},
          "execution_count": 12
        }
      ]
    },
    {
      "cell_type": "code",
      "source": [
        "train_sentences[:10],train_labels[:10]"
      ],
      "metadata": {
        "colab": {
          "base_uri": "https://localhost:8080/"
        },
        "id": "vvP5xnlr4bm6",
        "outputId": "23f65bfb-ed4d-42e1-fcfc-d40c2888f76e"
      },
      "execution_count": null,
      "outputs": [
        {
          "output_type": "execute_result",
          "data": {
            "text/plain": [
              "(array(['@mogacola @zamtriossu i screamed after hitting tweet',\n",
              "        'Imagine getting flattened by Kurt Zouma',\n",
              "        '@Gurmeetramrahim #MSGDoing111WelfareWorks Green S welfare force ke appx 65000 members har time disaster victim ki help ke liye tyar hai....',\n",
              "        \"@shakjn @C7 @Magnums im shaking in fear he's gonna hack the planet\",\n",
              "        'Somehow find you and I collide http://t.co/Ee8RpOahPk',\n",
              "        '@EvaHanderek @MarleyKnysh great times until the bus driver held us hostage in the mall parking lot lmfao',\n",
              "        'destroy the free fandom honestly',\n",
              "        'Weapons stolen from National Guard Armory in New Albany still missing #Gunsense http://t.co/lKNU8902JE',\n",
              "        '@wfaaweather Pete when will the heat wave pass? Is it really going to be mid month? Frisco Boy Scouts have a canoe trip in Okla.',\n",
              "        'Patient-reported outcomes in long-term survivors of metastatic colorectal cancer - British Journal of Surgery http://t.co/5Yl4DC1Tqt'],\n",
              "       dtype=object),\n",
              " array([0, 0, 1, 0, 0, 1, 1, 0, 1, 1]))"
            ]
          },
          "metadata": {},
          "execution_count": 13
        }
      ]
    },
    {
      "cell_type": "markdown",
      "source": [
        "## Converting text into numbers\n",
        "\n",
        "Wonderful! We've got a training set and a validation set containing Tweets and labels.\n",
        "\n",
        "Our labels are in numerical form (`0` and `1`) but our Tweets are in string form.\n",
        "\n",
        "> 🤔 **Question:** What do you think we have to do before we can use a machine learning algorithm with our text data?\n",
        "\n",
        "If you answered something along the lines of \"turn it into numbers\", you're correct. A machine learning algorithm requires its inputs to be in numerical form.\n",
        "\n",
        "In NLP, there are two main concepts for turning text into numbers:\n",
        "* **Tokenization** - A straight mapping from word or character or sub-word to a numerical value. There are three main levels of tokenization:\n",
        "  1. Using **word-level tokenization** with the sentence \"I love TensorFlow\" might result in \"I\" being `0`, \"love\" being `1` and \"TensorFlow\" being `2`. In this case, every word in a sequence considered a single **token**.\n",
        "  2. **Character-level tokenization**, such as converting the letters A-Z to values `1-26`. In this case, every character in a sequence considered a single **token**.\n",
        "  3. **Sub-word tokenization** is in between word-level and character-level tokenization. It involves breaking invidual words into smaller parts and then converting those smaller parts into numbers. For example, \"my favourite food is pineapple pizza\" might become \"my, fav, avour, rite, fo, oo, od, is, pin, ine, app, le, piz, za\". After doing this, these sub-words would then be mapped to a numerical value. In this case, every word could be considered multiple **tokens**.\n",
        "* **Embeddings** - An embedding is a representation of natural language which can be learned. Representation comes in the form of a **feature vector**. For example, the word \"dance\" could be represented by the 5-dimensional vector `[-0.8547, 0.4559, -0.3332, 0.9877, 0.1112]`. It's important to note here, the size of the feature vector is tuneable. There are two ways to use embeddings:\n",
        "  1. **Create your own embedding** - Once your text has been turned into numbers (required for an embedding), you can put them through an embedding layer (such as [`tf.keras.layers.Embedding`](https://www.tensorflow.org/api_docs/python/tf/keras/layers/Embedding)) and an embedding representation will be learned during model training.\n",
        "  2. **Reuse a pre-learned embedding** - Many pre-trained embeddings exist online. These pre-trained embeddings have often been learned on large corpuses of text (such as all of Wikipedia) and thus have a good underlying representation of natural language. You can use a pre-trained embedding to initialize your model and fine-tune it to your own specific task.\n",
        "\n",
        "![](https://raw.githubusercontent.com/mrdbourke/tensorflow-deep-learning/main/images/08-tokenization-vs-embedding.png)\n",
        "*Example of **tokenization** (straight mapping from word to number) and **embedding** (richer representation of relationships between tokens).*\n",
        "\n",
        "> 🤔 **Question:** What level of tokenzation should I use? What embedding should should I choose?\n",
        "\n",
        "It depends on your problem. You could try character-level tokenization/embeddings and word-level tokenization/embeddings and see which perform best. You might even want to try stacking them (e.g. combining the outputs of your embedding layers using [`tf.keras.layers.concatenate`](https://www.tensorflow.org/api_docs/python/tf/keras/layers/concatenate)).\n",
        "\n",
        "If you're looking for pre-trained word embeddings, [Word2vec embeddings](http://jalammar.github.io/illustrated-word2vec/), [GloVe embeddings](https://nlp.stanford.edu/projects/glove/) and many of the options available on [TensorFlow Hub](https://tfhub.dev/s?module-type=text-embedding) are great places to start.\n",
        "\n",
        "> 🔑 **Note:** Much like searching for a pre-trained computer vision model, you can search for pre-trained word embeddings to use for your problem. Try searching for something like \"use pre-trained word embeddings in TensorFlow\"."
      ],
      "metadata": {
        "id": "ClijR1He5ceY"
      }
    },
    {
      "cell_type": "markdown",
      "source": [
        "* text vectorization(tokenization)\n",
        "max-tokens- the max no of words in your vocabulary include a value for oov(Out of Vocabulary)\n",
        "* standardize- method for standardizing text\n",
        "\"lower_and_strip_punctuation\" which lowers text and removes all punctuation marks.\n",
        "* split-how to split text\n",
        "default is \"whitespace\" which splits on spaces.\n",
        "* ngrams - How many words to contain per token split,\n",
        "- for example, ngrams=2 splits tokens into continuous sequences of 2.\n",
        "* output_mode - How to output tokens, can be \"int\" (integer mapping), \"binary\" (one-hot encoding), \"count\" or \"tf-idf\". See documentation for more.\n",
        "* output_sequence_length - Length of tokenized sequence to output. For example, if output_sequence_length=150, all tokenized sequences will be 150 tokens long.\n",
        "* pad_to_max_tokens - Defaults to False, if True, the output feature axis will be padded to max_tokens even if the number of unique tokens in the vocabulary is less than max_tokens. Only valid in certain modes,"
      ],
      "metadata": {
        "id": "W-KbQsxP5y4l"
      }
    },
    {
      "cell_type": "code",
      "source": [
        "import tensorflow as tf\n",
        "from tensorflow.keras.layers import TextVectorization\n"
      ],
      "metadata": {
        "id": "4TDT1eFK4khV"
      },
      "execution_count": null,
      "outputs": []
    },
    {
      "cell_type": "code",
      "source": [
        "text_vectorization=TextVectorization(max_tokens=None,\n",
        "                                     standardize=\"lower_and_strip_punctuation\",\n",
        "                                     split=\"whitespace\",\n",
        "                                     ngrams=None,#no of groups\n",
        "                                     output_mode=\"int\",\n",
        "                                     output_sequence_length=None)\n",
        "#pad_to_max_token realted to max_tokens"
      ],
      "metadata": {
        "id": "DRxwsUSt7Ytx"
      },
      "execution_count": null,
      "outputs": []
    },
    {
      "cell_type": "code",
      "source": [
        "# Find average number of tokens (words) in training Tweets\n",
        "# split for converting sentance into words\n",
        "for i in train_sentences[:2]:\n",
        "  print(i)\n",
        "round(sum([len(i.split()) for i in train_sentences])/len(train_sentences))"
      ],
      "metadata": {
        "colab": {
          "base_uri": "https://localhost:8080/"
        },
        "id": "qGDcOCTS8bgf",
        "outputId": "38b1b749-8a85-495d-d7a5-e8db03725a20"
      },
      "execution_count": null,
      "outputs": [
        {
          "output_type": "stream",
          "name": "stdout",
          "text": [
            "@mogacola @zamtriossu i screamed after hitting tweet\n",
            "Imagine getting flattened by Kurt Zouma\n"
          ]
        },
        {
          "output_type": "execute_result",
          "data": {
            "text/plain": [
              "15"
            ]
          },
          "metadata": {},
          "execution_count": 16
        }
      ]
    },
    {
      "cell_type": "markdown",
      "source": [],
      "metadata": {
        "id": "bPQG513Lo7la"
      }
    },
    {
      "cell_type": "code",
      "source": [
        "max_vocab_length=10000\n",
        "max_length=15\n",
        "text_vectorizer=TextVectorization(max_tokens=max_vocab_length,# to consider in  vocabulary\n",
        "                                  output_mode=\"int\",\n",
        "                                  output_sequence_length=max_length)"
      ],
      "metadata": {
        "id": "mDJ5_NZt8zTa"
      },
      "execution_count": null,
      "outputs": []
    },
    {
      "cell_type": "code",
      "source": [
        "text_vectorizer.adapt(train_sentences)"
      ],
      "metadata": {
        "id": "X1OvNn-Q9ghr"
      },
      "execution_count": null,
      "outputs": []
    },
    {
      "cell_type": "code",
      "source": [
        "sample_sentence=\"manikanta\"\n",
        "text_vectorizer([sample_sentence])"
      ],
      "metadata": {
        "colab": {
          "base_uri": "https://localhost:8080/"
        },
        "id": "zYASTTMk9tb8",
        "outputId": "455b6a74-fd1e-4ab0-ed65-3dabeb5e9168"
      },
      "execution_count": null,
      "outputs": [
        {
          "output_type": "execute_result",
          "data": {
            "text/plain": [
              "<tf.Tensor: shape=(1, 15), dtype=int64, numpy=array([[1, 0, 0, 0, 0, 0, 0, 0, 0, 0, 0, 0, 0, 0, 0]])>"
            ]
          },
          "metadata": {},
          "execution_count": 19
        }
      ]
    },
    {
      "cell_type": "code",
      "source": [
        "sample_sentence=\"There's a flood in my street!\"\n",
        "text_vectorizer([sample_sentence])"
      ],
      "metadata": {
        "colab": {
          "base_uri": "https://localhost:8080/"
        },
        "id": "Si3aAooY-Bqg",
        "outputId": "d134c3aa-197a-4c79-9a4a-851297ebbd23"
      },
      "execution_count": null,
      "outputs": [
        {
          "output_type": "execute_result",
          "data": {
            "text/plain": [
              "<tf.Tensor: shape=(1, 15), dtype=int64, numpy=\n",
              "array([[264,   3, 232,   4,  13, 698,   0,   0,   0,   0,   0,   0,   0,\n",
              "          0,   0]])>"
            ]
          },
          "metadata": {},
          "execution_count": 20
        }
      ]
    },
    {
      "cell_type": "code",
      "source": [
        "# Choose a random sentence from the training dataset and tokenize it\n",
        "random_sentence = random.choice(train_sentences)\n",
        "print(f\"Original text:\\n{random_sentence}\\\n",
        "      \\n\\nVectorized version:\")\n",
        "text_vectorizer([random_sentence])"
      ],
      "metadata": {
        "colab": {
          "base_uri": "https://localhost:8080/"
        },
        "id": "DqOZqkmh-UE9",
        "outputId": "c34d69b4-95ba-4d33-8e1a-d827714e7e31"
      },
      "execution_count": null,
      "outputs": [
        {
          "output_type": "stream",
          "name": "stdout",
          "text": [
            "Original text:\n",
            "How is it one careless match can start a forest fire but it takes a whole box to start a campfire      \n",
            "\n",
            "Vectorized version:\n"
          ]
        },
        {
          "output_type": "execute_result",
          "data": {
            "text/plain": [
              "<tf.Tensor: shape=(1, 15), dtype=int64, numpy=\n",
              "array([[  62,    9,   15,   61,    1, 1502,   71,  667,    3,  188,   42,\n",
              "          30,   15,  872,    3]])>"
            ]
          },
          "metadata": {},
          "execution_count": 21
        }
      ]
    },
    {
      "cell_type": "code",
      "source": [
        "# Get the unique words in the vocabulary\n",
        "words_in_vocab = text_vectorizer.get_vocabulary()\n",
        "top_5_words = words_in_vocab[:5] # most common tokens (notice the [UNK] token for \"unknown\" words)\n",
        "bottom_5_words = words_in_vocab[-5:] # least common tokens\n",
        "print(f\"Number of words in vocab: {len(words_in_vocab)}\")\n",
        "print(f\"Top 5 most common words: {top_5_words}\")\n",
        "print(f\"Bottom 5 least common words: {bottom_5_words}\")"
      ],
      "metadata": {
        "colab": {
          "base_uri": "https://localhost:8080/"
        },
        "id": "pnk2ru5e-p--",
        "outputId": "15c74a2b-cbeb-48a1-bfc7-051f5b9c3bef"
      },
      "execution_count": null,
      "outputs": [
        {
          "output_type": "stream",
          "name": "stdout",
          "text": [
            "Number of words in vocab: 10000\n",
            "Top 5 most common words: ['', '[UNK]', 'the', 'a', 'in']\n",
            "Bottom 5 least common words: ['pages', 'paeds', 'pads', 'padres', 'paddytomlinson1']\n"
          ]
        }
      ]
    },
    {
      "cell_type": "markdown",
      "source": [
        "# forimg embedding useing embedding layers"
      ],
      "metadata": {
        "id": "CeKts7BC_dKX"
      }
    },
    {
      "cell_type": "markdown",
      "source": [
        "* We can see what an embedding of a word looks like by using the tf.keras.layers.Embedding layer.\n",
        "\n",
        "* The main parameters we're concerned about here are:\n",
        "\n",
        "* input_dim - The size of the vocabulary (e.g. len(text_vectorizer.get_vocabulary()).\n",
        "* output_dim - The size of the output embedding vector, for example, a value of 100 outputs a feature vector of size 100 for each word.\n",
        "* embeddings_initializer - How to initialize the embeddings matrix, default is \"uniform\" which randomly initalizes embedding matrix with uniform distribution. This can be changed for using pre-learned embeddings.\n",
        "* input_length - Length of sequences being passed to embedding layer.*"
      ],
      "metadata": {
        "id": "-9ZmRsht_wv0"
      }
    },
    {
      "cell_type": "code",
      "source": [
        "tf.random.set_seed(42)\n",
        "from tensorflow.keras import layers"
      ],
      "metadata": {
        "id": "N6pN_yy__F2k"
      },
      "execution_count": null,
      "outputs": []
    },
    {
      "cell_type": "code",
      "source": [
        "embedding = layers.Embedding(input_dim=max_vocab_length, # set input shape\n",
        "                             output_dim=128, # set size of embedding vector\n",
        "                             embeddings_initializer=\"uniform\", # default, intialize randomly\n",
        "                             input_length=max_length, # how long is each input\n",
        "                             name=\"embedding_1\")\n",
        "\n",
        "embedding"
      ],
      "metadata": {
        "colab": {
          "base_uri": "https://localhost:8080/"
        },
        "id": "lQw_XPyvBzP4",
        "outputId": "089b726e-d613-46cf-99a4-6fe378d521de"
      },
      "execution_count": null,
      "outputs": [
        {
          "output_type": "execute_result",
          "data": {
            "text/plain": [
              "<keras.src.layers.core.embedding.Embedding at 0x7c910120c1c0>"
            ]
          },
          "metadata": {},
          "execution_count": 24
        }
      ]
    },
    {
      "cell_type": "markdown",
      "source": [
        "we can use  embedding layer as they are trainable"
      ],
      "metadata": {
        "id": "-iTTpV2RCDH-"
      }
    },
    {
      "cell_type": "code",
      "source": [
        "random_sentence=random.choice(train_sentences)\n",
        "print(f\"Original text{random_sentence}\\\n",
        "      \\n\\nEmbedded version:\")\n",
        "\n",
        "# Embed the random sentence (turn it into numerical representation)\n",
        "sample_embed = embedding(text_vectorizer([random_sentence]))\n",
        "sample_embed"
      ],
      "metadata": {
        "colab": {
          "base_uri": "https://localhost:8080/"
        },
        "id": "YN_gUM26B6eT",
        "outputId": "1862b43d-99a4-4332-bf65-7ae9ecf2f4e7"
      },
      "execution_count": null,
      "outputs": [
        {
          "output_type": "stream",
          "name": "stdout",
          "text": [
            "Original textSinjar Massacre Yazidis Blast Lack of Action OveråÊHostages http://t.co/Carvv6gsRb http://t.co/lAn76ZqKxG      \n",
            "\n",
            "Embedded version:\n"
          ]
        },
        {
          "output_type": "execute_result",
          "data": {
            "text/plain": [
              "<tf.Tensor: shape=(1, 15, 128), dtype=float32, numpy=\n",
              "array([[[ 0.01969159,  0.01224019,  0.04131074, ...,  0.04470358,\n",
              "          0.02694125,  0.02493662],\n",
              "        [ 0.01416771,  0.0155247 ,  0.03568367, ..., -0.00071381,\n",
              "         -0.04327363, -0.00901379],\n",
              "        [ 0.02410919, -0.02867935,  0.00526671, ..., -0.01496451,\n",
              "         -0.00881907,  0.00602601],\n",
              "        ...,\n",
              "        [ 0.01797782,  0.03640301, -0.03479081, ...,  0.04771434,\n",
              "          0.03462258, -0.03749611],\n",
              "        [ 0.01797782,  0.03640301, -0.03479081, ...,  0.04771434,\n",
              "          0.03462258, -0.03749611],\n",
              "        [ 0.01797782,  0.03640301, -0.03479081, ...,  0.04771434,\n",
              "          0.03462258, -0.03749611]]], dtype=float32)>"
            ]
          },
          "metadata": {},
          "execution_count": 25
        }
      ]
    },
    {
      "cell_type": "code",
      "source": [
        "sample_embed[0][0]"
      ],
      "metadata": {
        "colab": {
          "base_uri": "https://localhost:8080/"
        },
        "id": "ZT7tur-ZCZb_",
        "outputId": "1832e052-bfc6-4e35-b2e2-e06c9f230e47"
      },
      "execution_count": null,
      "outputs": [
        {
          "output_type": "execute_result",
          "data": {
            "text/plain": [
              "<tf.Tensor: shape=(128,), dtype=float32, numpy=\n",
              "array([ 1.9691590e-02,  1.2240194e-02,  4.1310739e-02, -2.6431179e-02,\n",
              "       -8.6726658e-03,  3.7176538e-02,  3.7958156e-02,  7.2672851e-03,\n",
              "        3.9087724e-02, -4.4166412e-02,  3.1371284e-02,  3.0835737e-02,\n",
              "       -1.3525020e-02,  4.3205176e-02,  2.4594855e-02, -1.2072753e-02,\n",
              "        1.2232482e-02,  2.9049102e-02, -1.1961557e-02, -4.2452525e-02,\n",
              "        4.3592978e-02, -7.4105337e-04, -5.6664236e-03, -4.9136735e-02,\n",
              "       -2.4495317e-02,  2.0246748e-02, -3.9308965e-02, -6.0273409e-03,\n",
              "        1.0619618e-02,  2.8613321e-03,  4.0330179e-03,  3.2119405e-02,\n",
              "        4.5864973e-02, -2.9378906e-03, -1.6651295e-02,  1.6319286e-02,\n",
              "        4.4364665e-02, -3.0436516e-02,  3.7858251e-02,  4.8655976e-02,\n",
              "       -3.0071056e-02, -4.2905435e-03,  2.4988178e-02,  4.3556955e-02,\n",
              "        2.3304727e-02,  4.8184659e-02, -4.3405320e-02, -3.9783489e-02,\n",
              "       -2.6364673e-02,  4.7434304e-02,  1.7674234e-02, -1.5991606e-02,\n",
              "        2.5210354e-02,  2.8604697e-02, -4.9944699e-02,  3.7595760e-02,\n",
              "       -2.6826834e-02,  9.1704614e-03,  1.6193364e-02, -1.5577447e-02,\n",
              "       -4.8795190e-02,  1.8469397e-02, -3.5980262e-02,  1.1994410e-02,\n",
              "        2.2484984e-02,  2.2577833e-02,  4.2152356e-02, -3.5336494e-02,\n",
              "        2.7354944e-02,  2.4557356e-02, -3.7899625e-02,  3.2930862e-02,\n",
              "        2.2883303e-03, -4.8370279e-02,  1.2352694e-02,  3.3197355e-02,\n",
              "       -3.0756965e-03,  6.0118064e-03, -2.3972332e-02, -2.8240694e-02,\n",
              "        2.0830620e-02,  1.1728428e-02, -7.7229738e-04,  4.0521506e-02,\n",
              "       -4.5147836e-02, -1.8059898e-02, -3.1389974e-02,  3.0296113e-02,\n",
              "       -3.5021972e-02, -2.3401156e-03, -2.1415854e-02, -3.3000909e-02,\n",
              "       -1.6113866e-02,  3.6041763e-02,  6.1242208e-03, -4.2361747e-02,\n",
              "       -4.3130912e-02, -9.2206225e-03, -2.6681274e-04,  4.1191880e-02,\n",
              "       -1.6451608e-02, -1.8230058e-02,  1.7778788e-02,  2.9917549e-02,\n",
              "       -2.8998567e-02, -7.2113425e-04, -2.8741194e-02, -4.1101921e-02,\n",
              "       -1.5355241e-02,  4.7124922e-05,  2.8962720e-02,  1.3861213e-02,\n",
              "        4.3973874e-02,  2.9037748e-02, -2.3686660e-02, -2.2055022e-03,\n",
              "        2.4322812e-02, -2.5187779e-02,  4.5448605e-02,  1.9671433e-03,\n",
              "       -3.5992552e-02,  4.7488358e-02, -2.8772283e-02, -6.4337030e-03,\n",
              "       -4.8896469e-02,  4.4703577e-02,  2.6941251e-02,  2.4936620e-02],\n",
              "      dtype=float32)>"
            ]
          },
          "metadata": {},
          "execution_count": 26
        }
      ]
    },
    {
      "cell_type": "markdown",
      "source": [
        "* Model 0: Naive Bayes (baseline)\n",
        "* Model 1: Feed-forward neural network (dense model)\n",
        "* Model 2: LSTM model\n",
        "* Model 3: GRU model\n",
        "* Model 4: Bidirectional-LSTM model\n",
        "* Model 5: 1D Convolutional Neural Network\n",
        "* Model 6: TensorFlow Hub Pretrained Feature Extractor\n",
        "* Model 7: Same as model 6 with 10% of training data\n",
        "* Model 0 is the simplest to acquire a baseline which we'll expect each other of the other deeper models to beat.\n",
        "\n",
        "Each experiment will go through the following steps:\n",
        "\n",
        "* Construct the model\n",
        "* Train the model\n",
        "* Make predictions with the model\n",
        "* Track prediction evaluation metrics for later comparison"
      ],
      "metadata": {
        "id": "UWDAINd0DGkK"
      }
    },
    {
      "cell_type": "markdown",
      "source": [
        "Model 0: Getting a baseline\n",
        "As with all machine learning modelling experiments, it's important to create a baseline model so you've got a benchmark for future experiments to build upon.\n",
        "\n",
        "To create our baseline, we'll create a Scikit-Learn Pipeline using the TF-IDF (term frequency-inverse document frequency) formula to convert our words to numbers and then model them with the Multinomial Naive Bayes algorithm. This was chosen via referring to the Scikit-Learn machine learning map."
      ],
      "metadata": {
        "id": "mFtNZg7JDoxs"
      }
    },
    {
      "cell_type": "markdown",
      "source": [
        "**which allows you to chain together multiple transformers and an estimator into a single object.**"
      ],
      "metadata": {
        "id": "WGSPyvAJr0uc"
      }
    },
    {
      "cell_type": "code",
      "source": [
        "from sklearn.feature_extraction.text import TfidfVectorizer# feature extraction method\n",
        "from sklearn.naive_bayes import MultinomialNB# Naive Bayes classifier suitable for classification with discrete features (such as word counts for text classification).\n",
        "from sklearn.pipeline import Pipeline#This is a way to streamline a lot of the routine processes\n",
        "# Create tokenization and modelling pipeline\n",
        "model_0 = Pipeline([\n",
        "                    (\"tfidf\", TfidfVectorizer()), # convert words to numbers using tfidf\n",
        "                    (\"clf\", MultinomialNB()) # model the text\n",
        "])\n",
        "\n",
        "# Fit the pipeline to the training data\n",
        "model_0.fit(train_sentences, train_labels)"
      ],
      "metadata": {
        "colab": {
          "base_uri": "https://localhost:8080/",
          "height": 125
        },
        "id": "8O_3VBmPCh_q",
        "outputId": "a89640b1-e4dc-447a-f47a-c122bee245d8"
      },
      "execution_count": null,
      "outputs": [
        {
          "output_type": "execute_result",
          "data": {
            "text/plain": [
              "Pipeline(steps=[('tfidf', TfidfVectorizer()), ('clf', MultinomialNB())])"
            ],
            "text/html": [
              "<style>#sk-container-id-1 {color: black;background-color: white;}#sk-container-id-1 pre{padding: 0;}#sk-container-id-1 div.sk-toggleable {background-color: white;}#sk-container-id-1 label.sk-toggleable__label {cursor: pointer;display: block;width: 100%;margin-bottom: 0;padding: 0.3em;box-sizing: border-box;text-align: center;}#sk-container-id-1 label.sk-toggleable__label-arrow:before {content: \"▸\";float: left;margin-right: 0.25em;color: #696969;}#sk-container-id-1 label.sk-toggleable__label-arrow:hover:before {color: black;}#sk-container-id-1 div.sk-estimator:hover label.sk-toggleable__label-arrow:before {color: black;}#sk-container-id-1 div.sk-toggleable__content {max-height: 0;max-width: 0;overflow: hidden;text-align: left;background-color: #f0f8ff;}#sk-container-id-1 div.sk-toggleable__content pre {margin: 0.2em;color: black;border-radius: 0.25em;background-color: #f0f8ff;}#sk-container-id-1 input.sk-toggleable__control:checked~div.sk-toggleable__content {max-height: 200px;max-width: 100%;overflow: auto;}#sk-container-id-1 input.sk-toggleable__control:checked~label.sk-toggleable__label-arrow:before {content: \"▾\";}#sk-container-id-1 div.sk-estimator input.sk-toggleable__control:checked~label.sk-toggleable__label {background-color: #d4ebff;}#sk-container-id-1 div.sk-label input.sk-toggleable__control:checked~label.sk-toggleable__label {background-color: #d4ebff;}#sk-container-id-1 input.sk-hidden--visually {border: 0;clip: rect(1px 1px 1px 1px);clip: rect(1px, 1px, 1px, 1px);height: 1px;margin: -1px;overflow: hidden;padding: 0;position: absolute;width: 1px;}#sk-container-id-1 div.sk-estimator {font-family: monospace;background-color: #f0f8ff;border: 1px dotted black;border-radius: 0.25em;box-sizing: border-box;margin-bottom: 0.5em;}#sk-container-id-1 div.sk-estimator:hover {background-color: #d4ebff;}#sk-container-id-1 div.sk-parallel-item::after {content: \"\";width: 100%;border-bottom: 1px solid gray;flex-grow: 1;}#sk-container-id-1 div.sk-label:hover label.sk-toggleable__label {background-color: #d4ebff;}#sk-container-id-1 div.sk-serial::before {content: \"\";position: absolute;border-left: 1px solid gray;box-sizing: border-box;top: 0;bottom: 0;left: 50%;z-index: 0;}#sk-container-id-1 div.sk-serial {display: flex;flex-direction: column;align-items: center;background-color: white;padding-right: 0.2em;padding-left: 0.2em;position: relative;}#sk-container-id-1 div.sk-item {position: relative;z-index: 1;}#sk-container-id-1 div.sk-parallel {display: flex;align-items: stretch;justify-content: center;background-color: white;position: relative;}#sk-container-id-1 div.sk-item::before, #sk-container-id-1 div.sk-parallel-item::before {content: \"\";position: absolute;border-left: 1px solid gray;box-sizing: border-box;top: 0;bottom: 0;left: 50%;z-index: -1;}#sk-container-id-1 div.sk-parallel-item {display: flex;flex-direction: column;z-index: 1;position: relative;background-color: white;}#sk-container-id-1 div.sk-parallel-item:first-child::after {align-self: flex-end;width: 50%;}#sk-container-id-1 div.sk-parallel-item:last-child::after {align-self: flex-start;width: 50%;}#sk-container-id-1 div.sk-parallel-item:only-child::after {width: 0;}#sk-container-id-1 div.sk-dashed-wrapped {border: 1px dashed gray;margin: 0 0.4em 0.5em 0.4em;box-sizing: border-box;padding-bottom: 0.4em;background-color: white;}#sk-container-id-1 div.sk-label label {font-family: monospace;font-weight: bold;display: inline-block;line-height: 1.2em;}#sk-container-id-1 div.sk-label-container {text-align: center;}#sk-container-id-1 div.sk-container {/* jupyter's `normalize.less` sets `[hidden] { display: none; }` but bootstrap.min.css set `[hidden] { display: none !important; }` so we also need the `!important` here to be able to override the default hidden behavior on the sphinx rendered scikit-learn.org. See: https://github.com/scikit-learn/scikit-learn/issues/21755 */display: inline-block !important;position: relative;}#sk-container-id-1 div.sk-text-repr-fallback {display: none;}</style><div id=\"sk-container-id-1\" class=\"sk-top-container\"><div class=\"sk-text-repr-fallback\"><pre>Pipeline(steps=[(&#x27;tfidf&#x27;, TfidfVectorizer()), (&#x27;clf&#x27;, MultinomialNB())])</pre><b>In a Jupyter environment, please rerun this cell to show the HTML representation or trust the notebook. <br />On GitHub, the HTML representation is unable to render, please try loading this page with nbviewer.org.</b></div><div class=\"sk-container\" hidden><div class=\"sk-item sk-dashed-wrapped\"><div class=\"sk-label-container\"><div class=\"sk-label sk-toggleable\"><input class=\"sk-toggleable__control sk-hidden--visually\" id=\"sk-estimator-id-1\" type=\"checkbox\" ><label for=\"sk-estimator-id-1\" class=\"sk-toggleable__label sk-toggleable__label-arrow\">Pipeline</label><div class=\"sk-toggleable__content\"><pre>Pipeline(steps=[(&#x27;tfidf&#x27;, TfidfVectorizer()), (&#x27;clf&#x27;, MultinomialNB())])</pre></div></div></div><div class=\"sk-serial\"><div class=\"sk-item\"><div class=\"sk-estimator sk-toggleable\"><input class=\"sk-toggleable__control sk-hidden--visually\" id=\"sk-estimator-id-2\" type=\"checkbox\" ><label for=\"sk-estimator-id-2\" class=\"sk-toggleable__label sk-toggleable__label-arrow\">TfidfVectorizer</label><div class=\"sk-toggleable__content\"><pre>TfidfVectorizer()</pre></div></div></div><div class=\"sk-item\"><div class=\"sk-estimator sk-toggleable\"><input class=\"sk-toggleable__control sk-hidden--visually\" id=\"sk-estimator-id-3\" type=\"checkbox\" ><label for=\"sk-estimator-id-3\" class=\"sk-toggleable__label sk-toggleable__label-arrow\">MultinomialNB</label><div class=\"sk-toggleable__content\"><pre>MultinomialNB()</pre></div></div></div></div></div></div></div>"
            ]
          },
          "metadata": {},
          "execution_count": 27
        }
      ]
    },
    {
      "cell_type": "markdown",
      "source": [
        "* The benefit of using a shallow model like Multinomial Naive Bayes is that training is very fast."
      ],
      "metadata": {
        "id": "sburvxBsGoo2"
      }
    },
    {
      "cell_type": "code",
      "source": [
        "baseline_score = model_0.score(val_sentences, val_labels)\n",
        "print(f\"Our baseline model achieves an accuracy of: {baseline_score*100:.2f}%\")"
      ],
      "metadata": {
        "id": "ALIj1s-zF8Eq",
        "colab": {
          "base_uri": "https://localhost:8080/"
        },
        "outputId": "0f1ae056-7163-43e8-89ee-757ba2871d38"
      },
      "execution_count": null,
      "outputs": [
        {
          "output_type": "stream",
          "name": "stdout",
          "text": [
            "Our baseline model achieves an accuracy of: 79.27%\n"
          ]
        }
      ]
    },
    {
      "cell_type": "code",
      "source": [
        "# Make predictions\n",
        "baseline_preds = model_0.predict(val_sentences)\n",
        "baseline_preds[:20]"
      ],
      "metadata": {
        "id": "oiTwq95pGygN",
        "colab": {
          "base_uri": "https://localhost:8080/"
        },
        "outputId": "062afd3a-d946-4169-bbae-8a1f5b72d1c6"
      },
      "execution_count": null,
      "outputs": [
        {
          "output_type": "execute_result",
          "data": {
            "text/plain": [
              "array([1, 1, 1, 0, 0, 1, 1, 1, 1, 0, 0, 1, 0, 0, 0, 0, 0, 0, 0, 1])"
            ]
          },
          "metadata": {},
          "execution_count": 29
        }
      ]
    },
    {
      "cell_type": "markdown",
      "source": [
        "**Creating an evaluation function for our model experiments**"
      ],
      "metadata": {
        "id": "Zx-aam9GtClb"
      }
    },
    {
      "cell_type": "code",
      "source": [
        "# Function to evaluate: accuracy, precision, recall, f1-score\n",
        "from sklearn.metrics import accuracy_score, precision_recall_fscore_support\n",
        "\n",
        "def calculate_results(y_true, y_pred):\n",
        "  \"\"\"\n",
        "  Calculates model accuracy, precision, recall and f1 score of a binary classification model.\n",
        "\n",
        "  Args:\n",
        "  -----\n",
        "  y_true = true labels in the form of a 1D array\n",
        "  y_pred = predicted labels in the form of a 1D array\n",
        "\n",
        "  Returns a dictionary of accuracy, precision, recall, f1-score.\n",
        "  \"\"\"\n",
        "  # Calculate model accuracy\n",
        "  model_accuracy = accuracy_score(y_true, y_pred) * 100\n",
        "  # Calculate model precision, recall and f1 score using \"weighted\" average\n",
        "  model_precision, model_recall, model_f1, _ = precision_recall_fscore_support(y_true, y_pred, average=\"weighted\")\n",
        "  model_results = {\"accuracy\": model_accuracy,\n",
        "                  \"precision\": model_precision,\n",
        "                  \"recall\": model_recall,\n",
        "                  \"f1\": model_f1}\n",
        "  return model_results"
      ],
      "metadata": {
        "id": "SRemjByfG5Zy"
      },
      "execution_count": null,
      "outputs": []
    },
    {
      "cell_type": "code",
      "source": [
        "#val_labels"
      ],
      "metadata": {
        "id": "kZmgMXw7vLtt"
      },
      "execution_count": null,
      "outputs": []
    },
    {
      "cell_type": "code",
      "source": [
        "#baseline_preds"
      ],
      "metadata": {
        "id": "lUugp2cTvQFV"
      },
      "execution_count": null,
      "outputs": []
    },
    {
      "cell_type": "code",
      "source": [
        "baseline_results=calculate_results(y_true=val_labels,\n",
        "                                   y_pred=baseline_preds)\n",
        "baseline_results"
      ],
      "metadata": {
        "colab": {
          "base_uri": "https://localhost:8080/"
        },
        "id": "OJUe8cD0tZfw",
        "outputId": "4eb8d270-063b-4ce4-b86e-b84d9b223179"
      },
      "execution_count": null,
      "outputs": [
        {
          "output_type": "execute_result",
          "data": {
            "text/plain": [
              "{'accuracy': 79.26509186351706,\n",
              " 'precision': 0.8111390004213173,\n",
              " 'recall': 0.7926509186351706,\n",
              " 'f1': 0.7862189758049549}"
            ]
          },
          "metadata": {},
          "execution_count": 33
        }
      ]
    },
    {
      "cell_type": "markdown",
      "source": [
        "# Model 1:A simple dense model"
      ],
      "metadata": {
        "id": "F6APtWbRvXmi"
      }
    },
    {
      "cell_type": "markdown",
      "source": [
        "* create_tensorboard_callback() function from helper_functions.py to keep track of the results of each."
      ],
      "metadata": {
        "id": "vh3HDUdavuoM"
      }
    },
    {
      "cell_type": "code",
      "source": [
        "# Create tensorboard callback (need to create a new one for each model)\n",
        "from helper_functions import create_tensorboard_callback\n",
        "\n",
        "# Create directory to save TensorBoard logs\n",
        "SAVE_DIR = \"model_logs\""
      ],
      "metadata": {
        "id": "Cghng1ARvCFz"
      },
      "execution_count": null,
      "outputs": []
    },
    {
      "cell_type": "code",
      "source": [
        "from tensorflow.keras import layers\n",
        "inputs=layers.Input(shape=(1,),dtype=\"string\")\n",
        "x=text_vectorizer(inputs)\n",
        "x=embedding(x)\n",
        "x=layers.GlobalAveragePooling1D()(x)\n",
        "outputs=layers.Dense(1,activation=\"sigmoid\")(x)\n",
        "model_1=tf.keras.Model(inputs,outputs,name=\"model_1_dense\")"
      ],
      "metadata": {
        "id": "HlrZ-HH9v2Ju"
      },
      "execution_count": null,
      "outputs": []
    },
    {
      "cell_type": "code",
      "source": [
        "# Compile model\n",
        "model_1.compile(loss=\"binary_crossentropy\",\n",
        "                optimizer=tf.keras.optimizers.Adam(),\n",
        "                metrics=[\"accuracy\"])"
      ],
      "metadata": {
        "id": "MtwpSyH2w-BK"
      },
      "execution_count": null,
      "outputs": []
    },
    {
      "cell_type": "code",
      "source": [
        "model_1.summary()"
      ],
      "metadata": {
        "colab": {
          "base_uri": "https://localhost:8080/"
        },
        "id": "WYgrz0OGxPIl",
        "outputId": "6196147c-5d3e-47df-87da-57591bafdf76"
      },
      "execution_count": null,
      "outputs": [
        {
          "output_type": "stream",
          "name": "stdout",
          "text": [
            "Model: \"model_1_dense\"\n",
            "_________________________________________________________________\n",
            " Layer (type)                Output Shape              Param #   \n",
            "=================================================================\n",
            " input_1 (InputLayer)        [(None, 1)]               0         \n",
            "                                                                 \n",
            " text_vectorization_1 (Text  (None, 15)                0         \n",
            " Vectorization)                                                  \n",
            "                                                                 \n",
            " embedding_1 (Embedding)     (None, 15, 128)           1280000   \n",
            "                                                                 \n",
            " global_average_pooling1d (  (None, 128)               0         \n",
            " GlobalAveragePooling1D)                                         \n",
            "                                                                 \n",
            " dense (Dense)               (None, 1)                 129       \n",
            "                                                                 \n",
            "=================================================================\n",
            "Total params: 1280129 (4.88 MB)\n",
            "Trainable params: 1280129 (4.88 MB)\n",
            "Non-trainable params: 0 (0.00 Byte)\n",
            "_________________________________________________________________\n"
          ]
        }
      ]
    },
    {
      "cell_type": "code",
      "source": [
        "model_1_history=model_1.fit(train_sentences,\n",
        "                            train_labels,\n",
        "                            validation_data=(val_sentences,val_labels),\n",
        "                            callbacks=[create_tensorboard_callback(dir_name=SAVE_DIR,\n",
        "                                                                     experiment_name=\"model_1\")])"
      ],
      "metadata": {
        "colab": {
          "base_uri": "https://localhost:8080/"
        },
        "id": "AcYMhqjixUnG",
        "outputId": "92c986d3-44f6-4faa-e715-c35ca5215f37"
      },
      "execution_count": null,
      "outputs": [
        {
          "output_type": "stream",
          "name": "stdout",
          "text": [
            "Saving TensorBoard log files to: model_logs/model_1/20240211-035745\n",
            "215/215 [==============================] - 18s 65ms/step - loss: 0.6101 - accuracy: 0.6919 - val_loss: 0.5362 - val_accuracy: 0.7546\n"
          ]
        }
      ]
    },
    {
      "cell_type": "code",
      "source": [
        "model_1.evaluate(val_sentences,val_labels)"
      ],
      "metadata": {
        "colab": {
          "base_uri": "https://localhost:8080/"
        },
        "id": "E0o0qeJyz0bQ",
        "outputId": "0f6acf54-e976-46f4-cd14-1c78ac653c44"
      },
      "execution_count": null,
      "outputs": [
        {
          "output_type": "stream",
          "name": "stdout",
          "text": [
            "24/24 [==============================] - 0s 5ms/step - loss: 0.5362 - accuracy: 0.7546\n"
          ]
        },
        {
          "output_type": "execute_result",
          "data": {
            "text/plain": [
              "[0.5361607074737549, 0.7545931935310364]"
            ]
          },
          "metadata": {},
          "execution_count": 39
        }
      ]
    },
    {
      "cell_type": "code",
      "source": [
        "embedding.weights"
      ],
      "metadata": {
        "colab": {
          "base_uri": "https://localhost:8080/"
        },
        "id": "OxAh1LGTz9su",
        "outputId": "7e9cfbf3-b985-41a6-8cf7-a862ec563748"
      },
      "execution_count": null,
      "outputs": [
        {
          "output_type": "execute_result",
          "data": {
            "text/plain": [
              "[<tf.Variable 'embedding_1/embeddings:0' shape=(10000, 128) dtype=float32, numpy=\n",
              " array([[ 4.9153708e-02,  3.5243242e-03, -6.9839321e-02, ...,\n",
              "          1.6208755e-02,  2.3006549e-05, -3.7407759e-03],\n",
              "        [ 2.3585256e-02,  3.7990853e-02, -2.3172848e-02, ...,\n",
              "          8.9854542e-03, -8.5928319e-03,  1.1391951e-02],\n",
              "        [ 1.9070260e-02, -3.4348856e-04, -4.2145015e-03, ...,\n",
              "         -5.5147015e-02,  5.7183340e-04,  7.3189028e-02],\n",
              "        ...,\n",
              "        [ 4.0833626e-02, -2.2963965e-02,  3.2275129e-02, ...,\n",
              "          2.8251614e-02, -3.2097436e-02,  9.7932331e-03],\n",
              "        [-8.5347313e-03, -2.6041325e-02, -9.9683367e-03, ...,\n",
              "         -4.9875524e-02,  1.3661028e-02,  2.8167900e-02],\n",
              "        [-2.1638146e-02, -4.4154994e-02,  2.0816760e-02, ...,\n",
              "          2.6073929e-02, -1.8079570e-02,  9.6424774e-04]], dtype=float32)>]"
            ]
          },
          "metadata": {},
          "execution_count": 40
        }
      ]
    },
    {
      "cell_type": "code",
      "source": [
        "embed_weights = model_1.get_layer(\"embedding_1\").get_weights()[0]\n",
        "print(embed_weights.shape)"
      ],
      "metadata": {
        "colab": {
          "base_uri": "https://localhost:8080/"
        },
        "id": "4Apbrj9a0G5R",
        "outputId": "c7dcf823-8d79-4518-d13a-c889f13e2b91"
      },
      "execution_count": null,
      "outputs": [
        {
          "output_type": "stream",
          "name": "stdout",
          "text": [
            "(10000, 128)\n"
          ]
        }
      ]
    },
    {
      "cell_type": "code",
      "source": [
        "pred=model_1.predict(val_sentences)\n",
        "print(pred[:10])"
      ],
      "metadata": {
        "colab": {
          "base_uri": "https://localhost:8080/"
        },
        "id": "cPLwBdN00NIE",
        "outputId": "92e509ff-37f0-4c17-a649-3610faf9d5af"
      },
      "execution_count": null,
      "outputs": [
        {
          "output_type": "stream",
          "name": "stdout",
          "text": [
            "24/24 [==============================] - 0s 3ms/step\n",
            "[[0.40171194]\n",
            " [0.66464907]\n",
            " [0.78546286]\n",
            " [0.26142457]\n",
            " [0.34100264]\n",
            " [0.6400972 ]\n",
            " [0.66431   ]\n",
            " [0.6484085 ]\n",
            " [0.6490963 ]\n",
            " [0.23505561]]\n"
          ]
        }
      ]
    },
    {
      "cell_type": "markdown",
      "source": [
        "**Since our final layers uses a sigmoid activation function**"
      ],
      "metadata": {
        "id": "WbBc2RgM2Sya"
      }
    },
    {
      "cell_type": "code",
      "source": [
        "# turn prediction probabiites\n",
        "model_1_preds=tf.squeeze(tf.round(pred))\n",
        "model_1_preds[:20]"
      ],
      "metadata": {
        "colab": {
          "base_uri": "https://localhost:8080/"
        },
        "id": "luVKogTP2NOu",
        "outputId": "c75f0ee7-e061-4128-88d3-2b55b2f29ebf"
      },
      "execution_count": null,
      "outputs": [
        {
          "output_type": "execute_result",
          "data": {
            "text/plain": [
              "<tf.Tensor: shape=(20,), dtype=float32, numpy=\n",
              "array([0., 1., 1., 0., 0., 1., 1., 1., 1., 0., 0., 1., 0., 0., 0., 0., 0.,\n",
              "       0., 0., 0.], dtype=float32)>"
            ]
          },
          "metadata": {},
          "execution_count": 43
        }
      ]
    },
    {
      "cell_type": "code",
      "source": [
        "# Calculate model_1 metrics\n",
        "model_1_results = calculate_results(y_true=val_labels,\n",
        "                                    y_pred=model_1_preds)\n",
        "model_1_results"
      ],
      "metadata": {
        "colab": {
          "base_uri": "https://localhost:8080/"
        },
        "id": "u080r5pu3j5B",
        "outputId": "cdcfcbce-45d7-4e2a-a76c-2d9a2a9b1546"
      },
      "execution_count": null,
      "outputs": [
        {
          "output_type": "execute_result",
          "data": {
            "text/plain": [
              "{'accuracy': 75.45931758530183,\n",
              " 'precision': 0.7803359626591955,\n",
              " 'recall': 0.7545931758530183,\n",
              " 'f1': 0.743523573323244}"
            ]
          },
          "metadata": {},
          "execution_count": 44
        }
      ]
    },
    {
      "cell_type": "code",
      "source": [
        "np.array(list(model_1_results.values())) > np.array(list(baseline_results.values()))\n",
        "\n",
        "comparison_result = np.all(np.array(list(model_1_results.values())) > np.array(list(baseline_results.values())))\n",
        "print(\"Is our simple Keras model better than our baseline model?\", comparison_result)\n"
      ],
      "metadata": {
        "colab": {
          "base_uri": "https://localhost:8080/"
        },
        "id": "2sCzv7CO34g7",
        "outputId": "4705f077-4169-43b1-828a-c828753cb787"
      },
      "execution_count": null,
      "outputs": [
        {
          "output_type": "stream",
          "name": "stdout",
          "text": [
            "Is our simple Keras model better than our baseline model? False\n"
          ]
        }
      ]
    },
    {
      "cell_type": "code",
      "source": [
        "# Create a helper function to compare our baseline results to new model results\n",
        "def compare_baseline_to_new_results(baseline_results, new_model_results):\n",
        "  for key, value in baseline_results.items():\n",
        "    print(f\"Baseline {key}: {value:.2f}, New {key}: {new_model_results[key]:.2f}, Difference: {new_model_results[key]-value:.2f}\")\n",
        "compare_baseline_to_new_results(baseline_results=baseline_results,\n",
        "                                new_model_results=model_1_results)"
      ],
      "metadata": {
        "colab": {
          "base_uri": "https://localhost:8080/"
        },
        "id": "9R8OLZpB4fzh",
        "outputId": "ecf613ae-b88d-4a2b-974c-e8ac61af22b5"
      },
      "execution_count": null,
      "outputs": [
        {
          "output_type": "stream",
          "name": "stdout",
          "text": [
            "Baseline accuracy: 79.27, New accuracy: 75.46, Difference: -3.81\n",
            "Baseline precision: 0.81, New precision: 0.78, Difference: -0.03\n",
            "Baseline recall: 0.79, New recall: 0.75, Difference: -0.04\n",
            "Baseline f1: 0.79, New f1: 0.74, Difference: -0.04\n"
          ]
        }
      ]
    },
    {
      "cell_type": "code",
      "source": [
        "model_1.summary()"
      ],
      "metadata": {
        "colab": {
          "base_uri": "https://localhost:8080/"
        },
        "id": "Pu3dt_4c6mYH",
        "outputId": "23da839f-51f6-46cb-f7c9-b19b9f8ab3ff"
      },
      "execution_count": null,
      "outputs": [
        {
          "output_type": "stream",
          "name": "stdout",
          "text": [
            "Model: \"model_1_dense\"\n",
            "_________________________________________________________________\n",
            " Layer (type)                Output Shape              Param #   \n",
            "=================================================================\n",
            " input_1 (InputLayer)        [(None, 1)]               0         \n",
            "                                                                 \n",
            " text_vectorization_1 (Text  (None, 15)                0         \n",
            " Vectorization)                                                  \n",
            "                                                                 \n",
            " embedding_1 (Embedding)     (None, 15, 128)           1280000   \n",
            "                                                                 \n",
            " global_average_pooling1d (  (None, 128)               0         \n",
            " GlobalAveragePooling1D)                                         \n",
            "                                                                 \n",
            " dense (Dense)               (None, 1)                 129       \n",
            "                                                                 \n",
            "=================================================================\n",
            "Total params: 1280129 (4.88 MB)\n",
            "Trainable params: 1280129 (4.88 MB)\n",
            "Non-trainable params: 0 (0.00 Byte)\n",
            "_________________________________________________________________\n"
          ]
        }
      ]
    },
    {
      "cell_type": "markdown",
      "source": [
        "# visualizing learned embeddings"
      ],
      "metadata": {
        "id": "aK_GoQvtuw7t"
      }
    },
    {
      "cell_type": "code",
      "source": [
        "words_in_vocab=text_vectorizer.get_vocabulary()\n",
        "len(words_in_vocab),words_in_vocab[:10]"
      ],
      "metadata": {
        "id": "-b2Fw7qm64lc",
        "colab": {
          "base_uri": "https://localhost:8080/"
        },
        "outputId": "857f6189-99ce-4948-841c-adef6180d760"
      },
      "execution_count": null,
      "outputs": [
        {
          "output_type": "execute_result",
          "data": {
            "text/plain": [
              "(10000, ['', '[UNK]', 'the', 'a', 'in', 'to', 'of', 'and', 'i', 'is'])"
            ]
          },
          "metadata": {},
          "execution_count": 48
        }
      ]
    },
    {
      "cell_type": "code",
      "source": [
        "model_1.summary()"
      ],
      "metadata": {
        "colab": {
          "base_uri": "https://localhost:8080/"
        },
        "id": "TBSexaxBvEzO",
        "outputId": "2efb5444-e02a-4438-c4a1-e85bdc18c88f"
      },
      "execution_count": null,
      "outputs": [
        {
          "output_type": "stream",
          "name": "stdout",
          "text": [
            "Model: \"model_1_dense\"\n",
            "_________________________________________________________________\n",
            " Layer (type)                Output Shape              Param #   \n",
            "=================================================================\n",
            " input_1 (InputLayer)        [(None, 1)]               0         \n",
            "                                                                 \n",
            " text_vectorization_1 (Text  (None, 15)                0         \n",
            " Vectorization)                                                  \n",
            "                                                                 \n",
            " embedding_1 (Embedding)     (None, 15, 128)           1280000   \n",
            "                                                                 \n",
            " global_average_pooling1d (  (None, 128)               0         \n",
            " GlobalAveragePooling1D)                                         \n",
            "                                                                 \n",
            " dense (Dense)               (None, 1)                 129       \n",
            "                                                                 \n",
            "=================================================================\n",
            "Total params: 1280129 (4.88 MB)\n",
            "Trainable params: 1280129 (4.88 MB)\n",
            "Non-trainable params: 0 (0.00 Byte)\n",
            "_________________________________________________________________\n"
          ]
        }
      ]
    },
    {
      "cell_type": "code",
      "source": [
        "embed_weights=model_1.get_layer(\"embedding_1\").get_weights()[0]# first element\n",
        "print(embed_weights)\n",
        "print(embed_weights.shape)"
      ],
      "metadata": {
        "colab": {
          "base_uri": "https://localhost:8080/"
        },
        "id": "bnSy5kiPvYRI",
        "outputId": "6d4ce9dc-83a0-43a9-d409-6b5f66faf546"
      },
      "execution_count": null,
      "outputs": [
        {
          "output_type": "stream",
          "name": "stdout",
          "text": [
            "[[ 4.9153708e-02  3.5243242e-03 -6.9839321e-02 ...  1.6208755e-02\n",
            "   2.3006549e-05 -3.7407759e-03]\n",
            " [ 2.3585256e-02  3.7990853e-02 -2.3172848e-02 ...  8.9854542e-03\n",
            "  -8.5928319e-03  1.1391951e-02]\n",
            " [ 1.9070260e-02 -3.4348856e-04 -4.2145015e-03 ... -5.5147015e-02\n",
            "   5.7183340e-04  7.3189028e-02]\n",
            " ...\n",
            " [ 4.0833626e-02 -2.2963965e-02  3.2275129e-02 ...  2.8251614e-02\n",
            "  -3.2097436e-02  9.7932331e-03]\n",
            " [-8.5347313e-03 -2.6041325e-02 -9.9683367e-03 ... -4.9875524e-02\n",
            "   1.3661028e-02  2.8167900e-02]\n",
            " [-2.1638146e-02 -4.4154994e-02  2.0816760e-02 ...  2.6073929e-02\n",
            "  -1.8079570e-02  9.6424774e-04]]\n",
            "(10000, 128)\n"
          ]
        }
      ]
    },
    {
      "cell_type": "markdown",
      "source": [
        "# using embedding Projector tool"
      ],
      "metadata": {
        "id": "FQCYEfKoxYPH"
      }
    },
    {
      "cell_type": "code",
      "source": [
        "# the embedding vectors (same as embedding weights).\n",
        "# The meta data of the embedding vectors (the words they represent - our vocabulary)."
      ],
      "metadata": {
        "id": "Y0DZ6yUKwYKZ"
      },
      "execution_count": null,
      "outputs": []
    },
    {
      "cell_type": "code",
      "source": [
        "# import io\n",
        "\n",
        "# # Create output writers\n",
        "# out_v = io.open(\"embedding_vectors.tsv\", \"w\", encoding=\"utf-8\")\n",
        "# out_m = io.open(\"embedding_metadata.tsv\", \"w\", encoding=\"utf-8\")\n",
        "\n",
        "# # Write embedding vectors and words to file\n",
        "# for num, word in enumerate(words_in_vocab):\n",
        "#   if num == 0:\n",
        "#      continue # skip padding token\n",
        "#   vec = embed_weights[num]\n",
        "#   out_m.write(word + \"\\n\") # write words to file\n",
        "#   out_v.write(\"\\t\".join([str(x) for x in vec]) + \"\\n\") # write corresponding word vector to file\n",
        "# out_v.close()\n",
        "# out_m.close()\n",
        "\n",
        "# # Download files locally to upload to Embedding Projector\n",
        "# try:\n",
        "#   from google.colab import files\n",
        "# except ImportError:\n",
        "#   pass\n",
        "# else:\n",
        "#   files.download(\"embedding_vectors.tsv\")\n",
        "#   files.download(\"embedding_metadata.tsv\")"
      ],
      "metadata": {
        "id": "UThhW7SMxu2o"
      },
      "execution_count": null,
      "outputs": []
    },
    {
      "cell_type": "code",
      "source": [
        "#http://projector.tensorflow.org/"
      ],
      "metadata": {
        "id": "8b6NSybmyEH-"
      },
      "execution_count": null,
      "outputs": []
    },
    {
      "cell_type": "markdown",
      "source": [
        "# Recurrent Neural Networks(RNNS)\n",
        "* use information of past to help you with the future\n",
        "* one to many->image input and a text act as caption\n",
        "* one to one->such as image classification\n",
        "* many to one->text classification\n",
        "* many to many ->machine translation\n",
        "-> variants like\n",
        "* Long short -term memory cells(LSTMS)\n",
        "https://youtu.be/SEnXr6v2ifU\n",
        "https://colah.github.io/posts/2015-08-Understanding-LSTMs/\n",
        "* Gated recurrent units(GRUs)\n",
        "* Bidirectional RNNS(passes forward and backward along a sequence,left to right)\n",
        "http://karpathy.github.io/2015/05/21/rnn-effectiveness/"
      ],
      "metadata": {
        "id": "TMoWR2d0Xisu"
      }
    },
    {
      "cell_type": "markdown",
      "source": [
        "# *LSTM*\n",
        "![image.png](data:image/png;base64,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)"
      ],
      "metadata": {
        "id": "befxTlIqaELh"
      }
    },
    {
      "cell_type": "code",
      "source": [
        "tf.random.set_seed(42)\n",
        "from tensorflow.keras import layers\n",
        "model_2_embedding=layers.Embedding(input_dim=max_vocab_length,\n",
        "                                   output_dim=128,\n",
        "                                   embeddings_initializer=\"uniform\",\n",
        "                                   input_length=max_length,\n",
        "                                   name=\"embedding_2\")\n",
        "inputs=layers.Input(shape=(1,),dtype=\"string\")\n",
        "x=text_vectorizer(inputs)\n",
        "x=model_2_embedding(x)\n",
        "print(x.shape)\n",
        "x=layers.LSTM(64)(x)\n",
        "outputs=layers.Dense(1,activation=\"sigmoid\")(x)\n",
        "model_2=tf.keras.Model(inputs,outputs,name=\"model_2_LSTM\")"
      ],
      "metadata": {
        "id": "elqroi_71tdh",
        "colab": {
          "base_uri": "https://localhost:8080/"
        },
        "outputId": "acc6bbeb-752d-4d55-8c59-66b0f1046693"
      },
      "execution_count": null,
      "outputs": [
        {
          "output_type": "stream",
          "name": "stdout",
          "text": [
            "(None, 15, 128)\n"
          ]
        }
      ]
    },
    {
      "cell_type": "markdown",
      "source": [
        "* Note: Reading the documentation for the TensorFlow LSTM layer, you'll find a plethora of parameters. Many of these have been tuned to make sure they compute as fast as possible. The main ones you'll be looking to adjust are units (number of hidden units) and return_sequences (set this to True when stacking LSTM or other recurrent layers)."
      ],
      "metadata": {
        "id": "b2A_E0ZdeH70"
      }
    },
    {
      "cell_type": "code",
      "source": [
        "model_2.compile(loss=\"binary_crossentropy\",\n",
        "                optimizer=tf.keras.optimizers.Adam(),\n",
        "                metrics=[\"accuracy\"])"
      ],
      "metadata": {
        "id": "3I8h8Q00eOy8"
      },
      "execution_count": null,
      "outputs": []
    },
    {
      "cell_type": "code",
      "source": [
        "model_2_history=model_2.fit(train_sentences,\n",
        "                            train_labels,\n",
        "                            epochs=5,\n",
        "                            validation_data=(val_sentences,val_labels),\n",
        "                            callbacks=[create_tensorboard_callback(SAVE_DIR,\n",
        "                                                                     \"LSTM\")])\n"
      ],
      "metadata": {
        "colab": {
          "base_uri": "https://localhost:8080/"
        },
        "id": "P-bNSCZWd3Ug",
        "outputId": "0eb3b9f3-bd1c-4b7b-b722-5f0f0b5bf520"
      },
      "execution_count": null,
      "outputs": [
        {
          "output_type": "stream",
          "name": "stdout",
          "text": [
            "Saving TensorBoard log files to: model_logs/LSTM/20240211-035807\n",
            "Epoch 1/5\n",
            "215/215 [==============================] - 14s 40ms/step - loss: 0.5119 - accuracy: 0.7454 - val_loss: 0.4570 - val_accuracy: 0.7769\n",
            "Epoch 2/5\n",
            "215/215 [==============================] - 2s 10ms/step - loss: 0.3174 - accuracy: 0.8734 - val_loss: 0.5219 - val_accuracy: 0.7835\n",
            "Epoch 3/5\n",
            "215/215 [==============================] - 2s 11ms/step - loss: 0.2190 - accuracy: 0.9171 - val_loss: 0.5834 - val_accuracy: 0.7703\n",
            "Epoch 4/5\n",
            "215/215 [==============================] - 2s 9ms/step - loss: 0.1517 - accuracy: 0.9466 - val_loss: 0.6436 - val_accuracy: 0.7690\n",
            "Epoch 5/5\n",
            "215/215 [==============================] - 2s 8ms/step - loss: 0.1083 - accuracy: 0.9588 - val_loss: 0.8261 - val_accuracy: 0.7559\n"
          ]
        }
      ]
    },
    {
      "cell_type": "code",
      "source": [
        "# Make predictions on the validation dataset\n",
        "model_2_pred_probs = model_2.predict(val_sentences)\n",
        "model_2_pred_probs.shape, model_2_pred_probs[:10] # view the first 10\n"
      ],
      "metadata": {
        "colab": {
          "base_uri": "https://localhost:8080/"
        },
        "id": "9oPNBL3DfFqF",
        "outputId": "2c761eed-6101-4cbb-e7de-812855bca930"
      },
      "execution_count": null,
      "outputs": [
        {
          "output_type": "stream",
          "name": "stdout",
          "text": [
            "24/24 [==============================] - 0s 3ms/step\n"
          ]
        },
        {
          "output_type": "execute_result",
          "data": {
            "text/plain": [
              "((762, 1),\n",
              " array([[0.00655369],\n",
              "        [0.7864382 ],\n",
              "        [0.99870086],\n",
              "        [0.04910854],\n",
              "        [0.00517322],\n",
              "        [0.9990177 ],\n",
              "        [0.96683127],\n",
              "        [0.99947685],\n",
              "        [0.99900657],\n",
              "        [0.19709338]], dtype=float32))"
            ]
          },
          "metadata": {},
          "execution_count": 57
        }
      ]
    },
    {
      "cell_type": "code",
      "source": [
        "model_2_preds = tf.squeeze(tf.round(model_2_pred_probs))\n",
        "model_2_preds[:10]"
      ],
      "metadata": {
        "colab": {
          "base_uri": "https://localhost:8080/"
        },
        "id": "zIlMW3clfRXf",
        "outputId": "369c0ef7-4a52-45c3-ce7d-24772a70edb5"
      },
      "execution_count": null,
      "outputs": [
        {
          "output_type": "execute_result",
          "data": {
            "text/plain": [
              "<tf.Tensor: shape=(10,), dtype=float32, numpy=array([0., 1., 1., 0., 0., 1., 1., 1., 1., 0.], dtype=float32)>"
            ]
          },
          "metadata": {},
          "execution_count": 58
        }
      ]
    },
    {
      "cell_type": "code",
      "source": [
        "# Calculate LSTM model results\n",
        "model_2_results = calculate_results(y_true=val_labels,\n",
        "                                    y_pred=model_2_preds)\n",
        "model_2_results"
      ],
      "metadata": {
        "colab": {
          "base_uri": "https://localhost:8080/"
        },
        "id": "phGjk0Dhfb7d",
        "outputId": "f6181f81-3671-4ff0-89c1-1d7decb7fe7c"
      },
      "execution_count": null,
      "outputs": [
        {
          "output_type": "execute_result",
          "data": {
            "text/plain": [
              "{'accuracy': 75.59055118110236,\n",
              " 'precision': 0.7571361526829015,\n",
              " 'recall': 0.7559055118110236,\n",
              " 'f1': 0.7536918613918199}"
            ]
          },
          "metadata": {},
          "execution_count": 59
        }
      ]
    },
    {
      "cell_type": "code",
      "source": [
        "# Compare model 2 to baseline\n",
        "compare_baseline_to_new_results(baseline_results, model_2_results)"
      ],
      "metadata": {
        "colab": {
          "base_uri": "https://localhost:8080/"
        },
        "id": "UTvXtl89flC1",
        "outputId": "5af5d44f-bb8d-4f8f-c677-4d4c1135a59f"
      },
      "execution_count": null,
      "outputs": [
        {
          "output_type": "stream",
          "name": "stdout",
          "text": [
            "Baseline accuracy: 79.27, New accuracy: 75.59, Difference: -3.67\n",
            "Baseline precision: 0.81, New precision: 0.76, Difference: -0.05\n",
            "Baseline recall: 0.79, New recall: 0.76, Difference: -0.04\n",
            "Baseline f1: 0.79, New f1: 0.75, Difference: -0.03\n"
          ]
        }
      ]
    },
    {
      "cell_type": "markdown",
      "source": [
        "# Model 3:GRU"
      ],
      "metadata": {
        "id": "zXd6gWlMf510"
      }
    },
    {
      "cell_type": "markdown",
      "source": [
        "* https://en.wikipedia.org/wiki/Gated_recurrent_unit\n",
        "* https://towardsdatascience.com/understanding-gru-networks-2ef37df6c9be"
      ],
      "metadata": {
        "id": "FU7UgB_ug4X0"
      }
    },
    {
      "cell_type": "code",
      "source": [
        "# Set random seed and create embedding layer (new embedding layer for each model)\n",
        "tf.random.set_seed(42)\n",
        "from tensorflow.keras import layers\n",
        "model_3_embedding = layers.Embedding(input_dim=max_vocab_length,\n",
        "                                     output_dim=128,\n",
        "                                     embeddings_initializer=\"uniform\",\n",
        "                                     input_length=max_length,\n",
        "                                     name=\"embedding_3\")\n",
        "\n",
        "# Build an RNN using the GRU cell\n",
        "inputs = layers.Input(shape=(1,), dtype=\"string\")\n",
        "x = text_vectorizer(inputs)\n",
        "x = model_3_embedding(x)\n",
        "# x = layers.GRU(64, return_sequences=True) # stacking recurrent cells requires return_sequences=True\n",
        "x = layers.GRU(64)(x)\n",
        "# x = layers.Dense(64, activation=\"relu\")(x) # optional dense layer after GRU cell\n",
        "outputs = layers.Dense(1, activation=\"sigmoid\")(x)\n",
        "model_3 = tf.keras.Model(inputs, outputs, name=\"model_3_GRU\")"
      ],
      "metadata": {
        "id": "LNU7hVPHfruY"
      },
      "execution_count": null,
      "outputs": []
    },
    {
      "cell_type": "code",
      "source": [
        "model_3.compile(loss=\"binary_crossentropy\",\n",
        "                optimizer=tf.keras.optimizers.Adam(),\n",
        "                metrics=[\"accuracy\"])"
      ],
      "metadata": {
        "id": "FjYNTvIChIvz"
      },
      "execution_count": null,
      "outputs": []
    },
    {
      "cell_type": "code",
      "source": [
        "# Fit model\n",
        "model_3_history = model_3.fit(train_sentences,\n",
        "                              train_labels,\n",
        "                              epochs=5,\n",
        "                              validation_data=(val_sentences, val_labels),\n",
        "                              callbacks=[create_tensorboard_callback(SAVE_DIR, \"GRU\")])\n"
      ],
      "metadata": {
        "colab": {
          "base_uri": "https://localhost:8080/"
        },
        "id": "s__pp_uGhaQ0",
        "outputId": "fd936df3-024a-41d2-d8f6-800d257092c8"
      },
      "execution_count": null,
      "outputs": [
        {
          "output_type": "stream",
          "name": "stdout",
          "text": [
            "Saving TensorBoard log files to: model_logs/GRU/20240211-035830\n",
            "Epoch 1/5\n",
            "215/215 [==============================] - 10s 35ms/step - loss: 0.5240 - accuracy: 0.7326 - val_loss: 0.4558 - val_accuracy: 0.7756\n",
            "Epoch 2/5\n",
            "215/215 [==============================] - 2s 10ms/step - loss: 0.3187 - accuracy: 0.8717 - val_loss: 0.4954 - val_accuracy: 0.7769\n",
            "Epoch 3/5\n",
            "215/215 [==============================] - 2s 9ms/step - loss: 0.2187 - accuracy: 0.9175 - val_loss: 0.5673 - val_accuracy: 0.7638\n",
            "Epoch 4/5\n",
            "215/215 [==============================] - 2s 8ms/step - loss: 0.1586 - accuracy: 0.9442 - val_loss: 0.6310 - val_accuracy: 0.7743\n",
            "Epoch 5/5\n",
            "215/215 [==============================] - 2s 8ms/step - loss: 0.1211 - accuracy: 0.9577 - val_loss: 0.6156 - val_accuracy: 0.7703\n"
          ]
        }
      ]
    },
    {
      "cell_type": "code",
      "source": [
        "# Make predictions on the validation data\n",
        "model_3_pred_probs = model_3.predict(val_sentences)\n",
        "model_3_pred_probs.shape, model_3_pred_probs[:10]"
      ],
      "metadata": {
        "colab": {
          "base_uri": "https://localhost:8080/"
        },
        "id": "mGqxAESRiGcn",
        "outputId": "46dfd4da-f0d8-4cb6-dd03-63a53a7ae870"
      },
      "execution_count": null,
      "outputs": [
        {
          "output_type": "stream",
          "name": "stdout",
          "text": [
            "24/24 [==============================] - 0s 3ms/step\n"
          ]
        },
        {
          "output_type": "execute_result",
          "data": {
            "text/plain": [
              "((762, 1),\n",
              " array([[0.31282225],\n",
              "        [0.886632  ],\n",
              "        [0.99692994],\n",
              "        [0.12451764],\n",
              "        [0.01402581],\n",
              "        [0.9921445 ],\n",
              "        [0.6423991 ],\n",
              "        [0.9983718 ],\n",
              "        [0.9977939 ],\n",
              "        [0.39415112]], dtype=float32))"
            ]
          },
          "metadata": {},
          "execution_count": 64
        }
      ]
    },
    {
      "cell_type": "code",
      "source": [
        "model_3_preds=tf.squeeze(tf.round(model_3_pred_probs))\n",
        "model_3_preds[:10]"
      ],
      "metadata": {
        "colab": {
          "base_uri": "https://localhost:8080/"
        },
        "id": "UZEpE4dxialN",
        "outputId": "f6595838-5f6c-43c0-88e6-7c10b1068360"
      },
      "execution_count": null,
      "outputs": [
        {
          "output_type": "execute_result",
          "data": {
            "text/plain": [
              "<tf.Tensor: shape=(10,), dtype=float32, numpy=array([0., 1., 1., 0., 0., 1., 1., 1., 1., 0.], dtype=float32)>"
            ]
          },
          "metadata": {},
          "execution_count": 65
        }
      ]
    },
    {
      "cell_type": "code",
      "source": [
        "model_3_results = calculate_results(y_true=val_labels,\n",
        "                                    y_pred=model_3_preds)\n",
        "model_3_results"
      ],
      "metadata": {
        "colab": {
          "base_uri": "https://localhost:8080/"
        },
        "id": "yx6jXyUVh2EI",
        "outputId": "ca4ce749-bfcd-4f02-9204-66bc60b6edc8"
      },
      "execution_count": null,
      "outputs": [
        {
          "output_type": "execute_result",
          "data": {
            "text/plain": [
              "{'accuracy': 77.03412073490814,\n",
              " 'precision': 0.770394799562429,\n",
              " 'recall': 0.7703412073490814,\n",
              " 'f1': 0.7692343337606365}"
            ]
          },
          "metadata": {},
          "execution_count": 66
        }
      ]
    },
    {
      "cell_type": "code",
      "source": [
        "# Compare to baseline\n",
        "compare_baseline_to_new_results(baseline_results, model_3_results)"
      ],
      "metadata": {
        "colab": {
          "base_uri": "https://localhost:8080/"
        },
        "id": "4SDu0vqniCrP",
        "outputId": "9a7cabef-59db-49c7-a72b-8a4146ed3344"
      },
      "execution_count": null,
      "outputs": [
        {
          "output_type": "stream",
          "name": "stdout",
          "text": [
            "Baseline accuracy: 79.27, New accuracy: 77.03, Difference: -2.23\n",
            "Baseline precision: 0.81, New precision: 0.77, Difference: -0.04\n",
            "Baseline recall: 0.79, New recall: 0.77, Difference: -0.02\n",
            "Baseline f1: 0.79, New f1: 0.77, Difference: -0.02\n"
          ]
        }
      ]
    },
    {
      "cell_type": "markdown",
      "source": [
        "# Model 4: bidirectional RNN"
      ],
      "metadata": {
        "id": "P2m4LOWPixKU"
      }
    },
    {
      "cell_type": "markdown",
      "source": [
        "* it goes back over a sentence again so that it gets better understanding"
      ],
      "metadata": {
        "id": "qGhjzGZvi_QW"
      }
    },
    {
      "cell_type": "code",
      "source": [
        "tf.random.set_seed(42)\n",
        "from tensorflow.keras import layers\n",
        "model_4_embedding=layers.Embedding(input_dim=max_vocab_length,\n",
        "                                   output_dim=128,\n",
        "                                   embeddings_initializer=\"uniform\",\n",
        "                                   input_length=max_length,\n",
        "                                   name=\"embedding_4\")\n",
        "inputs=layers.Input(shape=(1,),dtype=\"string\")\n",
        "x=text_vectorizer(inputs)\n",
        "x=model_4_embedding(x)\n",
        "x=layers.Bidirectional(layers.LSTM(64))(x)\n",
        "outputs=layers.Dense(1,activation=\"sigmoid\")(x)\n",
        "model_4=tf.keras.Model(inputs,outputs,name=\"model_4_Bidirectional\")"
      ],
      "metadata": {
        "id": "B_zDgFKSiuqM"
      },
      "execution_count": null,
      "outputs": []
    },
    {
      "cell_type": "code",
      "source": [
        "# Compile\n",
        "model_4.compile(loss=\"binary_crossentropy\",\n",
        "                optimizer=tf.keras.optimizers.Adam(),\n",
        "                metrics=[\"accuracy\"])"
      ],
      "metadata": {
        "id": "pl3DihCpkqin"
      },
      "execution_count": null,
      "outputs": []
    },
    {
      "cell_type": "code",
      "source": [
        "# Fit the model (takes longer because of the bidirectional layers)\n",
        "model_4_history = model_4.fit(train_sentences,\n",
        "                              train_labels,\n",
        "                              epochs=5,\n",
        "                              validation_data=(val_sentences, val_labels),\n",
        "                              callbacks=[create_tensorboard_callback(SAVE_DIR, \"bidirectional_RNN\")])\n"
      ],
      "metadata": {
        "colab": {
          "base_uri": "https://localhost:8080/"
        },
        "id": "tZxtHfb4ldff",
        "outputId": "d08d2924-4621-41ec-b5df-d1c77a3fe18d"
      },
      "execution_count": null,
      "outputs": [
        {
          "output_type": "stream",
          "name": "stdout",
          "text": [
            "Saving TensorBoard log files to: model_logs/bidirectional_RNN/20240211-035853\n",
            "Epoch 1/5\n",
            "215/215 [==============================] - 12s 39ms/step - loss: 0.5097 - accuracy: 0.7454 - val_loss: 0.4551 - val_accuracy: 0.7795\n",
            "Epoch 2/5\n",
            "215/215 [==============================] - 2s 11ms/step - loss: 0.3124 - accuracy: 0.8729 - val_loss: 0.5158 - val_accuracy: 0.7769\n",
            "Epoch 3/5\n",
            "215/215 [==============================] - 2s 10ms/step - loss: 0.2098 - accuracy: 0.9200 - val_loss: 0.5641 - val_accuracy: 0.7677\n",
            "Epoch 4/5\n",
            "215/215 [==============================] - 2s 10ms/step - loss: 0.1443 - accuracy: 0.9531 - val_loss: 0.6580 - val_accuracy: 0.7743\n",
            "Epoch 5/5\n",
            "215/215 [==============================] - 2s 11ms/step - loss: 0.1042 - accuracy: 0.9642 - val_loss: 0.6854 - val_accuracy: 0.7572\n"
          ]
        }
      ]
    },
    {
      "cell_type": "code",
      "source": [
        "# Make predictions with bidirectional RNN on the validation data\n",
        "model_4_pred_probs = model_4.predict(val_sentences)\n",
        "model_4_pred_probs[:10]"
      ],
      "metadata": {
        "colab": {
          "base_uri": "https://localhost:8080/"
        },
        "id": "lgTA0TGYlhtH",
        "outputId": "b0245315-25f4-48ac-e0a1-d3c82eb35ef8"
      },
      "execution_count": null,
      "outputs": [
        {
          "output_type": "stream",
          "name": "stdout",
          "text": [
            "24/24 [==============================] - 1s 3ms/step\n"
          ]
        },
        {
          "output_type": "execute_result",
          "data": {
            "text/plain": [
              "array([[0.07351406],\n",
              "       [0.9244271 ],\n",
              "       [0.9997354 ],\n",
              "       [0.17681308],\n",
              "       [0.00911794],\n",
              "       [0.9965823 ],\n",
              "       [0.80416584],\n",
              "       [0.99965906],\n",
              "       [0.9997714 ],\n",
              "       [0.29000717]], dtype=float32)"
            ]
          },
          "metadata": {},
          "execution_count": 71
        }
      ]
    },
    {
      "cell_type": "code",
      "source": [
        "# Convert prediction probabilities to labels\n",
        "model_4_preds = tf.squeeze(tf.round(model_4_pred_probs))\n",
        "model_4_preds[:10]"
      ],
      "metadata": {
        "colab": {
          "base_uri": "https://localhost:8080/"
        },
        "id": "-NYaJxCZlmeF",
        "outputId": "2fcedcb6-e53e-4f59-b19a-62cb63ed8540"
      },
      "execution_count": null,
      "outputs": [
        {
          "output_type": "execute_result",
          "data": {
            "text/plain": [
              "<tf.Tensor: shape=(10,), dtype=float32, numpy=array([0., 1., 1., 0., 0., 1., 1., 1., 1., 0.], dtype=float32)>"
            ]
          },
          "metadata": {},
          "execution_count": 72
        }
      ]
    },
    {
      "cell_type": "code",
      "source": [
        "# Calculate bidirectional RNN model results\n",
        "model_4_results = calculate_results(val_labels, model_4_preds)\n",
        "model_4_results"
      ],
      "metadata": {
        "colab": {
          "base_uri": "https://localhost:8080/"
        },
        "id": "M6JS8DuSlsnM",
        "outputId": "e58e8d10-4c5f-47b1-e227-6df2db2f4d3a"
      },
      "execution_count": null,
      "outputs": [
        {
          "output_type": "execute_result",
          "data": {
            "text/plain": [
              "{'accuracy': 75.7217847769029,\n",
              " 'precision': 0.7568010990911528,\n",
              " 'recall': 0.7572178477690289,\n",
              " 'f1': 0.7565340664924178}"
            ]
          },
          "metadata": {},
          "execution_count": 73
        }
      ]
    },
    {
      "cell_type": "code",
      "source": [
        "# Check to see how the bidirectional model performs against the baseline\n",
        "compare_baseline_to_new_results(baseline_results, model_4_results)"
      ],
      "metadata": {
        "colab": {
          "base_uri": "https://localhost:8080/"
        },
        "id": "DN0OG8zRogPu",
        "outputId": "5e7e3d69-4a5a-4ebb-ca31-2e57594201d0"
      },
      "execution_count": null,
      "outputs": [
        {
          "output_type": "stream",
          "name": "stdout",
          "text": [
            "Baseline accuracy: 79.27, New accuracy: 75.72, Difference: -3.54\n",
            "Baseline precision: 0.81, New precision: 0.76, Difference: -0.05\n",
            "Baseline recall: 0.79, New recall: 0.76, Difference: -0.04\n",
            "Baseline f1: 0.79, New f1: 0.76, Difference: -0.03\n"
          ]
        }
      ]
    },
    {
      "cell_type": "markdown",
      "source": [
        "# one dimensional CNN"
      ],
      "metadata": {
        "id": "s_5RlOs5o7pS"
      }
    },
    {
      "cell_type": "markdown",
      "source": [
        "* 1-dimensional convolving filters are used as ngram detectors, each filter specializing in a closely-related family of ngrams (an ngram is a collection of n-words, for example, an ngram of 5 might result in \"hello, my name is Daniel\").\n",
        "* Max-pooling over time extracts the relevant ngrams for making a decision.\n",
        "* The rest of the network classifies the text based on this information."
      ],
      "metadata": {
        "id": "0LYQgsgVpOgI"
      }
    },
    {
      "cell_type": "markdown",
      "source": [
        "# Model 5 :Conv1D/Temporal convolution"
      ],
      "metadata": {
        "id": "u9Fr5wXbpXTX"
      }
    },
    {
      "cell_type": "code",
      "source": [
        "# Test out the embedding, 1D convolutional and max pooling\n",
        "embedding_test = embedding(text_vectorizer([\"this is a test sentence\"])) # turn target sentence into embedding\n",
        "conv_1d = layers.Conv1D(filters=32, kernel_size=5, activation=\"relu\") # convolve over target sequence 5 words at a time\n",
        "conv_1d_output = conv_1d(embedding_test) # pass embedding through 1D convolutional layer\n",
        "max_pool = layers.GlobalMaxPool1D()\n",
        "max_pool_output = max_pool(conv_1d_output) # get the most important features\n",
        "embedding_test.shape, conv_1d_output.shape, max_pool_output.shape"
      ],
      "metadata": {
        "id": "eG-Bcvnhoosu",
        "colab": {
          "base_uri": "https://localhost:8080/"
        },
        "outputId": "ec293987-26df-4f84-fd63-fa05268940ba"
      },
      "execution_count": null,
      "outputs": [
        {
          "output_type": "execute_result",
          "data": {
            "text/plain": [
              "(TensorShape([1, 15, 128]), TensorShape([1, 11, 32]), TensorShape([1, 32]))"
            ]
          },
          "metadata": {},
          "execution_count": 75
        }
      ]
    },
    {
      "cell_type": "markdown",
      "source": [
        "* The 1-dimensional convolutional layer has an output which has been compressed inline with its parameters. And the same goes for the max pooling layer output.\n"
      ],
      "metadata": {
        "id": "Zj1uo2jtK2Vy"
      }
    },
    {
      "cell_type": "code",
      "source": [
        "# See the outputs of each layer\n",
        "embedding_test[:1], conv_1d_output[:1], max_pool_output[:1]"
      ],
      "metadata": {
        "colab": {
          "base_uri": "https://localhost:8080/"
        },
        "id": "Rv8wkbGWKlLi",
        "outputId": "97d4af3c-1859-4e4f-8fdd-801e1cbd38ad"
      },
      "execution_count": null,
      "outputs": [
        {
          "output_type": "execute_result",
          "data": {
            "text/plain": [
              "(<tf.Tensor: shape=(1, 15, 128), dtype=float32, numpy=\n",
              " array([[[ 9.4781164e-03, -2.7109141e-02,  4.9372111e-03, ...,\n",
              "           9.7220857e-03, -5.2630261e-02, -3.1019438e-03],\n",
              "         [ 1.0342443e-01, -9.4551153e-02, -2.4059845e-02, ...,\n",
              "          -4.5615666e-02, -9.0670288e-02,  6.2689751e-02],\n",
              "         [-3.5096455e-02,  2.7177539e-02, -4.4276416e-02, ...,\n",
              "          -4.0650081e-02, -2.7612617e-02,  9.0916166e-03],\n",
              "         ...,\n",
              "         [ 4.9153708e-02,  3.5243242e-03, -6.9839321e-02, ...,\n",
              "           1.6208755e-02,  2.3006549e-05, -3.7407759e-03],\n",
              "         [ 4.9153708e-02,  3.5243242e-03, -6.9839321e-02, ...,\n",
              "           1.6208755e-02,  2.3006549e-05, -3.7407759e-03],\n",
              "         [ 4.9153708e-02,  3.5243242e-03, -6.9839321e-02, ...,\n",
              "           1.6208755e-02,  2.3006549e-05, -3.7407759e-03]]], dtype=float32)>,\n",
              " <tf.Tensor: shape=(1, 11, 32), dtype=float32, numpy=\n",
              " array([[[0.        , 0.00235303, 0.        , 0.10138766, 0.00895429,\n",
              "          0.03047489, 0.05282754, 0.        , 0.        , 0.        ,\n",
              "          0.        , 0.        , 0.        , 0.00871212, 0.0930862 ,\n",
              "          0.        , 0.02302308, 0.05412214, 0.02086128, 0.11107232,\n",
              "          0.03315873, 0.        , 0.08032347, 0.0193791 , 0.        ,\n",
              "          0.        , 0.00990058, 0.07566731, 0.05638918, 0.04337255,\n",
              "          0.08509563, 0.03062626],\n",
              "         [0.        , 0.03049125, 0.01348993, 0.05008276, 0.        ,\n",
              "          0.02797202, 0.0370509 , 0.03180096, 0.        , 0.        ,\n",
              "          0.02797422, 0.        , 0.06699061, 0.04704132, 0.0162857 ,\n",
              "          0.01145881, 0.00248763, 0.05248642, 0.        , 0.09718045,\n",
              "          0.02879026, 0.05713152, 0.07434762, 0.03085808, 0.02897417,\n",
              "          0.00985203, 0.02570822, 0.        , 0.01326157, 0.        ,\n",
              "          0.        , 0.        ],\n",
              "         [0.        , 0.05794443, 0.        , 0.        , 0.        ,\n",
              "          0.05137288, 0.0672708 , 0.07099852, 0.01945471, 0.        ,\n",
              "          0.09109764, 0.        , 0.03746431, 0.        , 0.00775257,\n",
              "          0.04151681, 0.00071582, 0.00621148, 0.02572999, 0.07733056,\n",
              "          0.07435177, 0.03570716, 0.04673244, 0.        , 0.00595389,\n",
              "          0.0413206 , 0.        , 0.00650253, 0.08933431, 0.        ,\n",
              "          0.02224651, 0.021832  ],\n",
              "         [0.        , 0.0950453 , 0.06148317, 0.07509567, 0.        ,\n",
              "          0.        , 0.07999054, 0.06548537, 0.01402918, 0.        ,\n",
              "          0.00042799, 0.        , 0.0428149 , 0.04370068, 0.00123626,\n",
              "          0.        , 0.00682539, 0.0576626 , 0.02430108, 0.05764329,\n",
              "          0.015639  , 0.02252283, 0.08499856, 0.        , 0.00629469,\n",
              "          0.04427709, 0.        , 0.        , 0.07287009, 0.        ,\n",
              "          0.02986638, 0.        ],\n",
              "         [0.        , 0.03544096, 0.08633789, 0.02461354, 0.        ,\n",
              "          0.03127588, 0.07623105, 0.03646011, 0.04189564, 0.        ,\n",
              "          0.00166719, 0.        , 0.019156  , 0.        , 0.        ,\n",
              "          0.        , 0.        , 0.        , 0.04175015, 0.04763661,\n",
              "          0.02991236, 0.01762651, 0.04702201, 0.        , 0.06670369,\n",
              "          0.07333669, 0.02139338, 0.03603995, 0.11207509, 0.        ,\n",
              "          0.04070632, 0.        ],\n",
              "         [0.        , 0.03938675, 0.04081939, 0.04751863, 0.01250422,\n",
              "          0.01190105, 0.07530136, 0.05342139, 0.        , 0.00823163,\n",
              "          0.08007172, 0.        , 0.04152706, 0.        , 0.        ,\n",
              "          0.        , 0.        , 0.01450074, 0.03157959, 0.06194869,\n",
              "          0.04206088, 0.03213651, 0.07360979, 0.        , 0.0642557 ,\n",
              "          0.03310692, 0.01066058, 0.02393469, 0.08359675, 0.01954217,\n",
              "          0.02163708, 0.        ],\n",
              "         [0.        , 0.03938675, 0.04081939, 0.04751864, 0.01250423,\n",
              "          0.01190104, 0.07530137, 0.05342139, 0.        , 0.00823163,\n",
              "          0.08007172, 0.        , 0.04152706, 0.        , 0.        ,\n",
              "          0.        , 0.        , 0.01450074, 0.03157959, 0.06194868,\n",
              "          0.04206087, 0.03213652, 0.07360978, 0.        , 0.0642557 ,\n",
              "          0.03310692, 0.01066058, 0.02393469, 0.08359674, 0.01954217,\n",
              "          0.02163709, 0.        ],\n",
              "         [0.        , 0.03938675, 0.0408194 , 0.04751863, 0.01250423,\n",
              "          0.01190105, 0.07530138, 0.05342138, 0.        , 0.00823163,\n",
              "          0.08007172, 0.        , 0.04152706, 0.        , 0.        ,\n",
              "          0.        , 0.        , 0.01450075, 0.0315796 , 0.06194868,\n",
              "          0.04206087, 0.03213651, 0.07360978, 0.        , 0.06425569,\n",
              "          0.03310692, 0.01066058, 0.0239347 , 0.08359674, 0.01954216,\n",
              "          0.02163709, 0.        ],\n",
              "         [0.        , 0.03938675, 0.04081938, 0.04751864, 0.01250423,\n",
              "          0.01190105, 0.07530137, 0.05342139, 0.        , 0.00823164,\n",
              "          0.08007172, 0.        , 0.04152705, 0.        , 0.        ,\n",
              "          0.        , 0.        , 0.01450075, 0.03157959, 0.06194868,\n",
              "          0.04206088, 0.03213651, 0.07360978, 0.        , 0.0642557 ,\n",
              "          0.03310692, 0.01066059, 0.0239347 , 0.08359675, 0.01954218,\n",
              "          0.02163708, 0.        ],\n",
              "         [0.        , 0.03938674, 0.04081938, 0.04751864, 0.01250422,\n",
              "          0.01190105, 0.07530136, 0.05342139, 0.        , 0.00823164,\n",
              "          0.08007172, 0.        , 0.04152706, 0.        , 0.        ,\n",
              "          0.        , 0.        , 0.01450074, 0.0315796 , 0.06194869,\n",
              "          0.04206087, 0.03213651, 0.07360978, 0.        , 0.0642557 ,\n",
              "          0.03310692, 0.01066059, 0.0239347 , 0.08359674, 0.01954217,\n",
              "          0.02163708, 0.        ],\n",
              "         [0.        , 0.03938674, 0.04081938, 0.04751863, 0.01250423,\n",
              "          0.01190104, 0.07530138, 0.05342139, 0.        , 0.00823165,\n",
              "          0.08007172, 0.        , 0.04152706, 0.        , 0.        ,\n",
              "          0.        , 0.        , 0.01450074, 0.03157959, 0.06194868,\n",
              "          0.04206086, 0.03213651, 0.07360978, 0.        , 0.0642557 ,\n",
              "          0.03310691, 0.01066058, 0.02393469, 0.08359674, 0.01954217,\n",
              "          0.02163708, 0.        ]]], dtype=float32)>,\n",
              " <tf.Tensor: shape=(1, 32), dtype=float32, numpy=\n",
              " array([[0.        , 0.0950453 , 0.08633789, 0.10138766, 0.01250423,\n",
              "         0.05137288, 0.07999054, 0.07099852, 0.04189564, 0.00823165,\n",
              "         0.09109764, 0.        , 0.06699061, 0.04704132, 0.0930862 ,\n",
              "         0.04151681, 0.02302308, 0.0576626 , 0.04175015, 0.11107232,\n",
              "         0.07435177, 0.05713152, 0.08499856, 0.03085808, 0.06670369,\n",
              "         0.07333669, 0.02570822, 0.07566731, 0.11207509, 0.04337255,\n",
              "         0.08509563, 0.03062626]], dtype=float32)>)"
            ]
          },
          "metadata": {},
          "execution_count": 76
        }
      ]
    },
    {
      "cell_type": "code",
      "source": [
        "tf.random.set_seed(42)\n",
        "from tensorflow.keras import layers\n",
        "model_5_embedding = layers.Embedding(input_dim=max_vocab_length,\n",
        "                                     output_dim=128,\n",
        "                                     embeddings_initializer=\"uniform\",\n",
        "                                     input_length=max_length,\n",
        "                                     name=\"embedding_5\")\n",
        "\n",
        "# Create 1-dimensional convolutional layer to model sequences\n",
        "from tensorflow.keras import layers\n",
        "inputs = layers.Input(shape=(1,), dtype=\"string\")\n",
        "x = text_vectorizer(inputs)\n",
        "x = model_5_embedding(x)\n",
        "x = layers.Conv1D(filters=32, kernel_size=5, activation=\"relu\")(x)\n",
        "x = layers.GlobalMaxPool1D()(x)\n",
        "# x = layers.Dense(64, activation=\"relu\")(x) # optional dense layer\n",
        "outputs = layers.Dense(1, activation=\"sigmoid\")(x)\n",
        "model_5 = tf.keras.Model(inputs, outputs, name=\"model_5_Conv1D\")\n",
        "\n",
        "# Compile Conv1D model\n",
        "model_5.compile(loss=\"binary_crossentropy\",\n",
        "                optimizer=tf.keras.optimizers.Adam(),\n",
        "                metrics=[\"accuracy\"])\n",
        "\n",
        "# Get a summary of our 1D convolution model\n",
        "model_5.summary()"
      ],
      "metadata": {
        "colab": {
          "base_uri": "https://localhost:8080/"
        },
        "id": "SrizyBcSMMif",
        "outputId": "3a180f96-5178-4e35-bf46-e88e99af11d7"
      },
      "execution_count": null,
      "outputs": [
        {
          "output_type": "stream",
          "name": "stdout",
          "text": [
            "Model: \"model_5_Conv1D\"\n",
            "_________________________________________________________________\n",
            " Layer (type)                Output Shape              Param #   \n",
            "=================================================================\n",
            " input_5 (InputLayer)        [(None, 1)]               0         \n",
            "                                                                 \n",
            " text_vectorization_1 (Text  (None, 15)                0         \n",
            " Vectorization)                                                  \n",
            "                                                                 \n",
            " embedding_5 (Embedding)     (None, 15, 128)           1280000   \n",
            "                                                                 \n",
            " conv1d_1 (Conv1D)           (None, 11, 32)            20512     \n",
            "                                                                 \n",
            " global_max_pooling1d_1 (Gl  (None, 32)                0         \n",
            " obalMaxPooling1D)                                               \n",
            "                                                                 \n",
            " dense_4 (Dense)             (None, 1)                 33        \n",
            "                                                                 \n",
            "=================================================================\n",
            "Total params: 1300545 (4.96 MB)\n",
            "Trainable params: 1300545 (4.96 MB)\n",
            "Non-trainable params: 0 (0.00 Byte)\n",
            "_________________________________________________________________\n"
          ]
        }
      ]
    },
    {
      "cell_type": "code",
      "source": [
        "model_5_history=model_5.fit(train_sentences,\n",
        "                            train_labels,\n",
        "                            epochs=5,\n",
        "                            validation_data=(val_sentences,val_labels),\n",
        "                            callbacks=[create_tensorboard_callback(SAVE_DIR,\"Conv1D\")])"
      ],
      "metadata": {
        "colab": {
          "base_uri": "https://localhost:8080/"
        },
        "id": "s6RYN0LyPRtl",
        "outputId": "c7502a8d-6fe7-4908-e0a5-aefb28e7ce26"
      },
      "execution_count": null,
      "outputs": [
        {
          "output_type": "stream",
          "name": "stdout",
          "text": [
            "Saving TensorBoard log files to: model_logs/Conv1D/20240211-035916\n",
            "Epoch 1/5\n",
            "215/215 [==============================] - 9s 33ms/step - loss: 0.5664 - accuracy: 0.7139 - val_loss: 0.4704 - val_accuracy: 0.7756\n",
            "Epoch 2/5\n",
            "215/215 [==============================] - 2s 8ms/step - loss: 0.3404 - accuracy: 0.8609 - val_loss: 0.4762 - val_accuracy: 0.7900\n",
            "Epoch 3/5\n",
            "215/215 [==============================] - 2s 8ms/step - loss: 0.2108 - accuracy: 0.9206 - val_loss: 0.5433 - val_accuracy: 0.7677\n",
            "Epoch 4/5\n",
            "215/215 [==============================] - 1s 7ms/step - loss: 0.1347 - accuracy: 0.9543 - val_loss: 0.6193 - val_accuracy: 0.7703\n",
            "Epoch 5/5\n",
            "215/215 [==============================] - 2s 8ms/step - loss: 0.0941 - accuracy: 0.9675 - val_loss: 0.6802 - val_accuracy: 0.7822\n"
          ]
        }
      ]
    },
    {
      "cell_type": "code",
      "source": [
        "model_5_preds_prob=model_5.predict(val_sentences)\n",
        "model_5_preds_prob[:10]"
      ],
      "metadata": {
        "colab": {
          "base_uri": "https://localhost:8080/"
        },
        "id": "jr-BFzReRNt7",
        "outputId": "5e0bbe6c-d37e-4141-a4ac-04f82a997ba5"
      },
      "execution_count": null,
      "outputs": [
        {
          "output_type": "stream",
          "name": "stdout",
          "text": [
            "24/24 [==============================] - 0s 2ms/step\n"
          ]
        },
        {
          "output_type": "execute_result",
          "data": {
            "text/plain": [
              "array([[0.6138494 ],\n",
              "       [0.682669  ],\n",
              "       [0.9997291 ],\n",
              "       [0.05855276],\n",
              "       [0.00453051],\n",
              "       [0.9887242 ],\n",
              "       [0.83116925],\n",
              "       [0.9968264 ],\n",
              "       [0.9993857 ],\n",
              "       [0.08903889]], dtype=float32)"
            ]
          },
          "metadata": {},
          "execution_count": 79
        }
      ]
    },
    {
      "cell_type": "code",
      "source": [
        "model_5_preds=tf.squeeze(tf.round(model_5_preds_prob))\n",
        "model_5_preds[:10]"
      ],
      "metadata": {
        "colab": {
          "base_uri": "https://localhost:8080/"
        },
        "id": "2H5neTMNRbnB",
        "outputId": "652e224d-130e-4d6d-f513-77b52d726b75"
      },
      "execution_count": null,
      "outputs": [
        {
          "output_type": "execute_result",
          "data": {
            "text/plain": [
              "<tf.Tensor: shape=(10,), dtype=float32, numpy=array([1., 1., 1., 0., 0., 1., 1., 1., 1., 0.], dtype=float32)>"
            ]
          },
          "metadata": {},
          "execution_count": 80
        }
      ]
    },
    {
      "cell_type": "code",
      "source": [
        "model_5_results=calculate_results(y_true=val_labels,\n",
        "                                  y_pred=model_5_preds)\n",
        "model_5_results"
      ],
      "metadata": {
        "colab": {
          "base_uri": "https://localhost:8080/"
        },
        "id": "7ZoJcgWxRuw5",
        "outputId": "c2d27980-67db-460a-c6f6-39032860be41"
      },
      "execution_count": null,
      "outputs": [
        {
          "output_type": "execute_result",
          "data": {
            "text/plain": [
              "{'accuracy': 78.21522309711287,\n",
              " 'precision': 0.7849731976577976,\n",
              " 'recall': 0.7821522309711286,\n",
              " 'f1': 0.7797935460636591}"
            ]
          },
          "metadata": {},
          "execution_count": 81
        }
      ]
    },
    {
      "cell_type": "code",
      "source": [
        "compare_baseline_to_new_results(baseline_results,model_5_results)"
      ],
      "metadata": {
        "colab": {
          "base_uri": "https://localhost:8080/"
        },
        "id": "or7baglISG-i",
        "outputId": "4f13f926-39ea-4a67-9d21-20e3a93c9e6f"
      },
      "execution_count": null,
      "outputs": [
        {
          "output_type": "stream",
          "name": "stdout",
          "text": [
            "Baseline accuracy: 79.27, New accuracy: 78.22, Difference: -1.05\n",
            "Baseline precision: 0.81, New precision: 0.78, Difference: -0.03\n",
            "Baseline recall: 0.79, New recall: 0.78, Difference: -0.01\n",
            "Baseline f1: 0.79, New f1: 0.78, Difference: -0.01\n"
          ]
        }
      ]
    },
    {
      "cell_type": "markdown",
      "source": [
        "# Pretrained Embeddings"
      ],
      "metadata": {
        "id": "whc2puD_SZoQ"
      }
    },
    {
      "cell_type": "markdown",
      "source": [
        "# model 6:Tensorflow hub pretrained sentence encoder"
      ],
      "metadata": {
        "id": "tRL1GrSlSrB6"
      }
    },
    {
      "cell_type": "markdown",
      "source": [
        "* The main difference between the embedding layer we created and the Universal Sentence Encoder is that rather than create a word-level embedding, the Universal Sentence Encoder, as you might've guessed, creates a whole sentence-level embedding.\n",
        "\n",
        "* Our embedding layer also outputs an a 128 dimensional vector for each word, where as, the Universal Sentence Encoder outputs a 512 dimensional vector for each sentence."
      ],
      "metadata": {
        "id": "NZFH3I41S_uW"
      }
    },
    {
      "cell_type": "code",
      "source": [
        "import tensorflow_hub as hub\n",
        "embed=hub.load(\"https://tfhub.dev/google/universal-sentence-encoder/4\")\n",
        "embed_samples=embed([sample_sentence,\n",
        "                       \"When you call the universal sentence encoder on a sentence, it turns it into numbers.\"])\n",
        "print(embed_samples[0][:50])"
      ],
      "metadata": {
        "colab": {
          "base_uri": "https://localhost:8080/"
        },
        "id": "-neD1Y7aST8H",
        "outputId": "d95e6505-65e6-4305-96ae-b74b97680566"
      },
      "execution_count": null,
      "outputs": [
        {
          "output_type": "stream",
          "name": "stdout",
          "text": [
            "tf.Tensor(\n",
            "[-0.01157028  0.0248591   0.02878048 -0.012715    0.03971538  0.0882776\n",
            "  0.02680984  0.05589836 -0.0106873  -0.00597291  0.00639323 -0.01819518\n",
            "  0.00030813  0.09105888  0.05874644 -0.03180628  0.01512474 -0.05162929\n",
            "  0.00991367 -0.06865347 -0.04209306  0.02678981  0.03011006  0.00321069\n",
            " -0.00337973 -0.04787357  0.0226672  -0.00985925 -0.04063613 -0.01292092\n",
            " -0.04666384  0.05630299 -0.03949255  0.00517686  0.02495829 -0.0701444\n",
            "  0.02871508  0.04947684 -0.00633979 -0.08960192  0.02807118 -0.00808364\n",
            " -0.01360602  0.0599865  -0.10361787 -0.05195374  0.00232954 -0.02332531\n",
            " -0.03758105  0.03327728], shape=(50,), dtype=float32)\n"
          ]
        }
      ]
    },
    {
      "cell_type": "code",
      "source": [
        "embed_samples[0].shape"
      ],
      "metadata": {
        "colab": {
          "base_uri": "https://localhost:8080/"
        },
        "id": "uvCvS7EgUQsn",
        "outputId": "c6c93335-2b3a-476d-9cfb-f746ede4c734"
      },
      "execution_count": null,
      "outputs": [
        {
          "output_type": "execute_result",
          "data": {
            "text/plain": [
              "TensorShape([512])"
            ]
          },
          "metadata": {},
          "execution_count": 84
        }
      ]
    },
    {
      "cell_type": "markdown",
      "source": [
        "We can convert the TensorFlow Hub USE module into a Keras layer using the hub.KerasLayer class.\n",
        "\n",
        "🔑 Note: Due to the size of the USE TensorFlow Hub module, it may take a little while to download. Once it's downloaded though, it'll be cached and ready to use. And as with many TensorFlow Hub modules, there is a \"lite\" version of the USE which takes up less space but sacrifices some performance and requires more preprocessing steps. However, depending on your available compute power, the lite version may be better for your application use case."
      ],
      "metadata": {
        "id": "vMeKA3GoUqpf"
      }
    },
    {
      "cell_type": "code",
      "source": [
        "# import modules as a layers\n",
        "sentence_encoder_layer=hub.KerasLayer(\"https://tfhub.dev/google/universal-sentence-encoder/4\",\n",
        "                                      input_shape=[],\n",
        "                                      dtype=tf.string,\n",
        "                                      trainable=False,\n",
        "                                      name=\"USE\")"
      ],
      "metadata": {
        "id": "FvBBru-oUXHH"
      },
      "execution_count": null,
      "outputs": []
    },
    {
      "cell_type": "code",
      "source": [
        "model_6=tf.keras.Sequential([\n",
        "    sentence_encoder_layer,\n",
        "    layers.Dense(64,activation=\"relu\"),\n",
        "    layers.Dense(1,activation=\"sigmoid\")\n",
        "],name=\"model_6_USE\")\n",
        "model_6.compile(loss=\"binary_crossentropy\",\n",
        "                optimizer=tf.keras.optimizers.Adam(),\n",
        "                metrics=[\"accuracy\"])\n",
        "model_6.summary()"
      ],
      "metadata": {
        "colab": {
          "base_uri": "https://localhost:8080/"
        },
        "id": "wkzKXePoVYOl",
        "outputId": "c6188409-6b43-4158-c97b-b7a00c839bd8"
      },
      "execution_count": null,
      "outputs": [
        {
          "output_type": "stream",
          "name": "stdout",
          "text": [
            "Model: \"model_6_USE\"\n",
            "_________________________________________________________________\n",
            " Layer (type)                Output Shape              Param #   \n",
            "=================================================================\n",
            " USE (KerasLayer)            (None, 512)               256797824 \n",
            "                                                                 \n",
            " dense_5 (Dense)             (None, 64)                32832     \n",
            "                                                                 \n",
            " dense_6 (Dense)             (None, 1)                 65        \n",
            "                                                                 \n",
            "=================================================================\n",
            "Total params: 256830721 (979.73 MB)\n",
            "Trainable params: 32897 (128.50 KB)\n",
            "Non-trainable params: 256797824 (979.61 MB)\n",
            "_________________________________________________________________\n"
          ]
        }
      ]
    },
    {
      "cell_type": "code",
      "source": [
        "model_6_history=model_6.fit(train_sentences,\n",
        "                            train_labels,\n",
        "                            epochs=5,\n",
        "                            validation_data=(val_sentences,val_labels),\n",
        "                            callbacks=[create_tensorboard_callback(SAVE_DIR,\"tf_hub_sentence_encoder\")])"
      ],
      "metadata": {
        "colab": {
          "base_uri": "https://localhost:8080/"
        },
        "id": "VPDUVm2YWUdB",
        "outputId": "ff568131-9753-48f2-b5cc-8d4f2687e7db"
      },
      "execution_count": null,
      "outputs": [
        {
          "output_type": "stream",
          "name": "stdout",
          "text": [
            "Saving TensorBoard log files to: model_logs/tf_hub_sentence_encoder/20240211-040007\n",
            "Epoch 1/5\n",
            "215/215 [==============================] - 8s 23ms/step - loss: 0.5031 - accuracy: 0.7831 - val_loss: 0.4495 - val_accuracy: 0.8005\n",
            "Epoch 2/5\n",
            "215/215 [==============================] - 5s 23ms/step - loss: 0.4150 - accuracy: 0.8142 - val_loss: 0.4381 - val_accuracy: 0.8110\n",
            "Epoch 3/5\n",
            "215/215 [==============================] - 6s 28ms/step - loss: 0.4007 - accuracy: 0.8215 - val_loss: 0.4339 - val_accuracy: 0.8110\n",
            "Epoch 4/5\n",
            "215/215 [==============================] - 5s 23ms/step - loss: 0.3934 - accuracy: 0.8259 - val_loss: 0.4291 - val_accuracy: 0.8150\n",
            "Epoch 5/5\n",
            "215/215 [==============================] - 5s 23ms/step - loss: 0.3870 - accuracy: 0.8288 - val_loss: 0.4302 - val_accuracy: 0.8123\n"
          ]
        }
      ]
    },
    {
      "cell_type": "code",
      "source": [
        "# Make predictions with USE TF Hub model\n",
        "model_6_pred_probs = model_6.predict(val_sentences)\n",
        "model_6_pred_probs[:10]"
      ],
      "metadata": {
        "colab": {
          "base_uri": "https://localhost:8080/"
        },
        "id": "kzf1HQUoXFbO",
        "outputId": "ee778bd5-6ebb-4d68-98fb-ad7b516b1cb2"
      },
      "execution_count": null,
      "outputs": [
        {
          "output_type": "stream",
          "name": "stdout",
          "text": [
            "24/24 [==============================] - 1s 8ms/step\n"
          ]
        },
        {
          "output_type": "execute_result",
          "data": {
            "text/plain": [
              "array([[0.14848699],\n",
              "       [0.74982345],\n",
              "       [0.98496085],\n",
              "       [0.20536746],\n",
              "       [0.721466  ],\n",
              "       [0.70088816],\n",
              "       [0.9758838 ],\n",
              "       [0.9716731 ],\n",
              "       [0.92030776],\n",
              "       [0.08535835]], dtype=float32)"
            ]
          },
          "metadata": {},
          "execution_count": 88
        }
      ]
    },
    {
      "cell_type": "code",
      "source": [
        "# Convert prediction probabilities to labels\n",
        "model_6_preds = tf.squeeze(tf.round(model_6_pred_probs))\n",
        "model_6_preds[:10]"
      ],
      "metadata": {
        "colab": {
          "base_uri": "https://localhost:8080/"
        },
        "id": "4l0qeyE5XRe8",
        "outputId": "0c8138ef-8f56-4260-8f89-2201d013b230"
      },
      "execution_count": null,
      "outputs": [
        {
          "output_type": "execute_result",
          "data": {
            "text/plain": [
              "<tf.Tensor: shape=(10,), dtype=float32, numpy=array([0., 1., 1., 0., 1., 1., 1., 1., 1., 0.], dtype=float32)>"
            ]
          },
          "metadata": {},
          "execution_count": 89
        }
      ]
    },
    {
      "cell_type": "code",
      "source": [
        "# Calculate model 6 performance metrics\n",
        "model_6_results = calculate_results(val_labels, model_6_preds)\n",
        "model_6_results"
      ],
      "metadata": {
        "colab": {
          "base_uri": "https://localhost:8080/"
        },
        "id": "xO7vyJYZXUnM",
        "outputId": "6d623e3c-3b6b-4363-f37b-1dc2e7d404c1"
      },
      "execution_count": null,
      "outputs": [
        {
          "output_type": "execute_result",
          "data": {
            "text/plain": [
              "{'accuracy': 81.23359580052494,\n",
              " 'precision': 0.8145687227271431,\n",
              " 'recall': 0.8123359580052494,\n",
              " 'f1': 0.81078947666798}"
            ]
          },
          "metadata": {},
          "execution_count": 90
        }
      ]
    },
    {
      "cell_type": "code",
      "source": [
        "# Compare TF Hub model to baseline\n",
        "compare_baseline_to_new_results(baseline_results, model_6_results)"
      ],
      "metadata": {
        "colab": {
          "base_uri": "https://localhost:8080/"
        },
        "id": "c4XQ4psVXXFO",
        "outputId": "f8289704-6368-4184-f99a-4c928426436d"
      },
      "execution_count": null,
      "outputs": [
        {
          "output_type": "stream",
          "name": "stdout",
          "text": [
            "Baseline accuracy: 79.27, New accuracy: 81.23, Difference: 1.97\n",
            "Baseline precision: 0.81, New precision: 0.81, Difference: 0.00\n",
            "Baseline recall: 0.79, New recall: 0.81, Difference: 0.02\n",
            "Baseline f1: 0.79, New f1: 0.81, Difference: 0.02\n"
          ]
        }
      ]
    },
    {
      "cell_type": "markdown",
      "source": [
        "**Model 7: TensorFlow Hub Pretrained Sentence Encoder 10% of the training data\n",
        "One of the benefits of using transfer learning methods, such as, the pretrained embeddings within the USE is the ability to get great results on a small amount of data (the USE paper even mentions this in the abstract).**"
      ],
      "metadata": {
        "id": "SnWPT9RGXsH1"
      }
    },
    {
      "cell_type": "code",
      "source": [
        "# One kind of correct way (there are more) to make data subset\n",
        "# (split the already split train_sentences/train_labels)\n",
        "train_sentences_90_percent, train_sentences_10_percent, train_labels_90_percent, train_labels_10_percent = train_test_split(np.array(train_sentences),\n",
        "                                                                                                                            train_labels,\n",
        "                                                                                                                            test_size=0.1,\n",
        "                                                                                                                            random_state=42)\n"
      ],
      "metadata": {
        "id": "9-jRvkxLXZcl"
      },
      "execution_count": null,
      "outputs": []
    },
    {
      "cell_type": "code",
      "source": [
        "# Check length of 10 percent datasets\n",
        "print(f\"Total training examples: {len(train_sentences)}\")\n",
        "print(f\"Length of 10% training examples: {len(train_sentences_10_percent)}\")"
      ],
      "metadata": {
        "colab": {
          "base_uri": "https://localhost:8080/"
        },
        "id": "shHxvW1ZYhg7",
        "outputId": "936c72e6-98aa-4626-f047-3895e398c7f8"
      },
      "execution_count": null,
      "outputs": [
        {
          "output_type": "stream",
          "name": "stdout",
          "text": [
            "Total training examples: 6851\n",
            "Length of 10% training examples: 686\n"
          ]
        }
      ]
    },
    {
      "cell_type": "code",
      "source": [
        "model_7=tf.keras.models.clone_model(model_6)\n",
        "model_7.compile(loss=\"binary_crossentropy\",\n",
        "                optimizer=tf.keras.optimizers.Adam(),\n",
        "                metrics=[\"accuracy\"])\n",
        "model_7.summary()"
      ],
      "metadata": {
        "colab": {
          "base_uri": "https://localhost:8080/"
        },
        "id": "EWNm-bIjYvXz",
        "outputId": "55e37bb2-c547-4de1-aaf6-a94a8dfd0aa1"
      },
      "execution_count": null,
      "outputs": [
        {
          "output_type": "stream",
          "name": "stdout",
          "text": [
            "Model: \"model_6_USE\"\n",
            "_________________________________________________________________\n",
            " Layer (type)                Output Shape              Param #   \n",
            "=================================================================\n",
            " USE (KerasLayer)            (None, 512)               256797824 \n",
            "                                                                 \n",
            " dense_5 (Dense)             (None, 64)                32832     \n",
            "                                                                 \n",
            " dense_6 (Dense)             (None, 1)                 65        \n",
            "                                                                 \n",
            "=================================================================\n",
            "Total params: 256830721 (979.73 MB)\n",
            "Trainable params: 32897 (128.50 KB)\n",
            "Non-trainable params: 256797824 (979.61 MB)\n",
            "_________________________________________________________________\n"
          ]
        }
      ]
    },
    {
      "cell_type": "code",
      "source": [
        "model_7_history=model_7.fit(x=train_sentences_10_percent,\n",
        "                            y=train_labels_10_percent,\n",
        "                            epochs=5,\n",
        "                            validation_data=(val_sentences,val_labels),\n",
        "                            callbacks=[create_tensorboard_callback(SAVE_DIR,\"10_percent_tf_hub_sentence_encoder\")])"
      ],
      "metadata": {
        "colab": {
          "base_uri": "https://localhost:8080/"
        },
        "id": "ielFzCIcZX8H",
        "outputId": "bb868a26-edd8-4a46-dc45-09559d401064"
      },
      "execution_count": null,
      "outputs": [
        {
          "output_type": "stream",
          "name": "stdout",
          "text": [
            "Saving TensorBoard log files to: model_logs/10_percent_tf_hub_sentence_encoder/20240211-040057\n",
            "Epoch 1/5\n",
            "22/22 [==============================] - 4s 41ms/step - loss: 0.6639 - accuracy: 0.6968 - val_loss: 0.6430 - val_accuracy: 0.7100\n",
            "Epoch 2/5\n",
            "22/22 [==============================] - 0s 21ms/step - loss: 0.5869 - accuracy: 0.8236 - val_loss: 0.5851 - val_accuracy: 0.7441\n",
            "Epoch 3/5\n",
            "22/22 [==============================] - 0s 23ms/step - loss: 0.5099 - accuracy: 0.8280 - val_loss: 0.5341 - val_accuracy: 0.7677\n",
            "Epoch 4/5\n",
            "22/22 [==============================] - 0s 21ms/step - loss: 0.4482 - accuracy: 0.8411 - val_loss: 0.5043 - val_accuracy: 0.7730\n",
            "Epoch 5/5\n",
            "22/22 [==============================] - 0s 20ms/step - loss: 0.4071 - accuracy: 0.8411 - val_loss: 0.4885 - val_accuracy: 0.7730\n"
          ]
        }
      ]
    },
    {
      "cell_type": "code",
      "source": [
        "# Make predictions with the model trained on 10% of the data\n",
        "model_7_pred_probs = model_7.predict(val_sentences)\n",
        "model_7_pred_probs[:10]"
      ],
      "metadata": {
        "colab": {
          "base_uri": "https://localhost:8080/"
        },
        "id": "l-k8bcXiZ_4T",
        "outputId": "862cd8a2-6dfa-43c4-a8f3-69589563bd91"
      },
      "execution_count": null,
      "outputs": [
        {
          "output_type": "stream",
          "name": "stdout",
          "text": [
            "24/24 [==============================] - 1s 8ms/step\n"
          ]
        },
        {
          "output_type": "execute_result",
          "data": {
            "text/plain": [
              "array([[0.25172418],\n",
              "       [0.78978014],\n",
              "       [0.90784436],\n",
              "       [0.29442456],\n",
              "       [0.5578219 ],\n",
              "       [0.8389778 ],\n",
              "       [0.82637906],\n",
              "       [0.8249358 ],\n",
              "       [0.8463594 ],\n",
              "       [0.10244287]], dtype=float32)"
            ]
          },
          "metadata": {},
          "execution_count": 96
        }
      ]
    },
    {
      "cell_type": "code",
      "source": [
        "model_7_pred=tf.squeeze(tf.round(model_7_pred_probs))\n",
        "model_7_pred[:10]"
      ],
      "metadata": {
        "colab": {
          "base_uri": "https://localhost:8080/"
        },
        "id": "KXBOEbDocCX5",
        "outputId": "d5706058-fa33-407e-ac60-d87ba6d9181a"
      },
      "execution_count": null,
      "outputs": [
        {
          "output_type": "execute_result",
          "data": {
            "text/plain": [
              "<tf.Tensor: shape=(10,), dtype=float32, numpy=array([0., 1., 1., 0., 1., 1., 1., 1., 1., 0.], dtype=float32)>"
            ]
          },
          "metadata": {},
          "execution_count": 97
        }
      ]
    },
    {
      "cell_type": "code",
      "source": [
        "# Calculate model results\n",
        "model_7_results = calculate_results(val_labels, model_7_pred)\n",
        "model_7_results"
      ],
      "metadata": {
        "colab": {
          "base_uri": "https://localhost:8080/"
        },
        "id": "3aryXsDLcWuk",
        "outputId": "c9f3c705-85e7-4c06-f8df-d440a7add37a"
      },
      "execution_count": null,
      "outputs": [
        {
          "output_type": "execute_result",
          "data": {
            "text/plain": [
              "{'accuracy': 77.29658792650919,\n",
              " 'precision': 0.777881100544101,\n",
              " 'recall': 0.7729658792650919,\n",
              " 'f1': 0.7695350827050221}"
            ]
          },
          "metadata": {},
          "execution_count": 98
        }
      ]
    },
    {
      "cell_type": "code",
      "source": [
        "# Compare to baseline\n",
        "compare_baseline_to_new_results(baseline_results, model_7_results)"
      ],
      "metadata": {
        "id": "9K9xtyPjceuB",
        "outputId": "118a642b-1cf9-44bd-8c80-005a30e86298",
        "colab": {
          "base_uri": "https://localhost:8080/"
        }
      },
      "execution_count": null,
      "outputs": [
        {
          "output_type": "stream",
          "name": "stdout",
          "text": [
            "Baseline accuracy: 79.27, New accuracy: 77.30, Difference: -1.97\n",
            "Baseline precision: 0.81, New precision: 0.78, Difference: -0.03\n",
            "Baseline recall: 0.79, New recall: 0.77, Difference: -0.02\n",
            "Baseline f1: 0.79, New f1: 0.77, Difference: -0.02\n"
          ]
        }
      ]
    },
    {
      "cell_type": "code",
      "source": [
        "all_model_results=pd.DataFrame({\"baseline\":baseline_results,\n",
        "                                \"simple_dense\": model_1_results,\n",
        "                                \"lstm\": model_2_results,\n",
        "                                \"gru\": model_3_results,\n",
        "                                \"bidirectional\": model_4_results,\n",
        "                                \"conv1d\": model_5_results,\n",
        "                                \"tf_hub_sentence_encoder\": model_6_results,\n",
        "                                \"tf_hub_10_percent_data\": model_7_results\n",
        "                                })\n",
        "all_model_results=all_model_results.transpose()\n",
        "all_model_results"
      ],
      "metadata": {
        "id": "S6gAi-4Vciz_",
        "colab": {
          "base_uri": "https://localhost:8080/",
          "height": 300
        },
        "outputId": "8e88f3d6-d94a-4568-f814-890c3caa95d1"
      },
      "execution_count": null,
      "outputs": [
        {
          "output_type": "execute_result",
          "data": {
            "text/plain": [
              "                          accuracy  precision    recall        f1\n",
              "baseline                 79.265092   0.811139  0.792651  0.786219\n",
              "simple_dense             75.459318   0.780336  0.754593  0.743524\n",
              "lstm                     75.590551   0.757136  0.755906  0.753692\n",
              "gru                      77.034121   0.770395  0.770341  0.769234\n",
              "bidirectional            75.721785   0.756801  0.757218  0.756534\n",
              "conv1d                   78.215223   0.784973  0.782152  0.779794\n",
              "tf_hub_sentence_encoder  81.233596   0.814569  0.812336  0.810789\n",
              "tf_hub_10_percent_data   77.296588   0.777881  0.772966  0.769535"
            ],
            "text/html": [
              "\n",
              "  <div id=\"df-18112ea0-e2d0-448c-a323-5c6dfe7ed618\" class=\"colab-df-container\">\n",
              "    <div>\n",
              "<style scoped>\n",
              "    .dataframe tbody tr th:only-of-type {\n",
              "        vertical-align: middle;\n",
              "    }\n",
              "\n",
              "    .dataframe tbody tr th {\n",
              "        vertical-align: top;\n",
              "    }\n",
              "\n",
              "    .dataframe thead th {\n",
              "        text-align: right;\n",
              "    }\n",
              "</style>\n",
              "<table border=\"1\" class=\"dataframe\">\n",
              "  <thead>\n",
              "    <tr style=\"text-align: right;\">\n",
              "      <th></th>\n",
              "      <th>accuracy</th>\n",
              "      <th>precision</th>\n",
              "      <th>recall</th>\n",
              "      <th>f1</th>\n",
              "    </tr>\n",
              "  </thead>\n",
              "  <tbody>\n",
              "    <tr>\n",
              "      <th>baseline</th>\n",
              "      <td>79.265092</td>\n",
              "      <td>0.811139</td>\n",
              "      <td>0.792651</td>\n",
              "      <td>0.786219</td>\n",
              "    </tr>\n",
              "    <tr>\n",
              "      <th>simple_dense</th>\n",
              "      <td>75.459318</td>\n",
              "      <td>0.780336</td>\n",
              "      <td>0.754593</td>\n",
              "      <td>0.743524</td>\n",
              "    </tr>\n",
              "    <tr>\n",
              "      <th>lstm</th>\n",
              "      <td>75.590551</td>\n",
              "      <td>0.757136</td>\n",
              "      <td>0.755906</td>\n",
              "      <td>0.753692</td>\n",
              "    </tr>\n",
              "    <tr>\n",
              "      <th>gru</th>\n",
              "      <td>77.034121</td>\n",
              "      <td>0.770395</td>\n",
              "      <td>0.770341</td>\n",
              "      <td>0.769234</td>\n",
              "    </tr>\n",
              "    <tr>\n",
              "      <th>bidirectional</th>\n",
              "      <td>75.721785</td>\n",
              "      <td>0.756801</td>\n",
              "      <td>0.757218</td>\n",
              "      <td>0.756534</td>\n",
              "    </tr>\n",
              "    <tr>\n",
              "      <th>conv1d</th>\n",
              "      <td>78.215223</td>\n",
              "      <td>0.784973</td>\n",
              "      <td>0.782152</td>\n",
              "      <td>0.779794</td>\n",
              "    </tr>\n",
              "    <tr>\n",
              "      <th>tf_hub_sentence_encoder</th>\n",
              "      <td>81.233596</td>\n",
              "      <td>0.814569</td>\n",
              "      <td>0.812336</td>\n",
              "      <td>0.810789</td>\n",
              "    </tr>\n",
              "    <tr>\n",
              "      <th>tf_hub_10_percent_data</th>\n",
              "      <td>77.296588</td>\n",
              "      <td>0.777881</td>\n",
              "      <td>0.772966</td>\n",
              "      <td>0.769535</td>\n",
              "    </tr>\n",
              "  </tbody>\n",
              "</table>\n",
              "</div>\n",
              "    <div class=\"colab-df-buttons\">\n",
              "\n",
              "  <div class=\"colab-df-container\">\n",
              "    <button class=\"colab-df-convert\" onclick=\"convertToInteractive('df-18112ea0-e2d0-448c-a323-5c6dfe7ed618')\"\n",
              "            title=\"Convert this dataframe to an interactive table.\"\n",
              "            style=\"display:none;\">\n",
              "\n",
              "  <svg xmlns=\"http://www.w3.org/2000/svg\" height=\"24px\" viewBox=\"0 -960 960 960\">\n",
              "    <path d=\"M120-120v-720h720v720H120Zm60-500h600v-160H180v160Zm220 220h160v-160H400v160Zm0 220h160v-160H400v160ZM180-400h160v-160H180v160Zm440 0h160v-160H620v160ZM180-180h160v-160H180v160Zm440 0h160v-160H620v160Z\"/>\n",
              "  </svg>\n",
              "    </button>\n",
              "\n",
              "  <style>\n",
              "    .colab-df-container {\n",
              "      display:flex;\n",
              "      gap: 12px;\n",
              "    }\n",
              "\n",
              "    .colab-df-convert {\n",
              "      background-color: #E8F0FE;\n",
              "      border: none;\n",
              "      border-radius: 50%;\n",
              "      cursor: pointer;\n",
              "      display: none;\n",
              "      fill: #1967D2;\n",
              "      height: 32px;\n",
              "      padding: 0 0 0 0;\n",
              "      width: 32px;\n",
              "    }\n",
              "\n",
              "    .colab-df-convert:hover {\n",
              "      background-color: #E2EBFA;\n",
              "      box-shadow: 0px 1px 2px rgba(60, 64, 67, 0.3), 0px 1px 3px 1px rgba(60, 64, 67, 0.15);\n",
              "      fill: #174EA6;\n",
              "    }\n",
              "\n",
              "    .colab-df-buttons div {\n",
              "      margin-bottom: 4px;\n",
              "    }\n",
              "\n",
              "    [theme=dark] .colab-df-convert {\n",
              "      background-color: #3B4455;\n",
              "      fill: #D2E3FC;\n",
              "    }\n",
              "\n",
              "    [theme=dark] .colab-df-convert:hover {\n",
              "      background-color: #434B5C;\n",
              "      box-shadow: 0px 1px 3px 1px rgba(0, 0, 0, 0.15);\n",
              "      filter: drop-shadow(0px 1px 2px rgba(0, 0, 0, 0.3));\n",
              "      fill: #FFFFFF;\n",
              "    }\n",
              "  </style>\n",
              "\n",
              "    <script>\n",
              "      const buttonEl =\n",
              "        document.querySelector('#df-18112ea0-e2d0-448c-a323-5c6dfe7ed618 button.colab-df-convert');\n",
              "      buttonEl.style.display =\n",
              "        google.colab.kernel.accessAllowed ? 'block' : 'none';\n",
              "\n",
              "      async function convertToInteractive(key) {\n",
              "        const element = document.querySelector('#df-18112ea0-e2d0-448c-a323-5c6dfe7ed618');\n",
              "        const dataTable =\n",
              "          await google.colab.kernel.invokeFunction('convertToInteractive',\n",
              "                                                    [key], {});\n",
              "        if (!dataTable) return;\n",
              "\n",
              "        const docLinkHtml = 'Like what you see? Visit the ' +\n",
              "          '<a target=\"_blank\" href=https://colab.research.google.com/notebooks/data_table.ipynb>data table notebook</a>'\n",
              "          + ' to learn more about interactive tables.';\n",
              "        element.innerHTML = '';\n",
              "        dataTable['output_type'] = 'display_data';\n",
              "        await google.colab.output.renderOutput(dataTable, element);\n",
              "        const docLink = document.createElement('div');\n",
              "        docLink.innerHTML = docLinkHtml;\n",
              "        element.appendChild(docLink);\n",
              "      }\n",
              "    </script>\n",
              "  </div>\n",
              "\n",
              "\n",
              "<div id=\"df-1912155d-e401-435c-ac19-71735e5b6a80\">\n",
              "  <button class=\"colab-df-quickchart\" onclick=\"quickchart('df-1912155d-e401-435c-ac19-71735e5b6a80')\"\n",
              "            title=\"Suggest charts\"\n",
              "            style=\"display:none;\">\n",
              "\n",
              "<svg xmlns=\"http://www.w3.org/2000/svg\" height=\"24px\"viewBox=\"0 0 24 24\"\n",
              "     width=\"24px\">\n",
              "    <g>\n",
              "        <path d=\"M19 3H5c-1.1 0-2 .9-2 2v14c0 1.1.9 2 2 2h14c1.1 0 2-.9 2-2V5c0-1.1-.9-2-2-2zM9 17H7v-7h2v7zm4 0h-2V7h2v10zm4 0h-2v-4h2v4z\"/>\n",
              "    </g>\n",
              "</svg>\n",
              "  </button>\n",
              "\n",
              "<style>\n",
              "  .colab-df-quickchart {\n",
              "      --bg-color: #E8F0FE;\n",
              "      --fill-color: #1967D2;\n",
              "      --hover-bg-color: #E2EBFA;\n",
              "      --hover-fill-color: #174EA6;\n",
              "      --disabled-fill-color: #AAA;\n",
              "      --disabled-bg-color: #DDD;\n",
              "  }\n",
              "\n",
              "  [theme=dark] .colab-df-quickchart {\n",
              "      --bg-color: #3B4455;\n",
              "      --fill-color: #D2E3FC;\n",
              "      --hover-bg-color: #434B5C;\n",
              "      --hover-fill-color: #FFFFFF;\n",
              "      --disabled-bg-color: #3B4455;\n",
              "      --disabled-fill-color: #666;\n",
              "  }\n",
              "\n",
              "  .colab-df-quickchart {\n",
              "    background-color: var(--bg-color);\n",
              "    border: none;\n",
              "    border-radius: 50%;\n",
              "    cursor: pointer;\n",
              "    display: none;\n",
              "    fill: var(--fill-color);\n",
              "    height: 32px;\n",
              "    padding: 0;\n",
              "    width: 32px;\n",
              "  }\n",
              "\n",
              "  .colab-df-quickchart:hover {\n",
              "    background-color: var(--hover-bg-color);\n",
              "    box-shadow: 0 1px 2px rgba(60, 64, 67, 0.3), 0 1px 3px 1px rgba(60, 64, 67, 0.15);\n",
              "    fill: var(--button-hover-fill-color);\n",
              "  }\n",
              "\n",
              "  .colab-df-quickchart-complete:disabled,\n",
              "  .colab-df-quickchart-complete:disabled:hover {\n",
              "    background-color: var(--disabled-bg-color);\n",
              "    fill: var(--disabled-fill-color);\n",
              "    box-shadow: none;\n",
              "  }\n",
              "\n",
              "  .colab-df-spinner {\n",
              "    border: 2px solid var(--fill-color);\n",
              "    border-color: transparent;\n",
              "    border-bottom-color: var(--fill-color);\n",
              "    animation:\n",
              "      spin 1s steps(1) infinite;\n",
              "  }\n",
              "\n",
              "  @keyframes spin {\n",
              "    0% {\n",
              "      border-color: transparent;\n",
              "      border-bottom-color: var(--fill-color);\n",
              "      border-left-color: var(--fill-color);\n",
              "    }\n",
              "    20% {\n",
              "      border-color: transparent;\n",
              "      border-left-color: var(--fill-color);\n",
              "      border-top-color: var(--fill-color);\n",
              "    }\n",
              "    30% {\n",
              "      border-color: transparent;\n",
              "      border-left-color: var(--fill-color);\n",
              "      border-top-color: var(--fill-color);\n",
              "      border-right-color: var(--fill-color);\n",
              "    }\n",
              "    40% {\n",
              "      border-color: transparent;\n",
              "      border-right-color: var(--fill-color);\n",
              "      border-top-color: var(--fill-color);\n",
              "    }\n",
              "    60% {\n",
              "      border-color: transparent;\n",
              "      border-right-color: var(--fill-color);\n",
              "    }\n",
              "    80% {\n",
              "      border-color: transparent;\n",
              "      border-right-color: var(--fill-color);\n",
              "      border-bottom-color: var(--fill-color);\n",
              "    }\n",
              "    90% {\n",
              "      border-color: transparent;\n",
              "      border-bottom-color: var(--fill-color);\n",
              "    }\n",
              "  }\n",
              "</style>\n",
              "\n",
              "  <script>\n",
              "    async function quickchart(key) {\n",
              "      const quickchartButtonEl =\n",
              "        document.querySelector('#' + key + ' button');\n",
              "      quickchartButtonEl.disabled = true;  // To prevent multiple clicks.\n",
              "      quickchartButtonEl.classList.add('colab-df-spinner');\n",
              "      try {\n",
              "        const charts = await google.colab.kernel.invokeFunction(\n",
              "            'suggestCharts', [key], {});\n",
              "      } catch (error) {\n",
              "        console.error('Error during call to suggestCharts:', error);\n",
              "      }\n",
              "      quickchartButtonEl.classList.remove('colab-df-spinner');\n",
              "      quickchartButtonEl.classList.add('colab-df-quickchart-complete');\n",
              "    }\n",
              "    (() => {\n",
              "      let quickchartButtonEl =\n",
              "        document.querySelector('#df-1912155d-e401-435c-ac19-71735e5b6a80 button');\n",
              "      quickchartButtonEl.style.display =\n",
              "        google.colab.kernel.accessAllowed ? 'block' : 'none';\n",
              "    })();\n",
              "  </script>\n",
              "</div>\n",
              "\n",
              "  <div id=\"id_c206ff23-d1b5-4f48-b78e-b015fa991e41\">\n",
              "    <style>\n",
              "      .colab-df-generate {\n",
              "        background-color: #E8F0FE;\n",
              "        border: none;\n",
              "        border-radius: 50%;\n",
              "        cursor: pointer;\n",
              "        display: none;\n",
              "        fill: #1967D2;\n",
              "        height: 32px;\n",
              "        padding: 0 0 0 0;\n",
              "        width: 32px;\n",
              "      }\n",
              "\n",
              "      .colab-df-generate:hover {\n",
              "        background-color: #E2EBFA;\n",
              "        box-shadow: 0px 1px 2px rgba(60, 64, 67, 0.3), 0px 1px 3px 1px rgba(60, 64, 67, 0.15);\n",
              "        fill: #174EA6;\n",
              "      }\n",
              "\n",
              "      [theme=dark] .colab-df-generate {\n",
              "        background-color: #3B4455;\n",
              "        fill: #D2E3FC;\n",
              "      }\n",
              "\n",
              "      [theme=dark] .colab-df-generate:hover {\n",
              "        background-color: #434B5C;\n",
              "        box-shadow: 0px 1px 3px 1px rgba(0, 0, 0, 0.15);\n",
              "        filter: drop-shadow(0px 1px 2px rgba(0, 0, 0, 0.3));\n",
              "        fill: #FFFFFF;\n",
              "      }\n",
              "    </style>\n",
              "    <button class=\"colab-df-generate\" onclick=\"generateWithVariable('all_model_results')\"\n",
              "            title=\"Generate code using this dataframe.\"\n",
              "            style=\"display:none;\">\n",
              "\n",
              "  <svg xmlns=\"http://www.w3.org/2000/svg\" height=\"24px\"viewBox=\"0 0 24 24\"\n",
              "       width=\"24px\">\n",
              "    <path d=\"M7,19H8.4L18.45,9,17,7.55,7,17.6ZM5,21V16.75L18.45,3.32a2,2,0,0,1,2.83,0l1.4,1.43a1.91,1.91,0,0,1,.58,1.4,1.91,1.91,0,0,1-.58,1.4L9.25,21ZM18.45,9,17,7.55Zm-12,3A5.31,5.31,0,0,0,4.9,8.1,5.31,5.31,0,0,0,1,6.5,5.31,5.31,0,0,0,4.9,4.9,5.31,5.31,0,0,0,6.5,1,5.31,5.31,0,0,0,8.1,4.9,5.31,5.31,0,0,0,12,6.5,5.46,5.46,0,0,0,6.5,12Z\"/>\n",
              "  </svg>\n",
              "    </button>\n",
              "    <script>\n",
              "      (() => {\n",
              "      const buttonEl =\n",
              "        document.querySelector('#id_c206ff23-d1b5-4f48-b78e-b015fa991e41 button.colab-df-generate');\n",
              "      buttonEl.style.display =\n",
              "        google.colab.kernel.accessAllowed ? 'block' : 'none';\n",
              "\n",
              "      buttonEl.onclick = () => {\n",
              "        google.colab.notebook.generateWithVariable('all_model_results');\n",
              "      }\n",
              "      })();\n",
              "    </script>\n",
              "  </div>\n",
              "\n",
              "    </div>\n",
              "  </div>\n"
            ]
          },
          "metadata": {},
          "execution_count": 100
        }
      ]
    },
    {
      "cell_type": "code",
      "source": [
        "all_model_results[\"accuracy\"]=all_model_results[\"accuracy\"]/100\n"
      ],
      "metadata": {
        "id": "AHS0W12qr7LP"
      },
      "execution_count": null,
      "outputs": []
    },
    {
      "cell_type": "code",
      "source": [
        "#all_model_results.plot(kind=\"bar\",figure=(10,7)).legend(bbox_to_anchor=(1.0,1.0));"
      ],
      "metadata": {
        "id": "JNaC0kp0snK1"
      },
      "execution_count": null,
      "outputs": []
    },
    {
      "source": [
        "import matplotlib.pyplot as plt\n",
        "fig, ax = plt.subplots(figsize=(10, 7))\n",
        "all_model_results.plot(kind=\"bar\", ax=ax).legend(bbox_to_anchor=(1.0,1.0))\n",
        "plt.show()"
      ],
      "cell_type": "code",
      "metadata": {
        "colab": {
          "base_uri": "https://localhost:8080/",
          "height": 513
        },
        "id": "aKNIgYGKuH-m",
        "outputId": "efda4576-0d16-49c4-b3c5-dc08682c2e2c"
      },
      "execution_count": null,
      "outputs": [
        {
          "output_type": "display_data",
          "data": {
            "text/plain": [
              "<Figure size 1000x700 with 1 Axes>"
            ],
            "image/png": "[encoded data removed]"
          },
          "metadata": {}
        }
      ]
    },
    {
      "cell_type": "code",
      "source": [
        "all_model_results.sort_values(\"f1\",ascending=False)[\"f1\"].plot(kind=\"bar\",figsize=(10,7));"
      ],
      "metadata": {
        "colab": {
          "base_uri": "https://localhost:8080/",
          "height": 585
        },
        "id": "TOv_CWdXt01F",
        "outputId": "a5976fc8-e0c6-4084-d4ee-fb58704a79a4"
      },
      "execution_count": null,
      "outputs": [
        {
          "output_type": "display_data",
          "data": {
            "text/plain": [
              "<Figure size 1000x700 with 1 Axes>"
            ],
            "image/png": "[encoded data removed]"
          },
          "metadata": {}
        }
      ]
    },
    {
      "cell_type": "markdown",
      "source": [
        "# Combining our models (model ensembling/stacking)\n",
        "* Think of it as trying to decide where to eat with your friends. If you all have similar tastes, you'll probably all pick the same restaurant. But if you've all got different tastes and still end up picking the same restaurant, the restaurant must be good.\n",
        "* Since we're working with a classification problem, there are a few of ways we can combine our models:\n",
        "\n",
        "* Averaging - Take the output prediction probabilities of each model for each sample, combine them and then average them.\n",
        "* Majority vote (mode) - Make class predictions with each of your models on all samples, the predicted class is the one in majority. For example, if three different models predict [1, 0, 1] respectively, the majority class is 1, therefore, that would be the predicted label.\n",
        "* Model stacking - Take the outputs of each of your chosen models and use them as inputs to another model\n",
        "* http://www.mlebook.com/wiki/doku.php"
      ],
      "metadata": {
        "id": "IqLaSm8xvN5N"
      }
    },
    {
      "cell_type": "code",
      "source": [
        "# combining our baseline models,LSTM,USE trained on the full training data\n",
        "baseline_pred_probs=np.max(model_0.predict_proba(val_sentences),axis=1)# he has retrained this to ensure consisitency\n",
        "combined_pred_probs=baseline_pred_probs+tf.squeeze(model_2_pred_probs,axis=1)+tf.squeeze(model_6_pred_probs,axis=1)\n",
        "combined_preds=tf.round(combined_pred_probs/3)\n",
        "combined_preds[:20]"
      ],
      "metadata": {
        "id": "CgkuEDmHu9rt",
        "colab": {
          "base_uri": "https://localhost:8080/"
        },
        "outputId": "cc77c63f-da6d-4969-8c5f-eb940e7d012c"
      },
      "execution_count": null,
      "outputs": [
        {
          "output_type": "execute_result",
          "data": {
            "text/plain": [
              "<tf.Tensor: shape=(20,), dtype=float32, numpy=\n",
              "array([0., 1., 1., 0., 0., 1., 1., 1., 1., 0., 0., 0., 0., 1., 0., 0., 0.,\n",
              "       0., 0., 1.], dtype=float32)>"
            ]
          },
          "metadata": {},
          "execution_count": 107
        }
      ]
    },
    {
      "cell_type": "code",
      "source": [
        "ensembel_results=calculate_results(val_labels,combined_preds)\n",
        "ensembel_results"
      ],
      "metadata": {
        "colab": {
          "base_uri": "https://localhost:8080/"
        },
        "id": "_2vlGOXrV_y7",
        "outputId": "ceb968b0-e999-4830-cd2a-7274bf6bb1d1"
      },
      "execution_count": null,
      "outputs": [
        {
          "output_type": "execute_result",
          "data": {
            "text/plain": [
              "{'accuracy': 77.69028871391076,\n",
              " 'precision': 0.7765743067490619,\n",
              " 'recall': 0.7769028871391076,\n",
              " 'f1': 0.7763928797999775}"
            ]
          },
          "metadata": {},
          "execution_count": 108
        }
      ]
    },
    {
      "cell_type": "markdown",
      "source": [
        "access a group of rows and columns by label"
      ],
      "metadata": {
        "id": "E1mJs2tMYuot"
      }
    },
    {
      "cell_type": "code",
      "source": [
        "all_model_results.loc[\"ensemble_results\"]=ensembel_results\n",
        "all_model_results"
      ],
      "metadata": {
        "colab": {
          "base_uri": "https://localhost:8080/",
          "height": 331
        },
        "id": "1bxaTmB3Wsy1",
        "outputId": "ee78968b-6e8c-40a6-8f3b-25b5f823724a"
      },
      "execution_count": null,
      "outputs": [
        {
          "output_type": "execute_result",
          "data": {
            "text/plain": [
              "                          accuracy  precision    recall        f1\n",
              "baseline                  0.792651   0.811139  0.792651  0.786219\n",
              "simple_dense              0.754593   0.780336  0.754593  0.743524\n",
              "lstm                      0.755906   0.757136  0.755906  0.753692\n",
              "gru                       0.770341   0.770395  0.770341  0.769234\n",
              "bidirectional             0.757218   0.756801  0.757218  0.756534\n",
              "conv1d                    0.782152   0.784973  0.782152  0.779794\n",
              "tf_hub_sentence_encoder   0.812336   0.814569  0.812336  0.810789\n",
              "tf_hub_10_percent_data    0.772966   0.777881  0.772966  0.769535\n",
              "ensemble_results         77.690289   0.776574  0.776903  0.776393"
            ],
            "text/html": [
              "\n",
              "  <div id=\"df-e91424c0-af7e-4e26-8c7f-64939b3417d2\" class=\"colab-df-container\">\n",
              "    <div>\n",
              "<style scoped>\n",
              "    .dataframe tbody tr th:only-of-type {\n",
              "        vertical-align: middle;\n",
              "    }\n",
              "\n",
              "    .dataframe tbody tr th {\n",
              "        vertical-align: top;\n",
              "    }\n",
              "\n",
              "    .dataframe thead th {\n",
              "        text-align: right;\n",
              "    }\n",
              "</style>\n",
              "<table border=\"1\" class=\"dataframe\">\n",
              "  <thead>\n",
              "    <tr style=\"text-align: right;\">\n",
              "      <th></th>\n",
              "      <th>accuracy</th>\n",
              "      <th>precision</th>\n",
              "      <th>recall</th>\n",
              "      <th>f1</th>\n",
              "    </tr>\n",
              "  </thead>\n",
              "  <tbody>\n",
              "    <tr>\n",
              "      <th>baseline</th>\n",
              "      <td>0.792651</td>\n",
              "      <td>0.811139</td>\n",
              "      <td>0.792651</td>\n",
              "      <td>0.786219</td>\n",
              "    </tr>\n",
              "    <tr>\n",
              "      <th>simple_dense</th>\n",
              "      <td>0.754593</td>\n",
              "      <td>0.780336</td>\n",
              "      <td>0.754593</td>\n",
              "      <td>0.743524</td>\n",
              "    </tr>\n",
              "    <tr>\n",
              "      <th>lstm</th>\n",
              "      <td>0.755906</td>\n",
              "      <td>0.757136</td>\n",
              "      <td>0.755906</td>\n",
              "      <td>0.753692</td>\n",
              "    </tr>\n",
              "    <tr>\n",
              "      <th>gru</th>\n",
              "      <td>0.770341</td>\n",
              "      <td>0.770395</td>\n",
              "      <td>0.770341</td>\n",
              "      <td>0.769234</td>\n",
              "    </tr>\n",
              "    <tr>\n",
              "      <th>bidirectional</th>\n",
              "      <td>0.757218</td>\n",
              "      <td>0.756801</td>\n",
              "      <td>0.757218</td>\n",
              "      <td>0.756534</td>\n",
              "    </tr>\n",
              "    <tr>\n",
              "      <th>conv1d</th>\n",
              "      <td>0.782152</td>\n",
              "      <td>0.784973</td>\n",
              "      <td>0.782152</td>\n",
              "      <td>0.779794</td>\n",
              "    </tr>\n",
              "    <tr>\n",
              "      <th>tf_hub_sentence_encoder</th>\n",
              "      <td>0.812336</td>\n",
              "      <td>0.814569</td>\n",
              "      <td>0.812336</td>\n",
              "      <td>0.810789</td>\n",
              "    </tr>\n",
              "    <tr>\n",
              "      <th>tf_hub_10_percent_data</th>\n",
              "      <td>0.772966</td>\n",
              "      <td>0.777881</td>\n",
              "      <td>0.772966</td>\n",
              "      <td>0.769535</td>\n",
              "    </tr>\n",
              "    <tr>\n",
              "      <th>ensemble_results</th>\n",
              "      <td>77.690289</td>\n",
              "      <td>0.776574</td>\n",
              "      <td>0.776903</td>\n",
              "      <td>0.776393</td>\n",
              "    </tr>\n",
              "  </tbody>\n",
              "</table>\n",
              "</div>\n",
              "    <div class=\"colab-df-buttons\">\n",
              "\n",
              "  <div class=\"colab-df-container\">\n",
              "    <button class=\"colab-df-convert\" onclick=\"convertToInteractive('df-e91424c0-af7e-4e26-8c7f-64939b3417d2')\"\n",
              "            title=\"Convert this dataframe to an interactive table.\"\n",
              "            style=\"display:none;\">\n",
              "\n",
              "  <svg xmlns=\"http://www.w3.org/2000/svg\" height=\"24px\" viewBox=\"0 -960 960 960\">\n",
              "    <path d=\"M120-120v-720h720v720H120Zm60-500h600v-160H180v160Zm220 220h160v-160H400v160Zm0 220h160v-160H400v160ZM180-400h160v-160H180v160Zm440 0h160v-160H620v160ZM180-180h160v-160H180v160Zm440 0h160v-160H620v160Z\"/>\n",
              "  </svg>\n",
              "    </button>\n",
              "\n",
              "  <style>\n",
              "    .colab-df-container {\n",
              "      display:flex;\n",
              "      gap: 12px;\n",
              "    }\n",
              "\n",
              "    .colab-df-convert {\n",
              "      background-color: #E8F0FE;\n",
              "      border: none;\n",
              "      border-radius: 50%;\n",
              "      cursor: pointer;\n",
              "      display: none;\n",
              "      fill: #1967D2;\n",
              "      height: 32px;\n",
              "      padding: 0 0 0 0;\n",
              "      width: 32px;\n",
              "    }\n",
              "\n",
              "    .colab-df-convert:hover {\n",
              "      background-color: #E2EBFA;\n",
              "      box-shadow: 0px 1px 2px rgba(60, 64, 67, 0.3), 0px 1px 3px 1px rgba(60, 64, 67, 0.15);\n",
              "      fill: #174EA6;\n",
              "    }\n",
              "\n",
              "    .colab-df-buttons div {\n",
              "      margin-bottom: 4px;\n",
              "    }\n",
              "\n",
              "    [theme=dark] .colab-df-convert {\n",
              "      background-color: #3B4455;\n",
              "      fill: #D2E3FC;\n",
              "    }\n",
              "\n",
              "    [theme=dark] .colab-df-convert:hover {\n",
              "      background-color: #434B5C;\n",
              "      box-shadow: 0px 1px 3px 1px rgba(0, 0, 0, 0.15);\n",
              "      filter: drop-shadow(0px 1px 2px rgba(0, 0, 0, 0.3));\n",
              "      fill: #FFFFFF;\n",
              "    }\n",
              "  </style>\n",
              "\n",
              "    <script>\n",
              "      const buttonEl =\n",
              "        document.querySelector('#df-e91424c0-af7e-4e26-8c7f-64939b3417d2 button.colab-df-convert');\n",
              "      buttonEl.style.display =\n",
              "        google.colab.kernel.accessAllowed ? 'block' : 'none';\n",
              "\n",
              "      async function convertToInteractive(key) {\n",
              "        const element = document.querySelector('#df-e91424c0-af7e-4e26-8c7f-64939b3417d2');\n",
              "        const dataTable =\n",
              "          await google.colab.kernel.invokeFunction('convertToInteractive',\n",
              "                                                    [key], {});\n",
              "        if (!dataTable) return;\n",
              "\n",
              "        const docLinkHtml = 'Like what you see? Visit the ' +\n",
              "          '<a target=\"_blank\" href=https://colab.research.google.com/notebooks/data_table.ipynb>data table notebook</a>'\n",
              "          + ' to learn more about interactive tables.';\n",
              "        element.innerHTML = '';\n",
              "        dataTable['output_type'] = 'display_data';\n",
              "        await google.colab.output.renderOutput(dataTable, element);\n",
              "        const docLink = document.createElement('div');\n",
              "        docLink.innerHTML = docLinkHtml;\n",
              "        element.appendChild(docLink);\n",
              "      }\n",
              "    </script>\n",
              "  </div>\n",
              "\n",
              "\n",
              "<div id=\"df-71c4d9fe-541a-4c75-89a6-85d0b23904f6\">\n",
              "  <button class=\"colab-df-quickchart\" onclick=\"quickchart('df-71c4d9fe-541a-4c75-89a6-85d0b23904f6')\"\n",
              "            title=\"Suggest charts\"\n",
              "            style=\"display:none;\">\n",
              "\n",
              "<svg xmlns=\"http://www.w3.org/2000/svg\" height=\"24px\"viewBox=\"0 0 24 24\"\n",
              "     width=\"24px\">\n",
              "    <g>\n",
              "        <path d=\"M19 3H5c-1.1 0-2 .9-2 2v14c0 1.1.9 2 2 2h14c1.1 0 2-.9 2-2V5c0-1.1-.9-2-2-2zM9 17H7v-7h2v7zm4 0h-2V7h2v10zm4 0h-2v-4h2v4z\"/>\n",
              "    </g>\n",
              "</svg>\n",
              "  </button>\n",
              "\n",
              "<style>\n",
              "  .colab-df-quickchart {\n",
              "      --bg-color: #E8F0FE;\n",
              "      --fill-color: #1967D2;\n",
              "      --hover-bg-color: #E2EBFA;\n",
              "      --hover-fill-color: #174EA6;\n",
              "      --disabled-fill-color: #AAA;\n",
              "      --disabled-bg-color: #DDD;\n",
              "  }\n",
              "\n",
              "  [theme=dark] .colab-df-quickchart {\n",
              "      --bg-color: #3B4455;\n",
              "      --fill-color: #D2E3FC;\n",
              "      --hover-bg-color: #434B5C;\n",
              "      --hover-fill-color: #FFFFFF;\n",
              "      --disabled-bg-color: #3B4455;\n",
              "      --disabled-fill-color: #666;\n",
              "  }\n",
              "\n",
              "  .colab-df-quickchart {\n",
              "    background-color: var(--bg-color);\n",
              "    border: none;\n",
              "    border-radius: 50%;\n",
              "    cursor: pointer;\n",
              "    display: none;\n",
              "    fill: var(--fill-color);\n",
              "    height: 32px;\n",
              "    padding: 0;\n",
              "    width: 32px;\n",
              "  }\n",
              "\n",
              "  .colab-df-quickchart:hover {\n",
              "    background-color: var(--hover-bg-color);\n",
              "    box-shadow: 0 1px 2px rgba(60, 64, 67, 0.3), 0 1px 3px 1px rgba(60, 64, 67, 0.15);\n",
              "    fill: var(--button-hover-fill-color);\n",
              "  }\n",
              "\n",
              "  .colab-df-quickchart-complete:disabled,\n",
              "  .colab-df-quickchart-complete:disabled:hover {\n",
              "    background-color: var(--disabled-bg-color);\n",
              "    fill: var(--disabled-fill-color);\n",
              "    box-shadow: none;\n",
              "  }\n",
              "\n",
              "  .colab-df-spinner {\n",
              "    border: 2px solid var(--fill-color);\n",
              "    border-color: transparent;\n",
              "    border-bottom-color: var(--fill-color);\n",
              "    animation:\n",
              "      spin 1s steps(1) infinite;\n",
              "  }\n",
              "\n",
              "  @keyframes spin {\n",
              "    0% {\n",
              "      border-color: transparent;\n",
              "      border-bottom-color: var(--fill-color);\n",
              "      border-left-color: var(--fill-color);\n",
              "    }\n",
              "    20% {\n",
              "      border-color: transparent;\n",
              "      border-left-color: var(--fill-color);\n",
              "      border-top-color: var(--fill-color);\n",
              "    }\n",
              "    30% {\n",
              "      border-color: transparent;\n",
              "      border-left-color: var(--fill-color);\n",
              "      border-top-color: var(--fill-color);\n",
              "      border-right-color: var(--fill-color);\n",
              "    }\n",
              "    40% {\n",
              "      border-color: transparent;\n",
              "      border-right-color: var(--fill-color);\n",
              "      border-top-color: var(--fill-color);\n",
              "    }\n",
              "    60% {\n",
              "      border-color: transparent;\n",
              "      border-right-color: var(--fill-color);\n",
              "    }\n",
              "    80% {\n",
              "      border-color: transparent;\n",
              "      border-right-color: var(--fill-color);\n",
              "      border-bottom-color: var(--fill-color);\n",
              "    }\n",
              "    90% {\n",
              "      border-color: transparent;\n",
              "      border-bottom-color: var(--fill-color);\n",
              "    }\n",
              "  }\n",
              "</style>\n",
              "\n",
              "  <script>\n",
              "    async function quickchart(key) {\n",
              "      const quickchartButtonEl =\n",
              "        document.querySelector('#' + key + ' button');\n",
              "      quickchartButtonEl.disabled = true;  // To prevent multiple clicks.\n",
              "      quickchartButtonEl.classList.add('colab-df-spinner');\n",
              "      try {\n",
              "        const charts = await google.colab.kernel.invokeFunction(\n",
              "            'suggestCharts', [key], {});\n",
              "      } catch (error) {\n",
              "        console.error('Error during call to suggestCharts:', error);\n",
              "      }\n",
              "      quickchartButtonEl.classList.remove('colab-df-spinner');\n",
              "      quickchartButtonEl.classList.add('colab-df-quickchart-complete');\n",
              "    }\n",
              "    (() => {\n",
              "      let quickchartButtonEl =\n",
              "        document.querySelector('#df-71c4d9fe-541a-4c75-89a6-85d0b23904f6 button');\n",
              "      quickchartButtonEl.style.display =\n",
              "        google.colab.kernel.accessAllowed ? 'block' : 'none';\n",
              "    })();\n",
              "  </script>\n",
              "</div>\n",
              "\n",
              "  <div id=\"id_6aac29e8-81e1-4639-8aea-526c5ebb8719\">\n",
              "    <style>\n",
              "      .colab-df-generate {\n",
              "        background-color: #E8F0FE;\n",
              "        border: none;\n",
              "        border-radius: 50%;\n",
              "        cursor: pointer;\n",
              "        display: none;\n",
              "        fill: #1967D2;\n",
              "        height: 32px;\n",
              "        padding: 0 0 0 0;\n",
              "        width: 32px;\n",
              "      }\n",
              "\n",
              "      .colab-df-generate:hover {\n",
              "        background-color: #E2EBFA;\n",
              "        box-shadow: 0px 1px 2px rgba(60, 64, 67, 0.3), 0px 1px 3px 1px rgba(60, 64, 67, 0.15);\n",
              "        fill: #174EA6;\n",
              "      }\n",
              "\n",
              "      [theme=dark] .colab-df-generate {\n",
              "        background-color: #3B4455;\n",
              "        fill: #D2E3FC;\n",
              "      }\n",
              "\n",
              "      [theme=dark] .colab-df-generate:hover {\n",
              "        background-color: #434B5C;\n",
              "        box-shadow: 0px 1px 3px 1px rgba(0, 0, 0, 0.15);\n",
              "        filter: drop-shadow(0px 1px 2px rgba(0, 0, 0, 0.3));\n",
              "        fill: #FFFFFF;\n",
              "      }\n",
              "    </style>\n",
              "    <button class=\"colab-df-generate\" onclick=\"generateWithVariable('all_model_results')\"\n",
              "            title=\"Generate code using this dataframe.\"\n",
              "            style=\"display:none;\">\n",
              "\n",
              "  <svg xmlns=\"http://www.w3.org/2000/svg\" height=\"24px\"viewBox=\"0 0 24 24\"\n",
              "       width=\"24px\">\n",
              "    <path d=\"M7,19H8.4L18.45,9,17,7.55,7,17.6ZM5,21V16.75L18.45,3.32a2,2,0,0,1,2.83,0l1.4,1.43a1.91,1.91,0,0,1,.58,1.4,1.91,1.91,0,0,1-.58,1.4L9.25,21ZM18.45,9,17,7.55Zm-12,3A5.31,5.31,0,0,0,4.9,8.1,5.31,5.31,0,0,0,1,6.5,5.31,5.31,0,0,0,4.9,4.9,5.31,5.31,0,0,0,6.5,1,5.31,5.31,0,0,0,8.1,4.9,5.31,5.31,0,0,0,12,6.5,5.46,5.46,0,0,0,6.5,12Z\"/>\n",
              "  </svg>\n",
              "    </button>\n",
              "    <script>\n",
              "      (() => {\n",
              "      const buttonEl =\n",
              "        document.querySelector('#id_6aac29e8-81e1-4639-8aea-526c5ebb8719 button.colab-df-generate');\n",
              "      buttonEl.style.display =\n",
              "        google.colab.kernel.accessAllowed ? 'block' : 'none';\n",
              "\n",
              "      buttonEl.onclick = () => {\n",
              "        google.colab.notebook.generateWithVariable('all_model_results');\n",
              "      }\n",
              "      })();\n",
              "    </script>\n",
              "  </div>\n",
              "\n",
              "    </div>\n",
              "  </div>\n"
            ]
          },
          "metadata": {},
          "execution_count": 111
        }
      ]
    },
    {
      "cell_type": "code",
      "source": [
        "all_model_results.loc[\"ensemble_results\"][\"accuracy\"]=all_model_results.loc[\"ensemble_results\"][\"accuracy\"]/100\n",
        "all_model_results"
      ],
      "metadata": {
        "colab": {
          "base_uri": "https://localhost:8080/",
          "height": 331
        },
        "id": "B6n2-apAYaJk",
        "outputId": "b668af5c-ad31-4e02-ec97-ad2c8d383d16"
      },
      "execution_count": null,
      "outputs": [
        {
          "output_type": "execute_result",
          "data": {
            "text/plain": [
              "                         accuracy  precision    recall        f1\n",
              "baseline                 0.792651   0.811139  0.792651  0.786219\n",
              "simple_dense             0.754593   0.780336  0.754593  0.743524\n",
              "lstm                     0.755906   0.757136  0.755906  0.753692\n",
              "gru                      0.770341   0.770395  0.770341  0.769234\n",
              "bidirectional            0.757218   0.756801  0.757218  0.756534\n",
              "conv1d                   0.782152   0.784973  0.782152  0.779794\n",
              "tf_hub_sentence_encoder  0.812336   0.814569  0.812336  0.810789\n",
              "tf_hub_10_percent_data   0.772966   0.777881  0.772966  0.769535\n",
              "ensemble_results         0.776903   0.776574  0.776903  0.776393"
            ],
            "text/html": [
              "\n",
              "  <div id=\"df-241cbb00-dc98-488a-aec3-ad20d38b0369\" class=\"colab-df-container\">\n",
              "    <div>\n",
              "<style scoped>\n",
              "    .dataframe tbody tr th:only-of-type {\n",
              "        vertical-align: middle;\n",
              "    }\n",
              "\n",
              "    .dataframe tbody tr th {\n",
              "        vertical-align: top;\n",
              "    }\n",
              "\n",
              "    .dataframe thead th {\n",
              "        text-align: right;\n",
              "    }\n",
              "</style>\n",
              "<table border=\"1\" class=\"dataframe\">\n",
              "  <thead>\n",
              "    <tr style=\"text-align: right;\">\n",
              "      <th></th>\n",
              "      <th>accuracy</th>\n",
              "      <th>precision</th>\n",
              "      <th>recall</th>\n",
              "      <th>f1</th>\n",
              "    </tr>\n",
              "  </thead>\n",
              "  <tbody>\n",
              "    <tr>\n",
              "      <th>baseline</th>\n",
              "      <td>0.792651</td>\n",
              "      <td>0.811139</td>\n",
              "      <td>0.792651</td>\n",
              "      <td>0.786219</td>\n",
              "    </tr>\n",
              "    <tr>\n",
              "      <th>simple_dense</th>\n",
              "      <td>0.754593</td>\n",
              "      <td>0.780336</td>\n",
              "      <td>0.754593</td>\n",
              "      <td>0.743524</td>\n",
              "    </tr>\n",
              "    <tr>\n",
              "      <th>lstm</th>\n",
              "      <td>0.755906</td>\n",
              "      <td>0.757136</td>\n",
              "      <td>0.755906</td>\n",
              "      <td>0.753692</td>\n",
              "    </tr>\n",
              "    <tr>\n",
              "      <th>gru</th>\n",
              "      <td>0.770341</td>\n",
              "      <td>0.770395</td>\n",
              "      <td>0.770341</td>\n",
              "      <td>0.769234</td>\n",
              "    </tr>\n",
              "    <tr>\n",
              "      <th>bidirectional</th>\n",
              "      <td>0.757218</td>\n",
              "      <td>0.756801</td>\n",
              "      <td>0.757218</td>\n",
              "      <td>0.756534</td>\n",
              "    </tr>\n",
              "    <tr>\n",
              "      <th>conv1d</th>\n",
              "      <td>0.782152</td>\n",
              "      <td>0.784973</td>\n",
              "      <td>0.782152</td>\n",
              "      <td>0.779794</td>\n",
              "    </tr>\n",
              "    <tr>\n",
              "      <th>tf_hub_sentence_encoder</th>\n",
              "      <td>0.812336</td>\n",
              "      <td>0.814569</td>\n",
              "      <td>0.812336</td>\n",
              "      <td>0.810789</td>\n",
              "    </tr>\n",
              "    <tr>\n",
              "      <th>tf_hub_10_percent_data</th>\n",
              "      <td>0.772966</td>\n",
              "      <td>0.777881</td>\n",
              "      <td>0.772966</td>\n",
              "      <td>0.769535</td>\n",
              "    </tr>\n",
              "    <tr>\n",
              "      <th>ensemble_results</th>\n",
              "      <td>0.776903</td>\n",
              "      <td>0.776574</td>\n",
              "      <td>0.776903</td>\n",
              "      <td>0.776393</td>\n",
              "    </tr>\n",
              "  </tbody>\n",
              "</table>\n",
              "</div>\n",
              "    <div class=\"colab-df-buttons\">\n",
              "\n",
              "  <div class=\"colab-df-container\">\n",
              "    <button class=\"colab-df-convert\" onclick=\"convertToInteractive('df-241cbb00-dc98-488a-aec3-ad20d38b0369')\"\n",
              "            title=\"Convert this dataframe to an interactive table.\"\n",
              "            style=\"display:none;\">\n",
              "\n",
              "  <svg xmlns=\"http://www.w3.org/2000/svg\" height=\"24px\" viewBox=\"0 -960 960 960\">\n",
              "    <path d=\"M120-120v-720h720v720H120Zm60-500h600v-160H180v160Zm220 220h160v-160H400v160Zm0 220h160v-160H400v160ZM180-400h160v-160H180v160Zm440 0h160v-160H620v160ZM180-180h160v-160H180v160Zm440 0h160v-160H620v160Z\"/>\n",
              "  </svg>\n",
              "    </button>\n",
              "\n",
              "  <style>\n",
              "    .colab-df-container {\n",
              "      display:flex;\n",
              "      gap: 12px;\n",
              "    }\n",
              "\n",
              "    .colab-df-convert {\n",
              "      background-color: #E8F0FE;\n",
              "      border: none;\n",
              "      border-radius: 50%;\n",
              "      cursor: pointer;\n",
              "      display: none;\n",
              "      fill: #1967D2;\n",
              "      height: 32px;\n",
              "      padding: 0 0 0 0;\n",
              "      width: 32px;\n",
              "    }\n",
              "\n",
              "    .colab-df-convert:hover {\n",
              "      background-color: #E2EBFA;\n",
              "      box-shadow: 0px 1px 2px rgba(60, 64, 67, 0.3), 0px 1px 3px 1px rgba(60, 64, 67, 0.15);\n",
              "      fill: #174EA6;\n",
              "    }\n",
              "\n",
              "    .colab-df-buttons div {\n",
              "      margin-bottom: 4px;\n",
              "    }\n",
              "\n",
              "    [theme=dark] .colab-df-convert {\n",
              "      background-color: #3B4455;\n",
              "      fill: #D2E3FC;\n",
              "    }\n",
              "\n",
              "    [theme=dark] .colab-df-convert:hover {\n",
              "      background-color: #434B5C;\n",
              "      box-shadow: 0px 1px 3px 1px rgba(0, 0, 0, 0.15);\n",
              "      filter: drop-shadow(0px 1px 2px rgba(0, 0, 0, 0.3));\n",
              "      fill: #FFFFFF;\n",
              "    }\n",
              "  </style>\n",
              "\n",
              "    <script>\n",
              "      const buttonEl =\n",
              "        document.querySelector('#df-241cbb00-dc98-488a-aec3-ad20d38b0369 button.colab-df-convert');\n",
              "      buttonEl.style.display =\n",
              "        google.colab.kernel.accessAllowed ? 'block' : 'none';\n",
              "\n",
              "      async function convertToInteractive(key) {\n",
              "        const element = document.querySelector('#df-241cbb00-dc98-488a-aec3-ad20d38b0369');\n",
              "        const dataTable =\n",
              "          await google.colab.kernel.invokeFunction('convertToInteractive',\n",
              "                                                    [key], {});\n",
              "        if (!dataTable) return;\n",
              "\n",
              "        const docLinkHtml = 'Like what you see? Visit the ' +\n",
              "          '<a target=\"_blank\" href=https://colab.research.google.com/notebooks/data_table.ipynb>data table notebook</a>'\n",
              "          + ' to learn more about interactive tables.';\n",
              "        element.innerHTML = '';\n",
              "        dataTable['output_type'] = 'display_data';\n",
              "        await google.colab.output.renderOutput(dataTable, element);\n",
              "        const docLink = document.createElement('div');\n",
              "        docLink.innerHTML = docLinkHtml;\n",
              "        element.appendChild(docLink);\n",
              "      }\n",
              "    </script>\n",
              "  </div>\n",
              "\n",
              "\n",
              "<div id=\"df-112f179e-3147-4203-aa53-ee4992d6a465\">\n",
              "  <button class=\"colab-df-quickchart\" onclick=\"quickchart('df-112f179e-3147-4203-aa53-ee4992d6a465')\"\n",
              "            title=\"Suggest charts\"\n",
              "            style=\"display:none;\">\n",
              "\n",
              "<svg xmlns=\"http://www.w3.org/2000/svg\" height=\"24px\"viewBox=\"0 0 24 24\"\n",
              "     width=\"24px\">\n",
              "    <g>\n",
              "        <path d=\"M19 3H5c-1.1 0-2 .9-2 2v14c0 1.1.9 2 2 2h14c1.1 0 2-.9 2-2V5c0-1.1-.9-2-2-2zM9 17H7v-7h2v7zm4 0h-2V7h2v10zm4 0h-2v-4h2v4z\"/>\n",
              "    </g>\n",
              "</svg>\n",
              "  </button>\n",
              "\n",
              "<style>\n",
              "  .colab-df-quickchart {\n",
              "      --bg-color: #E8F0FE;\n",
              "      --fill-color: #1967D2;\n",
              "      --hover-bg-color: #E2EBFA;\n",
              "      --hover-fill-color: #174EA6;\n",
              "      --disabled-fill-color: #AAA;\n",
              "      --disabled-bg-color: #DDD;\n",
              "  }\n",
              "\n",
              "  [theme=dark] .colab-df-quickchart {\n",
              "      --bg-color: #3B4455;\n",
              "      --fill-color: #D2E3FC;\n",
              "      --hover-bg-color: #434B5C;\n",
              "      --hover-fill-color: #FFFFFF;\n",
              "      --disabled-bg-color: #3B4455;\n",
              "      --disabled-fill-color: #666;\n",
              "  }\n",
              "\n",
              "  .colab-df-quickchart {\n",
              "    background-color: var(--bg-color);\n",
              "    border: none;\n",
              "    border-radius: 50%;\n",
              "    cursor: pointer;\n",
              "    display: none;\n",
              "    fill: var(--fill-color);\n",
              "    height: 32px;\n",
              "    padding: 0;\n",
              "    width: 32px;\n",
              "  }\n",
              "\n",
              "  .colab-df-quickchart:hover {\n",
              "    background-color: var(--hover-bg-color);\n",
              "    box-shadow: 0 1px 2px rgba(60, 64, 67, 0.3), 0 1px 3px 1px rgba(60, 64, 67, 0.15);\n",
              "    fill: var(--button-hover-fill-color);\n",
              "  }\n",
              "\n",
              "  .colab-df-quickchart-complete:disabled,\n",
              "  .colab-df-quickchart-complete:disabled:hover {\n",
              "    background-color: var(--disabled-bg-color);\n",
              "    fill: var(--disabled-fill-color);\n",
              "    box-shadow: none;\n",
              "  }\n",
              "\n",
              "  .colab-df-spinner {\n",
              "    border: 2px solid var(--fill-color);\n",
              "    border-color: transparent;\n",
              "    border-bottom-color: var(--fill-color);\n",
              "    animation:\n",
              "      spin 1s steps(1) infinite;\n",
              "  }\n",
              "\n",
              "  @keyframes spin {\n",
              "    0% {\n",
              "      border-color: transparent;\n",
              "      border-bottom-color: var(--fill-color);\n",
              "      border-left-color: var(--fill-color);\n",
              "    }\n",
              "    20% {\n",
              "      border-color: transparent;\n",
              "      border-left-color: var(--fill-color);\n",
              "      border-top-color: var(--fill-color);\n",
              "    }\n",
              "    30% {\n",
              "      border-color: transparent;\n",
              "      border-left-color: var(--fill-color);\n",
              "      border-top-color: var(--fill-color);\n",
              "      border-right-color: var(--fill-color);\n",
              "    }\n",
              "    40% {\n",
              "      border-color: transparent;\n",
              "      border-right-color: var(--fill-color);\n",
              "      border-top-color: var(--fill-color);\n",
              "    }\n",
              "    60% {\n",
              "      border-color: transparent;\n",
              "      border-right-color: var(--fill-color);\n",
              "    }\n",
              "    80% {\n",
              "      border-color: transparent;\n",
              "      border-right-color: var(--fill-color);\n",
              "      border-bottom-color: var(--fill-color);\n",
              "    }\n",
              "    90% {\n",
              "      border-color: transparent;\n",
              "      border-bottom-color: var(--fill-color);\n",
              "    }\n",
              "  }\n",
              "</style>\n",
              "\n",
              "  <script>\n",
              "    async function quickchart(key) {\n",
              "      const quickchartButtonEl =\n",
              "        document.querySelector('#' + key + ' button');\n",
              "      quickchartButtonEl.disabled = true;  // To prevent multiple clicks.\n",
              "      quickchartButtonEl.classList.add('colab-df-spinner');\n",
              "      try {\n",
              "        const charts = await google.colab.kernel.invokeFunction(\n",
              "            'suggestCharts', [key], {});\n",
              "      } catch (error) {\n",
              "        console.error('Error during call to suggestCharts:', error);\n",
              "      }\n",
              "      quickchartButtonEl.classList.remove('colab-df-spinner');\n",
              "      quickchartButtonEl.classList.add('colab-df-quickchart-complete');\n",
              "    }\n",
              "    (() => {\n",
              "      let quickchartButtonEl =\n",
              "        document.querySelector('#df-112f179e-3147-4203-aa53-ee4992d6a465 button');\n",
              "      quickchartButtonEl.style.display =\n",
              "        google.colab.kernel.accessAllowed ? 'block' : 'none';\n",
              "    })();\n",
              "  </script>\n",
              "</div>\n",
              "\n",
              "  <div id=\"id_2eeafb8c-9afd-4d91-992b-db79071a8eb3\">\n",
              "    <style>\n",
              "      .colab-df-generate {\n",
              "        background-color: #E8F0FE;\n",
              "        border: none;\n",
              "        border-radius: 50%;\n",
              "        cursor: pointer;\n",
              "        display: none;\n",
              "        fill: #1967D2;\n",
              "        height: 32px;\n",
              "        padding: 0 0 0 0;\n",
              "        width: 32px;\n",
              "      }\n",
              "\n",
              "      .colab-df-generate:hover {\n",
              "        background-color: #E2EBFA;\n",
              "        box-shadow: 0px 1px 2px rgba(60, 64, 67, 0.3), 0px 1px 3px 1px rgba(60, 64, 67, 0.15);\n",
              "        fill: #174EA6;\n",
              "      }\n",
              "\n",
              "      [theme=dark] .colab-df-generate {\n",
              "        background-color: #3B4455;\n",
              "        fill: #D2E3FC;\n",
              "      }\n",
              "\n",
              "      [theme=dark] .colab-df-generate:hover {\n",
              "        background-color: #434B5C;\n",
              "        box-shadow: 0px 1px 3px 1px rgba(0, 0, 0, 0.15);\n",
              "        filter: drop-shadow(0px 1px 2px rgba(0, 0, 0, 0.3));\n",
              "        fill: #FFFFFF;\n",
              "      }\n",
              "    </style>\n",
              "    <button class=\"colab-df-generate\" onclick=\"generateWithVariable('all_model_results')\"\n",
              "            title=\"Generate code using this dataframe.\"\n",
              "            style=\"display:none;\">\n",
              "\n",
              "  <svg xmlns=\"http://www.w3.org/2000/svg\" height=\"24px\"viewBox=\"0 0 24 24\"\n",
              "       width=\"24px\">\n",
              "    <path d=\"M7,19H8.4L18.45,9,17,7.55,7,17.6ZM5,21V16.75L18.45,3.32a2,2,0,0,1,2.83,0l1.4,1.43a1.91,1.91,0,0,1,.58,1.4,1.91,1.91,0,0,1-.58,1.4L9.25,21ZM18.45,9,17,7.55Zm-12,3A5.31,5.31,0,0,0,4.9,8.1,5.31,5.31,0,0,0,1,6.5,5.31,5.31,0,0,0,4.9,4.9,5.31,5.31,0,0,0,6.5,1,5.31,5.31,0,0,0,8.1,4.9,5.31,5.31,0,0,0,12,6.5,5.46,5.46,0,0,0,6.5,12Z\"/>\n",
              "  </svg>\n",
              "    </button>\n",
              "    <script>\n",
              "      (() => {\n",
              "      const buttonEl =\n",
              "        document.querySelector('#id_2eeafb8c-9afd-4d91-992b-db79071a8eb3 button.colab-df-generate');\n",
              "      buttonEl.style.display =\n",
              "        google.colab.kernel.accessAllowed ? 'block' : 'none';\n",
              "\n",
              "      buttonEl.onclick = () => {\n",
              "        google.colab.notebook.generateWithVariable('all_model_results');\n",
              "      }\n",
              "      })();\n",
              "    </script>\n",
              "  </div>\n",
              "\n",
              "    </div>\n",
              "  </div>\n"
            ]
          },
          "metadata": {},
          "execution_count": 110
        }
      ]
    },
    {
      "cell_type": "markdown",
      "source": [
        " * It seems many of our model's results are similar. This may mean there are some limitations to what can be learned from our data. When many of your modelling experiments return similar results, it's a good idea to revisit your data, we'll do this shortly."
      ],
      "metadata": {
        "id": "RVIQ-Qa1ZN9v"
      }
    },
    {
      "cell_type": "code",
      "source": [
        "# Saving and loading a trained model\n",
        "# There are two main ways of saving a model in TensorFlow:\n",
        "\n",
        "# The HDF5 format.\n",
        "# The SavedModel format (default)."
      ],
      "metadata": {
        "id": "ElvMdzuhZOKU"
      },
      "execution_count": null,
      "outputs": []
    },
    {
      "cell_type": "code",
      "source": [
        "model_6.save(\"model_6.h5\")"
      ],
      "metadata": {
        "colab": {
          "base_uri": "https://localhost:8080/"
        },
        "id": "L0R2dJ1JY3AL",
        "outputId": "89f6fd7c-fe67-4e69-afb5-76a2bdaa57bf"
      },
      "execution_count": null,
      "outputs": [
        {
          "output_type": "stream",
          "name": "stderr",
          "text": [
            "/usr/local/lib/python3.10/dist-packages/keras/src/engine/training.py:3103: UserWarning: You are saving your model as an HDF5 file via `model.save()`. This file format is considered legacy. We recommend using instead the native Keras format, e.g. `model.save('my_model.keras')`.\n",
            "  saving_api.save_model(\n"
          ]
        }
      ]
    },
    {
      "cell_type": "code",
      "source": [
        "loaded_model_6=tf.keras.models.load_model(\"model_6.h5\",\n",
        "                                          custom_objects={\"KerasLayer\":hub.KerasLayer})"
      ],
      "metadata": {
        "id": "qLF_mhS3Zmkt"
      },
      "execution_count": null,
      "outputs": []
    },
    {
      "cell_type": "code",
      "source": [
        "loaded_model_6.evaluate(val_sentences,val_labels)"
      ],
      "metadata": {
        "colab": {
          "base_uri": "https://localhost:8080/"
        },
        "id": "fKQyATnkaB9J",
        "outputId": "fab6a3fb-3e70-4bda-944e-676f722e5b72"
      },
      "execution_count": null,
      "outputs": [
        {
          "output_type": "stream",
          "name": "stdout",
          "text": [
            "24/24 [==============================] - 2s 15ms/step - loss: 0.4302 - accuracy: 0.8123\n"
          ]
        },
        {
          "output_type": "execute_result",
          "data": {
            "text/plain": [
              "[0.430151104927063, 0.8123359680175781]"
            ]
          },
          "metadata": {},
          "execution_count": 115
        }
      ]
    },
    {
      "cell_type": "code",
      "source": [
        "loaded_model_6.evaluate(val_sentences,val_labels)"
      ],
      "metadata": {
        "colab": {
          "base_uri": "https://localhost:8080/"
        },
        "id": "CVriU7UraaHi",
        "outputId": "8f307aaf-fbe6-48f2-99bb-57f98736ff7b"
      },
      "execution_count": null,
      "outputs": [
        {
          "output_type": "stream",
          "name": "stdout",
          "text": [
            "24/24 [==============================] - 1s 24ms/step - loss: 0.4302 - accuracy: 0.8123\n"
          ]
        },
        {
          "output_type": "execute_result",
          "data": {
            "text/plain": [
              "[0.430151104927063, 0.8123359680175781]"
            ]
          },
          "metadata": {},
          "execution_count": 116
        }
      ]
    },
    {
      "cell_type": "code",
      "source": [
        "# Save TF Hub Sentence Encoder model to SavedModel format (default)\n",
        "model_6.save(\"model_6_SavedModel_format\")"
      ],
      "metadata": {
        "id": "-lzh9l9hairp"
      },
      "execution_count": null,
      "outputs": []
    },
    {
      "cell_type": "markdown",
      "source": [
        "* If you use SavedModel format (default), you can reload your model without specifying custom objects using the tensorflow.keras.models.load_model() function."
      ],
      "metadata": {
        "id": "PGGwE2bYa6BS"
      }
    },
    {
      "cell_type": "code",
      "source": [
        "loaded_model_6_SavedModel=tf.keras.models.load_model(\"model_6_SavedModel_format\")"
      ],
      "metadata": {
        "id": "-Q25hd5Gau_d"
      },
      "execution_count": null,
      "outputs": []
    },
    {
      "cell_type": "code",
      "source": [
        "loaded_model_6_SavedModel.evaluate(val_sentences,val_labels)"
      ],
      "metadata": {
        "colab": {
          "base_uri": "https://localhost:8080/"
        },
        "id": "IJCHzYIkbQsz",
        "outputId": "41356ff8-5008-45ff-8f75-cb2b6b1222c1"
      },
      "execution_count": null,
      "outputs": [
        {
          "output_type": "stream",
          "name": "stdout",
          "text": [
            "24/24 [==============================] - 1s 18ms/step - loss: 0.4302 - accuracy: 0.8123\n"
          ]
        },
        {
          "output_type": "execute_result",
          "data": {
            "text/plain": [
              "[0.430151104927063, 0.8123359680175781]"
            ]
          },
          "metadata": {},
          "execution_count": 119
        }
      ]
    },
    {
      "cell_type": "markdown",
      "source": [
        "* The save_model function is used to save the entire model (i.e., model architecture, weights, optimizer state, training configuration, etc.) to disk.(HDF5 format )\n",
        "* The load_model function, on the other hand, is used to load a previously saved model from disk."
      ],
      "metadata": {
        "id": "Tk4epK36dL0K"
      }
    },
    {
      "cell_type": "markdown",
      "source": [
        "* One of the best ways to inspect your data is to sort your model's predictions and find the samples it got most wrong, meaning, what predictions had a high prediction probability but turned out to be wrong.\n",
        "\n",
        "* Once again, visualization is your friend. Visualize, visualize, visualize.\n",
        "\n",
        "* To make things visual, let's take our best performing model's prediction probabilities and classes along with the validation samples (text and ground truth labels) and combine them in a pandas DataFrame.\n",
        "\n",
        "If our best model still isn't perfect, what examples is it getting wrong?\n",
        "Which ones are the most wrong?\n",
        "Are there some labels which are wrong? E.g. the model gets it right but the ground truth label doesn't reflect thi"
      ],
      "metadata": {
        "id": "4c84wlvudqU_"
      }
    },
    {
      "cell_type": "code",
      "source": [
        "val_df = pd.DataFrame({\"text\": val_sentences,\n",
        "                       \"target\": val_labels,\n",
        "                       \"pred\": model_6_preds,\n",
        "                       \"pred_prob\": tf.squeeze(model_6_pred_probs)})\n",
        "val_df.head()"
      ],
      "metadata": {
        "colab": {
          "base_uri": "https://localhost:8080/",
          "height": 206
        },
        "id": "5plu_bWxbZ-0",
        "outputId": "ce39c7d9-92f4-455c-c34e-38edd83649ac"
      },
      "execution_count": null,
      "outputs": [
        {
          "output_type": "execute_result",
          "data": {
            "text/plain": [
              "                                                text  target  pred  pred_prob\n",
              "0  DFR EP016 Monthly Meltdown - On Dnbheaven 2015...       0   0.0   0.148487\n",
              "1  FedEx no longer to transport bioterror germs i...       0   1.0   0.749823\n",
              "2  Gunmen kill four in El Salvador bus attack: Su...       1   1.0   0.984961\n",
              "3  @camilacabello97 Internally and externally scr...       1   0.0   0.205367\n",
              "4  Radiation emergency #preparedness starts with ...       1   1.0   0.721466"
            ],
            "text/html": [
              "\n",
              "  <div id=\"df-f66cbc77-2669-4433-9e07-0a6e56a0add1\" class=\"colab-df-container\">\n",
              "    <div>\n",
              "<style scoped>\n",
              "    .dataframe tbody tr th:only-of-type {\n",
              "        vertical-align: middle;\n",
              "    }\n",
              "\n",
              "    .dataframe tbody tr th {\n",
              "        vertical-align: top;\n",
              "    }\n",
              "\n",
              "    .dataframe thead th {\n",
              "        text-align: right;\n",
              "    }\n",
              "</style>\n",
              "<table border=\"1\" class=\"dataframe\">\n",
              "  <thead>\n",
              "    <tr style=\"text-align: right;\">\n",
              "      <th></th>\n",
              "      <th>text</th>\n",
              "      <th>target</th>\n",
              "      <th>pred</th>\n",
              "      <th>pred_prob</th>\n",
              "    </tr>\n",
              "  </thead>\n",
              "  <tbody>\n",
              "    <tr>\n",
              "      <th>0</th>\n",
              "      <td>DFR EP016 Monthly Meltdown - On Dnbheaven 2015...</td>\n",
              "      <td>0</td>\n",
              "      <td>0.0</td>\n",
              "      <td>0.148487</td>\n",
              "    </tr>\n",
              "    <tr>\n",
              "      <th>1</th>\n",
              "      <td>FedEx no longer to transport bioterror germs i...</td>\n",
              "      <td>0</td>\n",
              "      <td>1.0</td>\n",
              "      <td>0.749823</td>\n",
              "    </tr>\n",
              "    <tr>\n",
              "      <th>2</th>\n",
              "      <td>Gunmen kill four in El Salvador bus attack: Su...</td>\n",
              "      <td>1</td>\n",
              "      <td>1.0</td>\n",
              "      <td>0.984961</td>\n",
              "    </tr>\n",
              "    <tr>\n",
              "      <th>3</th>\n",
              "      <td>@camilacabello97 Internally and externally scr...</td>\n",
              "      <td>1</td>\n",
              "      <td>0.0</td>\n",
              "      <td>0.205367</td>\n",
              "    </tr>\n",
              "    <tr>\n",
              "      <th>4</th>\n",
              "      <td>Radiation emergency #preparedness starts with ...</td>\n",
              "      <td>1</td>\n",
              "      <td>1.0</td>\n",
              "      <td>0.721466</td>\n",
              "    </tr>\n",
              "  </tbody>\n",
              "</table>\n",
              "</div>\n",
              "    <div class=\"colab-df-buttons\">\n",
              "\n",
              "  <div class=\"colab-df-container\">\n",
              "    <button class=\"colab-df-convert\" onclick=\"convertToInteractive('df-f66cbc77-2669-4433-9e07-0a6e56a0add1')\"\n",
              "            title=\"Convert this dataframe to an interactive table.\"\n",
              "            style=\"display:none;\">\n",
              "\n",
              "  <svg xmlns=\"http://www.w3.org/2000/svg\" height=\"24px\" viewBox=\"0 -960 960 960\">\n",
              "    <path d=\"M120-120v-720h720v720H120Zm60-500h600v-160H180v160Zm220 220h160v-160H400v160Zm0 220h160v-160H400v160ZM180-400h160v-160H180v160Zm440 0h160v-160H620v160ZM180-180h160v-160H180v160Zm440 0h160v-160H620v160Z\"/>\n",
              "  </svg>\n",
              "    </button>\n",
              "\n",
              "  <style>\n",
              "    .colab-df-container {\n",
              "      display:flex;\n",
              "      gap: 12px;\n",
              "    }\n",
              "\n",
              "    .colab-df-convert {\n",
              "      background-color: #E8F0FE;\n",
              "      border: none;\n",
              "      border-radius: 50%;\n",
              "      cursor: pointer;\n",
              "      display: none;\n",
              "      fill: #1967D2;\n",
              "      height: 32px;\n",
              "      padding: 0 0 0 0;\n",
              "      width: 32px;\n",
              "    }\n",
              "\n",
              "    .colab-df-convert:hover {\n",
              "      background-color: #E2EBFA;\n",
              "      box-shadow: 0px 1px 2px rgba(60, 64, 67, 0.3), 0px 1px 3px 1px rgba(60, 64, 67, 0.15);\n",
              "      fill: #174EA6;\n",
              "    }\n",
              "\n",
              "    .colab-df-buttons div {\n",
              "      margin-bottom: 4px;\n",
              "    }\n",
              "\n",
              "    [theme=dark] .colab-df-convert {\n",
              "      background-color: #3B4455;\n",
              "      fill: #D2E3FC;\n",
              "    }\n",
              "\n",
              "    [theme=dark] .colab-df-convert:hover {\n",
              "      background-color: #434B5C;\n",
              "      box-shadow: 0px 1px 3px 1px rgba(0, 0, 0, 0.15);\n",
              "      filter: drop-shadow(0px 1px 2px rgba(0, 0, 0, 0.3));\n",
              "      fill: #FFFFFF;\n",
              "    }\n",
              "  </style>\n",
              "\n",
              "    <script>\n",
              "      const buttonEl =\n",
              "        document.querySelector('#df-f66cbc77-2669-4433-9e07-0a6e56a0add1 button.colab-df-convert');\n",
              "      buttonEl.style.display =\n",
              "        google.colab.kernel.accessAllowed ? 'block' : 'none';\n",
              "\n",
              "      async function convertToInteractive(key) {\n",
              "        const element = document.querySelector('#df-f66cbc77-2669-4433-9e07-0a6e56a0add1');\n",
              "        const dataTable =\n",
              "          await google.colab.kernel.invokeFunction('convertToInteractive',\n",
              "                                                    [key], {});\n",
              "        if (!dataTable) return;\n",
              "\n",
              "        const docLinkHtml = 'Like what you see? Visit the ' +\n",
              "          '<a target=\"_blank\" href=https://colab.research.google.com/notebooks/data_table.ipynb>data table notebook</a>'\n",
              "          + ' to learn more about interactive tables.';\n",
              "        element.innerHTML = '';\n",
              "        dataTable['output_type'] = 'display_data';\n",
              "        await google.colab.output.renderOutput(dataTable, element);\n",
              "        const docLink = document.createElement('div');\n",
              "        docLink.innerHTML = docLinkHtml;\n",
              "        element.appendChild(docLink);\n",
              "      }\n",
              "    </script>\n",
              "  </div>\n",
              "\n",
              "\n",
              "<div id=\"df-c550caee-158c-49a8-87f2-47527ed4068d\">\n",
              "  <button class=\"colab-df-quickchart\" onclick=\"quickchart('df-c550caee-158c-49a8-87f2-47527ed4068d')\"\n",
              "            title=\"Suggest charts\"\n",
              "            style=\"display:none;\">\n",
              "\n",
              "<svg xmlns=\"http://www.w3.org/2000/svg\" height=\"24px\"viewBox=\"0 0 24 24\"\n",
              "     width=\"24px\">\n",
              "    <g>\n",
              "        <path d=\"M19 3H5c-1.1 0-2 .9-2 2v14c0 1.1.9 2 2 2h14c1.1 0 2-.9 2-2V5c0-1.1-.9-2-2-2zM9 17H7v-7h2v7zm4 0h-2V7h2v10zm4 0h-2v-4h2v4z\"/>\n",
              "    </g>\n",
              "</svg>\n",
              "  </button>\n",
              "\n",
              "<style>\n",
              "  .colab-df-quickchart {\n",
              "      --bg-color: #E8F0FE;\n",
              "      --fill-color: #1967D2;\n",
              "      --hover-bg-color: #E2EBFA;\n",
              "      --hover-fill-color: #174EA6;\n",
              "      --disabled-fill-color: #AAA;\n",
              "      --disabled-bg-color: #DDD;\n",
              "  }\n",
              "\n",
              "  [theme=dark] .colab-df-quickchart {\n",
              "      --bg-color: #3B4455;\n",
              "      --fill-color: #D2E3FC;\n",
              "      --hover-bg-color: #434B5C;\n",
              "      --hover-fill-color: #FFFFFF;\n",
              "      --disabled-bg-color: #3B4455;\n",
              "      --disabled-fill-color: #666;\n",
              "  }\n",
              "\n",
              "  .colab-df-quickchart {\n",
              "    background-color: var(--bg-color);\n",
              "    border: none;\n",
              "    border-radius: 50%;\n",
              "    cursor: pointer;\n",
              "    display: none;\n",
              "    fill: var(--fill-color);\n",
              "    height: 32px;\n",
              "    padding: 0;\n",
              "    width: 32px;\n",
              "  }\n",
              "\n",
              "  .colab-df-quickchart:hover {\n",
              "    background-color: var(--hover-bg-color);\n",
              "    box-shadow: 0 1px 2px rgba(60, 64, 67, 0.3), 0 1px 3px 1px rgba(60, 64, 67, 0.15);\n",
              "    fill: var(--button-hover-fill-color);\n",
              "  }\n",
              "\n",
              "  .colab-df-quickchart-complete:disabled,\n",
              "  .colab-df-quickchart-complete:disabled:hover {\n",
              "    background-color: var(--disabled-bg-color);\n",
              "    fill: var(--disabled-fill-color);\n",
              "    box-shadow: none;\n",
              "  }\n",
              "\n",
              "  .colab-df-spinner {\n",
              "    border: 2px solid var(--fill-color);\n",
              "    border-color: transparent;\n",
              "    border-bottom-color: var(--fill-color);\n",
              "    animation:\n",
              "      spin 1s steps(1) infinite;\n",
              "  }\n",
              "\n",
              "  @keyframes spin {\n",
              "    0% {\n",
              "      border-color: transparent;\n",
              "      border-bottom-color: var(--fill-color);\n",
              "      border-left-color: var(--fill-color);\n",
              "    }\n",
              "    20% {\n",
              "      border-color: transparent;\n",
              "      border-left-color: var(--fill-color);\n",
              "      border-top-color: var(--fill-color);\n",
              "    }\n",
              "    30% {\n",
              "      border-color: transparent;\n",
              "      border-left-color: var(--fill-color);\n",
              "      border-top-color: var(--fill-color);\n",
              "      border-right-color: var(--fill-color);\n",
              "    }\n",
              "    40% {\n",
              "      border-color: transparent;\n",
              "      border-right-color: var(--fill-color);\n",
              "      border-top-color: var(--fill-color);\n",
              "    }\n",
              "    60% {\n",
              "      border-color: transparent;\n",
              "      border-right-color: var(--fill-color);\n",
              "    }\n",
              "    80% {\n",
              "      border-color: transparent;\n",
              "      border-right-color: var(--fill-color);\n",
              "      border-bottom-color: var(--fill-color);\n",
              "    }\n",
              "    90% {\n",
              "      border-color: transparent;\n",
              "      border-bottom-color: var(--fill-color);\n",
              "    }\n",
              "  }\n",
              "</style>\n",
              "\n",
              "  <script>\n",
              "    async function quickchart(key) {\n",
              "      const quickchartButtonEl =\n",
              "        document.querySelector('#' + key + ' button');\n",
              "      quickchartButtonEl.disabled = true;  // To prevent multiple clicks.\n",
              "      quickchartButtonEl.classList.add('colab-df-spinner');\n",
              "      try {\n",
              "        const charts = await google.colab.kernel.invokeFunction(\n",
              "            'suggestCharts', [key], {});\n",
              "      } catch (error) {\n",
              "        console.error('Error during call to suggestCharts:', error);\n",
              "      }\n",
              "      quickchartButtonEl.classList.remove('colab-df-spinner');\n",
              "      quickchartButtonEl.classList.add('colab-df-quickchart-complete');\n",
              "    }\n",
              "    (() => {\n",
              "      let quickchartButtonEl =\n",
              "        document.querySelector('#df-c550caee-158c-49a8-87f2-47527ed4068d button');\n",
              "      quickchartButtonEl.style.display =\n",
              "        google.colab.kernel.accessAllowed ? 'block' : 'none';\n",
              "    })();\n",
              "  </script>\n",
              "</div>\n",
              "\n",
              "    </div>\n",
              "  </div>\n"
            ]
          },
          "metadata": {},
          "execution_count": 120
        }
      ]
    },
    {
      "cell_type": "markdown",
      "source": [
        "* Oh yeah! Now let's find our model's wrong predictions (where target != pred) and sort them by their prediction probability (the pred_prob column)."
      ],
      "metadata": {
        "id": "_t2zWv9XeKfp"
      }
    },
    {
      "cell_type": "code",
      "source": [
        "most_wrong=val_df[val_df[\"target\"]!=val_df[\"pred\"]].sort_values(\"pred_prob\",ascending=False)\n",
        "most_wrong[:10]"
      ],
      "metadata": {
        "colab": {
          "base_uri": "https://localhost:8080/",
          "height": 380
        },
        "id": "sVl4MS3cd-se",
        "outputId": "28356c10-76a3-47a7-8a0a-9cafa5d63f92"
      },
      "execution_count": null,
      "outputs": [
        {
          "output_type": "execute_result",
          "data": {
            "text/plain": [
              "                                                  text  target  pred  \\\n",
              "31   ? High Skies - Burning Buildings ? http://t.co...       0   1.0   \n",
              "759  FedEx will no longer transport bioterror patho...       0   1.0   \n",
              "393  @SonofLiberty357 all illuminated by the bright...       0   1.0   \n",
              "49   @madonnamking RSPCA site multiple 7 story high...       0   1.0   \n",
              "209  Ashes 2015: AustraliaÛªs collapse at Trent Br...       0   1.0   \n",
              "628  @noah_anyname That's where the concentration c...       0   1.0   \n",
              "109  [55436] 1950 LIONEL TRAINS SMOKE LOCOMOTIVES W...       0   1.0   \n",
              "251  @AshGhebranious civil rights continued in the ...       0   1.0   \n",
              "144                                 The Sound of Arson       0   1.0   \n",
              "698  åÈMGN-AFRICAå¨ pin:263789F4 åÈ Correction: Ten...       0   1.0   \n",
              "\n",
              "     pred_prob  \n",
              "31    0.904100  \n",
              "759   0.851534  \n",
              "393   0.847136  \n",
              "49    0.840195  \n",
              "209   0.824122  \n",
              "628   0.817443  \n",
              "109   0.778753  \n",
              "251   0.768632  \n",
              "144   0.768167  \n",
              "698   0.767967  "
            ],
            "text/html": [
              "\n",
              "  <div id=\"df-6f3db902-c69a-4ea0-8798-ae35fe976c51\" class=\"colab-df-container\">\n",
              "    <div>\n",
              "<style scoped>\n",
              "    .dataframe tbody tr th:only-of-type {\n",
              "        vertical-align: middle;\n",
              "    }\n",
              "\n",
              "    .dataframe tbody tr th {\n",
              "        vertical-align: top;\n",
              "    }\n",
              "\n",
              "    .dataframe thead th {\n",
              "        text-align: right;\n",
              "    }\n",
              "</style>\n",
              "<table border=\"1\" class=\"dataframe\">\n",
              "  <thead>\n",
              "    <tr style=\"text-align: right;\">\n",
              "      <th></th>\n",
              "      <th>text</th>\n",
              "      <th>target</th>\n",
              "      <th>pred</th>\n",
              "      <th>pred_prob</th>\n",
              "    </tr>\n",
              "  </thead>\n",
              "  <tbody>\n",
              "    <tr>\n",
              "      <th>31</th>\n",
              "      <td>? High Skies - Burning Buildings ? http://t.co...</td>\n",
              "      <td>0</td>\n",
              "      <td>1.0</td>\n",
              "      <td>0.904100</td>\n",
              "    </tr>\n",
              "    <tr>\n",
              "      <th>759</th>\n",
              "      <td>FedEx will no longer transport bioterror patho...</td>\n",
              "      <td>0</td>\n",
              "      <td>1.0</td>\n",
              "      <td>0.851534</td>\n",
              "    </tr>\n",
              "    <tr>\n",
              "      <th>393</th>\n",
              "      <td>@SonofLiberty357 all illuminated by the bright...</td>\n",
              "      <td>0</td>\n",
              "      <td>1.0</td>\n",
              "      <td>0.847136</td>\n",
              "    </tr>\n",
              "    <tr>\n",
              "      <th>49</th>\n",
              "      <td>@madonnamking RSPCA site multiple 7 story high...</td>\n",
              "      <td>0</td>\n",
              "      <td>1.0</td>\n",
              "      <td>0.840195</td>\n",
              "    </tr>\n",
              "    <tr>\n",
              "      <th>209</th>\n",
              "      <td>Ashes 2015: AustraliaÛªs collapse at Trent Br...</td>\n",
              "      <td>0</td>\n",
              "      <td>1.0</td>\n",
              "      <td>0.824122</td>\n",
              "    </tr>\n",
              "    <tr>\n",
              "      <th>628</th>\n",
              "      <td>@noah_anyname That's where the concentration c...</td>\n",
              "      <td>0</td>\n",
              "      <td>1.0</td>\n",
              "      <td>0.817443</td>\n",
              "    </tr>\n",
              "    <tr>\n",
              "      <th>109</th>\n",
              "      <td>[55436] 1950 LIONEL TRAINS SMOKE LOCOMOTIVES W...</td>\n",
              "      <td>0</td>\n",
              "      <td>1.0</td>\n",
              "      <td>0.778753</td>\n",
              "    </tr>\n",
              "    <tr>\n",
              "      <th>251</th>\n",
              "      <td>@AshGhebranious civil rights continued in the ...</td>\n",
              "      <td>0</td>\n",
              "      <td>1.0</td>\n",
              "      <td>0.768632</td>\n",
              "    </tr>\n",
              "    <tr>\n",
              "      <th>144</th>\n",
              "      <td>The Sound of Arson</td>\n",
              "      <td>0</td>\n",
              "      <td>1.0</td>\n",
              "      <td>0.768167</td>\n",
              "    </tr>\n",
              "    <tr>\n",
              "      <th>698</th>\n",
              "      <td>åÈMGN-AFRICAå¨ pin:263789F4 åÈ Correction: Ten...</td>\n",
              "      <td>0</td>\n",
              "      <td>1.0</td>\n",
              "      <td>0.767967</td>\n",
              "    </tr>\n",
              "  </tbody>\n",
              "</table>\n",
              "</div>\n",
              "    <div class=\"colab-df-buttons\">\n",
              "\n",
              "  <div class=\"colab-df-container\">\n",
              "    <button class=\"colab-df-convert\" onclick=\"convertToInteractive('df-6f3db902-c69a-4ea0-8798-ae35fe976c51')\"\n",
              "            title=\"Convert this dataframe to an interactive table.\"\n",
              "            style=\"display:none;\">\n",
              "\n",
              "  <svg xmlns=\"http://www.w3.org/2000/svg\" height=\"24px\" viewBox=\"0 -960 960 960\">\n",
              "    <path d=\"M120-120v-720h720v720H120Zm60-500h600v-160H180v160Zm220 220h160v-160H400v160Zm0 220h160v-160H400v160ZM180-400h160v-160H180v160Zm440 0h160v-160H620v160ZM180-180h160v-160H180v160Zm440 0h160v-160H620v160Z\"/>\n",
              "  </svg>\n",
              "    </button>\n",
              "\n",
              "  <style>\n",
              "    .colab-df-container {\n",
              "      display:flex;\n",
              "      gap: 12px;\n",
              "    }\n",
              "\n",
              "    .colab-df-convert {\n",
              "      background-color: #E8F0FE;\n",
              "      border: none;\n",
              "      border-radius: 50%;\n",
              "      cursor: pointer;\n",
              "      display: none;\n",
              "      fill: #1967D2;\n",
              "      height: 32px;\n",
              "      padding: 0 0 0 0;\n",
              "      width: 32px;\n",
              "    }\n",
              "\n",
              "    .colab-df-convert:hover {\n",
              "      background-color: #E2EBFA;\n",
              "      box-shadow: 0px 1px 2px rgba(60, 64, 67, 0.3), 0px 1px 3px 1px rgba(60, 64, 67, 0.15);\n",
              "      fill: #174EA6;\n",
              "    }\n",
              "\n",
              "    .colab-df-buttons div {\n",
              "      margin-bottom: 4px;\n",
              "    }\n",
              "\n",
              "    [theme=dark] .colab-df-convert {\n",
              "      background-color: #3B4455;\n",
              "      fill: #D2E3FC;\n",
              "    }\n",
              "\n",
              "    [theme=dark] .colab-df-convert:hover {\n",
              "      background-color: #434B5C;\n",
              "      box-shadow: 0px 1px 3px 1px rgba(0, 0, 0, 0.15);\n",
              "      filter: drop-shadow(0px 1px 2px rgba(0, 0, 0, 0.3));\n",
              "      fill: #FFFFFF;\n",
              "    }\n",
              "  </style>\n",
              "\n",
              "    <script>\n",
              "      const buttonEl =\n",
              "        document.querySelector('#df-6f3db902-c69a-4ea0-8798-ae35fe976c51 button.colab-df-convert');\n",
              "      buttonEl.style.display =\n",
              "        google.colab.kernel.accessAllowed ? 'block' : 'none';\n",
              "\n",
              "      async function convertToInteractive(key) {\n",
              "        const element = document.querySelector('#df-6f3db902-c69a-4ea0-8798-ae35fe976c51');\n",
              "        const dataTable =\n",
              "          await google.colab.kernel.invokeFunction('convertToInteractive',\n",
              "                                                    [key], {});\n",
              "        if (!dataTable) return;\n",
              "\n",
              "        const docLinkHtml = 'Like what you see? Visit the ' +\n",
              "          '<a target=\"_blank\" href=https://colab.research.google.com/notebooks/data_table.ipynb>data table notebook</a>'\n",
              "          + ' to learn more about interactive tables.';\n",
              "        element.innerHTML = '';\n",
              "        dataTable['output_type'] = 'display_data';\n",
              "        await google.colab.output.renderOutput(dataTable, element);\n",
              "        const docLink = document.createElement('div');\n",
              "        docLink.innerHTML = docLinkHtml;\n",
              "        element.appendChild(docLink);\n",
              "      }\n",
              "    </script>\n",
              "  </div>\n",
              "\n",
              "\n",
              "<div id=\"df-aba60bc0-498e-474a-8b91-e6b2e0a83c5d\">\n",
              "  <button class=\"colab-df-quickchart\" onclick=\"quickchart('df-aba60bc0-498e-474a-8b91-e6b2e0a83c5d')\"\n",
              "            title=\"Suggest charts\"\n",
              "            style=\"display:none;\">\n",
              "\n",
              "<svg xmlns=\"http://www.w3.org/2000/svg\" height=\"24px\"viewBox=\"0 0 24 24\"\n",
              "     width=\"24px\">\n",
              "    <g>\n",
              "        <path d=\"M19 3H5c-1.1 0-2 .9-2 2v14c0 1.1.9 2 2 2h14c1.1 0 2-.9 2-2V5c0-1.1-.9-2-2-2zM9 17H7v-7h2v7zm4 0h-2V7h2v10zm4 0h-2v-4h2v4z\"/>\n",
              "    </g>\n",
              "</svg>\n",
              "  </button>\n",
              "\n",
              "<style>\n",
              "  .colab-df-quickchart {\n",
              "      --bg-color: #E8F0FE;\n",
              "      --fill-color: #1967D2;\n",
              "      --hover-bg-color: #E2EBFA;\n",
              "      --hover-fill-color: #174EA6;\n",
              "      --disabled-fill-color: #AAA;\n",
              "      --disabled-bg-color: #DDD;\n",
              "  }\n",
              "\n",
              "  [theme=dark] .colab-df-quickchart {\n",
              "      --bg-color: #3B4455;\n",
              "      --fill-color: #D2E3FC;\n",
              "      --hover-bg-color: #434B5C;\n",
              "      --hover-fill-color: #FFFFFF;\n",
              "      --disabled-bg-color: #3B4455;\n",
              "      --disabled-fill-color: #666;\n",
              "  }\n",
              "\n",
              "  .colab-df-quickchart {\n",
              "    background-color: var(--bg-color);\n",
              "    border: none;\n",
              "    border-radius: 50%;\n",
              "    cursor: pointer;\n",
              "    display: none;\n",
              "    fill: var(--fill-color);\n",
              "    height: 32px;\n",
              "    padding: 0;\n",
              "    width: 32px;\n",
              "  }\n",
              "\n",
              "  .colab-df-quickchart:hover {\n",
              "    background-color: var(--hover-bg-color);\n",
              "    box-shadow: 0 1px 2px rgba(60, 64, 67, 0.3), 0 1px 3px 1px rgba(60, 64, 67, 0.15);\n",
              "    fill: var(--button-hover-fill-color);\n",
              "  }\n",
              "\n",
              "  .colab-df-quickchart-complete:disabled,\n",
              "  .colab-df-quickchart-complete:disabled:hover {\n",
              "    background-color: var(--disabled-bg-color);\n",
              "    fill: var(--disabled-fill-color);\n",
              "    box-shadow: none;\n",
              "  }\n",
              "\n",
              "  .colab-df-spinner {\n",
              "    border: 2px solid var(--fill-color);\n",
              "    border-color: transparent;\n",
              "    border-bottom-color: var(--fill-color);\n",
              "    animation:\n",
              "      spin 1s steps(1) infinite;\n",
              "  }\n",
              "\n",
              "  @keyframes spin {\n",
              "    0% {\n",
              "      border-color: transparent;\n",
              "      border-bottom-color: var(--fill-color);\n",
              "      border-left-color: var(--fill-color);\n",
              "    }\n",
              "    20% {\n",
              "      border-color: transparent;\n",
              "      border-left-color: var(--fill-color);\n",
              "      border-top-color: var(--fill-color);\n",
              "    }\n",
              "    30% {\n",
              "      border-color: transparent;\n",
              "      border-left-color: var(--fill-color);\n",
              "      border-top-color: var(--fill-color);\n",
              "      border-right-color: var(--fill-color);\n",
              "    }\n",
              "    40% {\n",
              "      border-color: transparent;\n",
              "      border-right-color: var(--fill-color);\n",
              "      border-top-color: var(--fill-color);\n",
              "    }\n",
              "    60% {\n",
              "      border-color: transparent;\n",
              "      border-right-color: var(--fill-color);\n",
              "    }\n",
              "    80% {\n",
              "      border-color: transparent;\n",
              "      border-right-color: var(--fill-color);\n",
              "      border-bottom-color: var(--fill-color);\n",
              "    }\n",
              "    90% {\n",
              "      border-color: transparent;\n",
              "      border-bottom-color: var(--fill-color);\n",
              "    }\n",
              "  }\n",
              "</style>\n",
              "\n",
              "  <script>\n",
              "    async function quickchart(key) {\n",
              "      const quickchartButtonEl =\n",
              "        document.querySelector('#' + key + ' button');\n",
              "      quickchartButtonEl.disabled = true;  // To prevent multiple clicks.\n",
              "      quickchartButtonEl.classList.add('colab-df-spinner');\n",
              "      try {\n",
              "        const charts = await google.colab.kernel.invokeFunction(\n",
              "            'suggestCharts', [key], {});\n",
              "      } catch (error) {\n",
              "        console.error('Error during call to suggestCharts:', error);\n",
              "      }\n",
              "      quickchartButtonEl.classList.remove('colab-df-spinner');\n",
              "      quickchartButtonEl.classList.add('colab-df-quickchart-complete');\n",
              "    }\n",
              "    (() => {\n",
              "      let quickchartButtonEl =\n",
              "        document.querySelector('#df-aba60bc0-498e-474a-8b91-e6b2e0a83c5d button');\n",
              "      quickchartButtonEl.style.display =\n",
              "        google.colab.kernel.accessAllowed ? 'block' : 'none';\n",
              "    })();\n",
              "  </script>\n",
              "</div>\n",
              "\n",
              "    </div>\n",
              "  </div>\n"
            ]
          },
          "metadata": {},
          "execution_count": 121
        }
      ]
    },
    {
      "cell_type": "markdown",
      "source": [
        "* Finally, we can write some code to visualize the sample text, truth label, prediction class and prediction probability. Because we've sorted our samples by prediction probability, viewing samples from the head of our most_wrong DataFrame will show us false positives."
      ],
      "metadata": {
        "id": "2l17hJnof27b"
      }
    },
    {
      "cell_type": "code",
      "source": [
        "# Check the false positives (model predicted 1 when should've been 0)\n",
        "for row in most_wrong[:10].itertuples(): # loop through the top 10 rows (change the index to view different rows)\n",
        "  _, text, target, pred, prob = row\n",
        "  print(f\"Target: {target}, Pred: {int(pred)}, Prob: {prob}\")\n",
        "  print(f\"Text:\\n{text}\\n\")\n",
        "  print(\"----\\n\")"
      ],
      "metadata": {
        "colab": {
          "base_uri": "https://localhost:8080/"
        },
        "id": "CHyJb4WQelev",
        "outputId": "8587ce56-ace0-424d-ad3a-0498b674789f"
      },
      "execution_count": null,
      "outputs": [
        {
          "output_type": "stream",
          "name": "stdout",
          "text": [
            "Target: 0, Pred: 1, Prob: 0.9041000008583069\n",
            "Text:\n",
            "? High Skies - Burning Buildings ? http://t.co/uVq41i3Kx2 #nowplaying\n",
            "\n",
            "----\n",
            "\n",
            "Target: 0, Pred: 1, Prob: 0.8515335917472839\n",
            "Text:\n",
            "FedEx will no longer transport bioterror pathogens in wake of anthrax lab mishaps http://t.co/lHpgxc4b8J\n",
            "\n",
            "----\n",
            "\n",
            "Target: 0, Pred: 1, Prob: 0.8471361994743347\n",
            "Text:\n",
            "@SonofLiberty357 all illuminated by the brightly burning buildings all around the town!\n",
            "\n",
            "----\n",
            "\n",
            "Target: 0, Pred: 1, Prob: 0.8401948809623718\n",
            "Text:\n",
            "@madonnamking RSPCA site multiple 7 story high rise buildings next to low density character residential in an area that floods\n",
            "\n",
            "----\n",
            "\n",
            "Target: 0, Pred: 1, Prob: 0.824122428894043\n",
            "Text:\n",
            "Ashes 2015: AustraliaÛªs collapse at Trent Bridge among worst in history: England bundled out Australia for 60 ... http://t.co/t5TrhjUAU0\n",
            "\n",
            "----\n",
            "\n",
            "Target: 0, Pred: 1, Prob: 0.8174428343772888\n",
            "Text:\n",
            "@noah_anyname That's where the concentration camps and mass murder come in. \n",
            " \n",
            "EVERY. FUCKING. TIME.\n",
            "\n",
            "----\n",
            "\n",
            "Target: 0, Pred: 1, Prob: 0.7787527441978455\n",
            "Text:\n",
            "[55436] 1950 LIONEL TRAINS SMOKE LOCOMOTIVES WITH MAGNE-TRACTION INSTRUCTIONS http://t.co/xEZBs3sq0y http://t.co/C2x0QoKGlY\n",
            "\n",
            "----\n",
            "\n",
            "Target: 0, Pred: 1, Prob: 0.7686322331428528\n",
            "Text:\n",
            "@AshGhebranious civil rights continued in the 60s. And what about trans-generational trauma? if anything we should listen to the Americans.\n",
            "\n",
            "----\n",
            "\n",
            "Target: 0, Pred: 1, Prob: 0.7681671977043152\n",
            "Text:\n",
            "The Sound of Arson\n",
            "\n",
            "----\n",
            "\n",
            "Target: 0, Pred: 1, Prob: 0.7679669260978699\n",
            "Text:\n",
            "åÈMGN-AFRICAå¨ pin:263789F4 åÈ Correction: Tent Collapse Story: Correction: Tent Collapse story åÈ http://t.co/fDJUYvZMrv @wizkidayo\n",
            "\n",
            "----\n",
            "\n"
          ]
        }
      ]
    },
    {
      "cell_type": "code",
      "source": [
        "# Check the most wrong false negatives (model predicted 0 when should've predict 1)\n",
        "for row in most_wrong[-10:].itertuples():\n",
        "  _, text, target, pred, prob = row\n",
        "  print(f\"Target: {target}, Pred: {int(pred)}, Prob: {prob}\")\n",
        "  print(f\"Text:\\n{text}\\n\")\n",
        "  print(\"----\\n\")"
      ],
      "metadata": {
        "colab": {
          "base_uri": "https://localhost:8080/"
        },
        "id": "7zMwKBQwgGmA",
        "outputId": "4168a983-8118-485a-d2bf-54c31747acfa"
      },
      "execution_count": null,
      "outputs": [
        {
          "output_type": "stream",
          "name": "stdout",
          "text": [
            "Target: 1, Pred: 0, Prob: 0.05533856153488159\n",
            "Text:\n",
            "going to redo my nails and watch behind the scenes of desolation of smaug ayyy\n",
            "\n",
            "----\n",
            "\n",
            "Target: 1, Pred: 0, Prob: 0.05531042814254761\n",
            "Text:\n",
            "Lucas Duda is Ghost Rider. Not the Nic Cage version but an actual 'engulfed in flames' badass. #Mets\n",
            "\n",
            "----\n",
            "\n",
            "Target: 1, Pred: 0, Prob: 0.0529596209526062\n",
            "Text:\n",
            "You can never escape me. Bullets don't harm me. Nothing harms me. But I know pain. I know pain. Sometimes I share it. With someone like you.\n",
            "\n",
            "----\n",
            "\n",
            "Target: 1, Pred: 0, Prob: 0.05127234756946564\n",
            "Text:\n",
            "VICTORINOX SWISS ARMY DATE WOMEN'S RUBBER MOP WATCH 241487 http://t.co/yFy3nkkcoH http://t.co/KNEhVvOHVK\n",
            "\n",
            "----\n",
            "\n",
            "Target: 1, Pred: 0, Prob: 0.049870166927576065\n",
            "Text:\n",
            "@willienelson We need help! Horses will die!Please RT &amp; sign petition!Take a stand &amp; be a voice for them! #gilbert23 https://t.co/e8dl1lNCVu\n",
            "\n",
            "----\n",
            "\n",
            "Target: 1, Pred: 0, Prob: 0.0426916666328907\n",
            "Text:\n",
            "I get to smoke my shit in peace\n",
            "\n",
            "----\n",
            "\n",
            "Target: 1, Pred: 0, Prob: 0.039118923246860504\n",
            "Text:\n",
            "@SoonerMagic_ I mean I'm a fan but I don't need a girl sounding off like a damn siren\n",
            "\n",
            "----\n",
            "\n",
            "Target: 1, Pred: 0, Prob: 0.03884648531675339\n",
            "Text:\n",
            "Reddit Will Now QuarantineÛ_ http://t.co/pkUAMXw6pm #onlinecommunities #reddit #amageddon #freespeech #Business http://t.co/PAWvNJ4sAP\n",
            "\n",
            "----\n",
            "\n",
            "Target: 1, Pred: 0, Prob: 0.03265377879142761\n",
            "Text:\n",
            "Why are you deluged with low self-image? Take the quiz: http://t.co/XsPqdOrIqj http://t.co/CQYvFR4UCy\n",
            "\n",
            "----\n",
            "\n",
            "Target: 1, Pred: 0, Prob: 0.02566445991396904\n",
            "Text:\n",
            "Ron &amp; Fez - Dave's High School Crush https://t.co/aN3W16c8F6 via @YouTube\n",
            "\n",
            "----\n",
            "\n"
          ]
        }
      ]
    },
    {
      "cell_type": "markdown",
      "source": [
        "# Making predictions on the test dataset\n",
        "Alright we've seen how our model's perform on the validation set.\n",
        "\n",
        "But how about the test dataset?\n",
        "\n",
        "We don't have labels for the test dataset so we're going to have to make some predictions and inspect them for ourselves."
      ],
      "metadata": {
        "id": "7xZtLkFggdxz"
      }
    },
    {
      "cell_type": "code",
      "source": [],
      "metadata": {
        "id": "lVYxhgZ-gSWA"
      },
      "execution_count": null,
      "outputs": []
    }
  ]
}