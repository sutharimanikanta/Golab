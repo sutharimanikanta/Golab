{
  "nbformat": 4,
  "nbformat_minor": 0,
  "metadata": {
    "colab": {
      "provenance": [],
      "gpuType": "T4"
    },
    "kernelspec": {
      "name": "python3",
      "display_name": "Python 3"
    },
    "language_info": {
      "name": "python"
    },
    "accelerator": "GPU"
  },
  "cells": [
    {
      "cell_type": "code",
      "execution_count": null,
      "metadata": {
        "id": "sxGo8D5CDbFQ"
      },
      "outputs": [],
      "source": [
        "import numpy as np\n",
        "import pandas as pd\n",
        "import matplotlib.pyplot as plt"
      ]
    },
    {
      "cell_type": "code",
      "source": [
        "data=pd.read_csv(\"/content/Indian Liver Patient Dataset (ILPD).csv\")"
      ],
      "metadata": {
        "id": "yUjOiYckD9E1"
      },
      "execution_count": null,
      "outputs": []
    },
    {
      "cell_type": "code",
      "source": [
        "data.info()"
      ],
      "metadata": {
        "colab": {
          "base_uri": "https://localhost:8080/"
        },
        "id": "oSOrjsWAEI2k",
        "outputId": "d080da6f-a81f-4948-c3cc-1b546a07d5d1"
      },
      "execution_count": null,
      "outputs": [
        {
          "output_type": "stream",
          "name": "stdout",
          "text": [
            "<class 'pandas.core.frame.DataFrame'>\n",
            "RangeIndex: 583 entries, 0 to 582\n",
            "Data columns (total 11 columns):\n",
            " #   Column            Non-Null Count  Dtype  \n",
            "---  ------            --------------  -----  \n",
            " 0   age               583 non-null    int64  \n",
            " 1   gender            583 non-null    object \n",
            " 2   tot_bilirubin     583 non-null    float64\n",
            " 3   direct_bilirubin  583 non-null    float64\n",
            " 4   tot_proteins      583 non-null    int64  \n",
            " 5   albumin           583 non-null    int64  \n",
            " 6   ag_ratio          583 non-null    int64  \n",
            " 7   sgpt              583 non-null    float64\n",
            " 8   sgot              583 non-null    float64\n",
            " 9   alkphos           579 non-null    float64\n",
            " 10  is_patient        583 non-null    int64  \n",
            "dtypes: float64(5), int64(5), object(1)\n",
            "memory usage: 50.2+ KB\n"
          ]
        }
      ]
    },
    {
      "cell_type": "code",
      "source": [
        "data.isnull().sum()"
      ],
      "metadata": {
        "colab": {
          "base_uri": "https://localhost:8080/"
        },
        "id": "0h9zXI6vEMRX",
        "outputId": "06c28533-d35a-4d4c-e369-42a04df8e622"
      },
      "execution_count": null,
      "outputs": [
        {
          "output_type": "execute_result",
          "data": {
            "text/plain": [
              "age                 0\n",
              "gender              0\n",
              "tot_bilirubin       0\n",
              "direct_bilirubin    0\n",
              "tot_proteins        0\n",
              "albumin             0\n",
              "ag_ratio            0\n",
              "sgpt                0\n",
              "sgot                0\n",
              "alkphos             4\n",
              "is_patient          0\n",
              "dtype: int64"
            ]
          },
          "metadata": {},
          "execution_count": 5
        }
      ]
    },
    {
      "cell_type": "code",
      "source": [
        "data[\"gender\"]"
      ],
      "metadata": {
        "colab": {
          "base_uri": "https://localhost:8080/"
        },
        "id": "SNpa7Z8oClB0",
        "outputId": "ec551751-5cd0-4ac0-e2f1-fe2031eefd5d"
      },
      "execution_count": null,
      "outputs": [
        {
          "output_type": "execute_result",
          "data": {
            "text/plain": [
              "0      Female\n",
              "1        Male\n",
              "2        Male\n",
              "3        Male\n",
              "4        Male\n",
              "        ...  \n",
              "578      Male\n",
              "579      Male\n",
              "580      Male\n",
              "581      Male\n",
              "582      Male\n",
              "Name: gender, Length: 583, dtype: object"
            ]
          },
          "metadata": {},
          "execution_count": 7
        }
      ]
    },
    {
      "cell_type": "code",
      "source": [
        "data[\"gender\"].replace({\"Male\":0,\"Female\":1},inplace=True)"
      ],
      "metadata": {
        "id": "tud2Mc4bESz_"
      },
      "execution_count": null,
      "outputs": []
    },
    {
      "cell_type": "code",
      "source": [
        "data.fillna(data.mean(),inplace=True)"
      ],
      "metadata": {
        "id": "-vd5iPTpFK81"
      },
      "execution_count": null,
      "outputs": []
    },
    {
      "cell_type": "code",
      "source": [
        "data.isnull().sum()"
      ],
      "metadata": {
        "colab": {
          "base_uri": "https://localhost:8080/"
        },
        "id": "BNNrPLkBFYST",
        "outputId": "19d95772-ee20-4ec1-d80f-de5fe3b10462"
      },
      "execution_count": null,
      "outputs": [
        {
          "output_type": "execute_result",
          "data": {
            "text/plain": [
              "Age                           0\n",
              "Gender                        0\n",
              "Total_Bilirubin               0\n",
              "Direct_Bilirubin              0\n",
              "Alkaline_Phosphotase          0\n",
              "Alamine_Aminotransferase      0\n",
              "Aspartate_Aminotransferase    0\n",
              "Total_Protiens                0\n",
              "Albumin                       0\n",
              "Albumin_and_Globulin_Ratio    0\n",
              "Dataset                       0\n",
              "dtype: int64"
            ]
          },
          "metadata": {},
          "execution_count": 36
        }
      ]
    },
    {
      "cell_type": "code",
      "source": [
        "#removing ouliers using z_score\n",
        "z_scores = np.abs((data - data.mean()) / data.std())\n",
        "data=data[(z_scores<3).all(axis=1)]\n",
        "print(data.shape)"
      ],
      "metadata": {
        "colab": {
          "base_uri": "https://localhost:8080/"
        },
        "id": "ZX1jeofkFdd5",
        "outputId": "c259f36a-97da-4902-f373-fe8fc321ceea"
      },
      "execution_count": null,
      "outputs": [
        {
          "output_type": "stream",
          "name": "stdout",
          "text": [
            "(536, 11)\n"
          ]
        }
      ]
    },
    {
      "cell_type": "code",
      "source": [
        "#scaling the data\n",
        "from sklearn.preprocessing import StandardScaler\n",
        "scaler=StandardScaler()\n",
        "data_scaled=scaler.fit_transform(data)\n"
      ],
      "metadata": {
        "id": "UkDT8jDGG-lK"
      },
      "execution_count": null,
      "outputs": []
    },
    {
      "cell_type": "code",
      "source": [
        "target=data[\"Dataset\"]\n",
        "data.drop(\"Dataset\",axis=1,inplace=True)\n",
        "X=data.iloc[:,:-1]\n",
        "data.info()"
      ],
      "metadata": {
        "colab": {
          "base_uri": "https://localhost:8080/"
        },
        "id": "H6vaXPCvd0An",
        "outputId": "2ffb233d-9762-4d28-f1a2-8b34a992d585"
      },
      "execution_count": null,
      "outputs": [
        {
          "output_type": "stream",
          "name": "stdout",
          "text": [
            "<class 'pandas.core.frame.DataFrame'>\n",
            "Index: 536 entries, 0 to 582\n",
            "Data columns (total 10 columns):\n",
            " #   Column                      Non-Null Count  Dtype  \n",
            "---  ------                      --------------  -----  \n",
            " 0   Age                         536 non-null    int64  \n",
            " 1   Gender                      536 non-null    int64  \n",
            " 2   Total_Bilirubin             536 non-null    float64\n",
            " 3   Direct_Bilirubin            536 non-null    float64\n",
            " 4   Alkaline_Phosphotase        536 non-null    int64  \n",
            " 5   Alamine_Aminotransferase    536 non-null    int64  \n",
            " 6   Aspartate_Aminotransferase  536 non-null    int64  \n",
            " 7   Total_Protiens              536 non-null    float64\n",
            " 8   Albumin                     536 non-null    float64\n",
            " 9   Albumin_and_Globulin_Ratio  536 non-null    float64\n",
            "dtypes: float64(5), int64(5)\n",
            "memory usage: 46.1 KB\n"
          ]
        }
      ]
    },
    {
      "cell_type": "code",
      "source": [
        "#feature extraction using pca\n",
        "from sklearn.decomposition import PCA\n",
        "pca=PCA(n_components=0.95)\n",
        "pca.fit(data_scaled)\n",
        "data_pca=pca.transform(data_scaled)\n",
        "\n",
        "print(\"Shape of original data:\", data_scaled.shape)\n",
        "print(\"Shape of reduced data using PCA:\", data_pca.shape)\n",
        "\n",
        "# Store the resultant reduced feature vectors\n",
        "X_reduced_pca = pd.DataFrame(data_pca)\n",
        "X_reduced_pca.to_csv(\"reduced_feature_vectors_pca.csv\", index=False)"
      ],
      "metadata": {
        "colab": {
          "base_uri": "https://localhost:8080/"
        },
        "id": "T64hgcPOJRtD",
        "outputId": "6c09d3ad-d6f2-4f90-89b7-aa387cf5bb64"
      },
      "execution_count": null,
      "outputs": [
        {
          "output_type": "stream",
          "name": "stdout",
          "text": [
            "Shape of original data: (536, 11)\n",
            "Shape of reduced data using PCA: (536, 8)\n"
          ]
        }
      ]
    },
    {
      "cell_type": "code",
      "source": [
        "#FACTOR ANALYSIS\n",
        "from sklearn.decomposition import FactorAnalysis\n",
        "fa=FactorAnalysis(n_components=10)\n",
        "fa.fit(data_scaled)\n",
        "data_fa=fa.transform(data_scaled)\n",
        "print(data_fa.shape)\n",
        "X_reduced_fa = pd.DataFrame(data_fa)\n",
        "X_reduced_fa.to_csv(\"reduced_feature_vectors_fa.csv\", index=False)\n",
        "#check column names after Pca\n"
      ],
      "metadata": {
        "colab": {
          "base_uri": "https://localhost:8080/"
        },
        "id": "IL6NlFk6Kxzh",
        "outputId": "66d188fb-576d-4672-b6e0-a952aa976703"
      },
      "execution_count": null,
      "outputs": [
        {
          "output_type": "stream",
          "name": "stdout",
          "text": [
            "(536, 10)\n"
          ]
        }
      ]
    },
    {
      "cell_type": "code",
      "source": [
        "#LDA\n",
        "from sklearn.discriminant_analysis import LinearDiscriminantAnalysis\n",
        "lda=LinearDiscriminantAnalysis(n_components=None)\n",
        "lda.fit(data_scaled,target)\n",
        "data_lda=lda.transform(data_scaled)\n",
        "print(data_lda.shape)\n",
        "X_reduced_lda = pd.DataFrame(data_lda)\n",
        "X_reduced_lda.to_csv(\"reduced_feature_vectors_lda.csv\", index=False)"
      ],
      "metadata": {
        "colab": {
          "base_uri": "https://localhost:8080/"
        },
        "id": "yJui4Kw8LJNc",
        "outputId": "507b4e78-e60a-4176-e0ff-929b069626d2"
      },
      "execution_count": null,
      "outputs": [
        {
          "output_type": "stream",
          "name": "stdout",
          "text": [
            "(536, 1)\n"
          ]
        }
      ]
    },
    {
      "cell_type": "code",
      "source": [
        "#integrate all the stored features into a new matrix space\n",
        "X_reduced = pd.concat([X_reduced_pca, X_reduced_fa, X_reduced_lda], axis=1)\n",
        "print(X_reduced.shape)\n",
        "X_reduced.to_csv(\"reduced_feature_vectors.csv\", index=False)\n"
      ],
      "metadata": {
        "colab": {
          "base_uri": "https://localhost:8080/"
        },
        "id": "7Yi5tangLlix",
        "outputId": "50060f86-f734-4656-8d71-428518f56f90"
      },
      "execution_count": null,
      "outputs": [
        {
          "output_type": "stream",
          "name": "stdout",
          "text": [
            "(536, 19)\n"
          ]
        }
      ]
    },
    {
      "cell_type": "code",
      "source": [],
      "metadata": {
        "id": "D4k_UGitYRyX"
      },
      "execution_count": null,
      "outputs": []
    },
    {
      "cell_type": "code",
      "source": [
        "from sklearn.neighbors import KNeighborsClassifier\n",
        "from sklearn.linear_model import LogisticRegression\n",
        "from sklearn.ensemble import RandomForestClassifier, VotingClassifier\n",
        "from sklearn.svm import SVC\n",
        "from sklearn.neural_network import MLPClassifier\n",
        "from sklearn.model_selection import cross_val_predict, StratifiedKFold,cross_val_score\n",
        "import pandas as pd\n",
        "\n",
        "# Load your processed data after PCA, LDA, and Factor Analysis\n",
        "processed_data = pd.read_csv(\"reduced_feature_vectors.csv\")\n",
        "\n",
        "\n",
        "# Prepare the models\n",
        "lr = LogisticRegression(max_iter=10000)\n",
        "knn = KNeighborsClassifier(n_neighbors=3)\n",
        "rf = RandomForestClassifier()\n",
        "svm = SVC()\n",
        "mlp = MLPClassifier(hidden_layer_sizes=(100, 50), max_iter=500, random_state=42)  # Adjust MLP parameters as needed\n",
        "\n",
        "models = {\n",
        "    \"LogisticRegression\": lr,\n",
        "    \"KNeighborsClassifier\": knn,\n",
        "    \"RandomForestClassifier\": rf,\n",
        "    \"SVC\": svm,\n",
        "    \"MLPClassifier\": mlp\n",
        "}\n",
        "\n",
        "# An ensemble classifier\n",
        "ensemble_model = VotingClassifier(estimators=[(\"knn\", knn), (\"rf\", rf), (\"svm\", svm), (\"mlp\", mlp)], voting=\"hard\")\n",
        "models[\"ensemble\"] = ensemble_model\n",
        "\n",
        "# Define the 10-fold cross-validation strategy\n",
        "kf = StratifiedKFold(n_splits=10, shuffle=True, random_state=42)\n",
        "\n",
        "# Prepare the dictionary to store results\n",
        "results = {}\n",
        "\n",
        "# Perform 10-fold cross-validation for each model\n",
        "for model_name, model in models.items():\n",
        "    cv_results = cross_val_score(model, processed_data, target, cv=kf, scoring=\"accuracy\")\n",
        "    results[model_name] = cv_results\n",
        "    print(f\"{model_name} accuracy: {cv_results.mean():.4f} (+/- {cv_results.std():.4f})\")\n",
        "\n",
        "for model_name, model in models.items():\n",
        "    y_pred = cross_val_predict(model, processed_data, target, cv=kf)\n",
        "    cm = confusion_matrix(target, y_pred)\n",
        "    print(f\"Confusion Matrix for {model_name}:\\n{cm}\")"
      ],
      "metadata": {
        "colab": {
          "base_uri": "https://localhost:8080/"
        },
        "id": "ugnzD_RyM7qR",
        "outputId": "5bddb486-4e70-4e71-99e7-448ccc6b8305"
      },
      "execution_count": null,
      "outputs": [
        {
          "output_type": "stream",
          "name": "stderr",
          "text": [
            "/usr/local/lib/python3.10/dist-packages/sklearn/linear_model/_logistic.py:458: ConvergenceWarning: lbfgs failed to converge (status=2):\n",
            "ABNORMAL_TERMINATION_IN_LNSRCH.\n",
            "\n",
            "Increase the number of iterations (max_iter) or scale the data as shown in:\n",
            "    https://scikit-learn.org/stable/modules/preprocessing.html\n",
            "Please also refer to the documentation for alternative solver options:\n",
            "    https://scikit-learn.org/stable/modules/linear_model.html#logistic-regression\n",
            "  n_iter_i = _check_optimize_result(\n",
            "/usr/local/lib/python3.10/dist-packages/sklearn/linear_model/_logistic.py:458: ConvergenceWarning: lbfgs failed to converge (status=2):\n",
            "ABNORMAL_TERMINATION_IN_LNSRCH.\n",
            "\n",
            "Increase the number of iterations (max_iter) or scale the data as shown in:\n",
            "    https://scikit-learn.org/stable/modules/preprocessing.html\n",
            "Please also refer to the documentation for alternative solver options:\n",
            "    https://scikit-learn.org/stable/modules/linear_model.html#logistic-regression\n",
            "  n_iter_i = _check_optimize_result(\n",
            "/usr/local/lib/python3.10/dist-packages/sklearn/linear_model/_logistic.py:458: ConvergenceWarning: lbfgs failed to converge (status=2):\n",
            "ABNORMAL_TERMINATION_IN_LNSRCH.\n",
            "\n",
            "Increase the number of iterations (max_iter) or scale the data as shown in:\n",
            "    https://scikit-learn.org/stable/modules/preprocessing.html\n",
            "Please also refer to the documentation for alternative solver options:\n",
            "    https://scikit-learn.org/stable/modules/linear_model.html#logistic-regression\n",
            "  n_iter_i = _check_optimize_result(\n",
            "/usr/local/lib/python3.10/dist-packages/sklearn/linear_model/_logistic.py:458: ConvergenceWarning: lbfgs failed to converge (status=2):\n",
            "ABNORMAL_TERMINATION_IN_LNSRCH.\n",
            "\n",
            "Increase the number of iterations (max_iter) or scale the data as shown in:\n",
            "    https://scikit-learn.org/stable/modules/preprocessing.html\n",
            "Please also refer to the documentation for alternative solver options:\n",
            "    https://scikit-learn.org/stable/modules/linear_model.html#logistic-regression\n",
            "  n_iter_i = _check_optimize_result(\n",
            "/usr/local/lib/python3.10/dist-packages/sklearn/linear_model/_logistic.py:458: ConvergenceWarning: lbfgs failed to converge (status=2):\n",
            "ABNORMAL_TERMINATION_IN_LNSRCH.\n",
            "\n",
            "Increase the number of iterations (max_iter) or scale the data as shown in:\n",
            "    https://scikit-learn.org/stable/modules/preprocessing.html\n",
            "Please also refer to the documentation for alternative solver options:\n",
            "    https://scikit-learn.org/stable/modules/linear_model.html#logistic-regression\n",
            "  n_iter_i = _check_optimize_result(\n",
            "/usr/local/lib/python3.10/dist-packages/sklearn/linear_model/_logistic.py:458: ConvergenceWarning: lbfgs failed to converge (status=2):\n",
            "ABNORMAL_TERMINATION_IN_LNSRCH.\n",
            "\n",
            "Increase the number of iterations (max_iter) or scale the data as shown in:\n",
            "    https://scikit-learn.org/stable/modules/preprocessing.html\n",
            "Please also refer to the documentation for alternative solver options:\n",
            "    https://scikit-learn.org/stable/modules/linear_model.html#logistic-regression\n",
            "  n_iter_i = _check_optimize_result(\n",
            "/usr/local/lib/python3.10/dist-packages/sklearn/linear_model/_logistic.py:458: ConvergenceWarning: lbfgs failed to converge (status=2):\n",
            "ABNORMAL_TERMINATION_IN_LNSRCH.\n",
            "\n",
            "Increase the number of iterations (max_iter) or scale the data as shown in:\n",
            "    https://scikit-learn.org/stable/modules/preprocessing.html\n",
            "Please also refer to the documentation for alternative solver options:\n",
            "    https://scikit-learn.org/stable/modules/linear_model.html#logistic-regression\n",
            "  n_iter_i = _check_optimize_result(\n",
            "/usr/local/lib/python3.10/dist-packages/sklearn/linear_model/_logistic.py:458: ConvergenceWarning: lbfgs failed to converge (status=2):\n",
            "ABNORMAL_TERMINATION_IN_LNSRCH.\n",
            "\n",
            "Increase the number of iterations (max_iter) or scale the data as shown in:\n",
            "    https://scikit-learn.org/stable/modules/preprocessing.html\n",
            "Please also refer to the documentation for alternative solver options:\n",
            "    https://scikit-learn.org/stable/modules/linear_model.html#logistic-regression\n",
            "  n_iter_i = _check_optimize_result(\n",
            "/usr/local/lib/python3.10/dist-packages/sklearn/linear_model/_logistic.py:458: ConvergenceWarning: lbfgs failed to converge (status=2):\n",
            "ABNORMAL_TERMINATION_IN_LNSRCH.\n",
            "\n",
            "Increase the number of iterations (max_iter) or scale the data as shown in:\n",
            "    https://scikit-learn.org/stable/modules/preprocessing.html\n",
            "Please also refer to the documentation for alternative solver options:\n",
            "    https://scikit-learn.org/stable/modules/linear_model.html#logistic-regression\n",
            "  n_iter_i = _check_optimize_result(\n",
            "/usr/local/lib/python3.10/dist-packages/sklearn/linear_model/_logistic.py:458: ConvergenceWarning: lbfgs failed to converge (status=2):\n",
            "ABNORMAL_TERMINATION_IN_LNSRCH.\n",
            "\n",
            "Increase the number of iterations (max_iter) or scale the data as shown in:\n",
            "    https://scikit-learn.org/stable/modules/preprocessing.html\n",
            "Please also refer to the documentation for alternative solver options:\n",
            "    https://scikit-learn.org/stable/modules/linear_model.html#logistic-regression\n",
            "  n_iter_i = _check_optimize_result(\n"
          ]
        },
        {
          "output_type": "stream",
          "name": "stdout",
          "text": [
            "LogisticRegression accuracy: 0.6904 (+/- 0.0063)\n",
            "KNeighborsClassifier accuracy: 1.0000 (+/- 0.0000)\n",
            "RandomForestClassifier accuracy: 1.0000 (+/- 0.0000)\n",
            "SVC accuracy: 1.0000 (+/- 0.0000)\n",
            "MLPClassifier accuracy: 1.0000 (+/- 0.0000)\n",
            "ensemble accuracy: 1.0000 (+/- 0.0000)\n",
            "Confusion Matrix for LogisticRegression:\n",
            "[[370   0]\n",
            " [166   0]]"
          ]
        },
        {
          "output_type": "stream",
          "name": "stderr",
          "text": [
            "/usr/local/lib/python3.10/dist-packages/sklearn/linear_model/_logistic.py:458: ConvergenceWarning: lbfgs failed to converge (status=2):\n",
            "ABNORMAL_TERMINATION_IN_LNSRCH.\n",
            "\n",
            "Increase the number of iterations (max_iter) or scale the data as shown in:\n",
            "    https://scikit-learn.org/stable/modules/preprocessing.html\n",
            "Please also refer to the documentation for alternative solver options:\n",
            "    https://scikit-learn.org/stable/modules/linear_model.html#logistic-regression\n",
            "  n_iter_i = _check_optimize_result(\n",
            "/usr/local/lib/python3.10/dist-packages/sklearn/linear_model/_logistic.py:458: ConvergenceWarning: lbfgs failed to converge (status=2):\n",
            "ABNORMAL_TERMINATION_IN_LNSRCH.\n",
            "\n",
            "Increase the number of iterations (max_iter) or scale the data as shown in:\n",
            "    https://scikit-learn.org/stable/modules/preprocessing.html\n",
            "Please also refer to the documentation for alternative solver options:\n",
            "    https://scikit-learn.org/stable/modules/linear_model.html#logistic-regression\n",
            "  n_iter_i = _check_optimize_result(\n",
            "/usr/local/lib/python3.10/dist-packages/sklearn/linear_model/_logistic.py:458: ConvergenceWarning: lbfgs failed to converge (status=2):\n",
            "ABNORMAL_TERMINATION_IN_LNSRCH.\n",
            "\n",
            "Increase the number of iterations (max_iter) or scale the data as shown in:\n",
            "    https://scikit-learn.org/stable/modules/preprocessing.html\n",
            "Please also refer to the documentation for alternative solver options:\n",
            "    https://scikit-learn.org/stable/modules/linear_model.html#logistic-regression\n",
            "  n_iter_i = _check_optimize_result(\n",
            "/usr/local/lib/python3.10/dist-packages/sklearn/linear_model/_logistic.py:458: ConvergenceWarning: lbfgs failed to converge (status=2):\n",
            "ABNORMAL_TERMINATION_IN_LNSRCH.\n",
            "\n",
            "Increase the number of iterations (max_iter) or scale the data as shown in:\n",
            "    https://scikit-learn.org/stable/modules/preprocessing.html\n",
            "Please also refer to the documentation for alternative solver options:\n",
            "    https://scikit-learn.org/stable/modules/linear_model.html#logistic-regression\n",
            "  n_iter_i = _check_optimize_result(\n",
            "/usr/local/lib/python3.10/dist-packages/sklearn/linear_model/_logistic.py:458: ConvergenceWarning: lbfgs failed to converge (status=2):\n",
            "ABNORMAL_TERMINATION_IN_LNSRCH.\n",
            "\n",
            "Increase the number of iterations (max_iter) or scale the data as shown in:\n",
            "    https://scikit-learn.org/stable/modules/preprocessing.html\n",
            "Please also refer to the documentation for alternative solver options:\n",
            "    https://scikit-learn.org/stable/modules/linear_model.html#logistic-regression\n",
            "  n_iter_i = _check_optimize_result(\n",
            "/usr/local/lib/python3.10/dist-packages/sklearn/linear_model/_logistic.py:458: ConvergenceWarning: lbfgs failed to converge (status=2):\n",
            "ABNORMAL_TERMINATION_IN_LNSRCH.\n",
            "\n",
            "Increase the number of iterations (max_iter) or scale the data as shown in:\n",
            "    https://scikit-learn.org/stable/modules/preprocessing.html\n",
            "Please also refer to the documentation for alternative solver options:\n",
            "    https://scikit-learn.org/stable/modules/linear_model.html#logistic-regression\n",
            "  n_iter_i = _check_optimize_result(\n",
            "/usr/local/lib/python3.10/dist-packages/sklearn/linear_model/_logistic.py:458: ConvergenceWarning: lbfgs failed to converge (status=2):\n",
            "ABNORMAL_TERMINATION_IN_LNSRCH.\n",
            "\n",
            "Increase the number of iterations (max_iter) or scale the data as shown in:\n",
            "    https://scikit-learn.org/stable/modules/preprocessing.html\n",
            "Please also refer to the documentation for alternative solver options:\n",
            "    https://scikit-learn.org/stable/modules/linear_model.html#logistic-regression\n",
            "  n_iter_i = _check_optimize_result(\n",
            "/usr/local/lib/python3.10/dist-packages/sklearn/linear_model/_logistic.py:458: ConvergenceWarning: lbfgs failed to converge (status=2):\n",
            "ABNORMAL_TERMINATION_IN_LNSRCH.\n",
            "\n",
            "Increase the number of iterations (max_iter) or scale the data as shown in:\n",
            "    https://scikit-learn.org/stable/modules/preprocessing.html\n",
            "Please also refer to the documentation for alternative solver options:\n",
            "    https://scikit-learn.org/stable/modules/linear_model.html#logistic-regression\n",
            "  n_iter_i = _check_optimize_result(\n",
            "/usr/local/lib/python3.10/dist-packages/sklearn/linear_model/_logistic.py:458: ConvergenceWarning: lbfgs failed to converge (status=2):\n",
            "ABNORMAL_TERMINATION_IN_LNSRCH.\n",
            "\n",
            "Increase the number of iterations (max_iter) or scale the data as shown in:\n",
            "    https://scikit-learn.org/stable/modules/preprocessing.html\n",
            "Please also refer to the documentation for alternative solver options:\n",
            "    https://scikit-learn.org/stable/modules/linear_model.html#logistic-regression\n",
            "  n_iter_i = _check_optimize_result(\n",
            "/usr/local/lib/python3.10/dist-packages/sklearn/linear_model/_logistic.py:458: ConvergenceWarning: lbfgs failed to converge (status=2):\n",
            "ABNORMAL_TERMINATION_IN_LNSRCH.\n",
            "\n",
            "Increase the number of iterations (max_iter) or scale the data as shown in:\n",
            "    https://scikit-learn.org/stable/modules/preprocessing.html\n",
            "Please also refer to the documentation for alternative solver options:\n",
            "    https://scikit-learn.org/stable/modules/linear_model.html#logistic-regression\n",
            "  n_iter_i = _check_optimize_result(\n"
          ]
        },
        {
          "output_type": "stream",
          "name": "stdout",
          "text": [
            "\n",
            "Confusion Matrix for KNeighborsClassifier:\n",
            "[[370   0]\n",
            " [  0 166]]\n",
            "Confusion Matrix for RandomForestClassifier:\n",
            "[[370   0]\n",
            " [  0 166]]\n",
            "Confusion Matrix for SVC:\n",
            "[[370   0]\n",
            " [  0 166]]\n",
            "Confusion Matrix for MLPClassifier:\n",
            "[[370   0]\n",
            " [  0 166]]\n",
            "Confusion Matrix for ensemble:\n",
            "[[370   0]\n",
            " [  0 166]]\n"
          ]
        }
      ]
    },
    {
      "cell_type": "code",
      "source": [
        "from sklearn.model_selection import train_test_split\n",
        "from sklearn.metrics import accuracy_score, confusion_matrix\n",
        "from sklearn.linear_model import LogisticRegression\n",
        "from sklearn.neighbors import KNeighborsClassifier\n",
        "from sklearn.naive_bayes import GaussianNB\n",
        "from sklearn.svm import SVC\n",
        "from sklearn.tree import DecisionTreeClassifier\n",
        "from sklearn.ensemble import RandomForestClassifier"
      ],
      "metadata": {
        "id": "kXUYIGQ0gUzX"
      },
      "execution_count": null,
      "outputs": []
    },
    {
      "cell_type": "code",
      "source": [
        "xtrain,xtest,ytrain,ytest=train_test_split(processed_data,target,test_size=0.25,random_state=42)\n",
        "from imblearn.over_sampling import SMOTE\n",
        "\n",
        "smote=SMOTE(random_state=42)\n",
        "xtrainba,ytrainba=smote.fit_resample(xtrain,ytrain)\n",
        "lr=LogisticRegression(class_weight=\"balanced\")\n",
        "knn=KNeighborsClassifier()\n",
        "nb=GaussianNB()\n",
        "svm=SVC(class_weight=\"balanced\")\n",
        "rf=RandomForestClassifier()\n",
        "dt=DecisionTreeClassifier()\n",
        "models=[lr,knn,nb,svm,rf,dt]\n",
        "from sklearn.neural_network import MLPClassifier\n",
        "\n",
        "# Assuming you have already imported necessary libraries and split your data\n",
        "# xtrain, xtest, ytrain, ytest = train_test_split(X, target, test_size=0.25, random_state=42)\n",
        "\n",
        "# Define MLP classifier\n",
        "mlp = MLPClassifier(hidden_layer_sizes=(100, 50), max_iter=500, random_state=42)\n",
        "\n",
        "# Add MLP to your list of models\n",
        "models.append(mlp)\n",
        "\n",
        "# Train and evaluate models\n",
        "for model in models:\n",
        "    model.fit(xtrainba, ytrainba)\n",
        "    ypred = model.predict(xtest)\n",
        "    print(model)\n",
        "    print(\"Accuracy:\", accuracy_score(ytest, ypred))\n",
        "    print(\"Confusion Matrix:\\n\", confusion_matrix(ytest, ypred))\n",
        "\n",
        "\n"
      ],
      "metadata": {
        "colab": {
          "base_uri": "https://localhost:8080/"
        },
        "id": "V4tGvdh-ge10",
        "outputId": "4aed5428-f52b-4a1c-ed58-4e4831cd7f8d"
      },
      "execution_count": null,
      "outputs": [
        {
          "output_type": "stream",
          "name": "stderr",
          "text": [
            "/usr/local/lib/python3.10/dist-packages/sklearn/linear_model/_logistic.py:458: ConvergenceWarning: lbfgs failed to converge (status=2):\n",
            "ABNORMAL_TERMINATION_IN_LNSRCH.\n",
            "\n",
            "Increase the number of iterations (max_iter) or scale the data as shown in:\n",
            "    https://scikit-learn.org/stable/modules/preprocessing.html\n",
            "Please also refer to the documentation for alternative solver options:\n",
            "    https://scikit-learn.org/stable/modules/linear_model.html#logistic-regression\n",
            "  n_iter_i = _check_optimize_result(\n"
          ]
        },
        {
          "output_type": "stream",
          "name": "stdout",
          "text": [
            "LogisticRegression(class_weight='balanced')\n",
            "Accuracy: 0.7313432835820896\n",
            "Confusion Matrix:\n",
            " [[98  0]\n",
            " [36  0]]\n",
            "KNeighborsClassifier()\n",
            "Accuracy: 1.0\n",
            "Confusion Matrix:\n",
            " [[98  0]\n",
            " [ 0 36]]\n",
            "GaussianNB()\n",
            "Accuracy: 1.0\n",
            "Confusion Matrix:\n",
            " [[98  0]\n",
            " [ 0 36]]\n",
            "SVC(class_weight='balanced')\n",
            "Accuracy: 1.0\n",
            "Confusion Matrix:\n",
            " [[98  0]\n",
            " [ 0 36]]\n",
            "RandomForestClassifier()\n",
            "Accuracy: 1.0\n",
            "Confusion Matrix:\n",
            " [[98  0]\n",
            " [ 0 36]]\n",
            "DecisionTreeClassifier()\n",
            "Accuracy: 1.0\n",
            "Confusion Matrix:\n",
            " [[98  0]\n",
            " [ 0 36]]\n",
            "MLPClassifier(hidden_layer_sizes=(100, 50), max_iter=500, random_state=42)\n",
            "Accuracy: 1.0\n",
            "Confusion Matrix:\n",
            " [[98  0]\n",
            " [ 0 36]]\n"
          ]
        }
      ]
    },
    {
      "cell_type": "code",
      "source": [
        "xtrain,xtest,ytrain,ytest=train_test_split(processed_data,target,test_size=0.25,random_state=42)\n",
        "from imblearn.under_sampling import RandomUnderSampler\n",
        "\n",
        "rus=RandomUnderSampler(random_state=42)\n",
        "xtrainbal,ytrainbal=rus.fit_resample(xtrain,ytrain)\n",
        "lr=LogisticRegression(class_weight=\"balanced\")\n",
        "knn=KNeighborsClassifier()\n",
        "nb=GaussianNB()\n",
        "svm=SVC(class_weight=\"balanced\")\n",
        "rf=RandomForestClassifier()\n",
        "dt=DecisionTreeClassifier()\n",
        "models=[lr,knn,nb,svm,rf,dt]\n",
        "from sklearn.neural_network import MLPClassifier\n",
        "\n",
        "# Assuming you have already imported necessary libraries and split your data\n",
        "# xtrain, xtest, ytrain, ytest = train_test_split(X, target, test_size=0.25, random_state=42)\n",
        "\n",
        "# Define MLP classifier\n",
        "mlp = MLPClassifier(hidden_layer_sizes=(100, 50), max_iter=500, random_state=42)\n",
        "\n",
        "# Add MLP to your list of models\n",
        "models.append(mlp)\n",
        "\n",
        "# Train and evaluate models\n",
        "for model in models:\n",
        "    model.fit(xtrainbal, ytrainbal)\n",
        "    ypred = model.predict(xtest)\n",
        "    print(model)\n",
        "    print(\"Accuracy:\", accuracy_score(ytest, ypred))\n",
        "    print(\"Confusion Matrix:\\n\", confusion_matrix(ytest, ypred))\n",
        "\n",
        "\n"
      ],
      "metadata": {
        "colab": {
          "base_uri": "https://localhost:8080/"
        },
        "id": "_7lEQlSiw5FE",
        "outputId": "84c5b2a1-3081-4bd2-931a-cd79beca833b"
      },
      "execution_count": null,
      "outputs": [
        {
          "output_type": "stream",
          "name": "stderr",
          "text": [
            "/usr/local/lib/python3.10/dist-packages/sklearn/linear_model/_logistic.py:458: ConvergenceWarning: lbfgs failed to converge (status=2):\n",
            "ABNORMAL_TERMINATION_IN_LNSRCH.\n",
            "\n",
            "Increase the number of iterations (max_iter) or scale the data as shown in:\n",
            "    https://scikit-learn.org/stable/modules/preprocessing.html\n",
            "Please also refer to the documentation for alternative solver options:\n",
            "    https://scikit-learn.org/stable/modules/linear_model.html#logistic-regression\n",
            "  n_iter_i = _check_optimize_result(\n"
          ]
        },
        {
          "output_type": "stream",
          "name": "stdout",
          "text": [
            "LogisticRegression(class_weight='balanced')\n",
            "Accuracy: 0.7313432835820896\n",
            "Confusion Matrix:\n",
            " [[98  0]\n",
            " [36  0]]\n",
            "KNeighborsClassifier()\n",
            "Accuracy: 1.0\n",
            "Confusion Matrix:\n",
            " [[98  0]\n",
            " [ 0 36]]\n",
            "GaussianNB()\n",
            "Accuracy: 1.0\n",
            "Confusion Matrix:\n",
            " [[98  0]\n",
            " [ 0 36]]\n",
            "SVC(class_weight='balanced')\n",
            "Accuracy: 1.0\n",
            "Confusion Matrix:\n",
            " [[98  0]\n",
            " [ 0 36]]\n",
            "RandomForestClassifier()\n",
            "Accuracy: 1.0\n",
            "Confusion Matrix:\n",
            " [[98  0]\n",
            " [ 0 36]]\n",
            "DecisionTreeClassifier()\n",
            "Accuracy: 1.0\n",
            "Confusion Matrix:\n",
            " [[98  0]\n",
            " [ 0 36]]\n",
            "MLPClassifier(hidden_layer_sizes=(100, 50), max_iter=500, random_state=42)\n",
            "Accuracy: 1.0\n",
            "Confusion Matrix:\n",
            " [[98  0]\n",
            " [ 0 36]]\n"
          ]
        }
      ]
    },
    {
      "cell_type": "code",
      "source": [
        "xtrain,xtest,ytrain,ytest=train_test_split(processed_data,target,test_size=0.25,random_state=42)\n",
        "from imblearn.under_sampling import RandomUnderSampler,NearMiss\n",
        "\n",
        "nm=NearMiss()\n",
        "xtrainbal,ytrainbal=nm.fit_resample(xtrain,ytrain)\n",
        "lr=LogisticRegression(class_weight=\"balanced\")\n",
        "knn=KNeighborsClassifier()\n",
        "nb=GaussianNB()\n",
        "svm=SVC(class_weight=\"balanced\")\n",
        "rf=RandomForestClassifier()\n",
        "dt=DecisionTreeClassifier()\n",
        "models=[lr,knn,nb,svm,rf,dt]\n",
        "from sklearn.neural_network import MLPClassifier\n",
        "\n",
        "# Assuming you have already imported necessary libraries and split your data\n",
        "# xtrain, xtest, ytrain, ytest = train_test_split(X, target, test_size=0.25, random_state=42)\n",
        "\n",
        "# Define MLP classifier\n",
        "mlp = MLPClassifier(hidden_layer_sizes=(100, 50), max_iter=500, random_state=42)\n",
        "\n",
        "# Add MLP to your list of models\n",
        "models.append(mlp)\n",
        "\n",
        "# Train and evaluate models\n",
        "for model in models:\n",
        "    model.fit(xtrainbal, ytrainbal)\n",
        "    ypred = model.predict(xtest)\n",
        "    print(model)\n",
        "    print(\"Accuracy:\", accuracy_score(ytest, ypred))\n",
        "    print(\"Confusion Matrix:\\n\", confusion_matrix(ytest, ypred))\n",
        "\n",
        "\n"
      ],
      "metadata": {
        "colab": {
          "base_uri": "https://localhost:8080/"
        },
        "id": "LNL-sQWJxZlo",
        "outputId": "a7cc6e46-f80b-4a39-bd37-04fc4f6fdedc"
      },
      "execution_count": null,
      "outputs": [
        {
          "output_type": "stream",
          "name": "stderr",
          "text": [
            "/usr/local/lib/python3.10/dist-packages/sklearn/linear_model/_logistic.py:458: ConvergenceWarning: lbfgs failed to converge (status=2):\n",
            "ABNORMAL_TERMINATION_IN_LNSRCH.\n",
            "\n",
            "Increase the number of iterations (max_iter) or scale the data as shown in:\n",
            "    https://scikit-learn.org/stable/modules/preprocessing.html\n",
            "Please also refer to the documentation for alternative solver options:\n",
            "    https://scikit-learn.org/stable/modules/linear_model.html#logistic-regression\n",
            "  n_iter_i = _check_optimize_result(\n"
          ]
        },
        {
          "output_type": "stream",
          "name": "stdout",
          "text": [
            "LogisticRegression(class_weight='balanced')\n",
            "Accuracy: 0.7313432835820896\n",
            "Confusion Matrix:\n",
            " [[98  0]\n",
            " [36  0]]\n",
            "KNeighborsClassifier()\n",
            "Accuracy: 1.0\n",
            "Confusion Matrix:\n",
            " [[98  0]\n",
            " [ 0 36]]\n",
            "GaussianNB()\n",
            "Accuracy: 1.0\n",
            "Confusion Matrix:\n",
            " [[98  0]\n",
            " [ 0 36]]\n",
            "SVC(class_weight='balanced')\n",
            "Accuracy: 1.0\n",
            "Confusion Matrix:\n",
            " [[98  0]\n",
            " [ 0 36]]\n",
            "RandomForestClassifier()\n",
            "Accuracy: 1.0\n",
            "Confusion Matrix:\n",
            " [[98  0]\n",
            " [ 0 36]]\n",
            "DecisionTreeClassifier()\n",
            "Accuracy: 1.0\n",
            "Confusion Matrix:\n",
            " [[98  0]\n",
            " [ 0 36]]\n",
            "MLPClassifier(hidden_layer_sizes=(100, 50), max_iter=500, random_state=42)\n",
            "Accuracy: 1.0\n",
            "Confusion Matrix:\n",
            " [[98  0]\n",
            " [ 0 36]]\n"
          ]
        }
      ]
    }
  ]
}