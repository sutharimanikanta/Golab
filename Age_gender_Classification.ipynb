{
  "nbformat": 4,
  "nbformat_minor": 0,
  "metadata": {
    "colab": {
      "provenance": [],
      "gpuType": "T4",
      "authorship_tag": "ABX9TyOTUfQOFe9/zOiMEM98yv1Q",
      "include_colab_link": true
    },
    "kernelspec": {
      "name": "python3",
      "display_name": "Python 3"
    },
    "language_info": {
      "name": "python"
    },
    "accelerator": "GPU"
  },
  "cells": [
    {
      "cell_type": "markdown",
      "metadata": {
        "id": "view-in-github",
        "colab_type": "text"
      },
      "source": [
        "<a href=\"https://colab.research.google.com/github/sutharimanikanta/Golab/blob/main/Age_gender_Classification.ipynb\" target=\"_parent\"><img src=\"https://colab.research.google.com/assets/colab-badge.svg\" alt=\"Open In Colab\"/></a>"
      ]
    },
    {
      "cell_type": "code",
      "source": [
        "import openCv"
      ],
      "metadata": {
        "id": "Q2r-u9mj4e4I"
      },
      "execution_count": null,
      "outputs": []
    },
    {
      "cell_type": "code",
      "execution_count": null,
      "metadata": {
        "id": "PC2xnCOvteMQ",
        "colab": {
          "base_uri": "https://localhost:8080/",
          "height": 202
        },
        "outputId": "6953eedb-74c2-4591-f8a4-aa45ff3a9ab7"
      },
      "outputs": [
        {
          "output_type": "stream",
          "name": "stdout",
          "text": [
            "Warning: Unknown arguments: ['-f', '/root/.local/share/jupyter/runtime/kernel-449ae5a9-4920-41ec-b83f-90ebb7e91aa8.json']\n"
          ]
        },
        {
          "output_type": "stream",
          "name": "stderr",
          "text": [
            "usage: colab_kernel_launcher.py [-h] [--input INPUT] [--device DEVICE]\n",
            "colab_kernel_launcher.py: error: unrecognized arguments: -f /root/.local/share/jupyter/runtime/kernel-449ae5a9-4920-41ec-b83f-90ebb7e91aa8.json\n"
          ]
        },
        {
          "output_type": "error",
          "ename": "SystemExit",
          "evalue": "2",
          "traceback": [
            "An exception has occurred, use %tb to see the full traceback.\n",
            "\u001b[0;31mSystemExit\u001b[0m\u001b[0;31m:\u001b[0m 2\n"
          ]
        },
        {
          "output_type": "stream",
          "name": "stderr",
          "text": [
            "/usr/local/lib/python3.10/dist-packages/IPython/core/interactiveshell.py:3561: UserWarning: To exit: use 'exit', 'quit', or Ctrl-D.\n",
            "  warn(\"To exit: use 'exit', 'quit', or Ctrl-D.\", stacklevel=1)\n"
          ]
        }
      ],
      "source": [
        "# Import required modules\n",
        "import cv2 as cv  # OpenCV library\n",
        "import math  # Mathematical operations\n",
        "import time  # Time-related operations\n",
        "import argparse  # Argument parsing\n",
        "\n",
        "# Function to detect faces and return bounding boxes\n",
        "def getFaceBox(net, frame, conf_threshold=0.7):\n",
        "    frameOpencvDnn = frame.copy()  # Create a copy of the frame\n",
        "    frameHeight = frameOpencvDnn.shape[0]  # Height of the frame\n",
        "    frameWidth = frameOpencvDnn.shape[1]  # Width of the frame\n",
        "    blob = cv.dnn.blobFromImage(frameOpencvDnn, 1.0, (300, 300), [104, 117, 123], True, False)  # Preprocess image\n",
        "\n",
        "    # Set input for the neural network and perform forward pass\n",
        "    net.setInput(blob)\n",
        "    detections = net.forward()\n",
        "    bboxes = []  # List to store bounding boxes\n",
        "    # Iterate through detected faces\n",
        "    for i in range(detections.shape[2]):\n",
        "        confidence = detections[0, 0, i, 2]  # Confidence of detection\n",
        "        if confidence > conf_threshold:  # Check if confidence is above threshold\n",
        "            # Calculate bounding box coordinates\n",
        "            x1 = int(detections[0, 0, i, 3] * frameWidth)\n",
        "            y1 = int(detections[0, 0, i, 4] * frameHeight)\n",
        "            x2 = int(detections[0, 0, i, 5] * frameWidth)\n",
        "            y2 = int(detections[0, 0, i, 6] * frameHeight)\n",
        "            bboxes.append([x1, y1, x2, y2])  # Add bounding box coordinates to list\n",
        "            # Draw bounding box on the frame\n",
        "            cv.rectangle(frameOpencvDnn, (x1, y1), (x2, y2), (0, 255, 0), int(round(frameHeight/150)), 8)\n",
        "    return frameOpencvDnn, bboxes  # Return annotated frame and bounding boxes\n",
        "\n",
        "# Argument parsing\n",
        "parser = argparse.ArgumentParser(description='Use this script to run age and gender recognition using OpenCV.')\n",
        "parser.add_argument('--input', help='Path to input image or video file. Skip this argument to capture frames from a camera.')\n",
        "parser.add_argument(\"--device\", default=\"cpu\", help=\"Device to inference on\")\n",
        "args, unknown = parser.parse_known_args()\n",
        "if unknown:\n",
        "    print(\"Warning: Unknown arguments:\", unknown)\n",
        "\n",
        "args = parser.parse_args()  # Parse command-line arguments\n",
        "\n",
        "# Load pre-trained models for face detection, age estimation, and gender recognition\n",
        "faceProto = \"/content/opencv_face_detector.pbtxt\"  # Face detection model architecture\n",
        "faceModel = \"/content/opencv_face_detector_uint8.pb\"  # Face detection model weights\n",
        "\n",
        "ageProto = \"/content/age_deploy.prototxt\"  # Age estimation model architecture\n",
        "ageModel = \"/content/age_net.caffemodel\"  # Age estimation model weights\n",
        "\n",
        "genderProto = \"/content/gender_deploy.prototxt\"  # Gender recognition model architecture\n",
        "genderModel = \"/content/gender_net.caffemodel\"  # Gender recognition model weights\n",
        "\n",
        "# Mean values for preprocessing input images for age and gender prediction\n",
        "MODEL_MEAN_VALUES = (78.4263377603, 87.7689143744, 114.895847746)\n",
        "ageList = ['(0-2)', '(4-6)', '(8-12)', '(15-20)', '(25-32)', '(38-43)', '(48-53)', '(60-100)']  # Age categories\n",
        "genderList = ['Male', 'Female']  # Gender categories\n",
        "\n",
        "# Load neural networks for age and gender prediction\n",
        "ageNet = cv.dnn.readNet(ageModel, ageProto)\n",
        "genderNet = cv.dnn.readNet(genderModel, genderProto)\n",
        "faceNet = cv.dnn.readNet(faceModel, faceProto)\n",
        "\n",
        "# Set backend and target for inference based on device\n",
        "if args.device == \"cpu\":\n",
        "    ageNet.setPreferableBackend(cv.dnn.DNN_TARGET_CPU)\n",
        "    genderNet.setPreferableBackend(cv.dnn.DNN_TARGET_CPU)\n",
        "    faceNet.setPreferableBackend(cv.dnn.DNN_TARGET_CPU)\n",
        "    print(\"Using CPU device\")\n",
        "elif args.device == \"gpu\":\n",
        "    ageNet.setPreferableBackend(cv.dnn.DNN_BACKEND_CUDA)\n",
        "    ageNet.setPreferableTarget(cv.dnn.DNN_TARGET_CUDA)\n",
        "    genderNet.setPreferableBackend(cv.dnn.DNN_BACKEND_CUDA)\n",
        "    genderNet.setPreferableTarget(cv.dnn.DNN_TARGET_CUDA)\n",
        "    faceNet.setPreferableBackend(cv.dnn.DNN_BACKEND_CUDA)\n",
        "    faceNet.setPreferableTarget(cv.dnn.DNN_TARGET_CUDA)\n",
        "    print(\"Using GPU device\")\n",
        "\n",
        "# Open video file, image file, or camera stream\n",
        "cap = cv.VideoCapture(args.input if args.input else 0)\n",
        "padding = 20  # Padding for face bounding boxes\n",
        "while cv.waitKey(1) < 0:  # Continue until key press\n",
        "    # Read frame\n",
        "    t = time.time()  # Record start time\n",
        "    hasFrame, frame = cap.read()  # Read frame from video capture\n",
        "    if not hasFrame:  # If no frame is captured, exit loop\n",
        "        cv.waitKey()\n",
        "        break\n",
        "\n",
        "    # Detect faces and get bounding boxes\n",
        "    frameFace, bboxes = getFaceBox(faceNet, frame)\n",
        "    if not bboxes:  # If no faces are detected, skip processing\n",
        "        print(\"No face Detected, Checking next frame\")\n",
        "        continue\n",
        "\n",
        "    for bbox in bboxes:  # Iterate through detected faces\n",
        "        face = frame[max(0, bbox[1]-padding):min(bbox[3]+padding, frame.shape[0]-1),\n",
        "                     max(0, bbox[0]-padding):min(bbox[2]+padding, frame.shape[1]-1)]  # Extract face region\n",
        "        blob = cv.dnn.blobFromImage(face, 1.0, (227, 227), MODEL_MEAN_VALUES, swapRB=False)  # Preprocess face image\n",
        "        genderNet.setInput(blob)  # Set input for gender prediction\n",
        "        genderPreds = genderNet.forward()  # Perform gender prediction\n",
        "        gender = genderList[genderPreds[0].argmax()]  # Get predicted gender\n",
        "        print(\"Gender : {}, conf = {:.3f}\".format(gender, genderPreds[0].max()))  # Print gender and confidence\n",
        "\n",
        "        ageNet.setInput(blob)  # Set input for age prediction\n",
        "        agePreds = ageNet.forward()  # Perform age prediction\n",
        "        age = ageList[agePreds[0].argmax()]  # Get predicted age category\n",
        "        print(\"Age : {}, conf = {:.3f}\".format(age, agePreds[0].max()))  # Print age and confidence\n",
        "\n",
        "        label = \"{},{}\".format(gender, age)  # Combine gender and age labels\n",
        "        cv.putText(frameFace, label, (bbox[0], bbox[1]-10), cv.FONT_HERSHEY_SIMPLEX, 0.8, (0, 255, 255), 2, cv.LINE_AA)  # Draw label on frame\n",
        "        cv.imshow(\"Age Gender Demo\", frameFace)  # Display annotated frame\n",
        "    print(\"time : {:.3f}\".format(time.time() - t))  # Print processing time\n",
        "\n",
        "# Commented section below is a CMake command for building OpenCV with CUDA support\n",
        "# It's provided as a reference for compiling OpenCV with CUDA on your system\n",
        "# cmake -DCMAKE_BUILD_TYPE=RELEASE -DCMAKE_INSTALL_PREFIX=~/opencv_gpu -DINSTALL_PYTHON_EXAMPLES=OFF -DINSTALL_C_EXAMPLES=OFF -DOPENCV_ENABLE_NONFREE=ON -DOPENCV_EXTRA_MODULES_PATH=~/cv2_gpu/opencv_contrib/modules -DPYTHON_EXECUTABLE=~/env/bin/python3 -DBUILD_EXAMPLES=ON -DWITH_CUDA=ON -DWITH_CUDNN=ON -DOPENCV_DNN_CUDA=ON -DENABLE_FAST_MATH=ON -DCUDA_FAST_MATH=ON -DWITH_CUBLAS=ON -DCUDA_TOOLKIT_ROOT_DIR=/usr/local/cuda-10.2 -DOpenCL_LIBRARY=/usr/local/cuda-10.2/lib64/libOpenCL.so -DOpenCL_INCLUDE_DIR=/usr/local/cuda-10.2/include/ ..\n"
      ]
    },
    {
      "cell_type": "code",
      "source": [
        "import cv2 as cv\n",
        "import argparse\n",
        "import time\n",
        "\n",
        "def getFaceBox(net, frame, conf_threshold=0.7):\n",
        "    frameOpencvDnn = frame.copy()\n",
        "    frameHeight = frameOpencvDnn.shape[0]\n",
        "    frameWidth = frameOpencvDnn.shape[1]\n",
        "    blob = cv.dnn.blobFromImage(frameOpencvDnn, 1.0, (300, 300), [104, 117, 123], True, False)\n",
        "\n",
        "    net.setInput(blob)\n",
        "    detections = net.forward()\n",
        "    bboxes = []\n",
        "\n",
        "    for i in range(detections.shape[2]):\n",
        "        confidence = detections[0, 0, i, 2]\n",
        "        if confidence > conf_threshold:\n",
        "            x1 = int(detections[0, 0, i, 3] * frameWidth)\n",
        "            y1 = int(detections[0, 0, i, 4] * frameHeight)\n",
        "            x2 = int(detections[0, 0, i, 5] * frameWidth)\n",
        "            y2 = int(detections[0, 0, i, 6] * frameHeight)\n",
        "            bboxes.append([x1, y1, x2, y2])\n",
        "\n",
        "    return frameOpencvDnn, bboxes\n",
        "\n",
        "def main(args):\n",
        "\n",
        "    # Load pre-trained models for face detection, age estimation, and gender recognition\n",
        "    faceProto = \"/content/opencv_face_detector.pbtxt\"  # Face detection model architecture\n",
        "    faceModel = \"/content/opencv_face_detector_uint8.pb\"  # Face detection model weights\n",
        "\n",
        "    ageProto = \"/content/age_deploy.prototxt\"  # Age estimation model architecture\n",
        "    ageModel = \"/content/age_net.caffemodel\"  # Age estimation model weights\n",
        "\n",
        "    genderProto = \"/content/gender_deploy.prototxt\"  # Gender recognition model architecture\n",
        "    genderModel = \"/content/gender_net.caffemodel\"  # Gender recognition model weights\n",
        "\n",
        "    MODEL_MEAN_VALUES = (78.4263377603, 87.7689143744, 114.895847746)\n",
        "    ageList = ['(0-2)', '(4-6)', '(8-12)', '(15-20)', '(25-32)', '(38-43)', '(48-53)', '(60-100)']\n",
        "    genderList = ['Male', 'Female']\n",
        "\n",
        "    faceNet = cv.dnn.readNet(faceModel, faceProto)\n",
        "    ageNet = cv.dnn.readNet(ageModel, ageProto)\n",
        "    genderNet = cv.dnn.readNet(genderModel, genderProto)\n",
        "\n",
        "    if args.device == \"gpu\":\n",
        "        faceNet.setPreferableBackend(cv.dnn.DNN_BACKEND_CUDA)\n",
        "        faceNet.setPreferableTarget(cv.dnn.DNN_TARGET_CUDA)\n",
        "        ageNet.setPreferableBackend(cv.dnn.DNN_BACKEND_CUDA)\n",
        "        ageNet.setPreferableTarget(cv.dnn.DNN_TARGET_CUDA)\n",
        "        genderNet.setPreferableBackend(cv.dnn.DNN_BACKEND_CUDA)\n",
        "        genderNet.setPreferableTarget(cv.dnn.DNN_TARGET_CUDA)\n",
        "\n",
        "    cap = cv.VideoCapture(args.input if args.input else 0)\n",
        "    padding = 20\n",
        "\n",
        "    while cv.waitKey(1) < 0:\n",
        "        t = time.time()\n",
        "        hasFrame, frame = cap.read()\n",
        "        if not hasFrame:\n",
        "            cv.waitKey()\n",
        "            break\n",
        "\n",
        "        frameFace, bboxes = getFaceBox(faceNet, frame)\n",
        "        if not bboxes:\n",
        "            print(\"No face Detected, Checking next frame\")\n",
        "            continue\n",
        "\n",
        "        for bbox in bboxes:\n",
        "            face = frame[max(0, bbox[1]-padding):min(bbox[3]+padding, frame.shape[0]-1),\n",
        "                         max(0, bbox[0]-padding):min(bbox[2]+padding, frame.shape[1]-1)]\n",
        "            blob = cv.dnn.blobFromImage(face, 1.0, (227, 227), MODEL_MEAN_VALUES, swapRB=False)\n",
        "\n",
        "            genderNet.setInput(blob)\n",
        "            genderPreds = genderNet.forward()\n",
        "            gender = genderList[genderPreds[0].argmax()]\n",
        "            print(\"Gender : {}, conf = {:.3f}\".format(gender, genderPreds[0].max()))\n",
        "\n",
        "            ageNet.setInput(blob)\n",
        "            agePreds = ageNet.forward()\n",
        "            age = ageList[agePreds[0].argmax()]\n",
        "            print(\"Age : {}, conf = {:.3f}\".format(age, agePreds[0].max()))\n",
        "\n",
        "            label = \"{},{}\".format(gender, age)\n",
        "            cv.putText(frameFace, label, (bbox[0], bbox[1]-10), cv.FONT_HERSHEY_SIMPLEX, 0.8, (0, 255, 255), 2, cv.LINE_AA)\n",
        "            cv.imshow(\"Age Gender Demo\", frameFace)\n",
        "\n",
        "        print(\"time : {:.3f}\".format(time.time() - t))\n",
        "\n",
        "if __name__ == \"__main__\":\n",
        "    parser = argparse.ArgumentParser(description='Use this script to run age and gender recognition using OpenCV.')\n",
        "    parser.add_argument('--input', help='Path to input image or video file. Skip this argument to capture frames from a camera.')\n",
        "    parser.add_argument(\"--device\", default=\"cpu\", choices=[\"cpu\", \"gpu\"], help=\"Device to inference on\")\n",
        "    args = parser.parse_args()\n",
        "    main(args)\n"
      ],
      "metadata": {
        "colab": {
          "base_uri": "https://localhost:8080/",
          "height": 184
        },
        "id": "dd97KIWY42N6",
        "outputId": "be739d6e-6110-4443-8083-ecf5dc4329af"
      },
      "execution_count": null,
      "outputs": [
        {
          "output_type": "stream",
          "name": "stderr",
          "text": [
            "usage: colab_kernel_launcher.py [-h] [--input INPUT] [--device {cpu,gpu}]\n",
            "colab_kernel_launcher.py: error: unrecognized arguments: -f /root/.local/share/jupyter/runtime/kernel-449ae5a9-4920-41ec-b83f-90ebb7e91aa8.json\n"
          ]
        },
        {
          "output_type": "error",
          "ename": "SystemExit",
          "evalue": "2",
          "traceback": [
            "An exception has occurred, use %tb to see the full traceback.\n",
            "\u001b[0;31mSystemExit\u001b[0m\u001b[0;31m:\u001b[0m 2\n"
          ]
        },
        {
          "output_type": "stream",
          "name": "stderr",
          "text": [
            "/usr/local/lib/python3.10/dist-packages/IPython/core/interactiveshell.py:3561: UserWarning: To exit: use 'exit', 'quit', or Ctrl-D.\n",
            "  warn(\"To exit: use 'exit', 'quit', or Ctrl-D.\", stacklevel=1)\n"
          ]
        }
      ]
    },
    {
      "cell_type": "code",
      "source": [
        "import cv2 as cv\n",
        "import time\n",
        "import argparse\n",
        "\n",
        "def getFaceBox(net, frame, conf_threshold=0.7):\n",
        "    frameOpencvDnn = frame.copy()\n",
        "    frameHeight = frameOpencvDnn.shape[0]\n",
        "    frameWidth = frameOpencvDnn.shape[1]\n",
        "    blob = cv.dnn.blobFromImage(frameOpencvDnn, 1.0, (300, 300), [104, 117, 123], True, False)\n",
        "\n",
        "    net.setInput(blob)\n",
        "    detections = net.forward()\n",
        "    bboxes = []\n",
        "    for i in range(detections.shape[2]):\n",
        "        confidence = detections[0, 0, i, 2]\n",
        "        if confidence > conf_threshold:\n",
        "            x1 = int(detections[0, 0, i, 3] * frameWidth)\n",
        "            y1 = int(detections[0, 0, i, 4] * frameHeight)\n",
        "            x2 = int(detections[0, 0, i, 5] * frameWidth)\n",
        "            y2 = int(detections[0, 0, i, 6] * frameHeight)\n",
        "            bboxes.append([x1, y1, x2, y2])\n",
        "            cv.rectangle(frameOpencvDnn, (x1, y1), (x2, y2), (0, 255, 0), int(round(frameHeight/150)), 8)\n",
        "    return frameOpencvDnn, bboxes\n",
        "\n",
        "\n",
        "parser = argparse.ArgumentParser(description='Use this script for face recognition using OpenCV.')\n",
        "parser.add_argument('--input', help='Path to input image or video file. Skip this argument to capture frames from a camera.')\n",
        "parser.add_argument(\"--device\", default=\"cpu\", help=\"Device to inference on\")\n",
        "\n",
        "# Parse only recognized arguments\n",
        "args, _ = parser.parse_known_args()\n",
        "\n",
        "faceProto = \"opencv_face_detector.pbtxt\"\n",
        "faceModel = \"opencv_face_detector_uint8.pb\"\n",
        "\n",
        "# Load face detection model\n",
        "faceNet = cv.dnn.readNet(faceModel, faceProto)\n",
        "\n",
        "if args.device == \"cpu\":\n",
        "    faceNet.setPreferableBackend(cv.dnn.DNN_TARGET_CPU)\n",
        "    print(\"Using CPU device\")\n",
        "elif args.device == \"gpu\":\n",
        "    faceNet.setPreferableBackend(cv.dnn.DNN_BACKEND_CUDA)\n",
        "    faceNet.setPreferableTarget(cv.dnn.DNN_TARGET_CUDA)\n",
        "    print(\"Using GPU device\")\n",
        "\n",
        "# Open a video file or an image file or a camera stream\n",
        "cap = cv.VideoCapture(args.input if args.input else 0)\n",
        "padding = 20\n",
        "\n",
        "while cv.waitKey(1) < 0:\n",
        "    # Read frame\n",
        "    t = time.time()\n",
        "    hasFrame, frame = cap.read()\n",
        "    if not hasFrame:\n",
        "        cv.waitKey()\n",
        "        break\n",
        "\n",
        "    # Detect faces in the frame\n",
        "    frameFace, bboxes = getFaceBox(faceNet, frame)\n",
        "    if not bboxes:\n",
        "        print(\"No face Detected, Checking next frame\")\n",
        "        continue\n",
        "\n",
        "    for bbox in bboxes:\n",
        "        # Draw bounding box around the face\n",
        "        cv.imshow(\"Face Detection\", frameFace)\n",
        "\n",
        "    print(\"Time taken: {:.3f} seconds\".format(time.time() - t))\n",
        "\n",
        "# Release the video capture object\n",
        "cap.release()\n",
        "cv.destroyAllWindows()\n"
      ],
      "metadata": {
        "colab": {
          "base_uri": "https://localhost:8080/"
        },
        "id": "3Bn1Snf90Njj",
        "outputId": "b6a10efa-8aac-43b0-9979-1874633dd915"
      },
      "execution_count": null,
      "outputs": [
        {
          "output_type": "stream",
          "name": "stdout",
          "text": [
            "Using CPU device\n"
          ]
        }
      ]
    },
    {
      "cell_type": "code",
      "source": [],
      "metadata": {
        "id": "EyEiM4t30OB6"
      },
      "execution_count": null,
      "outputs": []
    }
  ]
}