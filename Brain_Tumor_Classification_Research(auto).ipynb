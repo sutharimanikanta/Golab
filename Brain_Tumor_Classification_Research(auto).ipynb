{
  "nbformat": 4,
  "nbformat_minor": 0,
  "metadata": {
    "colab": {
      "provenance": [],
      "gpuType": "T4",
      "authorship_tag": "ABX9TyNFy1PLjJlq3eB3kJ8Fc1UX"
    },
    "kernelspec": {
      "name": "python3",
      "display_name": "Python 3"
    },
    "language_info": {
      "name": "python"
    },
    "accelerator": "GPU"
  },
  "cells": [
    {
      "cell_type": "code",
      "execution_count": null,
      "metadata": {
        "colab": {
          "base_uri": "https://localhost:8080/"
        },
        "id": "XfY0MMfmfkep",
        "outputId": "6e7852c8-cff1-4ea4-d05d-afe0c0143f4d"
      },
      "outputs": [
        {
          "output_type": "stream",
          "name": "stdout",
          "text": [
            "Cloning into 'Brain-Tumor-Classification-DataSet'...\n",
            "remote: Enumerating objects: 3039, done.\u001b[K\n",
            "remote: Counting objects: 100% (4/4), done.\u001b[K\n",
            "remote: Compressing objects: 100% (4/4), done.\u001b[K\n",
            "remote: Total 3039 (delta 0), reused 0 (delta 0), pack-reused 3035\u001b[K\n",
            "Receiving objects: 100% (3039/3039), 79.25 MiB | 40.02 MiB/s, done.\n"
          ]
        }
      ],
      "source": [
        "!git clone https://github.com/SartajBhuvaji/Brain-Tumor-Classification-DataSet"
      ]
    },
    {
      "cell_type": "code",
      "source": [
        "import tensorflow as tf\n",
        "from tensorflow.keras.models import Sequential\n",
        "from tensorflow.keras.layers import Dense, Dropout, Activation, Flatten\n",
        "from tensorflow.keras.layers import Conv2D, MaxPooling2D\n",
        "from tensorflow.keras.callbacks import TensorBoard, EarlyStopping\n",
        "import pickle\n",
        "import time\n",
        "import numpy as np\n",
        "import keras.optimizers\n",
        "from sklearn.metrics import classification_report"
      ],
      "metadata": {
        "id": "dKWzvZbGi2XU"
      },
      "execution_count": null,
      "outputs": []
    },
    {
      "cell_type": "code",
      "source": [
        "print(tf.__version__)"
      ],
      "metadata": {
        "colab": {
          "base_uri": "https://localhost:8080/"
        },
        "id": "Bv2kH7cwi3_7",
        "outputId": "81ff03d1-07a0-4869-f1b1-7d5283952fc2"
      },
      "execution_count": null,
      "outputs": [
        {
          "output_type": "stream",
          "name": "stdout",
          "text": [
            "2.15.0\n"
          ]
        }
      ]
    },
    {
      "cell_type": "code",
      "source": [
        "tensorboard = TensorBoard(log_dir='./logs', histogram_freq=0,\n",
        "                          write_graph=True, write_images=False)"
      ],
      "metadata": {
        "id": "NSyuJayNi5uM"
      },
      "execution_count": null,
      "outputs": []
    },
    {
      "cell_type": "code",
      "source": [
        "es = EarlyStopping(monitor='val_loss', mode='min', verbose=1, patience=5)"
      ],
      "metadata": {
        "id": "Otvq34w0i7hS"
      },
      "execution_count": null,
      "outputs": []
    },
    {
      "cell_type": "code",
      "source": [
        "import keras\n",
        "from keras.preprocessing.image import ImageDataGenerator\n",
        "import matplotlib.pyplot as plt\n",
        "import imutils\n",
        "import cv2\n",
        "import PIL.Image\n",
        "import os\n",
        "%matplotlib inline\n",
        "\n",
        "demo_datagen = ImageDataGenerator(\n",
        "    rotation_range=15,\n",
        "    width_shift_range=0.05,\n",
        "    height_shift_range=0.05,\n",
        "    rescale=1./255,\n",
        "    shear_range=0.05,\n",
        "    brightness_range=[0.1, 1.5],\n",
        "    horizontal_flip=True,\n",
        "    vertical_flip=True\n",
        ")"
      ],
      "metadata": {
        "id": "7V1DmjpljbJC"
      },
      "execution_count": null,
      "outputs": []
    },
    {
      "cell_type": "code",
      "source": [
        "#make output_dir\n",
        "import os\n",
        "output_folders=[\"glioma_tumor_o\",\"meningioma_tumor_o\",\"no_tumor_o\",\"pituitary_tumor_o\"]\n",
        "def mkdir():\n",
        "    for output_folder in output_folders:\n",
        "        os.mkdir(output_folder)\n",
        "mkdir()\n",
        "\n"
      ],
      "metadata": {
        "id": "mbyX9zAijfGv"
      },
      "execution_count": null,
      "outputs": []
    },
    {
      "cell_type": "code",
      "source": [
        "import os\n",
        "\n",
        "def mkdir():\n",
        "    os.mkdir('testfolder')\n",
        "    os.mkdir('testfolder1')\n",
        "    os.mkdir('testfolder_output')\n",
        "    os.mkdir('testfolder_output1')\n",
        "\n",
        "mkdir()\n"
      ],
      "metadata": {
        "id": "wSl1hBCOq0Vj"
      },
      "execution_count": null,
      "outputs": []
    },
    {
      "cell_type": "code",
      "source": [
        "import os\n",
        "import cv2\n",
        "import imutils\n",
        "import matplotlib.pyplot as plt\n",
        "\n",
        "def cropAndAugmentation():\n",
        "    flag1 = 0\n",
        "    flag2 = 0\n",
        "    j = 0\n",
        "    IMG_SIZE = 224\n",
        "    dim = (IMG_SIZE, IMG_SIZE)\n",
        "\n",
        "    cwd = os.getcwd()\n",
        "    directory = [\"glioma_tumor\", \"meningioma_tumor\", \"no_tumor\", \"pituitary_tumor\"]\n",
        "    directory_output = [\"glioma_tumor_o\", \"meningioma_tumor_o\", \"no_tumor_o\", \"pituitary_tumor_o\"]\n",
        "    desired_folder = \"Brain-Tumor-Classification-DataSet/Training/\"\n",
        "\n",
        "    for input_folder in directory:\n",
        "        for output_folder in directory_output:\n",
        "            input_folder_path = os.path.join(cwd, desired_folder+input_folder)  # Construct input folder path\n",
        "            output_folder_path = os.path.join(cwd, desired_folder+output_folder)  # Construct output folder path\n",
        "            if not os.path.exists(input_folder_path):\n",
        "                raise FileNotFoundError(f\"Input folder {input_folder_path} does not exist.\")\n",
        "\n",
        "            for img in os.listdir(input_folder_path):\n",
        "                image_path = os.path.join(input_folder_path, img)  # Construct full image path\n",
        "                image = cv2.imread(image_path)\n",
        "                image = cv2.resize(image, dim, interpolation=cv2.INTER_AREA)\n",
        "                gray = cv2.cvtColor(image, cv2.COLOR_RGB2GRAY)\n",
        "                gray = cv2.GaussianBlur(gray, (5, 5), 0)\n",
        "\n",
        "                # Printing original image\n",
        "                if flag1 == 0:\n",
        "                    plt.figure(figsize=(15, 6))\n",
        "                    plt.imshow(image)\n",
        "                    plt.xticks([])\n",
        "                    plt.yticks([])\n",
        "                    plt.title('Original Image')\n",
        "                    plt.show()\n",
        "                    flag1 = 1\n",
        "\n",
        "\n",
        "                thresh = cv2.threshold(gray, 45, 255, cv2.THRESH_BINARY)[1]\n",
        "                thresh = cv2.erode(thresh, None, iterations=2)\n",
        "                thresh = cv2.dilate(thresh, None, iterations=2)\n",
        "\n",
        "                cnts = cv2.findContours(thresh.copy(), cv2.RETR_EXTERNAL, cv2.CHAIN_APPROX_SIMPLE)\n",
        "                cnts = imutils.grab_contours(cnts)\n",
        "                c = max(cnts, key=cv2.contourArea)\n",
        "\n",
        "                extLeft = tuple(c[c[:, :, 0].argmin()][0])\n",
        "                extRight = tuple(c[c[:, :, 0].argmax()][0])\n",
        "                extTop = tuple(c[c[:, :, 1].argmin()][0])\n",
        "                extBot = tuple(c[c[:, :, 1].argmax()][0])\n",
        "\n",
        "                img_cnt = cv2.drawContours(image.copy(), [c], -1, (0, 255, 255), 4)\n",
        "\n",
        "                img_pnt = cv2.circle(img_cnt.copy(), extLeft, 5, (0, 0, 255), -1)\n",
        "                img_pnt = cv2.circle(img_pnt, extRight, 5, (0, 255, 0), -1)\n",
        "                img_pnt = cv2.circle(img_pnt, extTop, 5, (255, 0, 0), -1)\n",
        "                img_pnt = cv2.circle(img_pnt, extBot, 5, (255, 255, 0), -1)\n",
        "\n",
        "                ADD_PIXELS = 0\n",
        "                new_image = image[extTop[1]-ADD_PIXELS:extBot[1]+ADD_PIXELS, extLeft[0]-ADD_PIXELS:extRight[0]+ADD_PIXELS].copy()\n",
        "\n",
        "                # # Printing cropped image\n",
        "                # if flag2 == 0:\n",
        "                #     plt.figure(figsize=(15, 6))\n",
        "                #     plt.imshow(new_image)\n",
        "                #     plt.xticks([])\n",
        "                #     plt.yticks([])\n",
        "                #     plt.title('Cropped Image')\n",
        "                #     plt.show()\n",
        "                #     flag2 = 1\n",
        "\n",
        "                # # Plot intermediate steps...\n",
        "                # plt.figure(figsize=(15, 6))\n",
        "                # plt.subplot(141)\n",
        "                # plt.imshow(image)\n",
        "                # plt.xticks([])\n",
        "                # plt.yticks([])\n",
        "                # plt.title('Step 1. Original Image')\n",
        "\n",
        "                # # Draw contours on the image\n",
        "                # img_cnt = image.copy()  # Make a copy of the original image\n",
        "                # cv2.drawContours(img_cnt, cnts, -1, (0, 255, 255), 4)  # Draw all contours\n",
        "                # plt.subplot(142)\n",
        "                # plt.imshow(img_cnt)\n",
        "                # plt.xticks([])\n",
        "                # plt.yticks([])\n",
        "                # plt.title('Step 2. Contour Detection')\n",
        "\n",
        "                # plt.subplot(143)\n",
        "                # plt.imshow(thresh, cmap='gray')\n",
        "                # plt.xticks([])\n",
        "                # plt.yticks([])\n",
        "                # plt.title('Step 3. Threshold Image')\n",
        "\n",
        "                # plt.subplot(144)\n",
        "                # plt.imshow(new_image)\n",
        "                # plt.xticks([])\n",
        "                # plt.yticks([])\n",
        "                # plt.title('Step 4. Cropped Image')\n",
        "\n",
        "                # plt.show()\n",
        "\n",
        "                x = new_image\n",
        "                x = x.reshape((1,) + x.shape)\n",
        "                i = 0\n",
        "\n",
        "                for batch in demo_datagen.flow(x, batch_size=1, save_to_dir='{}'.format(output_folder), save_prefix='{}_{}'.format(input_folder,j), save_format='jpg'):\n",
        "                    i += 1\n",
        "                    if i > 20:\n",
        "                        break\n",
        "                j += 1\n",
        "\n",
        "cropAndAugmentation()\n"
      ],
      "metadata": {
        "id": "eYOHtpKJyKYk",
        "outputId": "760dcac1-e814-4a94-e9ba-f5d0ad0ba35f",
        "colab": {
          "base_uri": "https://localhost:8080/",
          "height": 521
        }
      },
      "execution_count": null,
      "outputs": [
        {
          "output_type": "display_data",
          "data": {
            "text/plain": [
              "<Figure size 1500x600 with 1 Axes>"
            ],
            "image/png": "[encoded data removed]"
          },
          "metadata": {}
        }
      ]
    },
    {
      "cell_type": "code",
      "source": [
        "import os\n",
        "\n",
        "def count_images(directory):\n",
        "    total_images = 0\n",
        "    for root, dirs, files in os.walk(directory):\n",
        "        total_images += len(files)\n",
        "    return total_images\n",
        "\n",
        "training_directory = \"/content/Brain-Tumor-Classification-DataSet/Training\"\n",
        "testing_directory = \"/content/Brain-Tumor-Classification-DataSet/Testing\"\n",
        "\n",
        "total_training_images = count_images(training_directory)\n",
        "total_testing_images = count_images(testing_directory)\n",
        "\n",
        "print(\"Total number of images in training set:\", total_training_images)\n",
        "print(\"Total number of images in testing set:\", total_testing_images)"
      ],
      "metadata": {
        "id": "ZlO2r49qwFha"
      },
      "execution_count": null,
      "outputs": []
    },
    {
      "cell_type": "code",
      "source": [
        "print(count_images(\"/content/glioma_tumor_o\"))"
      ],
      "metadata": {
        "id": "nGM2JLt8bc2w"
      },
      "execution_count": null,
      "outputs": []
    },
    {
      "cell_type": "code",
      "source": [
        "print(count_images(\"/content/Brain-Tumor-Classification-DataSet/Training/glioma_tumor\"))"
      ],
      "metadata": {
        "id": "f5yWy_Z9bod9"
      },
      "execution_count": null,
      "outputs": []
    },
    {
      "cell_type": "code",
      "source": [
        "# import os\n",
        "# import cv2\n",
        "# import matplotlib.pyplot as plt\n",
        "\n",
        "# def cropAndAugmentation():\n",
        "#     # Augmentation Code\n",
        "#     flag1 = 0\n",
        "#     flag2 = 0\n",
        "#     j = 0\n",
        "#     IMG_SIZE = 224\n",
        "#     dim = (IMG_SIZE, IMG_SIZE)\n",
        "#     cwd = os.getcwd()\n",
        "#     directory = [\"glioma_tumor\", \"meningioma_tumor\", \"no_tumor\", \"pituitary_tumor\"]\n",
        "#     directory_output = [\"glioma_tumor_o\", \"meningioma_tumor_o\", \"no_tumor_o\", \"pituitary_tumor_o\"]\n",
        "#     desired_folder = \"Brain-Tumor-Classification-DataSet/Training/\"\n",
        "\n",
        "#     for input_folder in directory:\n",
        "#         for output_folder in directory_output:\n",
        "#             input_folder_path = os.path.join(cwd, desired_folder+input_folder)  # Construct input folder path\n",
        "#             output_folder_path = os.path.join(cwd, desired_folder+output_folder)  # Construct output folder path\n",
        "#             if not os.path.exists(input_folder_path):\n",
        "#                 raise FileNotFoundError(f\"Input folder {input_folder_path} does not exist.\")\n",
        "\n",
        "\n",
        "#             for img in os.listdir(input_folder_path):\n",
        "#                 image_path = os.path.join(input_folder_path, img)  # Construct full image path\n",
        "#                 image = cv2.imread(image_path)  #\n",
        "#                 image = cv2.resize(image, dim, interpolation=cv2.INTER_AREA)\n",
        "#                 # use inter_cubic\n",
        "#                 gray = cv2.cvtColor(image, cv2.COLOR_RGB2GRAY)  # convert into gray image\n",
        "#                 gray = cv2.GaussianBlur(gray, (5, 5), 0)  # blur the image to reduce noise\n",
        "#                 # print original image\n",
        "#                 if flag1 == 0:\n",
        "#                     plt.figure(figsize=(15, 6))\n",
        "#                     plt.imshow(image)\n",
        "#                     plt.xticks([])  # to remove tickmarks\n",
        "#                     plt.yticks([])\n",
        "#                     plt.title('Step1: Before Crop')\n",
        "#                     plt.show()\n",
        "#                     flag1 = 1\n",
        "#                 # threshold the image, then perform a series of erosion\n",
        "#                 # 45 min,255 max that means <45 set to 0 and >45 set to 255\n",
        "#                 thresh = cv2.threshold(gray, 45, 255, cv2.THRESH_BINARY)[1]\n",
        "#                 thresh = cv2.erode(thresh, None, iterations=2)\n",
        "#                 thresh = cv2.dilate(thresh, None, iterations=2)\n",
        "#                 # find contours in thresholded image, then grab the largest one\n",
        "#                 cnts = cv2.findContours(thresh.copy(), cv2.RETR_EXTERNAL, cv2.CHAIN_APPROX_SIMPLE)\n",
        "#                # cnts = imutils.grab_contours(cnts)\n",
        "#                 c = max(cnts, key=cv2.contourArea)\n",
        "#                  # find the extreme points\n",
        "#                 extLeft = tuple(c[c[:, :, 0].argmin()][0])\n",
        "#                 extRight = tuple(c[c[:, :, 0].argmax()][0])\n",
        "#                 extTop = tuple(c[c[:, :, 1].argmin()][0])\n",
        "#                 extBot = tuple(c[c[:, :, 1].argmax()][0])\n",
        "#                 # add contour on the image\n",
        "#                 #to draw a countores on the image  like border\n",
        "#                 img_cnt = cv2.drawContours(image.copy(), [c], -1, (0, 255, 255), 4)\n",
        "#                 # add extreme points\n",
        "#                 img_pnt = cv2.circle(img_cnt.copy(), extLeft, 5, (0, 0, 255), -1)\n",
        "#                 img_pnt = cv2.circle(img_pnt, extRight, 5, (0, 255, 0), -1)\n",
        "#                 img_pnt = cv2.circle(img_pnt, extTop, 5, (255, 0, 0), -1)\n",
        "#                 img_pnt = cv2.circle(img_pnt, extBot, 5, (255, 255, 0), -1)\n",
        "#                 # apply crop\n",
        "#                 ADD_PIXELS = 0\n",
        "#                 new_image = image[extTop[1]-ADD_PIXELS:extBot[1]+ADD_PIXELS, extLeft[0]-ADD_PIXELS:extRight[0]+ADD_PIXELS].copy()\n",
        "#          # print after crop\n",
        "#                # '''  # Comment this section during execution\n",
        "#                 if flag2==0:\n",
        "#                   plt.figure(figsize=(15,6))\n",
        "#                   plt.imshow(new_image)\n",
        "#                   plt.xticks([])\n",
        "#                   plt.yticks([])\n",
        "#                   plt.title('Step2: After Crop')\n",
        "#                   plt.show()\n",
        "#                  #plot_crops()\n",
        "#                   flag2=1\n",
        "#                # '''  #Display crops----------------------------------------------------------\n",
        "#                   #def plot_crops()\n",
        "#                   # '''  # Comment this section during execution\n",
        "#                   plt.figure(figsize=(15,6))\n",
        "#                   plt.subplot(141)\n",
        "#                   plt.imshow(image)\n",
        "#                   plt.xticks([])\n",
        "#                   plt.yticks([])\n",
        "#                   plt.title('Step 1. Get the original image')\n",
        "#                   plt.subplot(142)\n",
        "#                   plt.imshow(img_cnt)\n",
        "#                   plt.xticks([])\n",
        "#                   plt.yticks([])\n",
        "#                   plt.title('Step 2. Find the biggest contour')\n",
        "#                   plt.subplot(143)\n",
        "#                   plt.imshow(img_pnt)\n",
        "#                   plt.xticks([])\n",
        "#                   plt.yticks([])\n",
        "#                   plt.title('Step 3. Find the extreme points')\n",
        "#                   plt.subplot(144)\n",
        "#                   plt.imshow(new_image)\n",
        "#                   plt.xticks([])\n",
        "#                   plt.yticks([])\n",
        "#                   plt.title('Step 4. Crop the image')\n",
        "#                   plt.show()\n",
        "#                    ## AUGMENTATION STARTS HERE---------------------------------------------\n",
        "#                   x = new_image\n",
        "#                   #x = cv2.resize(x, dim)\n",
        "#                   x = x.reshape((1,) + x.shape)\n",
        "#                   i = 0\n",
        "#                   # Save data to folder testfolder_output\n",
        "#                   for batch in demo_datagen.flow(x, batch_size=1, save_to_dir='{}'.format(output_folder), save_prefix='{}_{}'.format(input_folder,j), save_format='jpg'):\n",
        "\n",
        "#                     i += 1\n",
        "#                     if i > 20:\n",
        "#                         break\n",
        "#                     j+=1\n",
        "#                   #            # '''  # Comment this section during execution\n",
        "#                   # plt.imshow(x[0])\n",
        "#                   # plt.xticks([])\n",
        "#                   # plt.yticks([])\n",
        "#                   # plt.title('Original Image')\n",
        "#                   plt.show()\n",
        "\n",
        "#                   # plt.figure(figsize=(15,6))\n",
        "\n",
        "#                   # i = 1\n",
        "#                   # for img in os.listdir('testfolder_output/'):\n",
        "#                   #     img = cv2.cv2.imread('testfolder_output/' + img)\n",
        "#                   #     img = cv2.cvtColor(img, cv2.COLOR_BGR2RGB)\n",
        "#                   #     plt.subplot(3,7,i)\n",
        "#                   #     plt.imshow(img)\n",
        "#                   #     plt.xticks([])\n",
        "#                   #     plt.yticks([])\n",
        "#                   #     i += 1\n",
        "#                   #     if i > 3*7:\n",
        "#                   #         break\n",
        "#                   # plt.suptitle('Augemented Images')\n",
        "#                   # plt.show()\n",
        "#                   # # '''\n",
        "\n",
        "\n",
        "\n",
        "\n",
        "# cropAndAugmentation()\n"
      ],
      "metadata": {
        "id": "nUzI6aMkjiaR"
      },
      "execution_count": null,
      "outputs": []
    },
    {
      "cell_type": "code",
      "source": [],
      "metadata": {
        "id": "FfAAHRQav-Mz"
      },
      "execution_count": null,
      "outputs": []
    },
    {
      "cell_type": "code",
      "source": [
        "# var =([resized_image, rotated_image, flipped_image], ['resized', 'rotated', 'flipped']):\n",
        "# for processed_image, postfix in var\n",
        "#     print(processed_image)"
      ],
      "metadata": {
        "id": "r8Zz0vethlEo"
      },
      "execution_count": null,
      "outputs": []
    },
    {
      "cell_type": "code",
      "source": [
        "from google.colab.patches import cv2_imshow"
      ],
      "metadata": {
        "id": "cxEm853ld0An"
      },
      "execution_count": null,
      "outputs": []
    },
    {
      "cell_type": "code",
      "source": [],
      "metadata": {
        "id": "F2u4_19bcp6Q"
      },
      "execution_count": null,
      "outputs": []
    },
    {
      "cell_type": "code",
      "source": [
        "file=\"/content/glioma_tumor_o\"\n",
        "len(file)"
      ],
      "metadata": {
        "id": "o6scPR6nmLF5"
      },
      "execution_count": null,
      "outputs": []
    },
    {
      "cell_type": "code",
      "source": [
        "\n",
        "import os\n",
        "import cv2\n",
        "import numpy as np\n",
        "import matplotlib.pyplot as plt\n",
        "flag1 = 0  # Declare flag1 as global variable\n",
        "flag2 = 0\n",
        "j = 0\n",
        "\n",
        "\n",
        "def cropAndAugmentation():\n",
        "    global flag1  # Declare flag1 as global within the function\n",
        "    global flag2\n",
        "    global j\n",
        "    # Augmentation Code\n",
        "    IMG_SIZE = 80\n",
        "    ADD_PIXELS = 5  # Adjust as needed\n",
        "    dim = (IMG_SIZE, IMG_SIZE)\n",
        "    cwd = os.getcwd()\n",
        "    input_folders = [\"glioma_tumor\", \"meningioma_tumor\", \"no_tumor\", \"pituitary_tumor\"]\n",
        "    output_folders = [\"glioma_tumor_o\", \"meningioma_tumor_o\", \"no_tumor_o\", \"pituitary_tumor_o\"]\n",
        "    desired_folder = \"Brain-Tumor-Classification-DataSet/Training/\"\n",
        "    for input_folder, output_folder in zip(input_folders, output_folders):\n",
        "        input_folder_path = os.path.join(cwd, desired_folder + input_folder)  # Construct input folder path\n",
        "        output_folder_path = os.path.join(cwd, desired_folder + output_folder)  # Construct output folder path\n",
        "        for img in os.listdir(input_folder_path):\n",
        "            image_path = os.path.join(input_folder_path, img)\n",
        "            image = cv2.imread(image_path)\n",
        "                # Thresholding\n",
        "            thresh = cv2.threshold(image, 45, 255, cv2.THRESH_BINARY)[1]\n",
        "            thresh = cv2.erode(thresh, None, iterations=2)\n",
        "            thresh = cv2.dilate(thresh, None, iterations=2)\n",
        "             # Convert to single-channel format (CV_8UC1)\n",
        "            thresh = cv2.cvtColor(thresh, cv2.COLOR_BGR2GRAY)\n",
        "\n",
        "            # Find contours in thresholded image\n",
        "            cnts, _ = cv2.findContours(thresh.copy(), cv2.RETR_EXTERNAL, cv2.CHAIN_APPROX_SIMPLE)\n",
        "\n",
        "            # If contours are found\n",
        "            if cnts:\n",
        "                c = max(cnts, key=cv2.contourArea)\n",
        "\n",
        "                # Find extreme points\n",
        "                extLeft = tuple(c[c[:, :, 0].argmin()][0])\n",
        "                extRight = tuple(c[c[:, :, 0].argmax()][0])\n",
        "                extTop = tuple(c[c[:, :, 1].argmin()][0])\n",
        "                extBot = tuple(c[c[:, :, 1].argmax()][0])\n",
        "\n",
        "                # Add contour on the image\n",
        "                img_cnt = cv2.drawContours(image.copy(), [c], -1, (0, 255, 255), 4)\n",
        "\n",
        "                # Add extreme points\n",
        "                img_pnt = cv2.circle(img_cnt.copy(), extLeft, 5, (0, 0, 255), -1)\n",
        "                img_pnt = cv2.circle(img_pnt, extRight, 5, (0, 255, 0), -1)\n",
        "                img_pnt = cv2.circle(img_pnt, extTop, 5, (255, 0, 0), -1)\n",
        "                img_pnt = cv2.circle(img_pnt, extBot, 5, (255, 255, 0), -1)\n",
        "                # Resize images for the three datasets\n",
        "            resized_image = cv2.resize(image, dim, interpolation=cv2.INTER_AREA)\n",
        "            rotated_image = cv2.rotate(resized_image, cv2.ROTATE_90_CLOCKWISE)\n",
        "            flipped_image = cv2.flip(resized_image, 1)  # Flip along the vertical direction\n",
        "\n",
        "            cv2.imwrite(os.path.join(output_folder_path, f\"resized_{img}\"), resized_image)\n",
        "            cv2.imwrite(os.path.join(output_folder_path, f\"rotated_{img}\"), rotated_image)\n",
        "            cv2.imwrite(os.path.join(output_folder_path, f\"flipped_{img}\"), flipped_image)\n",
        "    # Continue with contour detection and extreme points identification\n",
        "\n",
        "            if flag1 == 0:\n",
        "               plt.figure(figsize=(15, 6))\n",
        "               plt.imshow(image)\n",
        "               plt.xticks([])  # to remove tickmarks\n",
        "               plt.yticks([])\n",
        "               plt.title('Step1: Before Crop')\n",
        "               plt.show()\n",
        "               flag1 = 1\n",
        "\n",
        "\n",
        "\n",
        "\n",
        "            # Resize the image to the desired size (e.g., 100x100)\n",
        "            resized_img_pnt = cv2.resize(img_pnt, (100, 100), interpolation=cv2.INTER_AREA)\n",
        "            i = 1\n",
        "            for img in os.listdir('testfolder_output/'):\n",
        "                img = cv2.cv2.imread('testfolder_output/' + img)\n",
        "                img = cv2.cvtColor(img, cv2.COLOR_BGR2RGB)\n",
        "                plt.subplot(3,7,i)\n",
        "                plt.imshow(img)\n",
        "                plt.xticks([])\n",
        "                plt.yticks([])\n",
        "                i += 1\n",
        "                if i > 3*7:\n",
        "                    break\n",
        "            plt.suptitle('Augemented Images')\n",
        "            plt.show()\n",
        "            # Display the results\n",
        "            # plt.figure(figsize=(15, 6))\n",
        "            # plt.subplot(131), plt.imshow(image), plt.title('Original Image')\n",
        "            # plt.subplot(132), plt.imshow(img_cnt), plt.title('Contour Detection')\n",
        "            # plt.subplot(133), plt.imshow(resized_img_pnt), plt.title('Extreme Points (Resized)')\n",
        "            # plt.show()\n",
        "\n",
        "# Execute the function\n",
        "cropAndAugmentation()\n"
      ],
      "metadata": {
        "id": "vus1P7jKo6ss"
      },
      "execution_count": null,
      "outputs": []
    },
    {
      "cell_type": "code",
      "source": [
        "%pwd"
      ],
      "metadata": {
        "id": "-oSDmojMjstY"
      },
      "execution_count": null,
      "outputs": []
    },
    {
      "cell_type": "code",
      "source": [
        "TEST_DIR = '/content/Brain-Tumor-Classification-DataSet/Testing' # test data folder\n",
        "TRAIN_DIR = '/content/Brain-Tumor-Classification-DataSet/Training' # train data folder\n",
        "IMG_SIZE = 150 # image size\n",
        "CATEGORIES =[\"glioma_tumor\", \"meningioma_tumor\", \"no_tumor\", \"pituitary_tumor\"]"
      ],
      "metadata": {
        "id": "Ub9KT0NBkU46"
      },
      "execution_count": null,
      "outputs": []
    },
    {
      "cell_type": "code",
      "source": [
        "from tqdm import tqdm\n",
        "import random"
      ],
      "metadata": {
        "id": "WLmAyy9okZ1T"
      },
      "execution_count": null,
      "outputs": []
    },
    {
      "cell_type": "code",
      "source": [
        "training_data = []\n",
        "\n",
        "def create_training_data():\n",
        "  for category in CATEGORIES:\n",
        "    path = os.path.join(TRAIN_DIR,category)  # create path\n",
        "    class_num = CATEGORIES.index(category)  # get the classification\n",
        "    #print(class_num)\n",
        "    for img in tqdm(os.listdir(path)):\n",
        "       # iterate over each image per dogs and cats\n",
        "       img_array = cv2.imread(os.path.join(path,img) ,cv2.IMREAD_COLOR)  # convert to array\n",
        "       new_array = cv2.resize(img_array, (IMG_SIZE, IMG_SIZE))  # resize to normalize data size\n",
        "       training_data.append([new_array, class_num])  # add this to our training_data\n",
        "\n",
        "  random.shuffle(training_data)\n",
        "create_training_data()"
      ],
      "metadata": {
        "id": "euscPkanjxUH"
      },
      "execution_count": null,
      "outputs": []
    },
    {
      "cell_type": "code",
      "source": [
        "np.save('train_data.npy', training_data)\n",
        "print(len(training_data))\n",
        "print(\"train data\")\n",
        "print()\n"
      ],
      "metadata": {
        "id": "i1NFmcvzj3IS"
      },
      "execution_count": null,
      "outputs": []
    },
    {
      "cell_type": "code",
      "source": [
        "X_train = np.array([i[0] for i in training_data]).reshape(-1,IMG_SIZE,IMG_SIZE,3)\n",
        "Y_train = [i[1] for i in training_data]# features"
      ],
      "metadata": {
        "id": "dwbiyWYAj5cJ"
      },
      "execution_count": null,
      "outputs": []
    },
    {
      "cell_type": "code",
      "source": [
        "print(len(X_train))"
      ],
      "metadata": {
        "id": "29BEHc7_ffWw"
      },
      "execution_count": null,
      "outputs": []
    },
    {
      "cell_type": "code",
      "source": [
        "testing_data = []\n",
        "\n",
        "def create_testing_data():\n",
        "  for category in CATEGORIES:\n",
        "    path = os.path.join(TEST_DIR,category)  # create path\n",
        "    class_num = CATEGORIES.index(category)  # get the classification\n",
        "    #print(class_num)\n",
        "    for img in tqdm(os.listdir(path)):\n",
        "       # iterate over each image per dogs and cats\n",
        "       img_array1 = cv2.imread(os.path.join(path,img) ,cv2.IMREAD_COLOR)  # convert to array\n",
        "       new_array1= cv2.resize(img_array1, (IMG_SIZE, IMG_SIZE))  # resize to normalize data size\n",
        "       testing_data.append([new_array1, class_num])  # add this to our training_data\n",
        "\n",
        "  random.shuffle(testing_data)\n",
        "create_testing_data()"
      ],
      "metadata": {
        "id": "K6K3ADXJj7gd"
      },
      "execution_count": null,
      "outputs": []
    },
    {
      "cell_type": "code",
      "source": [
        "np.save('test_data.npy',testing_data)\n",
        "print(len(testing_data))\n",
        "print(\"test data\")\n",
        "print()\n"
      ],
      "metadata": {
        "id": "EK1r23wEkASX"
      },
      "execution_count": null,
      "outputs": []
    },
    {
      "cell_type": "code",
      "source": [
        "print(394+2870\n",
        "      )"
      ],
      "metadata": {
        "id": "TsSWqjIAmMPO"
      },
      "execution_count": null,
      "outputs": []
    },
    {
      "cell_type": "code",
      "source": [
        "X_test = np.array([i[0] for i in testing_data]).reshape(-1,IMG_SIZE,IMG_SIZE,3)\n",
        "Y_test = [i[1] for i in testing_data]\n",
        "\n"
      ],
      "metadata": {
        "id": "1cXAhptfkCSK"
      },
      "execution_count": null,
      "outputs": []
    },
    {
      "cell_type": "code",
      "source": [
        "import tensorflow as tf\n",
        "from tensorflow import keras\n",
        "from tensorflow.keras.models import Model\n",
        "from tensorflow.keras.layers import Dense, Conv2D, Flatten, MaxPooling2D, Activation, Dropout\n",
        "from tensorflow.keras.losses import sparse_categorical_crossentropy\n",
        "from tensorflow.keras.optimizers import Adam\n",
        "from tensorflow.keras.callbacks import TensorBoard, EarlyStopping\n",
        "import time\n",
        "import numpy as np\n",
        "from sklearn.metrics import classification_report"
      ],
      "metadata": {
        "id": "e9cnTJt7kEG4"
      },
      "execution_count": null,
      "outputs": []
    },
    {
      "cell_type": "code",
      "source": [
        "import matplotlib.pyplot as plt\n",
        "import numpy as np\n",
        "import pandas as pd\n",
        "import tensorflow as tf\n",
        "\n",
        "from sklearn.metrics import accuracy_score, precision_score, recall_score\n",
        "from sklearn.model_selection import train_test_split\n",
        "from tensorflow.keras import layers, losses\n",
        "from tensorflow.keras.datasets import fashion_mnist\n",
        "from tensorflow.keras.models import Model"
      ],
      "metadata": {
        "id": "xPwFre6VrMUk"
      },
      "execution_count": null,
      "outputs": []
    },
    {
      "cell_type": "code",
      "source": [
        "from tensorflow.keras import Model\n",
        "from tensorflow.keras import layers\n",
        "from tensorflow.keras.layers import UpSampling2D\n",
        "from tensorflow.keras.layers import BatchNormalization\n"
      ],
      "metadata": {
        "id": "ld4hE8buswcL"
      },
      "execution_count": null,
      "outputs": []
    },
    {
      "cell_type": "markdown",
      "source": [
        "# code provided by the researcher"
      ],
      "metadata": {
        "id": "nNp1xdkhsy95"
      }
    },
    {
      "cell_type": "code",
      "source": [
        "\n",
        "class Autoencoder(Model):\n",
        "  def __init__(self, latent_dim, shape):\n",
        "    super(Autoencoder, self).__init__()\n",
        "    self.latent_dim = latent_dim\n",
        "    self.shape = shape\n",
        "    self.encoder = tf.keras.Sequential([\n",
        "      layers.Conv2D(128, (3, 3), input_shape=X_train.shape[1:] ),\n",
        "      layers.Conv2D(128, (3, 3)),\n",
        "      layers.MaxPooling2D(pool_size=(2, 2)),\n",
        "      layers.add(Dropout(0.1)),\n",
        "      layers.Conv2D(64, (3, 3)),\n",
        "      layers.Conv2D(64, (3, 3)),\n",
        "      layers.MaxPooling2D(pool_size=(2, 2)),\n",
        "      layers.add(Dropout(0.1)),\n",
        "      layers.Conv2D(32, (3, 3)),\n",
        "      layers.Flatten(),\n",
        "      layers.Dense(4,activation=\"relu\"),\n",
        "    ])\n",
        "    self.decoder = tf.keras.Sequential([\n",
        "      layers.Conv2D(32, (2, 2)),\n",
        "      layers.UpSampling2D(size=(2, 2)),\n",
        "      layers.Conv2D(64, (2, 2)),\n",
        "      layers.Conv2D(64, (2, 2)),\n",
        "      layers.UpSampling2D(size=(2, 2)),\n",
        "      layers.Conv2D(128, (2, 2)),\n",
        "      layers.Conv2D(128, (2, 2)),\n",
        "      layers.UpSampling2D(size=(2, 2)),\n",
        "      layers.Dense(tf.math.reduce_prod(shape), activation='sigmoid'),\n",
        "      layers.Reshape(shape)\n",
        "    ])\n",
        "\n",
        "  def call(self, x):\n",
        "    encoded = self.encoder(x)\n",
        "    decoded = self.decoder(encoded)\n",
        "    return decoded\n",
        "\n",
        "\n",
        "shape = X_test.shape[1:]\n",
        "latent_dim = 4\n",
        "autoencoder = Autoencoder(latent_dim, shape)"
      ],
      "metadata": {
        "id": "wvfLljYzrOJO"
      },
      "execution_count": null,
      "outputs": []
    },
    {
      "cell_type": "code",
      "source": [
        " #Convert Y_train and Y_test to NumPy arrays\n",
        "import numpy as np\n",
        "\n",
        "# Convert data types of Y_train and Y_test to uint8\n",
        "Y_train = np.array(Y_train, dtype=np.uint8)\n",
        "Y_test = np.array(Y_test, dtype=np.uint8)\n",
        "\n"
      ],
      "metadata": {
        "id": "-4CUgDeq-Jtt"
      },
      "execution_count": null,
      "outputs": []
    },
    {
      "cell_type": "code",
      "source": [
        " #Convert Y_train and Y_test to NumPy arrays\n",
        "import numpy as np\n",
        "\n",
        "# Convert data types of Y_train and Y_test to uint8\n",
        "X_train = np.array(X_train, dtype=np.uint8)\n",
        "X_test = np.array(X_test, dtype=np.uint8)\n",
        "\n"
      ],
      "metadata": {
        "id": "OENHngW9FUlv"
      },
      "execution_count": null,
      "outputs": []
    },
    {
      "cell_type": "markdown",
      "source": [
        "**Working code research code**"
      ],
      "metadata": {
        "id": "FGqXuM-Bs8Y6"
      }
    },
    {
      "source": [
        "class Autoencoder(Model):\n",
        "  def __init__(self, latent_dim, shape):\n",
        "    super(Autoencoder, self).__init__()\n",
        "    self.latent_dim = latent_dim\n",
        "    self.shape = shape\n",
        "    self.encoder = tf.keras.Sequential([\n",
        "      layers.Conv2D(128, (3, 3), input_shape=X_train.shape[1:] ),\n",
        "      layers.Conv2D(128, (3, 3)),\n",
        "      layers.Dropout(0.1),\n",
        "      layers.MaxPooling2D(pool_size=(2, 2)),\n",
        "      layers.Conv2D(64, (3, 3)),\n",
        "      layers.Conv2D(64, (3, 3)),\n",
        "      layers.Dropout(0.1),\n",
        "      layers.MaxPooling2D(pool_size=(2, 2)),\n",
        "      layers.Conv2D(32, (3, 3)),\n",
        "      layers.Flatten(),\n",
        "      layers.Dense(4,activation=\"relu\"),\n",
        "    ])\n",
        "    self.decoder = tf.keras.Sequential([\n",
        "      layers.Conv2D(32, (2, 2)),\n",
        "      layers.UpSampling2D(size=(2, 2)),#88\n",
        "      layers.Conv2D(64, (2, 2)),\n",
        "      layers.Conv2D(64, (2, 2)),\n",
        "      layers.UpSampling2D(size=(2, 2)),#44\n",
        "      layers.Conv2D(128, (2, 2)),\n",
        "      layers.Conv2D(128, (2, 2)),\n",
        "      layers.UpSampling2D(size=(2, 2)),#22\n",
        "      layers.Dense(tf.math.reduce_prod(shape), activation='sigmoid'),\n",
        "      layers.Reshape(shape)\n",
        "    ])\n",
        "\n",
        "  def call(self, x):\n",
        "    encoded = self.encoder(x)\n",
        "    decoded = self.decoder(encoded)\n",
        "    return decoded\n",
        "\n",
        "\n",
        "shape = X_train.shape[1:]\n",
        "latent_dim = 4\n",
        "autoencoder = Autoencoder(latent_dim, shape)"
      ],
      "cell_type": "code",
      "metadata": {
        "id": "jqCSFS277_8H"
      },
      "execution_count": null,
      "outputs": []
    },
    {
      "cell_type": "code",
      "source": [
        "autoencoder.compile(loss='sparse_categorical_crossentropy',\n",
        "                          optimizer=\"adam\",\n",
        "                          metrics=['accuracy'])"
      ],
      "metadata": {
        "id": "yoFcvAVzsrMu"
      },
      "execution_count": null,
      "outputs": []
    },
    {
      "source": [
        "autoencoder.fit(X_train, X_train,\n",
        "                epochs=10,\n",
        "                validation_data=(X_train, X_train))"
      ],
      "cell_type": "code",
      "metadata": {
        "id": "tMVi2CsfEWDk"
      },
      "execution_count": null,
      "outputs": []
    },
    {
      "cell_type": "code",
      "source": [
        "print(X_train.shape)"
      ],
      "metadata": {
        "id": "GOF5FfnjDVTd"
      },
      "execution_count": null,
      "outputs": []
    },
    {
      "cell_type": "code",
      "source": [
        "print(X_test.shape)"
      ],
      "metadata": {
        "id": "WFiP7DckE8GR"
      },
      "execution_count": null,
      "outputs": []
    },
    {
      "cell_type": "code",
      "source": [],
      "metadata": {
        "id": "VAOEAEJ9EVmr"
      },
      "execution_count": null,
      "outputs": []
    },
    {
      "cell_type": "markdown",
      "source": [
        "# working code"
      ],
      "metadata": {
        "id": "7ctwo-40tcVj"
      }
    },
    {
      "cell_type": "code",
      "source": [
        "class Autoencoder(Model):\n",
        "    def __init__(self, latent_dim, shape):\n",
        "        super(Autoencoder, self).__init__()\n",
        "        self.latent_dim = latent_dim\n",
        "        self.shape = shape\n",
        "        self.encoder = tf.keras.Sequential([\n",
        "            layers.Conv2D(128, (3, 3), input_shape=shape),\n",
        "            layers.Conv2D(128, (3, 3)),\n",
        "            layers.Dropout(0.1),\n",
        "            layers.MaxPooling2D(pool_size=(2, 2)),\n",
        "            layers.Conv2D(64, (3, 3)),\n",
        "            layers.Conv2D(64, (3, 3)),\n",
        "            layers.Dropout(0.1),\n",
        "            layers.MaxPooling2D(pool_size=(2, 2)),\n",
        "            layers.Conv2D(32, (3, 3)),\n",
        "            layers.Flatten(),\n",
        "            layers.Dense(latent_dim, activation=\"relu\"),  # Adjusted to latent_dim\n",
        "        ])\n",
        "        self.decoder = tf.keras.Sequential([\n",
        "            layers.Reshape((1, 1, latent_dim)),  # Reshape to match the output shape of encoder\n",
        "            layers.Conv2DTranspose(32, (2, 2)),\n",
        "            layers.UpSampling2D(size=(8, 8)),\n",
        "            layers.Conv2DTranspose(64, (2, 2)),\n",
        "            layers.Conv2DTranspose(64, (2, 2)),\n",
        "            layers.UpSampling2D(size=(4, 4)),\n",
        "            layers.Conv2DTranspose(128, (2, 2)),\n",
        "            layers.Conv2DTranspose(128, (2, 2)),\n",
        "            layers.UpSampling2D(size=(2, 2)),\n",
        "            layers.Conv2DTranspose(shape[-1], (3, 3), activation='sigmoid'),  # Adjusted to shape[-1]\n",
        "        ])\n",
        "\n",
        "    def call(self, x):\n",
        "        encoded = self.encoder(x)\n",
        "        decoded = self.decoder(encoded)\n",
        "        return decoded\n",
        "\n",
        "# Assuming shape is properly defined\n",
        "shape = X_test.shape[1:]\n",
        "latent_dim = 4\n",
        "autoencoder = Autoencoder(latent_dim, shape)\n"
      ],
      "metadata": {
        "id": "LcIG8QO9AFjZ"
      },
      "execution_count": null,
      "outputs": []
    },
    {
      "cell_type": "code",
      "source": [
        "autoencoder.compile(loss='mse',\n",
        "                          optimizer=\"adam\",\n",
        "                          metrics=['accuracy'])"
      ],
      "metadata": {
        "id": "3xC5tYY0rKgp"
      },
      "execution_count": null,
      "outputs": []
    },
    {
      "cell_type": "code",
      "source": [
        "autoencoder.fit(X_train, X_train,\n",
        "                epochs=1,\n",
        "                shuffle=True,\n",
        "                validation_data=(X_test, X_test))"
      ],
      "metadata": {
        "id": "TB1g68c9rOeW"
      },
      "execution_count": null,
      "outputs": []
    },
    {
      "cell_type": "code",
      "source": [
        "# from tensorflow.image import resize\n",
        "\n",
        "# # Resize X_train_resized to match the expected input shape of the autoencoder\n",
        "# X_train_resized = resize(X_train_resized, (150, 150))\n",
        "\n",
        "# # Now, you can use X_train_resized as the input data during training\n",
        "# autoencoder.fit(X_train_resized, X_train_resized,\n",
        "#                 epochs=10,\n",
        "#                 validation_data=(X_test, X_test))\n"
      ],
      "metadata": {
        "id": "URR_r64uAl37"
      },
      "execution_count": null,
      "outputs": []
    },
    {
      "cell_type": "code",
      "source": [],
      "metadata": {
        "id": "MjnU7iyFZZid"
      },
      "execution_count": null,
      "outputs": []
    },
    {
      "cell_type": "markdown",
      "source": [
        "# Research model"
      ],
      "metadata": {
        "id": "ogeeoyJhWbhd"
      }
    },
    {
      "cell_type": "code",
      "source": [
        "class Autoencoder(Model):\n",
        "    def __init__(self, latent_dim, shape):\n",
        "        super(Autoencoder, self).__init__()\n",
        "        self.latent_dim = latent_dim\n",
        "        self.shape = shape\n",
        "        self.encoder = tf.keras.Sequential([\n",
        "            layers.Conv2D(128, (2, 2), input_shape=shape),\n",
        "            layers.Conv2D(128, (2, 2)),\n",
        "            layers.MaxPooling2D(pool_size=(2, 2)),\n",
        "            layers.Dropout(0.1),\n",
        "            layers.Conv2D(64, (2, 2)),\n",
        "            layers.Conv2D(64, (2, 2)),\n",
        "            layers.MaxPooling2D(pool_size=(2, 2)),\n",
        "            layers.Dropout(0.1),\n",
        "            layers.Conv2D(32, (2, 2)),\n",
        "            layers.Flatten(),\n",
        "            layers.Dense(latent_dim, activation=\"relu\"),  # Adjusted to latent_dim\n",
        "        ])\n",
        "        self.decoder = tf.keras.Sequential([\n",
        "            layers.Reshape((1, 1, latent_dim)),  # Reshape to match the output shape of encoder\n",
        "            layers.Conv2DTranspose(32, (2, 2)),\n",
        "            layers.UpSampling2D(size=(2, 2)),\n",
        "            layers.Conv2DTranspose(64, (2, 2)),\n",
        "            layers.Conv2DTranspose(64, (2, 2)),\n",
        "            layers.UpSampling2D(size=(2, 2)),\n",
        "            layers.Conv2DTranspose(128, (2, 2)),\n",
        "            layers.Conv2DTranspose(128, (2, 2)),\n",
        "            layers.UpSampling2D(size=(2, 2)),\n",
        "            layers.Dropout(0.1),\n",
        "            layers.Conv2DTranspose(128, (2, 2), activation='sigmoid'),  # Adjusted to shape[-1]\n",
        "        ])\n",
        "\n",
        "    def call(self, x):\n",
        "        encoded = self.encoder(x)\n",
        "        decoded = self.decoder(encoded)\n",
        "        return decoded\n",
        "\n",
        "# Assuming shape is properly defined\n",
        "shape = X_test.shape[1:]\n",
        "latent_dim = 4\n",
        "autoencoder = Autoencoder(latent_dim, shape)\n"
      ],
      "metadata": {
        "id": "adXHHbt19eEB"
      },
      "execution_count": null,
      "outputs": []
    },
    {
      "cell_type": "code",
      "source": [
        "autoencoder.compile(loss='sparse_categorical_crossentropy',\n",
        "                          optimizer=\"adam\",\n",
        "                          metrics=['accuracy'])"
      ],
      "metadata": {
        "id": "fXuH7HwbA_hy"
      },
      "execution_count": null,
      "outputs": []
    },
    {
      "cell_type": "code",
      "source": [
        "autoencoder.fit(X_train, X_train,\n",
        "                epochs=10,\n",
        "                shuffle=True,\n",
        "                validation_data=(X_test, X_test))"
      ],
      "metadata": {
        "id": "cu7S2edQBIb-"
      },
      "execution_count": null,
      "outputs": []
    },
    {
      "cell_type": "code",
      "source": [
        "n = 10\n",
        "plt.figure(figsize=(20, 4))\n",
        "for i in range(n):\n",
        "  # display original\n",
        "  ax = plt.subplot(2, n, i + 1)\n",
        "  plt.imshow(X_test[i])\n",
        "  plt.title(\"original\")\n",
        "  plt.gray()\n",
        "  ax.get_xaxis().set_visible(False)\n",
        "  ax.get_yaxis().set_visible(False)\n",
        "\n",
        "  # display reconstruction\n",
        "  ax = plt.subplot(2, n, i + 1 + n)\n",
        "  plt.imshow(decoded_imgs[i])\n",
        "  plt.title(\"reconstructed\")\n",
        "  plt.gray()\n",
        "  ax.get_xaxis().set_visible(False)\n",
        "  ax.get_yaxis().set_visible(False)\n",
        "plt.show()"
      ],
      "metadata": {
        "id": "XIPw_zZZBcIm"
      },
      "execution_count": null,
      "outputs": []
    },
    {
      "cell_type": "code",
      "source": [
        "from keras.models import Sequential\n",
        "from keras.layers import Conv2D, MaxPooling2D, Flatten, Dense, BatchNormalization, Activation\n",
        "\n",
        "# Create a Sequential model\n",
        "model = Sequential()\n",
        "\n",
        "# Add convolutional layers with batch normalization and ReLU activation\n",
        "model.add(Conv2D(16, (3, 3), padding='same', input_shape=(150, 150, 3)))\n",
        "model.add(BatchNormalization())\n",
        "model.add(Activation('relu'))\n",
        "\n",
        "model.add(Conv2D(32, (3, 3), padding='same'))\n",
        "model.add(BatchNormalization())\n",
        "model.add(Activation('relu'))\n",
        "model.add(MaxPooling2D(pool_size=(2, 2), strides=(2, 2)))\n",
        "\n",
        "model.add(Conv2D(64, (3, 3), padding='same'))\n",
        "model.add(BatchNormalization())\n",
        "model.add(Activation('relu'))\n",
        "\n",
        "model.add(Conv2D(128, (3, 3), padding='same'))\n",
        "model.add(BatchNormalization())\n",
        "model.add(Activation('relu'))\n",
        "model.add(MaxPooling2D(pool_size=(2, 2), strides=(2, 2)))\n",
        "\n",
        "# Flatten the output of the convolutional layers\n",
        "model.add(Flatten())\n",
        "\n",
        "# At this point, we have extracted feature vectors, which will be used as input for KE-CNN\n",
        "\n",
        "# Add convolutional layers for KE-CNN\n",
        "model.add(Conv2D(256, (3, 3), padding='same', activation='relu'))\n",
        "model.add(MaxPooling2D(pool_size=(2, 2), strides=(2, 2)))\n",
        "\n",
        "model.add(Conv2D(512, (3, 3), padding='same', activation='relu'))\n",
        "model.add(MaxPooling2D(pool_size=(2, 2), strides=(2, 2)))\n",
        "\n",
        "# Flatten the output of the convolutional layers\n",
        "model.add(Flatten())\n",
        "\n",
        "# Add a fully connected layer for classification\n",
        "model.add(Dense(3, activation='softmax'))  # Assuming 3 classes\n",
        "\n",
        "# Print model summary\n",
        "model.summary()\n"
      ],
      "metadata": {
        "id": "tOf7DiIYYZhz"
      },
      "execution_count": null,
      "outputs": []
    },
    {
      "cell_type": "code",
      "source": [
        "from tf.keras.metrics  import precision"
      ],
      "metadata": {
        "id": "Buqv1gUu82kN"
      },
      "execution_count": null,
      "outputs": []
    },
    {
      "cell_type": "code",
      "source": [
        "from keras.optimizers import Adam\n",
        "\n",
        "# Compile the model\n",
        "model.compile(optimizer=Adam(lr= 0.001 ), loss='categorical_crossentropy', metrics=['accuracy',precision,recall,f1_score])"
      ],
      "metadata": {
        "id": "HOMe1hJwfS_P"
      },
      "execution_count": null,
      "outputs": []
    },
    {
      "cell_type": "code",
      "source": [
        "n = 10\n",
        "plt.figure(figsize=(20, 4))\n",
        "for i in range(n):\n",
        "  # display original\n",
        "  ax = plt.subplot(2, n, i + 1)\n",
        "  plt.imshow(x_test[i])\n",
        "  plt.title(\"original\")\n",
        "  plt.gray()\n",
        "  ax.get_xaxis().set_visible(False)\n",
        "  ax.get_yaxis().set_visible(False)\n",
        "\n",
        "  # display reconstruction\n",
        "  ax = plt.subplot(2, n, i + 1 + n)\n",
        "  plt.imshow(decoded_imgs[i])\n",
        "  plt.title(\"reconstructed\")\n",
        "  plt.gray()\n",
        "  ax.get_xaxis().set_visible(False)\n",
        "  ax.get_yaxis().set_visible(False)\n",
        "plt.show()"
      ],
      "metadata": {
        "id": "TKfMD4oj7yEe"
      },
      "execution_count": null,
      "outputs": []
    },
    {
      "cell_type": "markdown",
      "source": [
        "# Sir code"
      ],
      "metadata": {
        "id": "TPR0sk7dkcDL"
      }
    },
    {
      "cell_type": "code",
      "source": [
        "from keras.models import Model\n",
        "from keras.layers import Conv2D, MaxPooling2D, Flatten, Dense, Dropout, BatchNormalization, Input, Reshape, Conv2DTranspose, UpSampling2D\n",
        "\n",
        "# # Define the encoder\n",
        "# class Autoencoder(Model):\n",
        "#     def init(self, latent_dim, shape):\n",
        "#         super(Autoencoder, self).init()\n",
        "# self.latent_dim = latent_dim\n",
        "# self.shape = shape\n",
        "\n",
        "encoder_input = Input(shape=(80, 80, 3))\n",
        "x = Conv2D(128, (3, 3), activation='relu', padding='same')(encoder_input)\n",
        "x = BatchNormalization()(x)\n",
        "x = Conv2D(128, (3, 3), activation='relu', padding='same')(x)\n",
        "x = BatchNormalization()(x)\n",
        "x = MaxPooling2D((2, 2), padding='same')(x)\n",
        "x = Dropout(0.25)(x)\n",
        "\n",
        "x = Conv2D(64, (3, 3), activation='relu', padding='same')(x)\n",
        "x = BatchNormalization()(x)\n",
        "x = Conv2D(64, (3, 3), activation='relu', padding='same')(x)\n",
        "x = BatchNormalization()(x)\n",
        "encoded = MaxPooling2D((2, 2), padding='same')(x)\n",
        "\n",
        "encoder = Model(encoder_input, encoded)\n",
        "\n",
        "# Define the decoder\n",
        "decoder_input = Input(shape=(10, 10, 64))\n",
        "\n",
        "x = Conv2D(64, (3, 3), activation='relu', padding='same')(decoder_input)\n",
        "x = BatchNormalization()(x)\n",
        "x = Conv2D(64, (3, 3), activation='relu', padding='same')(x)\n",
        "x = BatchNormalization()(x)\n",
        "x = UpSampling2D((2, 2))(x)\n",
        "\n",
        "x = Conv2D(128, (3, 3), activation='relu', padding='same')(x)\n",
        "x = BatchNormalization()(x)\n",
        "x = Conv2D(128, (3, 3), activation='relu', padding='same')(x)\n",
        "x = BatchNormalization()(x)\n",
        "x = UpSampling2D((2, 2))(x)\n",
        "x = Dropout(0.25)(x)\n",
        "\n",
        "decoded = Conv2D(3, (3, 3), activation='sigmoid', padding='same')(x)\n",
        "\n",
        "decoder = Model(decoder_input, decoded)\n",
        "\n",
        "# Combine encoder and decoder to create autoencoder\n",
        "autoencoder_input = Input(shape=(80, 80, 3))\n",
        "encoded_output = encoder(autoencoder_input)\n",
        "decoded_output = decoder(encoded_output)\n",
        "\n",
        "autoencoder = Model(autoencoder_input, decoded_output)\n",
        "\n",
        "autoencoder.compile(loss='sparse_categorical_crossentropy',\n",
        "                          optimizer=\"adam\",\n",
        "                          metrics=['accuracy'])\n",
        "\n",
        "\n",
        "encoder.summary()\n",
        "decoder.summary()\n",
        "autoencoder.summary()"
      ],
      "metadata": {
        "id": "X0GYXbK1HMm8"
      },
      "execution_count": null,
      "outputs": []
    },
    {
      "cell_type": "code",
      "source": [
        "autoencoder.fit(X_train, X_train,\n",
        "                epochs=10,\n",
        "                shuffle=True,\n",
        "                validation_data=(X_test, X_test))"
      ],
      "metadata": {
        "id": "RRydyUD2kgG9"
      },
      "execution_count": null,
      "outputs": []
    },
    {
      "cell_type": "code",
      "source": [],
      "metadata": {
        "id": "8AH-P389knFW"
      },
      "execution_count": null,
      "outputs": []
    }
  ]
}