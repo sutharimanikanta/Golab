{
  "nbformat": 4,
  "nbformat_minor": 0,
  "metadata": {
    "colab": {
      "provenance": [],
      "authorship_tag": "ABX9TyOrvyzr4QQClzjKSXuayqwh"
    },
    "kernelspec": {
      "name": "python3",
      "display_name": "Python 3"
    },
    "language_info": {
      "name": "python"
    }
  },
  "cells": [
    {
      "cell_type": "code",
      "execution_count": null,
      "metadata": {
        "id": "9gzH8unVYXKr"
      },
      "outputs": [],
      "source": [
        "import numpy as np\n",
        "def fourier(N):\n",
        "    i=0\n",
        "    mat=[[]]\n",
        "    for m in range(N):\n",
        "        for k in range(N):\n",
        "          mat.append(omega(k+i))\n",
        "        i=i+1\n",
        "    return mat\n",
        "def omega(n):\n",
        "    return np.exp((2*(np.pi) *J*k)/n)"
      ]
    },
    {
      "cell_type": "code",
      "source": [
        "import numpy as np\n",
        "\n",
        "def fourier(N):\n",
        "    mat = np.zeros((N, N), dtype=complex)  # Initialize a 2D array with complex type\n",
        "    for m in range(N):\n",
        "        for k in range(N):\n",
        "            mat[m, k] = omega(m, k, N)  # Call omega with m, k, and N\n",
        "    return mat\n",
        "\n",
        "def omega(m, k, N):\n",
        "    return np.exp(-2j * np.pi * m * k / N)  # Fourier transform factor\n",
        "\n",
        "# Example usage:\n",
        "N = 4\n",
        "F = fourier(N)\n",
        "print(F)\n"
      ],
      "metadata": {
        "colab": {
          "base_uri": "https://localhost:8080/"
        },
        "id": "x2QN0_-sZl1-",
        "outputId": "4b632404-9885-4fb6-dd76-d992d4c56428"
      },
      "execution_count": null,
      "outputs": [
        {
          "output_type": "stream",
          "name": "stdout",
          "text": [
            "[[ 1.0000000e+00+0.0000000e+00j  1.0000000e+00+0.0000000e+00j\n",
            "   1.0000000e+00+0.0000000e+00j  1.0000000e+00+0.0000000e+00j]\n",
            " [ 1.0000000e+00+0.0000000e+00j  6.1232340e-17-1.0000000e+00j\n",
            "  -1.0000000e+00-1.2246468e-16j -1.8369702e-16+1.0000000e+00j]\n",
            " [ 1.0000000e+00+0.0000000e+00j -1.0000000e+00-1.2246468e-16j\n",
            "   1.0000000e+00+2.4492936e-16j -1.0000000e+00-3.6739404e-16j]\n",
            " [ 1.0000000e+00+0.0000000e+00j -1.8369702e-16+1.0000000e+00j\n",
            "  -1.0000000e+00-3.6739404e-16j  5.5109106e-16-1.0000000e+00j]]\n"
          ]
        }
      ]
    },
    {
      "cell_type": "code",
      "source": [
        "c=np.array([[1],[0],[1],[0]])"
      ],
      "metadata": {
        "id": "RFCp91ZfZsBa"
      },
      "execution_count": null,
      "outputs": []
    },
    {
      "cell_type": "code",
      "source": [
        "c"
      ],
      "metadata": {
        "colab": {
          "base_uri": "https://localhost:8080/"
        },
        "id": "YxoV6ZkkbG4N",
        "outputId": "46676c68-b991-4dd5-e0d2-0f490677f202"
      },
      "execution_count": null,
      "outputs": [
        {
          "output_type": "execute_result",
          "data": {
            "text/plain": [
              "array([[1],\n",
              "       [0],\n",
              "       [1],\n",
              "       [0]])"
            ]
          },
          "metadata": {},
          "execution_count": 8
        }
      ]
    },
    {
      "cell_type": "code",
      "source": [
        "y=F @ c # multiplication in numpy"
      ],
      "metadata": {
        "id": "Ug-byMnwbHjL"
      },
      "execution_count": null,
      "outputs": []
    },
    {
      "cell_type": "code",
      "source": [
        "y"
      ],
      "metadata": {
        "colab": {
          "base_uri": "https://localhost:8080/"
        },
        "id": "KOVug1zDbP_C",
        "outputId": "4721b304-a0fd-46c7-b615-d770f22b3625"
      },
      "execution_count": null,
      "outputs": [
        {
          "output_type": "execute_result",
          "data": {
            "text/plain": [
              "array([[2.+0.0000000e+00j],\n",
              "       [0.-1.2246468e-16j],\n",
              "       [2.+2.4492936e-16j],\n",
              "       [0.-3.6739404e-16j]])"
            ]
          },
          "metadata": {},
          "execution_count": 12
        }
      ]
    },
    {
      "cell_type": "code",
      "source": [
        "# Fast fourier transform\n",
        "def fft(x):\n",
        "  return DMat(x)@F(x)@per(m)\n",
        "def DMat(x):\n",
        "  N=x/2\n",
        "  D=[[]]\n",
        "  for i in range(2):\n",
        "    D.append(indenity(N))\n",
        "    D.append(Dat(x))\n",
        "  return D\n",
        "def indenity(x):\n",
        "  k= np.zeros((N, N), dtype=complex)\n",
        "  for i in range(x):\n",
        "    k[i][i]=1\n",
        "  return k\n",
        "def Dat(x):\n",
        "  k= np.zeros((N, N), dtype=complex)\n",
        "  for i in range(x):\n",
        "    k[i][i]=omega(i)\n",
        "  return k\n"
      ],
      "metadata": {
        "id": "ZxhfEzA8bQ7R"
      },
      "execution_count": null,
      "outputs": []
    },
    {
      "cell_type": "code",
      "source": [
        "def fft(x):\n",
        "  m=len(x)\n",
        "  return DMat(m)@ F(x)@permutation_matrix(m)\n",
        "def F(x):\n",
        "  N=x//2\n",
        "  Fa=fourier(N)\n",
        "  Fb=np.zeros((N, N), dtype=complex)\n",
        "  F1=np.hstack((Fa,Fb))\n",
        "  F2=np.hstack((Fb,Fa))\n",
        "  F=np.vstack((F1,F2))\n",
        "  return F\n",
        "def DMat(m):\n",
        "    N = len(x)\n",
        "    a=identity_matrix(N//2)\n",
        "    b=D(N//2)\n",
        "    DMat1=np.hstack((a,b))\n",
        "    DMat2=np.hstack((a,-b))\n",
        "    DMat=np.vstack((DMat1,DMat2))\n",
        "    return DMat\n",
        "def D(m):\n",
        "    N = len(x)\n",
        "    D = np.zeros((N, N), dtype=complex)\n",
        "    for i in range(N):\n",
        "        D[i, i] = omega(i, N)\n",
        "    return D\n",
        "\n",
        "def omega(k, N):\n",
        "    return np.exp(-2j * np.pi * k / N)\n",
        "\n",
        "def identity_matrix(N):\n",
        "    return np.eye(N, dtype=complex)\n",
        "\n",
        "def permutation_matrix(N):\n",
        "    P = np.zeros((N, N), dtype=complex)\n",
        "    for i in range(N):\n",
        "        P[i, (i // 2) + (i % 2) * (N // 2)] = 1\n",
        "    return P\n",
        "\n",
        "# Example usage:\n",
        "x = np.array([0, 1, 2, 3, 4, 5, 6, 7], dtype=complex)\n",
        "print(\"Input:\", x)\n",
        "result = fft(x)\n",
        "print(\"FFT:\", result)\n"
      ],
      "metadata": {
        "colab": {
          "base_uri": "https://localhost:8080/",
          "height": 388
        },
        "id": "V70vjs3igVhB",
        "outputId": "3c93d24f-756a-4b11-9eb4-d30e254a93a8"
      },
      "execution_count": null,
      "outputs": [
        {
          "output_type": "stream",
          "name": "stdout",
          "text": [
            "Input: [0.+0.j 1.+0.j 2.+0.j 3.+0.j 4.+0.j 5.+0.j 6.+0.j 7.+0.j]\n"
          ]
        },
        {
          "output_type": "error",
          "ename": "ValueError",
          "evalue": "all the input array dimensions except for the concatenation axis must match exactly, but along dimension 0, the array at index 0 has size 4 and the array at index 1 has size 8",
          "traceback": [
            "\u001b[0;31m---------------------------------------------------------------------------\u001b[0m",
            "\u001b[0;31mValueError\u001b[0m                                Traceback (most recent call last)",
            "\u001b[0;32m<ipython-input-16-80c02d7d7d12>\u001b[0m in \u001b[0;36m<cell line: 42>\u001b[0;34m()\u001b[0m\n\u001b[1;32m     40\u001b[0m \u001b[0mx\u001b[0m \u001b[0;34m=\u001b[0m \u001b[0mnp\u001b[0m\u001b[0;34m.\u001b[0m\u001b[0marray\u001b[0m\u001b[0;34m(\u001b[0m\u001b[0;34m[\u001b[0m\u001b[0;36m0\u001b[0m\u001b[0;34m,\u001b[0m \u001b[0;36m1\u001b[0m\u001b[0;34m,\u001b[0m \u001b[0;36m2\u001b[0m\u001b[0;34m,\u001b[0m \u001b[0;36m3\u001b[0m\u001b[0;34m,\u001b[0m \u001b[0;36m4\u001b[0m\u001b[0;34m,\u001b[0m \u001b[0;36m5\u001b[0m\u001b[0;34m,\u001b[0m \u001b[0;36m6\u001b[0m\u001b[0;34m,\u001b[0m \u001b[0;36m7\u001b[0m\u001b[0;34m]\u001b[0m\u001b[0;34m,\u001b[0m \u001b[0mdtype\u001b[0m\u001b[0;34m=\u001b[0m\u001b[0mcomplex\u001b[0m\u001b[0;34m)\u001b[0m\u001b[0;34m\u001b[0m\u001b[0;34m\u001b[0m\u001b[0m\n\u001b[1;32m     41\u001b[0m \u001b[0mprint\u001b[0m\u001b[0;34m(\u001b[0m\u001b[0;34m\"Input:\"\u001b[0m\u001b[0;34m,\u001b[0m \u001b[0mx\u001b[0m\u001b[0;34m)\u001b[0m\u001b[0;34m\u001b[0m\u001b[0;34m\u001b[0m\u001b[0m\n\u001b[0;32m---> 42\u001b[0;31m \u001b[0mresult\u001b[0m \u001b[0;34m=\u001b[0m \u001b[0mfft\u001b[0m\u001b[0;34m(\u001b[0m\u001b[0mx\u001b[0m\u001b[0;34m)\u001b[0m\u001b[0;34m\u001b[0m\u001b[0;34m\u001b[0m\u001b[0m\n\u001b[0m\u001b[1;32m     43\u001b[0m \u001b[0mprint\u001b[0m\u001b[0;34m(\u001b[0m\u001b[0;34m\"FFT:\"\u001b[0m\u001b[0;34m,\u001b[0m \u001b[0mresult\u001b[0m\u001b[0;34m)\u001b[0m\u001b[0;34m\u001b[0m\u001b[0;34m\u001b[0m\u001b[0m\n",
            "\u001b[0;32m<ipython-input-16-80c02d7d7d12>\u001b[0m in \u001b[0;36mfft\u001b[0;34m(x)\u001b[0m\n\u001b[1;32m      1\u001b[0m \u001b[0;32mdef\u001b[0m \u001b[0mfft\u001b[0m\u001b[0;34m(\u001b[0m\u001b[0mx\u001b[0m\u001b[0;34m)\u001b[0m\u001b[0;34m:\u001b[0m\u001b[0;34m\u001b[0m\u001b[0;34m\u001b[0m\u001b[0m\n\u001b[1;32m      2\u001b[0m   \u001b[0mm\u001b[0m\u001b[0;34m=\u001b[0m\u001b[0mlen\u001b[0m\u001b[0;34m(\u001b[0m\u001b[0mx\u001b[0m\u001b[0;34m)\u001b[0m\u001b[0;34m\u001b[0m\u001b[0;34m\u001b[0m\u001b[0m\n\u001b[0;32m----> 3\u001b[0;31m   \u001b[0;32mreturn\u001b[0m \u001b[0mDMat\u001b[0m\u001b[0;34m(\u001b[0m\u001b[0mm\u001b[0m\u001b[0;34m)\u001b[0m\u001b[0;34m@\u001b[0m \u001b[0mF\u001b[0m\u001b[0;34m(\u001b[0m\u001b[0mx\u001b[0m\u001b[0;34m)\u001b[0m\u001b[0;34m@\u001b[0m\u001b[0mpermutation_matrix\u001b[0m\u001b[0;34m(\u001b[0m\u001b[0mm\u001b[0m\u001b[0;34m)\u001b[0m\u001b[0;34m\u001b[0m\u001b[0;34m\u001b[0m\u001b[0m\n\u001b[0m\u001b[1;32m      4\u001b[0m \u001b[0;32mdef\u001b[0m \u001b[0mF\u001b[0m\u001b[0;34m(\u001b[0m\u001b[0mx\u001b[0m\u001b[0;34m)\u001b[0m\u001b[0;34m:\u001b[0m\u001b[0;34m\u001b[0m\u001b[0;34m\u001b[0m\u001b[0m\n\u001b[1;32m      5\u001b[0m   \u001b[0mN\u001b[0m\u001b[0;34m=\u001b[0m\u001b[0mx\u001b[0m\u001b[0;34m//\u001b[0m\u001b[0;36m2\u001b[0m\u001b[0;34m\u001b[0m\u001b[0;34m\u001b[0m\u001b[0m\n",
            "\u001b[0;32m<ipython-input-16-80c02d7d7d12>\u001b[0m in \u001b[0;36mDMat\u001b[0;34m(m)\u001b[0m\n\u001b[1;32m     14\u001b[0m     \u001b[0ma\u001b[0m\u001b[0;34m=\u001b[0m\u001b[0midentity_matrix\u001b[0m\u001b[0;34m(\u001b[0m\u001b[0mN\u001b[0m\u001b[0;34m//\u001b[0m\u001b[0;36m2\u001b[0m\u001b[0;34m)\u001b[0m\u001b[0;34m\u001b[0m\u001b[0;34m\u001b[0m\u001b[0m\n\u001b[1;32m     15\u001b[0m     \u001b[0mb\u001b[0m\u001b[0;34m=\u001b[0m\u001b[0mD\u001b[0m\u001b[0;34m(\u001b[0m\u001b[0mN\u001b[0m\u001b[0;34m//\u001b[0m\u001b[0;36m2\u001b[0m\u001b[0;34m)\u001b[0m\u001b[0;34m\u001b[0m\u001b[0;34m\u001b[0m\u001b[0m\n\u001b[0;32m---> 16\u001b[0;31m     \u001b[0mDMat1\u001b[0m\u001b[0;34m=\u001b[0m\u001b[0mnp\u001b[0m\u001b[0;34m.\u001b[0m\u001b[0mhstack\u001b[0m\u001b[0;34m(\u001b[0m\u001b[0;34m(\u001b[0m\u001b[0ma\u001b[0m\u001b[0;34m,\u001b[0m\u001b[0mb\u001b[0m\u001b[0;34m)\u001b[0m\u001b[0;34m)\u001b[0m\u001b[0;34m\u001b[0m\u001b[0;34m\u001b[0m\u001b[0m\n\u001b[0m\u001b[1;32m     17\u001b[0m     \u001b[0mDMat2\u001b[0m\u001b[0;34m=\u001b[0m\u001b[0mnp\u001b[0m\u001b[0;34m.\u001b[0m\u001b[0mhstack\u001b[0m\u001b[0;34m(\u001b[0m\u001b[0;34m(\u001b[0m\u001b[0ma\u001b[0m\u001b[0;34m,\u001b[0m\u001b[0;34m-\u001b[0m\u001b[0mb\u001b[0m\u001b[0;34m)\u001b[0m\u001b[0;34m)\u001b[0m\u001b[0;34m\u001b[0m\u001b[0;34m\u001b[0m\u001b[0m\n\u001b[1;32m     18\u001b[0m     \u001b[0mDMat\u001b[0m\u001b[0;34m=\u001b[0m\u001b[0mnp\u001b[0m\u001b[0;34m.\u001b[0m\u001b[0mvstack\u001b[0m\u001b[0;34m(\u001b[0m\u001b[0;34m(\u001b[0m\u001b[0mDMat1\u001b[0m\u001b[0;34m,\u001b[0m\u001b[0mDMat2\u001b[0m\u001b[0;34m)\u001b[0m\u001b[0;34m)\u001b[0m\u001b[0;34m\u001b[0m\u001b[0;34m\u001b[0m\u001b[0m\n",
            "\u001b[0;32m/usr/local/lib/python3.10/dist-packages/numpy/core/shape_base.py\u001b[0m in \u001b[0;36mhstack\u001b[0;34m(tup, dtype, casting)\u001b[0m\n\u001b[1;32m    357\u001b[0m         \u001b[0;32mreturn\u001b[0m \u001b[0m_nx\u001b[0m\u001b[0;34m.\u001b[0m\u001b[0mconcatenate\u001b[0m\u001b[0;34m(\u001b[0m\u001b[0marrs\u001b[0m\u001b[0;34m,\u001b[0m \u001b[0;36m0\u001b[0m\u001b[0;34m,\u001b[0m \u001b[0mdtype\u001b[0m\u001b[0;34m=\u001b[0m\u001b[0mdtype\u001b[0m\u001b[0;34m,\u001b[0m \u001b[0mcasting\u001b[0m\u001b[0;34m=\u001b[0m\u001b[0mcasting\u001b[0m\u001b[0;34m)\u001b[0m\u001b[0;34m\u001b[0m\u001b[0;34m\u001b[0m\u001b[0m\n\u001b[1;32m    358\u001b[0m     \u001b[0;32melse\u001b[0m\u001b[0;34m:\u001b[0m\u001b[0;34m\u001b[0m\u001b[0;34m\u001b[0m\u001b[0m\n\u001b[0;32m--> 359\u001b[0;31m         \u001b[0;32mreturn\u001b[0m \u001b[0m_nx\u001b[0m\u001b[0;34m.\u001b[0m\u001b[0mconcatenate\u001b[0m\u001b[0;34m(\u001b[0m\u001b[0marrs\u001b[0m\u001b[0;34m,\u001b[0m \u001b[0;36m1\u001b[0m\u001b[0;34m,\u001b[0m \u001b[0mdtype\u001b[0m\u001b[0;34m=\u001b[0m\u001b[0mdtype\u001b[0m\u001b[0;34m,\u001b[0m \u001b[0mcasting\u001b[0m\u001b[0;34m=\u001b[0m\u001b[0mcasting\u001b[0m\u001b[0;34m)\u001b[0m\u001b[0;34m\u001b[0m\u001b[0;34m\u001b[0m\u001b[0m\n\u001b[0m\u001b[1;32m    360\u001b[0m \u001b[0;34m\u001b[0m\u001b[0m\n\u001b[1;32m    361\u001b[0m \u001b[0;34m\u001b[0m\u001b[0m\n",
            "\u001b[0;31mValueError\u001b[0m: all the input array dimensions except for the concatenation axis must match exactly, but along dimension 0, the array at index 0 has size 4 and the array at index 1 has size 8"
          ]
        }
      ]
    },
    {
      "cell_type": "code",
      "source": [
        "import numpy as np\n",
        "\n",
        "def fft(size):\n",
        "    x = np.arange(size, dtype=complex)\n",
        "    return DMat(size) @ F(size) @ permutation_matrix(size)\n",
        "\n",
        "def F(m):\n",
        "    if m == 1:\n",
        "        return np.array([[1]], dtype=complex)\n",
        "    N = m // 2\n",
        "    Fa = F(N)\n",
        "    Fb = np.zeros((N, N), dtype=complex)\n",
        "    F1 = np.hstack((Fa, Fb))\n",
        "    F2 = np.hstack((Fb, Fa))\n",
        "    return np.vstack((F1, F2))\n",
        "\n",
        "def DMat(n):\n",
        "    size = n // 2\n",
        "    S = np.zeros((size, size), dtype=complex)\n",
        "    zerom = np.zeros((size, size), dtype=complex)\n",
        "\n",
        "    # Fill the matrix with the appropriate values\n",
        "    for j in range(size):\n",
        "        for k in range(size):\n",
        "            S[j, k] = np.exp(-2j * np.pi * j * k / n)\n",
        "\n",
        "    top = np.hstack((S, zerom))\n",
        "    bottom = np.hstack((zerom,S))\n",
        "    second = np.vstack((top, bottom))\n",
        "    print(second)\n",
        "    return second\n",
        "def D(N):\n",
        "    D = np.zeros((N, N), dtype=complex)\n",
        "    for i in range(N):\n",
        "        D[i, i] = omega(i, 2 * N)  # Use 2 * N because we need to match the twiddle factors for FFT\n",
        "    return D\n",
        "\n",
        "def omega(k, N):\n",
        "    return np.exp((-2j * np.pi * k )/ N)\n",
        "\n",
        "def identity_matrix(N):\n",
        "    return np.eye(N, dtype=complex)\n",
        "\n",
        "def permutation_matrix(N):\n",
        "    P = np.zeros((N, N), dtype=complex)\n",
        "    for i in range(N):\n",
        "        P[i, (i // 2) + (i % 2) * (N // 2)] = 1\n",
        "    return P\n",
        "\n",
        "# Example usage:\n",
        "size = 4\n",
        "print(\"Size:\", size)\n",
        "result = fft(size)\n",
        "print(\"FFT:\", result)\n"
      ],
      "metadata": {
        "colab": {
          "base_uri": "https://localhost:8080/"
        },
        "id": "c4uU7Ftqmfi5",
        "outputId": "66e816b3-49a3-4818-d5ca-0d75450660c1"
      },
      "execution_count": null,
      "outputs": [
        {
          "output_type": "stream",
          "name": "stdout",
          "text": [
            "Size: 4\n",
            "[[1.000000e+00+0.j 1.000000e+00+0.j 0.000000e+00+0.j 0.000000e+00+0.j]\n",
            " [1.000000e+00+0.j 6.123234e-17-1.j 0.000000e+00+0.j 0.000000e+00+0.j]\n",
            " [0.000000e+00+0.j 0.000000e+00+0.j 1.000000e+00+0.j 1.000000e+00+0.j]\n",
            " [0.000000e+00+0.j 0.000000e+00+0.j 1.000000e+00+0.j 6.123234e-17-1.j]]\n",
            "FFT: [[1.000000e+00+0.j 0.000000e+00+0.j 1.000000e+00+0.j 0.000000e+00+0.j]\n",
            " [1.000000e+00+0.j 0.000000e+00+0.j 6.123234e-17-1.j 0.000000e+00+0.j]\n",
            " [0.000000e+00+0.j 1.000000e+00+0.j 0.000000e+00+0.j 1.000000e+00+0.j]\n",
            " [0.000000e+00+0.j 1.000000e+00+0.j 0.000000e+00+0.j 6.123234e-17-1.j]]\n"
          ]
        }
      ]
    },
    {
      "cell_type": "code",
      "source": [
        "import numpy as np\n",
        "\n",
        "\n",
        "def fourier_matrix(m):\n",
        "\n",
        "\n",
        "\n",
        "def d_mat(n):\n",
        "    size = n // 2\n",
        "    s = np.zeros((size, size), dtype=complex)\n",
        "    zerom = np.zeros((size, size), dtype=complex)\n",
        "\n",
        "    for j in range(size):\n",
        "        for k in range(size):\n",
        "            s[j, k] = np.exp(-2j * np.pi * j * k / size)\n",
        "\n",
        "    top = np.hstack((s, zerom))\n",
        "    bottom = np.hstack((zerom, -(s)))\n",
        "    second = np.vstack((top, bottom))\n",
        "    return second\n",
        "\n",
        "# def d(N):\n",
        "#     D = np.zeros((N, N), dtype=complex)\n",
        "#     for i in range(N):\n",
        "#         D[i, i] = omega(i, 2 * N)  # Use 2 * N because we need to match the twiddle factors for FFT\n",
        "#     return D\n",
        "\n",
        "# def omega(k, N):\n",
        "#     return np.exp((-2j * np.pi * k )/ N)\n",
        "\n",
        "def identity_matrix(N):\n",
        "    return np.eye(N, dtype=complex)\n",
        "\n",
        "def permutation_matrix(N):\n",
        "    P = np.zeros((N, N), dtype=complex)\n",
        "    for i in range(N):\n",
        "        P[i, (i // 2) + (i % 2) * (N // 2)] = 1\n",
        "    return P\n",
        "\n",
        "# Example usage:\n",
        "size = 4\n",
        "f=f(size)\n",
        "s=d_mat(size)\n",
        "\n",
        "p=permutation_matrix(size)\n",
        "print(f)\n",
        "print(s)\n",
        "print(p)\n",
        "g=f@s@p\n",
        "m=f@s\n",
        "m=m@p\n",
        "m=m@c\n",
        "print(\"Size:\", size)\n",
        "\n",
        "print(\"FFT:\", m)\n"
      ],
      "metadata": {
        "colab": {
          "base_uri": "https://localhost:8080/"
        },
        "id": "MNsRfIXGzEVc",
        "outputId": "aa275173-211b-4b9e-bd24-41d01f9973b7"
      },
      "execution_count": null,
      "outputs": [
        {
          "output_type": "stream",
          "name": "stdout",
          "text": [
            "[[1.+0.j 0.+0.j 0.+0.j 0.+0.j]\n",
            " [0.+0.j 1.+0.j 0.+0.j 0.+0.j]\n",
            " [0.+0.j 0.+0.j 1.+0.j 0.+0.j]\n",
            " [0.+0.j 0.+0.j 0.+0.j 1.+0.j]]\n",
            "[[ 1.+0.0000000e+00j  1.+0.0000000e+00j  0.+0.0000000e+00j\n",
            "   0.+0.0000000e+00j]\n",
            " [ 1.+0.0000000e+00j -1.-1.2246468e-16j  0.+0.0000000e+00j\n",
            "   0.+0.0000000e+00j]\n",
            " [ 0.+0.0000000e+00j  0.+0.0000000e+00j -1.-0.0000000e+00j\n",
            "  -1.-0.0000000e+00j]\n",
            " [ 0.+0.0000000e+00j  0.+0.0000000e+00j -1.-0.0000000e+00j\n",
            "   1.+1.2246468e-16j]]\n",
            "[[1.+0.j 0.+0.j 0.+0.j 0.+0.j]\n",
            " [0.+0.j 0.+0.j 1.+0.j 0.+0.j]\n",
            " [0.+0.j 1.+0.j 0.+0.j 0.+0.j]\n",
            " [0.+0.j 0.+0.j 0.+0.j 1.+0.j]]\n",
            "Size: 4\n",
            "FFT: [[2.+0.0000000e+00j]\n",
            " [0.-1.2246468e-16j]\n",
            " [0.+0.0000000e+00j]\n",
            " [0.+0.0000000e+00j]]\n"
          ]
        }
      ]
    },
    {
      "cell_type": "code",
      "source": [
        "print(f)"
      ],
      "metadata": {
        "colab": {
          "base_uri": "https://localhost:8080/"
        },
        "id": "P51P-L7R1luq",
        "outputId": "baea9551-32ff-4c89-bf60-348c17c2e0d5"
      },
      "execution_count": null,
      "outputs": [
        {
          "output_type": "stream",
          "name": "stdout",
          "text": [
            "[[1.+0.j 0.+0.j 0.+0.j 0.+0.j]\n",
            " [0.+0.j 1.+0.j 0.+0.j 0.+0.j]\n",
            " [0.+0.j 0.+0.j 1.+0.j 0.+0.j]\n",
            " [0.+0.j 0.+0.j 0.+0.j 1.+0.j]]\n"
          ]
        }
      ]
    },
    {
      "cell_type": "code",
      "source": [
        "y=result @ c"
      ],
      "metadata": {
        "id": "4irrhKJCpgBN"
      },
      "execution_count": null,
      "outputs": []
    },
    {
      "cell_type": "code",
      "source": [
        "y"
      ],
      "metadata": {
        "colab": {
          "base_uri": "https://localhost:8080/"
        },
        "id": "ls9pgK2HzHKS",
        "outputId": "8f11526d-6fbf-458e-b66b-a6917e7021c6"
      },
      "execution_count": null,
      "outputs": [
        {
          "output_type": "execute_result",
          "data": {
            "text/plain": [
              "array([[2.+0.j],\n",
              "       [1.-1.j],\n",
              "       [0.+0.j],\n",
              "       [0.+0.j]])"
            ]
          },
          "metadata": {},
          "execution_count": 57
        }
      ]
    },
    {
      "cell_type": "code",
      "source": [
        "permutation_matrix(4)"
      ],
      "metadata": {
        "colab": {
          "base_uri": "https://localhost:8080/"
        },
        "id": "qFMVwb1vpFVh",
        "outputId": "79f72eba-3302-4597-e112-255d86e22bbb"
      },
      "execution_count": null,
      "outputs": [
        {
          "output_type": "execute_result",
          "data": {
            "text/plain": [
              "array([[1.+0.j, 0.+0.j, 0.+0.j, 0.+0.j],\n",
              "       [0.+0.j, 0.+0.j, 1.+0.j, 0.+0.j],\n",
              "       [0.+0.j, 1.+0.j, 0.+0.j, 0.+0.j],\n",
              "       [0.+0.j, 0.+0.j, 0.+0.j, 1.+0.j]])"
            ]
          },
          "metadata": {},
          "execution_count": 27
        }
      ]
    },
    {
      "cell_type": "code",
      "source": [
        "c"
      ],
      "metadata": {
        "colab": {
          "base_uri": "https://localhost:8080/"
        },
        "id": "1CJFbwjtpwWu",
        "outputId": "39325e34-1130-4dce-88ed-09070f795059"
      },
      "execution_count": null,
      "outputs": [
        {
          "output_type": "execute_result",
          "data": {
            "text/plain": [
              "array([[1],\n",
              "       [0],\n",
              "       [1],\n",
              "       [0]])"
            ]
          },
          "metadata": {},
          "execution_count": 37
        }
      ]
    },
    {
      "cell_type": "code",
      "source": [
        "y"
      ],
      "metadata": {
        "colab": {
          "base_uri": "https://localhost:8080/"
        },
        "id": "AMsBqJL7psSw",
        "outputId": "0dbf71ba-eecb-4451-a281-e1107ec16e06"
      },
      "execution_count": null,
      "outputs": [
        {
          "output_type": "execute_result",
          "data": {
            "text/plain": [
              "array([[2.+0.j],\n",
              "       [1.-1.j],\n",
              "       [0.+0.j],\n",
              "       [0.+0.j]])"
            ]
          },
          "metadata": {},
          "execution_count": 39
        }
      ]
    },
    {
      "cell_type": "code",
      "source": [
        "import numpy as np\n",
        "\n",
        "def fft(x):\n",
        "    m, n = x.shape\n",
        "    return DMat(m) @ F(m) @ permutation_matrix(m) @ x @ permutation_matrix(n)\n",
        "\n",
        "def F(m):\n",
        "    if m == 1:\n",
        "        return np.array([[1]], dtype=complex)\n",
        "    N = m // 2\n",
        "    Fa = F(N)\n",
        "    Fb = np.zeros((N, N), dtype=complex)\n",
        "    F1 = np.hstack((Fa, Fb))\n",
        "    F2 = np.hstack((Fb, Fa))\n",
        "    return np.vstack((F1, F2))\n",
        "\n",
        "def DMat(m):\n",
        "    if m == 1:\n",
        "        return np.array([[1]], dtype=complex)\n",
        "    N = m\n",
        "    a = identity_matrix(N // 2)\n",
        "    b = D(N // 2)\n",
        "    DMat1 = np.hstack((a, b))\n",
        "    DMat2 = np.hstack((a, -b))\n",
        "    return np.vstack((DMat1, DMat2))\n",
        "\n",
        "def D(N):\n",
        "    D = np.zeros((N, N), dtype=complex)\n",
        "    for i in range(N):\n",
        "        D[i, i] = omega(i, 2 * N)  # Use 2 * N because we need to match the twiddle factors for FFT\n",
        "    return D\n",
        "\n",
        "def omega(k, N):\n",
        "    return np.exp(-2j * np.pi * k / N)\n",
        "\n",
        "def identity_matrix(N):\n",
        "    return np.eye(N, dtype=complex)\n",
        "\n",
        "def permutation_matrix(N):\n",
        "    P = np.zeros((N, N), dtype=complex)\n",
        "    for i in range(N):\n",
        "        P[i, (i // 2) + (i % 2) * (N // 2)] = 1\n",
        "    return P\n",
        "\n",
        "# Example usage:\n",
        "x = np.array([[0, 1, 2, 3], [4, 5, 6, 7]], dtype=complex)\n",
        "print(\"Input:\")\n",
        "print(x)\n",
        "result = fft(x)\n",
        "print(\"FFT:\")\n",
        "print(result)\n"
      ],
      "metadata": {
        "colab": {
          "base_uri": "https://localhost:8080/"
        },
        "id": "r_vddh52mxZG",
        "outputId": "e2d5ce0b-3dd3-459e-a13f-8bd2c8817ed5"
      },
      "execution_count": null,
      "outputs": [
        {
          "output_type": "stream",
          "name": "stdout",
          "text": [
            "Input:\n",
            "[[0.+0.j 1.+0.j 2.+0.j 3.+0.j]\n",
            " [4.+0.j 5.+0.j 6.+0.j 7.+0.j]]\n",
            "FFT:\n",
            "[[ 4.+0.j  8.+0.j  6.+0.j 10.+0.j]\n",
            " [-4.+0.j -4.+0.j -4.+0.j -4.+0.j]]\n"
          ]
        }
      ]
    },
    {
      "cell_type": "code",
      "source": [
        "import numpy as np\n",
        "\n",
        "def fourier_matrix(n):\n",
        "    # Create an n x n Fourier matrix\n",
        "    F = np.zeros((n, n), dtype=complex)\n",
        "\n",
        "    # Fill the matrix with the appropriate values\n",
        "    for j in range(n):\n",
        "        for k in range(n):\n",
        "            F[j, k] = np.exp(-2j * np.pi * j * k / n)\n",
        "\n",
        "    return F\n",
        "\n",
        "def calculate_identity(size):\n",
        "    # Create an identity matrix of given size\n",
        "    return np.eye(size, dtype=complex)\n",
        "\n",
        "def diagonal_matrices(n):\n",
        "    size = n // 2\n",
        "    D = np.zeros((size, size), dtype=complex)\n",
        "    Dne = np.zeros((size, size), dtype=complex)\n",
        "    for j in range(size):\n",
        "        D[j, j] = np.exp(-2j * np.pi * j / n)\n",
        "        Dne[j, j] = -np.exp(-2j * np.pi * j / n)\n",
        "    return D, Dne\n",
        "\n",
        "def first_matrix(n):\n",
        "    size = n // 2\n",
        "    identity = calculate_identity(size)\n",
        "    D, Dne = diagonal_matrices(n)\n",
        "\n",
        "    # Stack matrices vertically and horizontally to form the 2x2 block matrix\n",
        "    top = np.hstack((identity, D))\n",
        "    bottom = np.hstack((identity, Dne))\n",
        "\n",
        "    M = np.vstack((top, bottom))\n",
        "    print(M)\n",
        "    return M\n",
        "\n",
        "def second_matrix(n):\n",
        "    size = n // 2\n",
        "    S = np.zeros((size, size), dtype=complex)\n",
        "    zerom = np.zeros((size, size), dtype=complex)\n",
        "\n",
        "    # Fill the matrix with the appropriate values\n",
        "    for j in range(size):\n",
        "        for k in range(size):\n",
        "            S[j, k] = np.exp(-2j * np.pi * j * k / size)\n",
        "\n",
        "    top = np.hstack((S, zerom))\n",
        "    bottom = np.hstack((zerom,S))\n",
        "    second = np.vstack((top, bottom))\n",
        "    print(second)\n",
        "    return second\n",
        "def permutation_matrix(N):\n",
        "    P = np.zeros((N, N), dtype=complex)\n",
        "    for i in range(N):\n",
        "        P[i, (i // 2) + (i % 2) * (N // 2)] = 1\n",
        "    return P\n",
        "\n",
        "\n",
        "# Example usage\n",
        "n = 8# Size of the Fourier matrix\n",
        "F = fourier_matrix(n)\n",
        "c = np.array([[1], [0], [1], [0],[1], [0], [1], [0]])  # Column vector\n",
        "\n",
        "P = permutation_matrix(n)\n",
        "\n",
        "print(\"Fourier Matrix (F):\")\n",
        "print(F)\n",
        "\n",
        "print(\"\\nFirst matrix (M):\")\n",
        "f=first_matrix(n)\n",
        "print(\"\\nSecond matrix:\")\n",
        "s=second_matrix(n)\n",
        "print(\"permutation\")\n",
        "print(P)\n",
        "# Correct way to apply the permutation matrix\n",
        "final = f @ s  # Multiply the first and second matrices\n",
        "final = final @ P  # Apply permutation matrix to the result\n",
        "print(\"\\nFinal result after applying permutation (f @ s @ P):\")\n",
        "y = final @ c  # Matrix multiplication\n",
        " # Multiply by column vector c"
      ],
      "metadata": {
        "id": "DNuo0wIinsD4",
        "colab": {
          "base_uri": "https://localhost:8080/"
        },
        "outputId": "1c2732bb-ee16-4884-f57e-dc2d34c3d8b7"
      },
      "execution_count": null,
      "outputs": [
        {
          "output_type": "stream",
          "name": "stdout",
          "text": [
            "Fourier Matrix (F):\n",
            "[[ 1.00000000e+00+0.00000000e+00j  1.00000000e+00+0.00000000e+00j\n",
            "   1.00000000e+00+0.00000000e+00j  1.00000000e+00+0.00000000e+00j\n",
            "   1.00000000e+00+0.00000000e+00j  1.00000000e+00+0.00000000e+00j\n",
            "   1.00000000e+00+0.00000000e+00j  1.00000000e+00+0.00000000e+00j]\n",
            " [ 1.00000000e+00+0.00000000e+00j  7.07106781e-01-7.07106781e-01j\n",
            "   6.12323400e-17-1.00000000e+00j -7.07106781e-01-7.07106781e-01j\n",
            "  -1.00000000e+00-1.22464680e-16j -7.07106781e-01+7.07106781e-01j\n",
            "  -1.83697020e-16+1.00000000e+00j  7.07106781e-01+7.07106781e-01j]\n",
            " [ 1.00000000e+00+0.00000000e+00j  6.12323400e-17-1.00000000e+00j\n",
            "  -1.00000000e+00-1.22464680e-16j -1.83697020e-16+1.00000000e+00j\n",
            "   1.00000000e+00+2.44929360e-16j  3.06161700e-16-1.00000000e+00j\n",
            "  -1.00000000e+00-3.67394040e-16j -4.28626380e-16+1.00000000e+00j]\n",
            " [ 1.00000000e+00+0.00000000e+00j -7.07106781e-01-7.07106781e-01j\n",
            "  -1.83697020e-16+1.00000000e+00j  7.07106781e-01-7.07106781e-01j\n",
            "  -1.00000000e+00-3.67394040e-16j  7.07106781e-01+7.07106781e-01j\n",
            "   5.51091060e-16-1.00000000e+00j -7.07106781e-01+7.07106781e-01j]\n",
            " [ 1.00000000e+00+0.00000000e+00j -1.00000000e+00-1.22464680e-16j\n",
            "   1.00000000e+00+2.44929360e-16j -1.00000000e+00-3.67394040e-16j\n",
            "   1.00000000e+00+4.89858720e-16j -1.00000000e+00-6.12323400e-16j\n",
            "   1.00000000e+00+7.34788079e-16j -1.00000000e+00-8.57252759e-16j]\n",
            " [ 1.00000000e+00+0.00000000e+00j -7.07106781e-01+7.07106781e-01j\n",
            "   3.06161700e-16-1.00000000e+00j  7.07106781e-01+7.07106781e-01j\n",
            "  -1.00000000e+00-6.12323400e-16j  7.07106781e-01-7.07106781e-01j\n",
            "  -2.69484194e-15+1.00000000e+00j -7.07106781e-01-7.07106781e-01j]\n",
            " [ 1.00000000e+00+0.00000000e+00j -1.83697020e-16+1.00000000e+00j\n",
            "  -1.00000000e+00-3.67394040e-16j  5.51091060e-16-1.00000000e+00j\n",
            "   1.00000000e+00+7.34788079e-16j -2.69484194e-15+1.00000000e+00j\n",
            "  -1.00000000e+00-1.10218212e-15j -4.90477700e-16-1.00000000e+00j]\n",
            " [ 1.00000000e+00+0.00000000e+00j  7.07106781e-01+7.07106781e-01j\n",
            "  -4.28626380e-16+1.00000000e+00j -7.07106781e-01+7.07106781e-01j\n",
            "  -1.00000000e+00-8.57252759e-16j -7.07106781e-01-7.07106781e-01j\n",
            "  -4.90477700e-16-1.00000000e+00j  7.07106781e-01-7.07106781e-01j]]\n",
            "\n",
            "First matrix (M):\n",
            "[[ 1.00000000e+00+0.j          0.00000000e+00+0.j\n",
            "   0.00000000e+00+0.j          0.00000000e+00+0.j\n",
            "   1.00000000e+00+0.j          0.00000000e+00+0.j\n",
            "   0.00000000e+00+0.j          0.00000000e+00+0.j        ]\n",
            " [ 0.00000000e+00+0.j          1.00000000e+00+0.j\n",
            "   0.00000000e+00+0.j          0.00000000e+00+0.j\n",
            "   0.00000000e+00+0.j          7.07106781e-01-0.70710678j\n",
            "   0.00000000e+00+0.j          0.00000000e+00+0.j        ]\n",
            " [ 0.00000000e+00+0.j          0.00000000e+00+0.j\n",
            "   1.00000000e+00+0.j          0.00000000e+00+0.j\n",
            "   0.00000000e+00+0.j          0.00000000e+00+0.j\n",
            "   6.12323400e-17-1.j          0.00000000e+00+0.j        ]\n",
            " [ 0.00000000e+00+0.j          0.00000000e+00+0.j\n",
            "   0.00000000e+00+0.j          1.00000000e+00+0.j\n",
            "   0.00000000e+00+0.j          0.00000000e+00+0.j\n",
            "   0.00000000e+00+0.j         -7.07106781e-01-0.70710678j]\n",
            " [ 1.00000000e+00+0.j          0.00000000e+00+0.j\n",
            "   0.00000000e+00+0.j          0.00000000e+00+0.j\n",
            "  -1.00000000e+00-0.j          0.00000000e+00+0.j\n",
            "   0.00000000e+00+0.j          0.00000000e+00+0.j        ]\n",
            " [ 0.00000000e+00+0.j          1.00000000e+00+0.j\n",
            "   0.00000000e+00+0.j          0.00000000e+00+0.j\n",
            "   0.00000000e+00+0.j         -7.07106781e-01+0.70710678j\n",
            "   0.00000000e+00+0.j          0.00000000e+00+0.j        ]\n",
            " [ 0.00000000e+00+0.j          0.00000000e+00+0.j\n",
            "   1.00000000e+00+0.j          0.00000000e+00+0.j\n",
            "   0.00000000e+00+0.j          0.00000000e+00+0.j\n",
            "  -6.12323400e-17+1.j          0.00000000e+00+0.j        ]\n",
            " [ 0.00000000e+00+0.j          0.00000000e+00+0.j\n",
            "   0.00000000e+00+0.j          1.00000000e+00+0.j\n",
            "   0.00000000e+00+0.j          0.00000000e+00+0.j\n",
            "   0.00000000e+00+0.j          7.07106781e-01+0.70710678j]]\n",
            "\n",
            "Second matrix:\n",
            "[[ 1.0000000e+00+0.0000000e+00j  1.0000000e+00+0.0000000e+00j\n",
            "   1.0000000e+00+0.0000000e+00j  1.0000000e+00+0.0000000e+00j\n",
            "   0.0000000e+00+0.0000000e+00j  0.0000000e+00+0.0000000e+00j\n",
            "   0.0000000e+00+0.0000000e+00j  0.0000000e+00+0.0000000e+00j]\n",
            " [ 1.0000000e+00+0.0000000e+00j  6.1232340e-17-1.0000000e+00j\n",
            "  -1.0000000e+00-1.2246468e-16j -1.8369702e-16+1.0000000e+00j\n",
            "   0.0000000e+00+0.0000000e+00j  0.0000000e+00+0.0000000e+00j\n",
            "   0.0000000e+00+0.0000000e+00j  0.0000000e+00+0.0000000e+00j]\n",
            " [ 1.0000000e+00+0.0000000e+00j -1.0000000e+00-1.2246468e-16j\n",
            "   1.0000000e+00+2.4492936e-16j -1.0000000e+00-3.6739404e-16j\n",
            "   0.0000000e+00+0.0000000e+00j  0.0000000e+00+0.0000000e+00j\n",
            "   0.0000000e+00+0.0000000e+00j  0.0000000e+00+0.0000000e+00j]\n",
            " [ 1.0000000e+00+0.0000000e+00j -1.8369702e-16+1.0000000e+00j\n",
            "  -1.0000000e+00-3.6739404e-16j  5.5109106e-16-1.0000000e+00j\n",
            "   0.0000000e+00+0.0000000e+00j  0.0000000e+00+0.0000000e+00j\n",
            "   0.0000000e+00+0.0000000e+00j  0.0000000e+00+0.0000000e+00j]\n",
            " [ 0.0000000e+00+0.0000000e+00j  0.0000000e+00+0.0000000e+00j\n",
            "   0.0000000e+00+0.0000000e+00j  0.0000000e+00+0.0000000e+00j\n",
            "   1.0000000e+00+0.0000000e+00j  1.0000000e+00+0.0000000e+00j\n",
            "   1.0000000e+00+0.0000000e+00j  1.0000000e+00+0.0000000e+00j]\n",
            " [ 0.0000000e+00+0.0000000e+00j  0.0000000e+00+0.0000000e+00j\n",
            "   0.0000000e+00+0.0000000e+00j  0.0000000e+00+0.0000000e+00j\n",
            "   1.0000000e+00+0.0000000e+00j  6.1232340e-17-1.0000000e+00j\n",
            "  -1.0000000e+00-1.2246468e-16j -1.8369702e-16+1.0000000e+00j]\n",
            " [ 0.0000000e+00+0.0000000e+00j  0.0000000e+00+0.0000000e+00j\n",
            "   0.0000000e+00+0.0000000e+00j  0.0000000e+00+0.0000000e+00j\n",
            "   1.0000000e+00+0.0000000e+00j -1.0000000e+00-1.2246468e-16j\n",
            "   1.0000000e+00+2.4492936e-16j -1.0000000e+00-3.6739404e-16j]\n",
            " [ 0.0000000e+00+0.0000000e+00j  0.0000000e+00+0.0000000e+00j\n",
            "   0.0000000e+00+0.0000000e+00j  0.0000000e+00+0.0000000e+00j\n",
            "   1.0000000e+00+0.0000000e+00j -1.8369702e-16+1.0000000e+00j\n",
            "  -1.0000000e+00-3.6739404e-16j  5.5109106e-16-1.0000000e+00j]]\n",
            "permutation\n",
            "[[1.+0.j 0.+0.j 0.+0.j 0.+0.j 0.+0.j 0.+0.j 0.+0.j 0.+0.j]\n",
            " [0.+0.j 0.+0.j 0.+0.j 0.+0.j 1.+0.j 0.+0.j 0.+0.j 0.+0.j]\n",
            " [0.+0.j 1.+0.j 0.+0.j 0.+0.j 0.+0.j 0.+0.j 0.+0.j 0.+0.j]\n",
            " [0.+0.j 0.+0.j 0.+0.j 0.+0.j 0.+0.j 1.+0.j 0.+0.j 0.+0.j]\n",
            " [0.+0.j 0.+0.j 1.+0.j 0.+0.j 0.+0.j 0.+0.j 0.+0.j 0.+0.j]\n",
            " [0.+0.j 0.+0.j 0.+0.j 0.+0.j 0.+0.j 0.+0.j 1.+0.j 0.+0.j]\n",
            " [0.+0.j 0.+0.j 0.+0.j 1.+0.j 0.+0.j 0.+0.j 0.+0.j 0.+0.j]\n",
            " [0.+0.j 0.+0.j 0.+0.j 0.+0.j 0.+0.j 0.+0.j 0.+0.j 1.+0.j]]\n",
            "\n",
            "Final result after applying permutation (f @ s @ P):\n"
          ]
        }
      ]
    },
    {
      "cell_type": "code",
      "source": [
        "print(y)"
      ],
      "metadata": {
        "id": "FehrO0aV1uxV",
        "colab": {
          "base_uri": "https://localhost:8080/"
        },
        "outputId": "77b0a701-2116-4fc4-a122-169e61775a82"
      },
      "execution_count": null,
      "outputs": [
        {
          "output_type": "stream",
          "name": "stdout",
          "text": [
            "[[ 4.00000000e+00+0.00000000e+00j]\n",
            " [ 1.00000000e+00-2.41421356e+00j]\n",
            " [-1.83697020e-16-2.22044605e-16j]\n",
            " [ 1.00000000e+00-4.14213562e-01j]\n",
            " [ 0.00000000e+00+0.00000000e+00j]\n",
            " [ 1.00000000e+00+4.14213562e-01j]\n",
            " [ 7.26747174e-17-1.11022302e-16j]\n",
            " [ 1.00000000e+00+2.41421356e+00j]]\n"
          ]
        }
      ]
    },
    {
      "cell_type": "code",
      "source": [
        "import numpy as np\n",
        "\n",
        "def fourier_matrix(n):\n",
        "    # Create an n x n Fourier matrix\n",
        "    F = np.zeros((n, n), dtype=complex)\n",
        "\n",
        "    # Fill the matrix with the appropriate values\n",
        "    for j in range(n):\n",
        "        for k in range(n):\n",
        "            F[j, k] = np.exp(-2j * np.pi * j * k / n)\n",
        "\n",
        "    return F\n",
        "\n",
        "def calculate_identity(size):\n",
        "    # Create an identity matrix of given size\n",
        "    return np.eye(size, dtype=complex)\n",
        "\n",
        "def diagonal_matrices(n):\n",
        "    size = n // 2\n",
        "    D = np.zeros((size, size), dtype=complex)\n",
        "    Dne = np.zeros((size, size), dtype=complex)\n",
        "    for j in range(size):\n",
        "        D[j, j] = np.exp(-2j * np.pi * j / n)\n",
        "        Dne[j, j] = -np.exp(-2j * np.pi * j / n)\n",
        "    return D, Dne\n",
        "\n",
        "def first_matrix(n):\n",
        "    size = n // 2\n",
        "    identity = calculate_identity(size)\n",
        "    D, Dne = diagonal_matrices(n)\n",
        "\n",
        "    # Stack matrices vertically and horizontally to form the 2x2 block matrix\n",
        "    top = np.hstack((identity, D))\n",
        "    bottom = np.hstack((identity, Dne))\n",
        "\n",
        "    M = np.vstack((top, bottom))\n",
        "    print(M)\n",
        "    return M\n",
        "\n",
        "def second_matrix(n):\n",
        "    size = n // 2\n",
        "    S = np.zeros((size, size), dtype=complex)\n",
        "    zerom = np.zeros((size, size), dtype=complex)\n",
        "\n",
        "    # Fill the matrix with the appropriate values\n",
        "    for j in range(size):\n",
        "        for k in range(size):\n",
        "            S[j, k] = np.exp(-2j * np.pi * j * k / size)\n",
        "\n",
        "    top = np.hstack((S, zerom))\n",
        "    bottom = np.hstack((zerom,S))\n",
        "    second = np.vstack((top, bottom))\n",
        "    print(second)\n",
        "    return second\n",
        "def permutation_matrix(N):\n",
        "    P = np.zeros((N, N), dtype=complex)\n",
        "    for i in range(N):\n",
        "        P[i, (i // 2) + (i % 2) * (N // 2)] = 1\n",
        "    return P\n",
        "\n",
        "\n",
        "# Example usage\n",
        "n = 4 # Size of the Fourier matrix\n",
        "F = fourier_matrix(n)\n",
        "c = np.array([[1], [0], [1], [0]])  # Column vector\n",
        "y = F @ c  # Matrix multiplication\n",
        "P = permutation_matrix(n)\n",
        "\n",
        "print(\"Fourier Matrix (F):\")\n",
        "print(F)\n",
        "print(\"\\nResult of F @ c (y):\")\n",
        "print(y)\n",
        "print(\"\\nFirst matrix (M):\")\n",
        "f=first_matrix(n)\n",
        "print(\"\\nSecond matrix:\")\n",
        "s=second_matrix(n)\n",
        "print(\"permutation\")\n",
        "print(P)\n",
        "# Correct way to apply the permutation matrix\n",
        "final = f @ s  # Multiply the first and second matrices\n",
        "final = final @ P  # Apply permutation matrix to the result\n",
        "print(\"\\nFinal result after applying permutation (f @ s @ P):\")\n",
        "print(final @ c)  # Multiply by column vector c"
      ],
      "metadata": {
        "colab": {
          "base_uri": "https://localhost:8080/"
        },
        "id": "LK6UU1OaJDSu",
        "outputId": "3d2a35c9-494e-4ae0-f506-6fe708fa1c0d"
      },
      "execution_count": null,
      "outputs": [
        {
          "output_type": "stream",
          "name": "stdout",
          "text": [
            "Fourier Matrix (F):\n",
            "[[ 1.0000000e+00+0.0000000e+00j  1.0000000e+00+0.0000000e+00j\n",
            "   1.0000000e+00+0.0000000e+00j  1.0000000e+00+0.0000000e+00j]\n",
            " [ 1.0000000e+00+0.0000000e+00j  6.1232340e-17-1.0000000e+00j\n",
            "  -1.0000000e+00-1.2246468e-16j -1.8369702e-16+1.0000000e+00j]\n",
            " [ 1.0000000e+00+0.0000000e+00j -1.0000000e+00-1.2246468e-16j\n",
            "   1.0000000e+00+2.4492936e-16j -1.0000000e+00-3.6739404e-16j]\n",
            " [ 1.0000000e+00+0.0000000e+00j -1.8369702e-16+1.0000000e+00j\n",
            "  -1.0000000e+00-3.6739404e-16j  5.5109106e-16-1.0000000e+00j]]\n",
            "\n",
            "Result of F @ c (y):\n",
            "[[2.+0.0000000e+00j]\n",
            " [0.-1.2246468e-16j]\n",
            " [2.+2.4492936e-16j]\n",
            " [0.-3.6739404e-16j]]\n",
            "\n",
            "First matrix (M):\n",
            "[[ 1.000000e+00+0.j  0.000000e+00+0.j  1.000000e+00+0.j  0.000000e+00+0.j]\n",
            " [ 0.000000e+00+0.j  1.000000e+00+0.j  0.000000e+00+0.j  6.123234e-17-1.j]\n",
            " [ 1.000000e+00+0.j  0.000000e+00+0.j -1.000000e+00-0.j  0.000000e+00+0.j]\n",
            " [ 0.000000e+00+0.j  1.000000e+00+0.j  0.000000e+00+0.j -6.123234e-17+1.j]]\n",
            "\n",
            "Second matrix:\n",
            "[[ 1.+0.0000000e+00j  1.+0.0000000e+00j  0.+0.0000000e+00j\n",
            "   0.+0.0000000e+00j]\n",
            " [ 1.+0.0000000e+00j -1.-1.2246468e-16j  0.+0.0000000e+00j\n",
            "   0.+0.0000000e+00j]\n",
            " [ 0.+0.0000000e+00j  0.+0.0000000e+00j  1.+0.0000000e+00j\n",
            "   1.+0.0000000e+00j]\n",
            " [ 0.+0.0000000e+00j  0.+0.0000000e+00j  1.+0.0000000e+00j\n",
            "  -1.-1.2246468e-16j]]\n",
            "permutation\n",
            "[[1.+0.j 0.+0.j 0.+0.j 0.+0.j]\n",
            " [0.+0.j 0.+0.j 1.+0.j 0.+0.j]\n",
            " [0.+0.j 1.+0.j 0.+0.j 0.+0.j]\n",
            " [0.+0.j 0.+0.j 0.+0.j 1.+0.j]]\n",
            "\n",
            "Final result after applying permutation (f @ s @ P):\n",
            "[[2.+0.0000000e+00j]\n",
            " [0.-1.2246468e-16j]\n",
            " [2.+0.0000000e+00j]\n",
            " [0.-1.2246468e-16j]]\n"
          ]
        }
      ]
    }
  ]
}