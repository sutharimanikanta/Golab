{
  "cells": [
    {
      "cell_type": "markdown",
      "metadata": {
        "id": "view-in-github",
        "colab_type": "text"
      },
      "source": [
        "<a href=\"https://colab.research.google.com/github/sutharimanikanta/Golab/blob/main/Brain_Tumor(multi_class_classification).ipynb\" target=\"_parent\"><img src=\"https://colab.research.google.com/assets/colab-badge.svg\" alt=\"Open In Colab\"/></a>"
      ]
    },
    {
      "cell_type": "code",
      "execution_count": null,
      "metadata": {
        "id": "mExPvRN-RBbS"
      },
      "outputs": [],
      "source": [
        "import pandas as pd\n",
        "import numpy as np\n",
        "import seaborn as sns\n",
        "import matplotlib.pyplot as plt\n",
        "from warnings import filterwarnings\n",
        "from sklearn.metrics import confusion_matrix, accuracy_score, classification_report, roc_auc_score, roc_curve\n",
        "from keras.models import Sequential,Model\n",
        "from keras.layers import Input,Dense,GlobalAveragePooling2D, Dropout, Flatten, Conv2D, MaxPool2D, BatchNormalization,MaxPooling2D\n",
        "from keras.callbacks import EarlyStopping,ReduceLROnPlateau,ModelCheckpoint,TensorBoard,LambdaCallback\n",
        "from keras import models\n",
        "from keras import layers\n",
        "import tensorflow as tf\n",
        "import os\n",
        "import os.path\n",
        "from pathlib import Path\n",
        "import cv2\n",
        "from tensorflow.keras.preprocessing.image import ImageDataGenerator\n",
        "from tensorflow.keras.utils import to_categorical#matrix where\n",
        "from sklearn.model_selection import train_test_split\n",
        "from sklearn.metrics import confusion_matrix,classification_report\n",
        "from sklearn.utils import shuffle\n",
        "from keras import regularizers\n",
        "from tensorflow.keras.optimizers import RMSprop,Adam\n",
        "\n",
        "from tensorflow.keras.applications.resnet50 import ResNet50\n"
      ]
    },
    {
      "cell_type": "code",
      "execution_count": null,
      "metadata": {
        "id": "Tp2iF3C5Ur9K"
      },
      "outputs": [],
      "source": [
        "filterwarnings(\"ignore\",category=DeprecationWarning)\n",
        "filterwarnings(\"ignore\", category=FutureWarning)\n",
        "filterwarnings(\"ignore\", category=UserWarning)"
      ]
    },
    {
      "cell_type": "code",
      "execution_count": null,
      "metadata": {
        "colab": {
          "base_uri": "https://localhost:8080/"
        },
        "id": "8FbkxCkmVmst",
        "outputId": "5b91abdb-8c5d-4a8b-b69e-b2ef7f52c0d7"
      },
      "outputs": [
        {
          "name": "stdout",
          "output_type": "stream",
          "text": [
            "Cloning into 'Brain-Tumor-Classification-DataSet'...\n",
            "remote: Enumerating objects: 3039, done.\u001b[K\n",
            "remote: Counting objects: 100% (4/4), done.\u001b[K\n",
            "remote: Compressing objects: 100% (4/4), done.\u001b[K\n",
            "remote: Total 3039 (delta 0), reused 0 (delta 0), pack-reused 3035\u001b[K\n",
            "Receiving objects: 100% (3039/3039), 79.25 MiB | 29.98 MiB/s, done.\n"
          ]
        }
      ],
      "source": [
        "!git clone https://github.com/SartajBhuvaji/Brain-Tumor-Classification-DataSet"
      ]
    },
    {
      "cell_type": "code",
      "execution_count": null,
      "metadata": {
        "colab": {
          "base_uri": "https://localhost:8080/"
        },
        "id": "OTd1ROLoVtpT",
        "outputId": "48c29962-6e27-4b52-9db4-9f7a8ab086c6"
      },
      "outputs": [
        {
          "name": "stdout",
          "output_type": "stream",
          "text": [
            "Found 2870 images belonging to 4 classes.\n",
            "Found 394 images belonging to 4 classes.\n"
          ]
        }
      ],
      "source": [
        "from tensorflow.keras.preprocessing.image import ImageDataGenerator\n",
        "# Set the seed\n",
        "tf.random.set_seed(42)\n",
        "\n",
        "# Create ImageDataGenerator instances for train and validation data\n",
        "train_datagen = ImageDataGenerator(rescale=1./255,\n",
        "                                   rotation_range=20,  # randomly rotate images in the range (degrees, 0 to 180)\n",
        "    width_shift_range=0.1,  # randomly shift images horizontally (fraction of total width)\n",
        "    height_shift_range=0.1,  # randomly shift images vertically (fraction of total height)\n",
        "    shear_range=0.1,  # set range for random shear\n",
        "    zoom_range=0.1,  # set range for random zoom\n",
        "    horizontal_flip=True,  # randomly flip images\n",
        "    fill_mode='nearest'\n",
        "                                  )\n",
        "valid_datagen = ImageDataGenerator(rescale=1./255)\n",
        "\n",
        "# Define the directories for train and validation data\n",
        "train_dir = \"/content/Brain-Tumor-Classification-DataSet/Training\"\n",
        "valid_dir = \"/content/Brain-Tumor-Classification-DataSet/Testing\"\n",
        "\n",
        "# Flow from directory for train and validation data\n",
        "train_data = train_datagen.flow_from_directory(train_dir,\n",
        "                                                batch_size=32, # number of images to process at a time\n",
        "                                               target_size=(224, 224), # convert all images to be 224 x 224\n",
        "                                               class_mode=\"categorical\", # type of problem we're working on\n",
        "\n",
        "                                               )\n",
        "valid_data = valid_datagen.flow_from_directory(valid_dir,\n",
        "                                                batch_size=32, # number of images to process at a time\n",
        "                                               target_size=(224, 224), # convert all images to be 224 x 224\n",
        "                                               class_mode=\"categorical\",\n",
        "                                               )\n"
      ]
    },
    {
      "cell_type": "code",
      "execution_count": null,
      "metadata": {
        "colab": {
          "background_save": true,
          "base_uri": "https://localhost:8080/"
        },
        "id": "FfSWlmV-eV3e",
        "outputId": "492e8e3e-d754-45ed-8b2f-7154848dc87f"
      },
      "outputs": [
        {
          "name": "stdout",
          "output_type": "stream",
          "text": [
            "Epoch 1/5\n",
            "90/90 [==============================] - 58s 532ms/step - loss: 1.2149 - accuracy: 0.4425 - val_loss: 1.6668 - val_accuracy: 0.2386\n",
            "Epoch 2/5\n",
            "90/90 [==============================] - 49s 544ms/step - loss: 1.0097 - accuracy: 0.5690 - val_loss: 1.9189 - val_accuracy: 0.3452\n",
            "Epoch 3/5\n",
            "90/90 [==============================] - 46s 506ms/step - loss: 0.8919 - accuracy: 0.6223 - val_loss: 1.8870 - val_accuracy: 0.3249\n",
            "Epoch 4/5\n",
            "90/90 [==============================] - 44s 492ms/step - loss: 0.8834 - accuracy: 0.6240 - val_loss: 2.0975 - val_accuracy: 0.2614\n",
            "Epoch 5/5\n",
            "90/90 [==============================] - 45s 498ms/step - loss: 0.8178 - accuracy: 0.6526 - val_loss: 1.8846 - val_accuracy: 0.3604\n"
          ]
        }
      ],
      "source": [
        "import tensorflow as tf\n",
        "from tensorflow.keras.layers import Dropout  # Import the Dropout layer\n",
        "\n",
        "# Assuming you have 4 classes\n",
        "num_classes = 4\n",
        "\n",
        "# Define the model\n",
        "model_multi_class = tf.keras.models.Sequential([\n",
        "    tf.keras.layers.Conv2D(64, (2, 2), activation=\"relu\"),\n",
        "    tf.keras.layers.Conv2D(64, (2, 2), activation=\"relu\"),\n",
        "    tf.keras.layers.MaxPool2D(pool_size=(2, 2), padding=\"valid\"),\n",
        "    Dropout(0.1),  # Corrected spelling and imported Dropout layer\n",
        "    tf.keras.layers.Conv2D(32, (2, 2), activation=\"relu\"),\n",
        "    tf.keras.layers.Conv2D(32, (2, 2), activation=\"relu\"),\n",
        "    tf.keras.layers.MaxPool2D(pool_size=(2, 2), padding=\"valid\"),\n",
        "    Dropout(0.1),  # Corrected spelling\n",
        "    tf.keras.layers.Conv2D(16, (2, 2), activation=\"relu\"),\n",
        "    tf.keras.layers.Conv2D(16, (2, 2), activation=\"relu\"),\n",
        "    tf.keras.layers.MaxPool2D(pool_size=(2, 2), padding=\"valid\"),\n",
        "    Dropout(0.1),  # Corrected spelling\n",
        "    tf.keras.layers.Conv2D(8, (2, 2), activation=\"relu\"),\n",
        "    tf.keras.layers.Conv2D(8, (2, 2), activation=\"relu\"),\n",
        "    tf.keras.layers.MaxPool2D(pool_size=(2, 2), padding=\"valid\"),\n",
        "    Dropout(0.1),  # Corrected spelling\n",
        "    tf.keras.layers.Flatten(),\n",
        "    tf.keras.layers.Dense(1024, activation=\"relu\"),\n",
        "    Dropout(0.2),  # Added Dropout layer after the Dense layer\n",
        "    tf.keras.layers.Dense(num_classes, activation=\"softmax\")  # Output layer for multi-class classification\n",
        "])\n",
        "\n",
        "# Compile the model\n",
        "model_multi_class.compile(loss=\"categorical_crossentropy\",  # Categorical crossentropy loss for multi-class\n",
        "                          optimizer=tf.keras.optimizers.Adam(),\n",
        "                          metrics=[\"accuracy\"])\n",
        "\n",
        "# Fit the model\n",
        "history_multi_class = model_multi_class.fit(train_data,\n",
        "                                            epochs=5,\n",
        "                                            steps_per_epoch=len(train_data),\n",
        "                                            validation_data=valid_data,\n",
        "                                            validation_steps=len(valid_data))\n"
      ]
    },
    {
      "cell_type": "code",
      "execution_count": null,
      "metadata": {
        "colab": {
          "background_save": true
        },
        "id": "sYceNgnXinye",
        "outputId": "60764b18-969f-4b25-f938-cffd0fe2bc9b"
      },
      "outputs": [
        {
          "name": "stdout",
          "output_type": "stream",
          "text": [
            "13/13 [==============================] - 1s 85ms/step - loss: 1.8846 - accuracy: 0.3604\n",
            "loss is:1.8845906257629395\n",
            "accuacy is:0.3604061007499695\n"
          ]
        }
      ],
      "source": [
        "loss, accuracy= model_multi_class.evaluate(valid_data)\n",
        "print(f\"loss is:{loss}\")\n",
        "print(f\"accuacy is:{accuracy}\")"
      ]
    },
    {
      "cell_type": "markdown",
      "metadata": {
        "id": "skZkTtEEmxPf"
      },
      "source": [
        "(None, None, None, 64) ->4 dim\n",
        "* 1none->batch size,\n",
        "* 1none->feature map,\n",
        "* 1none->feature map,\n"
      ]
    },
    {
      "cell_type": "code",
      "execution_count": null,
      "metadata": {
        "colab": {
          "background_save": true
        },
        "id": "KRB4IXSdlg3Z",
        "outputId": "cb04b234-b592-4509-cbdd-cc0578741999"
      },
      "outputs": [
        {
          "name": "stdout",
          "output_type": "stream",
          "text": [
            "Model: \"sequential\"\n",
            "_________________________________________________________________\n",
            " Layer (type)                Output Shape              Param #   \n",
            "=================================================================\n",
            " conv2d (Conv2D)             (None, None, None, 64)    832       \n",
            "                                                                 \n",
            " conv2d_1 (Conv2D)           (None, None, None, 64)    16448     \n",
            "                                                                 \n",
            " max_pooling2d (MaxPooling2  (None, None, None, 64)    0         \n",
            " D)                                                              \n",
            "                                                                 \n",
            " dropout (Dropout)           (None, None, None, 64)    0         \n",
            "                                                                 \n",
            " conv2d_2 (Conv2D)           (None, None, None, 32)    8224      \n",
            "                                                                 \n",
            " conv2d_3 (Conv2D)           (None, None, None, 32)    4128      \n",
            "                                                                 \n",
            " max_pooling2d_1 (MaxPoolin  (None, None, None, 32)    0         \n",
            " g2D)                                                            \n",
            "                                                                 \n",
            " dropout_1 (Dropout)         (None, None, None, 32)    0         \n",
            "                                                                 \n",
            " conv2d_4 (Conv2D)           (None, None, None, 16)    2064      \n",
            "                                                                 \n",
            " conv2d_5 (Conv2D)           (None, None, None, 16)    1040      \n",
            "                                                                 \n",
            " max_pooling2d_2 (MaxPoolin  (None, None, None, 16)    0         \n",
            " g2D)                                                            \n",
            "                                                                 \n",
            " dropout_2 (Dropout)         (None, None, None, 16)    0         \n",
            "                                                                 \n",
            " conv2d_6 (Conv2D)           (None, None, None, 8)     520       \n",
            "                                                                 \n",
            " conv2d_7 (Conv2D)           (None, None, None, 8)     264       \n",
            "                                                                 \n",
            " max_pooling2d_3 (MaxPoolin  (None, None, None, 8)     0         \n",
            " g2D)                                                            \n",
            "                                                                 \n",
            " dropout_3 (Dropout)         (None, None, None, 8)     0         \n",
            "                                                                 \n",
            " flatten (Flatten)           (None, None)              0         \n",
            "                                                                 \n",
            " dense (Dense)               (None, 1024)              1180672   \n",
            "                                                                 \n",
            " dropout_4 (Dropout)         (None, 1024)              0         \n",
            "                                                                 \n",
            " dense_1 (Dense)             (None, 4)                 4100      \n",
            "                                                                 \n",
            "=================================================================\n",
            "Total params: 1218292 (4.65 MB)\n",
            "Trainable params: 1218292 (4.65 MB)\n",
            "Non-trainable params: 0 (0.00 Byte)\n",
            "_________________________________________________________________\n"
          ]
        }
      ],
      "source": [
        "model_multi_class.summary()"
      ]
    },
    {
      "cell_type": "code",
      "execution_count": null,
      "metadata": {
        "colab": {
          "background_save": true
        },
        "id": "gbMSink1ox94"
      },
      "outputs": [],
      "source": [
        "# Create checkpoint callback to save model for later use\n",
        "checkpoint_path = \"101_classes_10_percent_data_model_checkpoint\"\n",
        "checkpoint_callback = tf.keras.callbacks.ModelCheckpoint(checkpoint_path,\n",
        "                                                         save_weights_only=True, # save only the model weights\n",
        "                                                         monitor=\"val_accuracy\", # save the model weights which score the best validation accuracy\n",
        "                                                         save_best_only=True) # only keep the best model weights on file (delete the rest)\n"
      ]
    },
    {
      "cell_type": "code",
      "execution_count": null,
      "metadata": {
        "id": "3x7mLrB9kTns"
      },
      "outputs": [],
      "source": [
        "Modifed = tf.keras.models.Sequential([\n",
        "    tf.keras.layers.Conv2D(64, (2, 2), activation=\"relu\"),\n",
        "    tf.keras.layers.Conv2D(64, (2, 2), activation=\"relu\"),\n",
        "    tf.keras.layers.MaxPool2D(pool_size=(2, 2), padding=\"valid\"),\n",
        "    Dropout(0.1),  # Corrected spelling and imported Dropout layer\n",
        "    tf.keras.layers.Conv2D(32, (2, 2), activation=\"relu\"),\n",
        "    tf.keras.layers.Conv2D(32, (2, 2), activation=\"relu\"),\n",
        "    tf.keras.layers.MaxPool2D(pool_size=(2, 2), padding=\"valid\"),\n",
        "    Dropout(0.1),  # Corrected spelling\n",
        "    tf.keras.layers.Conv2D(16, (2, 2), activation=\"relu\"),\n",
        "    tf.keras.layers.Conv2D(16, (2, 2), activation=\"relu\"),\n",
        "    tf.keras.layers.MaxPool2D(pool_size=(2, 2), padding=\"valid\"),\n",
        "    Dropout(0.1),  # Corrected spelling\n",
        "    tf.keras.layers.Conv2D(8, (2, 2), activation=\"relu\"),\n",
        "    tf.keras.layers.Conv2D(8, (2, 2), activation=\"relu\"),\n",
        "    tf.keras.layers.MaxPool2D(pool_size=(2, 2), padding=\"valid\"),\n",
        "    Dropout(0.1),  # Corrected spelling\n",
        "    tf.keras.layers.Flatten(),\n",
        "    tf.keras.layers.Dense(1024, activation=\"relu\"),\n",
        "    Dropout(0.2),  # Added Dropout layer after the Dense layer\n",
        "    tf.keras.layers.Dense(num_classes, activation=\"softmax\")  # Output layer for multi-class classification\n",
        "])\n",
        "\n",
        "# Compile the model\n",
        "model_multi_class.compile(loss=\"categorical_crossentropy\",  # Categorical crossentropy loss for multi-class\n",
        "                          optimizer=tf.keras.optimizers.Adam(),\n",
        "                          metrics=[\"accuracy\"])\n",
        "\n",
        "# Fit the model\n",
        "history_multi_class = model_multi_class.fit(train_data,\n",
        "                                            epochs=5,\n",
        "                                            steps_per_epoch=len(train_data),\n",
        "                                            validation_data=valid_data,\n",
        "                                            validation_steps=len(valid_data))\n"
      ]
    },
    {
      "cell_type": "code",
      "execution_count": null,
      "metadata": {
        "id": "Ka4AS_DjbhdV"
      },
      "outputs": [],
      "source": []
    }
  ],
  "metadata": {
    "accelerator": "GPU",
    "colab": {
      "provenance": [],
      "authorship_tag": "ABX9TyPmNtkriX5BYtalKk8Jf8td",
      "include_colab_link": true
    },
    "kernelspec": {
      "display_name": "Python 3",
      "name": "python3"
    },
    "language_info": {
      "name": "python"
    }
  },
  "nbformat": 4,
  "nbformat_minor": 0
}