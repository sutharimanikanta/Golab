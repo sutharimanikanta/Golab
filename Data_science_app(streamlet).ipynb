{
  "nbformat": 4,
  "nbformat_minor": 0,
  "metadata": {
    "colab": {
      "provenance": [],
      "gpuType": "T4",
      "authorship_tag": "ABX9TyMLG4zb+wT50tDwyFSA/Jx3"
    },
    "kernelspec": {
      "name": "python3",
      "display_name": "Python 3"
    },
    "language_info": {
      "name": "python"
    },
    "accelerator": "GPU"
  },
  "cells": [
    {
      "cell_type": "code",
      "source": [
        "!pip install streamlit"
      ],
      "metadata": {
        "colab": {
          "base_uri": "https://localhost:8080/"
        },
        "id": "mbWm7UlMBvCC",
        "outputId": "1bbc9fd0-8785-49db-bb2d-2e96777b68bf"
      },
      "execution_count": null,
      "outputs": [
        {
          "output_type": "stream",
          "name": "stdout",
          "text": [
            "Collecting streamlit\n",
            "  Downloading streamlit-1.34.0-py2.py3-none-any.whl (8.5 MB)\n",
            "\u001b[2K     \u001b[90m━━━━━━━━━━━━━━━━━━━━━━━━━━━━━━━━━━━━━━━━\u001b[0m \u001b[32m8.5/8.5 MB\u001b[0m \u001b[31m20.6 MB/s\u001b[0m eta \u001b[36m0:00:00\u001b[0m\n",
            "\u001b[?25hRequirement already satisfied: altair<6,>=4.0 in /usr/local/lib/python3.10/dist-packages (from streamlit) (4.2.2)\n",
            "Requirement already satisfied: blinker<2,>=1.0.0 in /usr/lib/python3/dist-packages (from streamlit) (1.4)\n",
            "Requirement already satisfied: cachetools<6,>=4.0 in /usr/local/lib/python3.10/dist-packages (from streamlit) (5.3.3)\n",
            "Requirement already satisfied: click<9,>=7.0 in /usr/local/lib/python3.10/dist-packages (from streamlit) (8.1.7)\n",
            "Requirement already satisfied: numpy<2,>=1.19.3 in /usr/local/lib/python3.10/dist-packages (from streamlit) (1.25.2)\n",
            "Requirement already satisfied: packaging<25,>=16.8 in /usr/local/lib/python3.10/dist-packages (from streamlit) (24.0)\n",
            "Requirement already satisfied: pandas<3,>=1.3.0 in /usr/local/lib/python3.10/dist-packages (from streamlit) (2.0.3)\n",
            "Requirement already satisfied: pillow<11,>=7.1.0 in /usr/local/lib/python3.10/dist-packages (from streamlit) (9.4.0)\n",
            "Requirement already satisfied: protobuf<5,>=3.20 in /usr/local/lib/python3.10/dist-packages (from streamlit) (3.20.3)\n",
            "Requirement already satisfied: pyarrow>=7.0 in /usr/local/lib/python3.10/dist-packages (from streamlit) (14.0.2)\n",
            "Requirement already satisfied: requests<3,>=2.27 in /usr/local/lib/python3.10/dist-packages (from streamlit) (2.31.0)\n",
            "Requirement already satisfied: rich<14,>=10.14.0 in /usr/local/lib/python3.10/dist-packages (from streamlit) (13.7.1)\n",
            "Requirement already satisfied: tenacity<9,>=8.1.0 in /usr/local/lib/python3.10/dist-packages (from streamlit) (8.3.0)\n",
            "Requirement already satisfied: toml<2,>=0.10.1 in /usr/local/lib/python3.10/dist-packages (from streamlit) (0.10.2)\n",
            "Requirement already satisfied: typing-extensions<5,>=4.3.0 in /usr/local/lib/python3.10/dist-packages (from streamlit) (4.11.0)\n",
            "Collecting gitpython!=3.1.19,<4,>=3.0.7 (from streamlit)\n",
            "  Downloading GitPython-3.1.43-py3-none-any.whl (207 kB)\n",
            "\u001b[2K     \u001b[90m━━━━━━━━━━━━━━━━━━━━━━━━━━━━━━━━━━━━━━━━\u001b[0m \u001b[32m207.3/207.3 kB\u001b[0m \u001b[31m29.5 MB/s\u001b[0m eta \u001b[36m0:00:00\u001b[0m\n",
            "\u001b[?25hCollecting pydeck<1,>=0.8.0b4 (from streamlit)\n",
            "  Downloading pydeck-0.9.1-py2.py3-none-any.whl (6.9 MB)\n",
            "\u001b[2K     \u001b[90m━━━━━━━━━━━━━━━━━━━━━━━━━━━━━━━━━━━━━━━━\u001b[0m \u001b[32m6.9/6.9 MB\u001b[0m \u001b[31m53.9 MB/s\u001b[0m eta \u001b[36m0:00:00\u001b[0m\n",
            "\u001b[?25hRequirement already satisfied: tornado<7,>=6.0.3 in /usr/local/lib/python3.10/dist-packages (from streamlit) (6.3.3)\n",
            "Collecting watchdog>=2.1.5 (from streamlit)\n",
            "  Downloading watchdog-4.0.0-py3-none-manylinux2014_x86_64.whl (82 kB)\n",
            "\u001b[2K     \u001b[90m━━━━━━━━━━━━━━━━━━━━━━━━━━━━━━━━━━━━━━━━\u001b[0m \u001b[32m83.0/83.0 kB\u001b[0m \u001b[31m14.3 MB/s\u001b[0m eta \u001b[36m0:00:00\u001b[0m\n",
            "\u001b[?25hRequirement already satisfied: entrypoints in /usr/local/lib/python3.10/dist-packages (from altair<6,>=4.0->streamlit) (0.4)\n",
            "Requirement already satisfied: jinja2 in /usr/local/lib/python3.10/dist-packages (from altair<6,>=4.0->streamlit) (3.1.4)\n",
            "Requirement already satisfied: jsonschema>=3.0 in /usr/local/lib/python3.10/dist-packages (from altair<6,>=4.0->streamlit) (4.19.2)\n",
            "Requirement already satisfied: toolz in /usr/local/lib/python3.10/dist-packages (from altair<6,>=4.0->streamlit) (0.12.1)\n",
            "Collecting gitdb<5,>=4.0.1 (from gitpython!=3.1.19,<4,>=3.0.7->streamlit)\n",
            "  Downloading gitdb-4.0.11-py3-none-any.whl (62 kB)\n",
            "\u001b[2K     \u001b[90m━━━━━━━━━━━━━━━━━━━━━━━━━━━━━━━━━━━━━━━━\u001b[0m \u001b[32m62.7/62.7 kB\u001b[0m \u001b[31m9.2 MB/s\u001b[0m eta \u001b[36m0:00:00\u001b[0m\n",
            "\u001b[?25hRequirement already satisfied: python-dateutil>=2.8.2 in /usr/local/lib/python3.10/dist-packages (from pandas<3,>=1.3.0->streamlit) (2.8.2)\n",
            "Requirement already satisfied: pytz>=2020.1 in /usr/local/lib/python3.10/dist-packages (from pandas<3,>=1.3.0->streamlit) (2023.4)\n",
            "Requirement already satisfied: tzdata>=2022.1 in /usr/local/lib/python3.10/dist-packages (from pandas<3,>=1.3.0->streamlit) (2024.1)\n",
            "Requirement already satisfied: charset-normalizer<4,>=2 in /usr/local/lib/python3.10/dist-packages (from requests<3,>=2.27->streamlit) (3.3.2)\n",
            "Requirement already satisfied: idna<4,>=2.5 in /usr/local/lib/python3.10/dist-packages (from requests<3,>=2.27->streamlit) (3.7)\n",
            "Requirement already satisfied: urllib3<3,>=1.21.1 in /usr/local/lib/python3.10/dist-packages (from requests<3,>=2.27->streamlit) (2.0.7)\n",
            "Requirement already satisfied: certifi>=2017.4.17 in /usr/local/lib/python3.10/dist-packages (from requests<3,>=2.27->streamlit) (2024.2.2)\n",
            "Requirement already satisfied: markdown-it-py>=2.2.0 in /usr/local/lib/python3.10/dist-packages (from rich<14,>=10.14.0->streamlit) (3.0.0)\n",
            "Requirement already satisfied: pygments<3.0.0,>=2.13.0 in /usr/local/lib/python3.10/dist-packages (from rich<14,>=10.14.0->streamlit) (2.16.1)\n",
            "Collecting smmap<6,>=3.0.1 (from gitdb<5,>=4.0.1->gitpython!=3.1.19,<4,>=3.0.7->streamlit)\n",
            "  Downloading smmap-5.0.1-py3-none-any.whl (24 kB)\n",
            "Requirement already satisfied: MarkupSafe>=2.0 in /usr/local/lib/python3.10/dist-packages (from jinja2->altair<6,>=4.0->streamlit) (2.1.5)\n",
            "Requirement already satisfied: attrs>=22.2.0 in /usr/local/lib/python3.10/dist-packages (from jsonschema>=3.0->altair<6,>=4.0->streamlit) (23.2.0)\n",
            "Requirement already satisfied: jsonschema-specifications>=2023.03.6 in /usr/local/lib/python3.10/dist-packages (from jsonschema>=3.0->altair<6,>=4.0->streamlit) (2023.12.1)\n",
            "Requirement already satisfied: referencing>=0.28.4 in /usr/local/lib/python3.10/dist-packages (from jsonschema>=3.0->altair<6,>=4.0->streamlit) (0.35.1)\n",
            "Requirement already satisfied: rpds-py>=0.7.1 in /usr/local/lib/python3.10/dist-packages (from jsonschema>=3.0->altair<6,>=4.0->streamlit) (0.18.1)\n",
            "Requirement already satisfied: mdurl~=0.1 in /usr/local/lib/python3.10/dist-packages (from markdown-it-py>=2.2.0->rich<14,>=10.14.0->streamlit) (0.1.2)\n",
            "Requirement already satisfied: six>=1.5 in /usr/local/lib/python3.10/dist-packages (from python-dateutil>=2.8.2->pandas<3,>=1.3.0->streamlit) (1.16.0)\n",
            "Installing collected packages: watchdog, smmap, pydeck, gitdb, gitpython, streamlit\n",
            "Successfully installed gitdb-4.0.11 gitpython-3.1.43 pydeck-0.9.1 smmap-5.0.1 streamlit-1.34.0 watchdog-4.0.0\n"
          ]
        }
      ]
    },
    {
      "cell_type": "code",
      "execution_count": null,
      "metadata": {
        "id": "vciUcw6WG3Sd"
      },
      "outputs": [],
      "source": [
        "import streamlit as st\n",
        "import streamlit.components.v1 as stc"
      ]
    },
    {
      "cell_type": "code",
      "source": [
        "import pandas as pd\n",
        "from sklearn.feature_extraction.text import CountVectorizer\n",
        "from sklearn.metrics.pairwise import linear_kernel\n"
      ],
      "metadata": {
        "id": "8yBFTbTbHId5"
      },
      "execution_count": null,
      "outputs": []
    },
    {
      "cell_type": "code",
      "source": [
        "from sklearn.metrics.pairwise import cosine_similarity"
      ],
      "metadata": {
        "id": "8al1nabvCe4I"
      },
      "execution_count": null,
      "outputs": []
    },
    {
      "cell_type": "code",
      "source": [
        "def load_data(data):\n",
        "  df=pd.read_csv(data)\n",
        "  retrun df"
      ],
      "metadata": {
        "id": "PnQYuPMjHhEi"
      },
      "execution_count": null,
      "outputs": []
    },
    {
      "cell_type": "code",
      "source": [
        "def vectorize_text_to_cosine_mat(data):\n",
        "  count_vect =CountVectorizer()\n",
        "  cv_mat=count_vect.fit_transform(data)\n",
        "  cosine_sim_mat=cosine_similarity(cv_mat)\n",
        "  retrun cosine_sim_mat"
      ],
      "metadata": {
        "id": "OdIdrbY4HsD8"
      },
      "execution_count": null,
      "outputs": []
    },
    {
      "cell_type": "code",
      "source": [
        "@s.cache\n",
        "def get_recommendation(title,cosine_sim_mat,df,num_of_rec=10):\n",
        "  course_indices = pd.Series(df.index,index=df['course_title']).drop_duplicates()\n",
        "  #indices of the course\n",
        "  idx=course_indices[title]\n",
        "  sim_scores =list(enumerate(cosine_sim_mat[idx]))\n",
        "  sim_scores=sorted(sim_scores,key=lambda x: x[1],reverse=True)\n",
        "  selected_course_indices=[i[0] for i in sim_scores[1:]]\n",
        "  selcted_course_scores=[i[0] for i in sim_scores[1:]]\n",
        "  result_df =df.iloc[selected_course_indices]\n",
        "  result_df['similarity_score']=selected_course_scores\n",
        "  final_recommended_courses = result_df[['course_title','similarity_score','url','price','num_subscribers']]\n",
        "\treturn final_recommended_courses.head(num_of_rec)\n"
      ],
      "metadata": {
        "id": "dAk7LkBrITAP"
      },
      "execution_count": null,
      "outputs": []
    },
    {
      "cell_type": "code",
      "source": [
        "RESULT_TEMP = \"\"\"\n",
        "<div style=\"width:90%;height:100%;margin:1px;padding:5px;position:relative;border-radius:5px;border-bottom-right-radius: 60px;\n",
        "box-shadow:0 0 15px 5px #ccc; background-color: #a8f0c6;\n",
        "  border-left: 5px solid #6c6c6c;\">\n",
        "<h4>{}</h4>\n",
        "<p style=\"color:blue;\"><span style=\"color:black;\">📈Score::</span>{}</p>\n",
        "<p style=\"color:blue;\"><span style=\"color:black;\">🔗</span><a href=\"{}\",target=\"_blank\">Link</a></p>\n",
        "<p style=\"color:blue;\"><span style=\"color:black;\">💲Price:</span>{}</p>\n",
        "<p style=\"color:blue;\"><span style=\"color:black;\">🧑‍🎓👨🏽‍🎓 Students:</span>{}</p>\n",
        "\n",
        "</div>\n",
        "\"\"\"\n",
        "\n",
        "# Search For Course\n",
        "@st.cache\n",
        "def search_term_if_not_found(term,df):\n",
        "\tresult_df = df[df['course_title'].str.contains(term)]\n",
        "\treturn result_df\n",
        "\n"
      ],
      "metadata": {
        "id": "3HsH_uGHBCzj"
      },
      "execution_count": null,
      "outputs": []
    },
    {
      "cell_type": "code",
      "source": [
        "def main():\n",
        "\n",
        "\tst.title(\"Course Recommendation App\")\n",
        "\n",
        "\tmenu = [\"Home\",\"Recommend\",\"About\"]\n",
        "\tchoice = st.sidebar.selectbox(\"Menu\",menu)\n",
        "\n",
        "\tdf = load_data(\"data/udemy_course_data.csv\")\n",
        "\n",
        "\tif choice == \"Home\":\n",
        "\t\tst.subheader(\"Home\")\n",
        "\t\tst.dataframe(df.head(10))\n",
        "\n",
        "\n",
        "\telif choice == \"Recommend\":\n",
        "\t\tst.subheader(\"Recommend Courses\")\n",
        "\t\tcosine_sim_mat = vectorize_text_to_cosine_mat(df['course_title'])\n",
        "\t\tsearch_term = st.text_input(\"Search\")\n",
        "\t\tnum_of_rec = st.sidebar.number_input(\"Number\",4,30,7)\n",
        "\t\tif st.button(\"Recommend\"):\n",
        "\t\t\tif search_term is not None:\n",
        "\t\t\t\ttry:\n",
        "\t\t\t\t\tresults = get_recommendation(search_term,cosine_sim_mat,df,num_of_rec)\n",
        "\t\t\t\t\twith st.beta_expander(\"Results as JSON\"):\n",
        "\t\t\t\t\t\tresults_json = results.to_dict('index')\n",
        "\t\t\t\t\t\tst.write(results_json)\n",
        "\n",
        "\t\t\t\t\tfor row in results.iterrows():\n",
        "\t\t\t\t\t\trec_title = row[1][0]\n",
        "\t\t\t\t\t\trec_score = row[1][1]\n",
        "\t\t\t\t\t\trec_url = row[1][2]\n",
        "\t\t\t\t\t\trec_price = row[1][3]\n",
        "\t\t\t\t\t\trec_num_sub = row[1][4]\n",
        "\n",
        "\t\t\t\t\t\t# st.write(\"Title\",rec_title,)\n",
        "\t\t\t\t\t\tstc.html(RESULT_TEMP.format(rec_title,rec_score,rec_url,rec_url,rec_num_sub),height=350)\n",
        "\t\t\t\texcept:\n",
        "\t\t\t\t\tresults= \"Not Found\"\n",
        "\t\t\t\t\tst.warning(results)\n",
        "\t\t\t\t\tst.info(\"Suggested Options include\")\n",
        "\t\t\t\t\tresult_df = search_term_if_not_found(search_term,df)\n",
        "\t\t\t\t\tst.dataframe(result_df)\n",
        "\n",
        "\n",
        "\n",
        "\t\t\t\t# How To Maximize Your Profits Options Trading\n",
        "\n",
        "\n",
        "\n",
        "\n",
        "\telse:\n",
        "\t\tst.subheader(\"About\")\n",
        "\t\tst.text(\"Built with Streamlit & Pandas\")\n",
        "\n"
      ],
      "metadata": {
        "id": "BccVQQHjBiUC"
      },
      "execution_count": null,
      "outputs": []
    },
    {
      "cell_type": "code",
      "source": [
        "if __name__ == '__main__':\n",
        "\tmain()"
      ],
      "metadata": {
        "id": "s-bdR_SPBjNS"
      },
      "execution_count": null,
      "outputs": []
    }
  ]
}